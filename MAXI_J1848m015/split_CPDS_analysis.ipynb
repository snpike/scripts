{
 "cells": [
  {
   "cell_type": "code",
   "execution_count": 1,
   "metadata": {
    "tags": []
   },
   "outputs": [
    {
     "name": "stderr",
     "output_type": "stream",
     "text": [
      "/Users/sean/opt/anaconda3/lib/python3.8/site-packages/stingray/largememory.py:25: UserWarning: Large Datasets may not be processed efficiently due to computational constraints\n",
      "  warnings.warn(\n",
      "/Users/sean/opt/anaconda3/lib/python3.8/site-packages/stingray/crossspectrum.py:28: UserWarning: pyfftw not installed. Using standard scipy fft\n",
      "  warnings.warn(\"pyfftw not installed. Using standard scipy fft\")\n",
      "/Users/sean/opt/anaconda3/lib/python3.8/site-packages/stingray/crosscorrelation.py:8: UserWarning: pyfftw not installed. Using standard scipy fft\n",
      "  warnings.warn(\"pyfftw not installed. Using standard scipy fft\")\n",
      "/Users/sean/opt/anaconda3/lib/python3.8/site-packages/stingray/bispectrum.py:10: UserWarning: pyfftw not installed. Using standard scipy fft\n",
      "  warnings.warn(\"pyfftw not installed. Using standard scipy fft\")\n",
      "/Users/sean/opt/anaconda3/lib/python3.8/site-packages/hendrics/io.py:24: UserWarning: Warning! NetCDF is not available. Using pickle format.\n",
      "  warnings.warn(msg)\n"
     ]
    },
    {
     "name": "stdout",
     "output_type": "stream",
     "text": [
      "Working on Macbook\n"
     ]
    },
    {
     "name": "stderr",
     "output_type": "stream",
     "text": [
      "/Users/sean/opt/anaconda3/lib/python3.8/site-packages/stingray/pulse/accelsearch.py:24: UserWarning: Using standard numpy fft\n",
      "  warnings.warn(\"Using standard numpy fft\")\n"
     ]
    }
   ],
   "source": [
    "%matplotlib widget\n",
    "%matplotlib inline\n",
    "import sys\n",
    "from sys import platform\n",
    "import matplotlib.pyplot as plt\n",
    "import matplotlib.animation as animation\n",
    "from matplotlib.ticker import ScalarFormatter\n",
    "from matplotlib.gridspec import GridSpec\n",
    "import copy\n",
    "import matplotlib as mpl\n",
    "mpl.rcParams['agg.path.chunksize'] = 10000\n",
    "\n",
    "import numpy as np\n",
    "import pickle\n",
    "import seaborn as sns\n",
    "import scipy\n",
    "import emcee\n",
    "import corner\n",
    "from IPython.display import display, Math\n",
    "from tqdm import tqdm\n",
    "from multiprocessing import Pool\n",
    "\n",
    "from astropy.io import fits, ascii\n",
    "from astropy.table import Table\n",
    "from astropy.modeling import functional_models, fitting\n",
    "from astropy.timeseries import LombScargle\n",
    "\n",
    "import stingray.events as ev\n",
    "import stingray.lightcurve as lc\n",
    "from stingray import io\n",
    "import stingray.powerspectrum as powspec \n",
    "import stingray.crossspectrum as crossspec\n",
    "from hendrics.efsearch import dyn_folding_search, z_n_search, folding_search\n",
    "from stingray.pulse.search import phaseogram, plot_phaseogram, plot_profile\n",
    "import stingray.gti as sting_gti\n",
    "import stingray.pulse.accelsearch as accelsearch\n",
    "from stingray import stats\n",
    "\n",
    "\n",
    "sns.set_context('talk')\n",
    "# sns.set_style(\"whitegrid\")\n",
    "sns.set_palette(\"colorblind\")\n",
    "\n",
    "sys.path.insert(1, '/Users/sean/scripts/helpers')\n",
    "\n",
    "from stingray_plus import *\n",
    "\n",
    "if platform=='linux' or platform=='linux2':\n",
    "    print('Working on SRL server')\n",
    "    root_dir = '/disk/lif2/spike/MAXI_J1848m015/'\n",
    "elif platform=='darwin':\n",
    "    print('Working on Macbook')\n",
    "    root_dir = '/Volumes/Samsung_1TB/AstroData/MAXI_J1848m015/'\n"
   ]
  },
  {
   "cell_type": "markdown",
   "metadata": {},
   "source": [
    "# Soft State"
   ]
  },
  {
   "cell_type": "code",
   "execution_count": 2,
   "metadata": {},
   "outputs": [],
   "source": [
    "OBSID='90601340002'\n",
    "\n",
    "products_dir = root_dir + OBSID + '_pipe_out/'\n",
    "plot_dir = root_dir + 'figures/'\n",
    "chu_combos = ['12','23','2','3']"
   ]
  },
  {
   "cell_type": "code",
   "execution_count": 4,
   "metadata": {
    "tags": []
   },
   "outputs": [
    {
     "name": "stdout",
     "output_type": "stream",
     "text": [
      "split time: 128\n",
      "chu12\n",
      "1753.6856764554977\n",
      "1900.9332193136215\n",
      "5545.552053928375\n"
     ]
    },
    {
     "name": "stderr",
     "output_type": "stream",
     "text": [
      "41it [00:11,  3.49it/s]\n",
      "41it [00:11,  3.71it/s]\n",
      "41it [00:11,  3.67it/s]\n"
     ]
    },
    {
     "name": "stdout",
     "output_type": "stream",
     "text": [
      "chu23\n",
      "0.25000089406967163\n",
      "199.99884885549545\n",
      "999.991590321064\n"
     ]
    },
    {
     "name": "stderr",
     "output_type": "stream",
     "text": [
      "3it [00:00,  3.67it/s]\n",
      "3it [00:00,  4.57it/s]\n",
      "3it [00:00,  4.62it/s]\n"
     ]
    },
    {
     "name": "stdout",
     "output_type": "stream",
     "text": [
      "chu2\n",
      "0.2499992847442627\n",
      "50.999136447906494\n",
      "200.4978188276291\n",
      "chu3\n",
      "0.25000321865081787\n",
      "689.0039887428284\n",
      "2902.7625836133957\n"
     ]
    },
    {
     "name": "stderr",
     "output_type": "stream",
     "text": [
      "18it [00:04,  3.96it/s]\n",
      "18it [00:04,  4.03it/s]\n",
      "18it [00:04,  4.02it/s]\n"
     ]
    },
    {
     "name": "stdout",
     "output_type": "stream",
     "text": [
      "split time: 1024\n",
      "chu12\n",
      "1753.6856764554977\n",
      "1900.9332193136215\n",
      "5545.552053928375\n"
     ]
    },
    {
     "name": "stderr",
     "output_type": "stream",
     "text": [
      "3it [00:08,  2.91s/it]\n",
      "3it [00:07,  2.56s/it]\n",
      "3it [00:07,  2.36s/it]\n"
     ]
    },
    {
     "name": "stdout",
     "output_type": "stream",
     "text": [
      "chu23\n",
      "0.25000089406967163\n",
      "199.99884885549545\n",
      "999.991590321064\n",
      "chu2\n",
      "0.2499992847442627\n",
      "50.999136447906494\n",
      "200.4978188276291\n",
      "chu3\n",
      "0.25000321865081787\n",
      "689.0039887428284\n",
      "2902.7625836133957\n"
     ]
    }
   ],
   "source": [
    "PI_min = eV_to_PI(3000)     # 3.0 keV\n",
    "PI_max = eV_to_PI(78000)   # 78.0 keV\n",
    "\n",
    "plt.ion()\n",
    "bin_time = 1/4096\n",
    "buff = True\n",
    "buffersize = 60\n",
    "bkg_bin = 32\n",
    "\n",
    "plt.figure(figsize=(9,6))\n",
    "lcurve_ax = plt.gca()\n",
    "\n",
    "total_cpds_list = []\n",
    "total_pds_list = []\n",
    "for split_time in [128,1024]:\n",
    "    print('split time: ' + str(split_time))\n",
    "    cospectra = []\n",
    "    powerspectra = []\n",
    "    for chu in chu_combos:\n",
    "        print('chu' + chu)\n",
    "\n",
    "        srcA_lc = nuproducts_to_stingray_lc(root_dir + OBSID + '_products06/nu'+OBSID+'A06_chu' + chu + '_S_sr.lc')\n",
    "        bkgA_lc = nuproducts_to_stingray_lc(root_dir + OBSID + '_products06/nu'+OBSID+'A06_chu' + chu + '_S_bk.lc')\n",
    "        srcB_lc = nuproducts_to_stingray_lc(root_dir + OBSID + '_products06/nu'+OBSID+'B06_chu' + chu + '_S_sr.lc')\n",
    "        bkgB_lc = nuproducts_to_stingray_lc(root_dir + OBSID + '_products06/nu'+OBSID+'B06_chu' + chu + '_S_bk.lc')\n",
    "\n",
    "        area_ratio = np.square(srcA_lc.radius/bkgA_lc.radius)\n",
    "\n",
    "        bkg_rate = sum_lc(bkgA_lc, bkgB_lc).meanrate\n",
    "        src_rate = sum_lc(srcA_lc, srcB_lc).meanrate - (area_ratio * bkg_rate)\n",
    "\n",
    "        events = extract_events(products_dir + 'nu' + OBSID + 'A06_chu' + chu + '_S_cl_bc.evt', \\\n",
    "                    products_dir + 'nu' + OBSID + 'B06_chu' + chu + '_S_cl_bc.evt')\n",
    "\n",
    "\n",
    "        events[0].centroid=srcA_lc.centroid\n",
    "        events[0].radius=srcA_lc.radius\n",
    "        events[1].centroid=srcB_lc.centroid\n",
    "        events[1].radius=srcB_lc.radius\n",
    "\n",
    "        total_curve = sum_lc(bkg_subtract(srcA_lc, bkgA_lc, bkg_bin=bkg_bin), bkg_subtract(srcB_lc, bkgB_lc, bkg_bin=bkg_bin))\n",
    "        start_time = np.min(total_curve.time) - total_curve.dt/2\n",
    "        \n",
    "        if split_time==128:\n",
    "            lcurve_ax.errorbar(total_curve.time - 346388019.022954, total_curve.countrate, xerr=total_curve.dt/2, yerr=total_curve.countrate_err, ls='', lw=1.0, label = 'CHU'+chu)\n",
    "            ls_freq, ls_power = LombScargle(total_curve.time-start_time, total_curve.countrate, dy=total_curve.countrate_err).autopower()\n",
    "            plt.figure(figsize=(9,6))\n",
    "            plt.errorbar(ls_freq, ls_power, lw=0.5)\n",
    "            plt.xscale('log')\n",
    "            plt.xlabel('Frequency (Hz)')\n",
    "            plt.ylabel('Lomb-Scargle Power')\n",
    "            plt.tight_layout()\n",
    "            # plt.show()\n",
    "            plt.savefig(plot_dir + OBSID + '_LombScargle_' + 'CHU' + chu + '.pdf')\n",
    "            plt.close()\n",
    "\n",
    "\n",
    "\n",
    "\n",
    "        curve_A = events[0].to_lc(dt = bin_time, pi_low=PI_min, pi_high=PI_max, centroid = srcA_lc.centroid, radius = srcA_lc.radius)\n",
    "        curve_B = events[1].to_lc(dt = bin_time, pi_low=PI_min, pi_high=PI_max, centroid = srcB_lc.centroid, radius = srcB_lc.radius)\n",
    "        curve_bkgA = events[0].to_lc(dt = bin_time, pi_low=PI_min, pi_high=PI_max, centroid = bkgA_lc.centroid, radius = bkgA_lc.radius)\n",
    "        curve_bkgB = events[1].to_lc(dt = bin_time, pi_low=PI_min, pi_high=PI_max, centroid = bkgB_lc.centroid, radius = bkgB_lc.radius)\n",
    "        area_ratioA = np.square(srcA_lc.radius/bkgA_lc.radius)\n",
    "        area_ratioB = np.square(srcB_lc.radius/bkgB_lc.radius)\n",
    "        geomean_totrate = np.sqrt(curve_A.meanrate * curve_B.meanrate)\n",
    "        geomean_srcrate = np.sqrt((curve_A.meanrate-(area_ratioA*curve_bkgA.meanrate)) * (curve_B.meanrate-(area_ratioB*curve_bkgB.meanrate)))\n",
    "\n",
    "        print(np.min(curve_A.gti.T[1]-curve_A.gti.T[0]))\n",
    "        print(np.max(curve_A.gti.T[1]-curve_A.gti.T[0]))\n",
    "        print(np.sum(curve_A.gti.T[1]-curve_A.gti.T[0]))\n",
    "\n",
    "        if np.max(curve_A.gti.T[1]-curve_A.gti.T[0]) >= split_time:\n",
    "            ### Calculate CPDS\n",
    "            averaged_cross = crossspec.AveragedCrossspectrum(curve_A, curve_B, segment_size=split_time, norm = 'frac')\n",
    "            averaged_cross.power = averaged_cross.power * np.square((1/(1-0.0025*(geomean_totrate))) * (geomean_totrate/geomean_srcrate))\n",
    "            averaged_cross.power_err = averaged_cross.power_err * np.square((1/(1-0.0025*(geomean_totrate))) * (geomean_totrate/geomean_srcrate))\n",
    "\n",
    "            cospectra.append(averaged_cross)\n",
    "\n",
    "#             summed_curve = sum_lc(curve_A, curve_B)\n",
    "#             averaged_pds = powspec.AveragedPowerspectrum(summed_curve, segment_size=split_time, norm = 'leahy')\n",
    "#             averaged_pds.power = (averaged_pds.power - 2.0) * np.square(1/(1-0.0025*(geomean_totrate))) * \\\n",
    "#                                     (summed_curve.meanrate/np.square(summed_curve.meanrate - (area_ratioA*curve_bkgA.meanrate) - (area_ratioB*curve_bkgB.meanrate)))\n",
    "#             averaged_pds.power_err = averaged_pds.power_err * np.square(1/(1-0.0025*(geomean_totrate))) * \\\n",
    "#                                     (summed_curve.meanrate/np.square(summed_curve.meanrate - (area_ratioA*curve_bkgA.meanrate) - (area_ratioB*curve_bkgB.meanrate)))\n",
    "\n",
    "#             powerspectra.append(averaged_pds)\n",
    "\n",
    "    total_cpds = copy.deepcopy(cospectra[0])\n",
    "    if len(cospectra) > 1:\n",
    "        total_m = np.sum(np.array([cpds.m for cpds in cospectra]))\n",
    "        total_power = np.sum([(cpds.power * cpds.m) for cpds in cospectra], axis=0)/total_m\n",
    "        total_err = np.sqrt(np.sum([np.square(cpds.power_err * cpds.m) for cpds in cospectra], axis=0))/total_m\n",
    "\n",
    "        total_cpds.m = total_m\n",
    "        total_cpds.power = total_power\n",
    "        total_cpds.power_err = total_err\n",
    "    total_cpds_list.append(total_cpds)\n",
    "\n",
    "#     total_pds = copy.deepcopy(powerspectra[0])\n",
    "#     if len(powerspectra) > 1:\n",
    "#         total_m = np.sum(np.array([pds.m for pds in powerspectra]))\n",
    "#         total_power = np.sum([(pds.power * pds.m) for pds in powerspectra], axis=0)/total_m\n",
    "#         total_err = np.sqrt(np.sum([np.square(pds.power_err * pds.m) for pds in powerspectra], axis=0))/total_m\n",
    "\n",
    "#         total_pds.m = total_m\n",
    "#         total_pds.power = total_power\n",
    "#         total_pds.power_err = total_err\n",
    "#     total_pds_list.append(total_pds)\n",
    "\n",
    "\n",
    "    ### Plot CPDS\n",
    "    f_res = 0.5\n",
    "    total_cpds_log = total_cpds.rebin_log(f=f_res)\n",
    "    total_cpds_log_err = total_cpds.df*np.power(1.+f_res, range(len(total_cpds_log.freq)))/2.\n",
    "\n",
    "    plt.figure(figsize=(9,6))\n",
    "    plt.errorbar(total_cpds_log.freq, total_cpds_log.power*total_cpds_log.freq, xerr=total_cpds_log_err, yerr=total_cpds_log.power_err*total_cpds_log.freq, fmt='none', color='black', lw=0.5)\n",
    "    plt.step(np.concatenate([total_cpds_log.freq-total_cpds_log_err, [total_cpds_log.freq[-1]+total_cpds_log_err[-1]]]), \\\n",
    "             np.concatenate([total_cpds_log.power*total_cpds_log.freq, [(total_cpds_log.power*total_cpds_log.freq)[-1]]]), where='post', color='black', lw=0.5)\n",
    "    plt.xscale('log')\n",
    "    plt.ylim((1e-6,np.max(total_cpds_log.power*total_cpds_log.freq) * 3))\n",
    "    plt.yscale('log')\n",
    "    plt.xlabel('Frequency (Hz)')\n",
    "    plt.ylabel(r'$\\mathrm{\\nu P_{\\nu}\\ (rms/mean)^{2}}$')\n",
    "    plt.tight_layout()\n",
    "    # plt.show()\n",
    "    plt.savefig(plot_dir + OBSID + '_CPDS_nuPnu_' + str(int(split_time)) + 's_chusplit.pdf')\n",
    "    plt.close()\n",
    "\n",
    "    plt.figure(figsize=(9,6))\n",
    "    plt.errorbar(total_cpds_log.freq, total_cpds_log.power, xerr=total_cpds_log_err, yerr=total_cpds_log.power_err, fmt='none', color='black', lw=0.5)\n",
    "    plt.step(np.concatenate([total_cpds_log.freq-total_cpds_log_err, [total_cpds_log.freq[-1]+total_cpds_log_err[-1]]]), \\\n",
    "             np.concatenate([total_cpds_log.power, [total_cpds_log.power[-1]]]), where='post', color='black', lw=0.5)\n",
    "    plt.xscale('log')\n",
    "    plt.ylim((1e-6, np.max(total_cpds_log.power) * 3))\n",
    "    plt.yscale('log')\n",
    "    plt.xlabel('Frequency (Hz)')\n",
    "    plt.ylabel(r'$\\mathrm{Power\\ (rms/mean)^{2}/Hz}$')\n",
    "    plt.tight_layout()\n",
    "    # plt.show()\n",
    "    plt.savefig(plot_dir + OBSID + '_CPDS_Pnu_' + str(int(split_time)) + 's_chusplit.pdf')\n",
    "    plt.close()\n",
    "\n",
    "#     plt.figure(figsize=(9,6), dpi=100)\n",
    "#     plt.errorbar(total_cpds.freq, total_cpds.power, xerr=total_cpds.df/2, yerr=total_cpds.power_err, fmt='none', color='black', lw=0.5, rasterized=True)\n",
    "#     plt.step(np.concatenate([total_cpds.freq-total_cpds.df/2, [total_cpds.freq[-1]+total_cpds.df/2]]), \\\n",
    "#              np.concatenate([total_cpds.power, [total_cpds.power[-1]]]), where='post', color='black', lw=0.5, rasterized=True)\n",
    "#     plt.ylim((1e-4, np.max(total_cpds.power) * 3))\n",
    "#     plt.xscale('log')\n",
    "#     plt.yscale('log')\n",
    "#     plt.xlabel('Frequency (Hz)')\n",
    "#     plt.ylabel(r'$\\mathrm{Power\\ (rms/mean)^{2}/Hz}$')\n",
    "#     plt.tight_layout()\n",
    "#     # plt.show()\n",
    "#     plt.savefig(plot_dir + OBSID + '_CPDS_Pnu_' + str(int(split_time)) + 's_chusplit_unbinned.pdf')\n",
    "#     plt.close()\n",
    "\n",
    "#     ### Plot PDS\n",
    "#     f_res = 0.5\n",
    "#     total_pds_log = total_pds.rebin_log(f=f_res)\n",
    "#     total_pds_log_err = total_pds.df*np.power(1.+f_res, range(len(total_pds_log.freq)))/2.\n",
    "\n",
    "#     plt.figure(figsize=(9,6))\n",
    "#     plt.errorbar(total_pds_log.freq, total_pds_log.power*total_pds_log.freq, xerr=total_pds_log_err, yerr=total_pds_log.power_err*total_pds_log.freq, fmt='none', color='black', lw=0.5)\n",
    "#     plt.step(np.concatenate([total_pds_log.freq-total_pds_log_err, [total_pds_log.freq[-1]+total_pds_log_err[-1]]]), \\\n",
    "#              np.concatenate([total_pds_log.power*total_pds_log.freq, [(total_pds_log.power*total_pds_log.freq)[-1]]]), where='post', color='black', lw=0.5)\n",
    "#     plt.xscale('log')\n",
    "#     plt.ylim((1e-6,np.max(total_pds_log.power*total_pds_log.freq) * 3))\n",
    "#     plt.yscale('log')\n",
    "#     plt.xlabel('Frequency (Hz)')\n",
    "#     plt.ylabel(r'$\\mathrm{\\nu P_{\\nu}\\ (rms/mean)^{2}}$')\n",
    "#     plt.tight_layout()\n",
    "#     # plt.show()\n",
    "#     plt.savefig(plot_dir + OBSID + '_PDS_nuPnu_' + str(int(split_time)) + 's_chusplit.pdf')\n",
    "#     plt.close()\n",
    "\n",
    "#     plt.figure(figsize=(9,6))\n",
    "#     plt.errorbar(total_pds_log.freq, total_pds_log.power, xerr=total_pds_log_err, yerr=total_pds_log.power_err, fmt='none', color='black', lw=0.5)\n",
    "#     plt.step(np.concatenate([total_pds_log.freq-total_pds_log_err, [total_pds_log.freq[-1]+total_pds_log_err[-1]]]), \\\n",
    "#              np.concatenate([total_pds_log.power, [total_pds_log.power[-1]]]), where='post', color='black', lw=0.5)\n",
    "#     plt.xscale('log')\n",
    "#     plt.ylim((1e-6, np.max(total_pds_log.power) * 3))\n",
    "#     plt.yscale('log')\n",
    "#     plt.xlabel('Frequency (Hz)')\n",
    "#     plt.ylabel(r'$\\mathrm{Power\\ (rms/mean)^{2}/Hz}$')\n",
    "#     plt.tight_layout()\n",
    "#     # plt.show()\n",
    "#     plt.savefig(plot_dir + OBSID + '_PDS_Pnu_' + str(int(split_time)) + 's_chusplit.pdf')\n",
    "#     plt.close()\n",
    "\n",
    "#     plt.figure(figsize=(9,6), dpi=100)\n",
    "#     plt.errorbar(total_pds.freq, total_pds.power, xerr=total_pds.df/2, yerr=total_pds.power_err, fmt='none', color='black', lw=0.5, rasterized=True)\n",
    "#     plt.step(np.concatenate([total_pds.freq-total_pds.df/2, [total_pds.freq[-1]+total_pds.df/2]]), \\\n",
    "#              np.concatenate([total_pds.power, [total_pds.power[-1]]]), where='post', color='black', lw=0.5, rasterized=True)\n",
    "#     plt.ylim((1e-4, np.max(total_cpds.power) * 3))\n",
    "#     plt.xscale('log')\n",
    "#     plt.yscale('log')\n",
    "#     plt.xlabel('Frequency (Hz)')\n",
    "#     plt.ylabel(r'$\\mathrm{Power\\ (rms/mean)^{2}/Hz}$')\n",
    "#     plt.tight_layout()\n",
    "#     # plt.show()\n",
    "#     plt.savefig(plot_dir + OBSID + '_PDS_Pnu_' + str(int(split_time)) + 's_chusplit_unbinned.pdf')\n",
    "#     plt.close()\n",
    "    \n",
    "lcurve_ax.set_xlabel('Time (s)')\n",
    "lcurve_ax.set_ylabel(r'$NuSTAR\\ \\mathrm{count\\ rate\\ (3-78\\,keV)}$')\n",
    "lcurve_ax.legend()\n",
    "plt.tight_layout()\n",
    "plt.savefig(plot_dir + OBSID + '_lc_chusplit.pdf')\n",
    "plt.close()"
   ]
  },
  {
   "cell_type": "code",
   "execution_count": 5,
   "metadata": {},
   "outputs": [
    {
     "name": "stdout",
     "output_type": "stream",
     "text": [
      "[2.13834273e-06]\n",
      "[1.13003331e-07]\n",
      "0.06617646758285997 +/- 0.004504065664881058\n"
     ]
    }
   ],
   "source": [
    "total_cpds = total_cpds_list[-1]\n",
    "split_time = [128.,256.,512.,1024.][-1]\n",
    "popt, pcov, chisq0, chisq = model_continuum_noise_pl(total_cpds, plot=True, plot_dir=plot_dir, \\\n",
    "                                                              plot_name=OBSID + '_' + str(int(split_time)) + 's_chusplit_pl.pdf', f_res = f_res)\n",
    "print(popt)\n",
    "print(np.sqrt(np.diag(pcov)))\n",
    "# print(np.sqrt(popt[1]/2))\n",
    "\n",
    "rms = np.sqrt(popt[0]*((split_time*2) - (2*bin_time)))\n",
    "rms_err=(np.sqrt(np.diag(pcov))[0]/popt[0])*(rms/2.)\n",
    "\n",
    "print(str(rms) + ' +/- ' + str(2.57583*rms_err))"
   ]
  },
  {
   "cell_type": "markdown",
   "metadata": {},
   "source": [
    "# Hard State"
   ]
  },
  {
   "cell_type": "code",
   "execution_count": 2,
   "metadata": {},
   "outputs": [],
   "source": [
    "OBSID='90601341002'\n",
    "products_dir = root_dir + OBSID + '_pipe_out/'\n",
    "plot_dir = root_dir + 'figures/'\n",
    "chu_combos = ['123','13','12','23','2','3']"
   ]
  },
  {
   "cell_type": "code",
   "execution_count": 3,
   "metadata": {
    "tags": []
   },
   "outputs": [
    {
     "name": "stdout",
     "output_type": "stream",
     "text": [
      "split time: 128\n",
      "chu123\n",
      "0.24998921155929565\n",
      "349.75216805934906\n",
      "2204.2634246349335\n"
     ]
    },
    {
     "name": "stderr",
     "output_type": "stream",
     "text": [
      "13it [00:03,  4.09it/s]\n",
      "13it [00:03,  4.02it/s]\n",
      "13it [00:03,  4.12it/s]\n"
     ]
    },
    {
     "name": "stdout",
     "output_type": "stream",
     "text": [
      "chu13\n",
      "8.003278911113739\n",
      "60.31593191623688\n",
      "246.34737408161163\n",
      "chu12\n",
      "0.24998873472213745\n",
      "2007.959807395935\n",
      "22564.017114937305\n"
     ]
    },
    {
     "name": "stderr",
     "output_type": "stream",
     "text": [
      "167it [00:46,  3.59it/s]\n",
      "167it [00:42,  3.94it/s]\n",
      "167it [00:42,  3.92it/s]\n"
     ]
    },
    {
     "name": "stdout",
     "output_type": "stream",
     "text": [
      "chu23\n",
      "0.25000572204589844\n",
      "350.00202238559723\n",
      "850.2547100186348\n"
     ]
    },
    {
     "name": "stderr",
     "output_type": "stream",
     "text": [
      "4it [00:00,  4.01it/s]\n",
      "4it [00:00,  4.44it/s]\n",
      "4it [00:00,  4.82it/s]\n"
     ]
    },
    {
     "name": "stdout",
     "output_type": "stream",
     "text": [
      "chu2\n",
      "0.2499874234199524\n",
      "100.99987643957138\n",
      "403.74931555986404\n",
      "chu3\n",
      "0.24999123811721802\n",
      "900.5158141851425\n",
      "8463.901200056076\n"
     ]
    },
    {
     "name": "stderr",
     "output_type": "stream",
     "text": [
      "60it [00:14,  4.15it/s]\n",
      "60it [00:13,  4.48it/s]\n",
      "60it [00:13,  4.47it/s]\n"
     ]
    },
    {
     "name": "stdout",
     "output_type": "stream",
     "text": [
      "split time: 1024\n",
      "chu123\n",
      "0.24998921155929565\n",
      "349.75216805934906\n",
      "2204.2634246349335\n",
      "chu13\n",
      "8.003278911113739\n",
      "60.31593191623688\n",
      "246.34737408161163\n",
      "chu12\n",
      "0.24998873472213745\n",
      "2007.959807395935\n",
      "22564.017114937305\n"
     ]
    },
    {
     "name": "stderr",
     "output_type": "stream",
     "text": [
      "12it [00:29,  2.44s/it]\n",
      "12it [00:26,  2.23s/it]\n",
      "12it [00:27,  2.27s/it]\n"
     ]
    },
    {
     "name": "stdout",
     "output_type": "stream",
     "text": [
      "chu23\n",
      "0.25000572204589844\n",
      "350.00202238559723\n",
      "850.2547100186348\n",
      "chu2\n",
      "0.2499874234199524\n",
      "100.99987643957138\n",
      "403.74931555986404\n",
      "chu3\n",
      "0.24999123811721802\n",
      "900.5158141851425\n",
      "8463.901200056076\n"
     ]
    }
   ],
   "source": [
    "PI_min = eV_to_PI(3000)     # 3.0 keV\n",
    "PI_max = eV_to_PI(78000)   # 78.0 keV\n",
    "\n",
    "plt.ion()\n",
    "bin_time = 1/4096\n",
    "buff = False\n",
    "bkg_bin = 32\n",
    "buffersize = 80\n",
    "\n",
    "plt.figure(figsize=(9,6))\n",
    "lcurve_ax = plt.gca()\n",
    "\n",
    "total_cpds_list = []\n",
    "total_pds_list = []\n",
    "\n",
    "for split_time in [128, 1024]:\n",
    "    print('split time: ' + str(split_time))\n",
    "    cospectra = []\n",
    "    powerspectra = []\n",
    "    for chu in chu_combos:\n",
    "        print('chu' + chu)\n",
    "        if chu=='13':\n",
    "            buff=True\n",
    "        else:\n",
    "            buff=False\n",
    "\n",
    "        srcA_lc = nuproducts_to_stingray_lc(root_dir + OBSID + '_products06/nu'+OBSID+'A06_chu' + chu + '_S_sr.lc', buff=buff, buffersize=buffersize)\n",
    "        bkgA_lc = nuproducts_to_stingray_lc(root_dir + OBSID + '_products06/nu'+OBSID+'A06_chu' + chu + '_S_bk.lc')\n",
    "        srcB_lc = nuproducts_to_stingray_lc(root_dir + OBSID + '_products06/nu'+OBSID+'B06_chu' + chu + '_S_sr.lc', buff=buff, buffersize=buffersize)\n",
    "        bkgB_lc = nuproducts_to_stingray_lc(root_dir + OBSID + '_products06/nu'+OBSID+'B06_chu' + chu + '_S_bk.lc')\n",
    "\n",
    "        area_ratio = np.square(srcA_lc.radius/bkgA_lc.radius)\n",
    "\n",
    "        bkg_rate = sum_lc(bkgA_lc, bkgB_lc).meanrate\n",
    "        src_rate = sum_lc(srcA_lc, srcB_lc).meanrate - (area_ratio * bkg_rate)\n",
    "\n",
    "        events = extract_events(products_dir + 'nu' + OBSID + 'A06_chu' + chu + '_S_cl_bc.evt', \\\n",
    "                    products_dir + 'nu' + OBSID + 'B06_chu' + chu + '_S_cl_bc.evt')\n",
    "\n",
    "\n",
    "        events[0].centroid=srcA_lc.centroid\n",
    "        events[0].radius=srcA_lc.radius\n",
    "        events[1].centroid=srcB_lc.centroid\n",
    "        events[1].radius=srcB_lc.radius\n",
    "\n",
    "        total_curve = sum_lc(bkg_subtract(srcA_lc, bkgA_lc, bkg_bin=bkg_bin), bkg_subtract(srcB_lc, bkgB_lc, bkg_bin=bkg_bin))\n",
    "        start_time = np.min(total_curve.time) - total_curve.dt/2\n",
    "        \n",
    "        if split_time==128:\n",
    "            lcurve_ax.errorbar(total_curve.time - 347101717.196509, total_curve.countrate, xerr=total_curve.dt/2, yerr=total_curve.countrate_err, ls='', lw=1.0, label = 'CHU'+chu)\n",
    "            lomb_scargle = LombScargle(total_curve.time-start_time, total_curve.countrate, dy=total_curve.countrate_err, normalization='psd')\n",
    "            ls_freq, ls_power = lomb_scargle.autopower()\n",
    "            plt.figure(figsize=(9,6))\n",
    "            plt.errorbar(ls_freq, ls_power/np.var(total_curve.countrate), lw=0.5)\n",
    "            plt.axhline(lomb_scargle.false_alarm_level(1-0.9545, method='bootstrap'), color='red')\n",
    "            plt.axhline(lomb_scargle.false_alarm_level(1-0.9973, method='bootstrap'), color='green')\n",
    "            plt.axhline(lomb_scargle.false_alarm_level(5.733e-7, method='bootstrap'), color='purple')\n",
    "            plt.xscale('log')\n",
    "            plt.xlabel('Frequency (Hz)')\n",
    "            plt.ylabel('Lomb-Scargle Power')\n",
    "            plt.tight_layout()\n",
    "            # plt.show()\n",
    "            plt.savefig(plot_dir + OBSID + '_LombScargle_' + 'CHU' + chu + '.pdf')\n",
    "            plt.close()\n",
    "\n",
    "        curve_A = events[0].to_lc(dt = bin_time, pi_low=PI_min, pi_high=PI_max, centroid = srcA_lc.centroid, radius = srcA_lc.radius, buff=buff, buffersize=buffersize)\n",
    "        curve_B = events[1].to_lc(dt = bin_time, pi_low=PI_min, pi_high=PI_max, centroid = srcB_lc.centroid, radius = srcB_lc.radius, buff=buff, buffersize=buffersize)\n",
    "        curve_bkgA = events[0].to_lc(dt = bin_time, pi_low=PI_min, pi_high=PI_max, centroid = bkgA_lc.centroid, radius = bkgA_lc.radius)\n",
    "        curve_bkgB = events[1].to_lc(dt = bin_time, pi_low=PI_min, pi_high=PI_max, centroid = bkgB_lc.centroid, radius = bkgB_lc.radius)\n",
    "        area_ratioA = np.square(srcA_lc.radius/bkgA_lc.radius)\n",
    "        area_ratioB = np.square(srcB_lc.radius/bkgB_lc.radius)\n",
    "        geomean_totrate = np.sqrt(curve_A.meanrate * curve_B.meanrate)\n",
    "        geomean_srcrate = np.sqrt((curve_A.meanrate-(area_ratioA*curve_bkgA.meanrate)) * (curve_B.meanrate-(area_ratioB*curve_bkgB.meanrate)))\n",
    "\n",
    "        print(np.min(curve_A.gti.T[1]-curve_A.gti.T[0]))\n",
    "        print(np.max(curve_A.gti.T[1]-curve_A.gti.T[0]))\n",
    "        print(np.sum(curve_A.gti.T[1]-curve_A.gti.T[0]))\n",
    "\n",
    "        if np.max(curve_A.gti.T[1]-curve_A.gti.T[0]) >= split_time:\n",
    "            ### Calculate CPDS\n",
    "            averaged_cross = crossspec.AveragedCrossspectrum(curve_A, curve_B, segment_size=split_time, norm = 'frac')\n",
    "            averaged_cross.power = averaged_cross.power * np.square((1/(1-0.0025*(geomean_totrate))) * (geomean_totrate/geomean_srcrate))\n",
    "            averaged_cross.power_err = averaged_cross.power_err * np.square((1/(1-0.0025*(geomean_totrate))) * (geomean_totrate/geomean_srcrate))\n",
    "\n",
    "            cospectra.append(averaged_cross)\n",
    "\n",
    "#             summed_curve = sum_lc(curve_A, curve_B)\n",
    "#             averaged_pds = powspec.AveragedPowerspectrum(summed_curve, segment_size=split_time, norm = 'leahy')\n",
    "#             averaged_pds.power = (averaged_pds.power - 2.0) * np.square(1/(1-0.0025*(geomean_totrate))) * \\\n",
    "#                                     (summed_curve.meanrate/np.square(summed_curve.meanrate - (area_ratioA*curve_bkgA.meanrate) - (area_ratioB*curve_bkgB.meanrate)))\n",
    "#             averaged_pds.power_err = averaged_pds.power_err * np.square(1/(1-0.0025*(geomean_totrate))) * \\\n",
    "#                                     (summed_curve.meanrate/np.square(summed_curve.meanrate - (area_ratioA*curve_bkgA.meanrate) - (area_ratioB*curve_bkgB.meanrate)))\n",
    "\n",
    "#             powerspectra.append(averaged_pds)\n",
    "\n",
    "    total_cpds = copy.deepcopy(cospectra[0])\n",
    "    if len(cospectra) > 1:\n",
    "        total_m = np.sum(np.array([cpds.m for cpds in cospectra]))\n",
    "        total_power = np.sum([(cpds.power * cpds.m) for cpds in cospectra], axis=0)/total_m\n",
    "        total_err = np.sqrt(np.sum([np.square(cpds.power_err * cpds.m) for cpds in cospectra], axis=0))/total_m\n",
    "\n",
    "        total_cpds.m = total_m\n",
    "        total_cpds.power = total_power\n",
    "        total_cpds.power_err = total_err\n",
    "    total_cpds_list.append(total_cpds)\n",
    "\n",
    "#     total_pds = copy.deepcopy(powerspectra[0])\n",
    "#     if len(powerspectra) > 1:\n",
    "#         total_m = np.sum(np.array([pds.m for pds in powerspectra]))\n",
    "#         total_power = np.sum([(pds.power * pds.m) for pds in powerspectra], axis=0)/total_m\n",
    "#         total_err = np.sqrt(np.sum([np.square(pds.power_err * pds.m) for pds in powerspectra], axis=0))/total_m\n",
    "\n",
    "#         total_pds.m = total_m\n",
    "#         total_pds.power = total_power\n",
    "#         total_pds.power_err = total_err\n",
    "#     total_pds_list.append(total_pds)\n",
    "\n",
    "\n",
    "    ### Plot CPDS\n",
    "    f_res = 0.5\n",
    "    total_cpds_log = total_cpds.rebin_log(f=f_res)\n",
    "    total_cpds_log_err = total_cpds.df*np.power(1.+f_res, range(len(total_cpds_log.freq)))/2.\n",
    "\n",
    "    plt.figure(figsize=(9,6))\n",
    "    plt.errorbar(total_cpds_log.freq, total_cpds_log.power*total_cpds_log.freq, xerr=total_cpds_log_err, yerr=total_cpds_log.power_err*total_cpds_log.freq, fmt='none', color='black', lw=0.5)\n",
    "    plt.step(np.concatenate([total_cpds_log.freq-total_cpds_log_err, [total_cpds_log.freq[-1]+total_cpds_log_err[-1]]]), \\\n",
    "             np.concatenate([total_cpds_log.power*total_cpds_log.freq, [(total_cpds_log.power*total_cpds_log.freq)[-1]]]), where='post', color='black', lw=0.5)\n",
    "    plt.xscale('log')\n",
    "    plt.ylim((1e-6,np.max(total_cpds_log.power*total_cpds_log.freq) * 3))\n",
    "    plt.yscale('log')\n",
    "    plt.xlabel('Frequency (Hz)')\n",
    "    plt.ylabel(r'$\\mathrm{\\nu P_{\\nu}\\ (rms/mean)^{2}}$')\n",
    "    plt.tight_layout()\n",
    "    # plt.show()\n",
    "    plt.savefig(plot_dir + OBSID + '_CPDS_nuPnu_' + str(int(split_time)) + 's_chusplit.pdf')\n",
    "    plt.close()\n",
    "\n",
    "    plt.figure(figsize=(9,6))\n",
    "    plt.errorbar(total_cpds_log.freq, total_cpds_log.power, xerr=total_cpds_log_err, yerr=total_cpds_log.power_err, fmt='none', color='black', lw=0.5)\n",
    "    plt.step(np.concatenate([total_cpds_log.freq-total_cpds_log_err, [total_cpds_log.freq[-1]+total_cpds_log_err[-1]]]), \\\n",
    "             np.concatenate([total_cpds_log.power, [total_cpds_log.power[-1]]]), where='post', color='black', lw=0.5)\n",
    "    plt.xscale('log')\n",
    "    plt.ylim((1e-6, np.max(total_cpds_log.power) * 3))\n",
    "    plt.yscale('log')\n",
    "    plt.xlabel('Frequency (Hz)')\n",
    "    plt.ylabel(r'$\\mathrm{Power\\ (rms/mean)^{2}/Hz}$')\n",
    "    plt.tight_layout()\n",
    "    # plt.show()\n",
    "    plt.savefig(plot_dir + OBSID + '_CPDS_Pnu_' + str(int(split_time)) + 's_chusplit.pdf')\n",
    "    plt.close()\n",
    "\n",
    "    plt.figure(figsize=(9,6), dpi=100)\n",
    "    plt.errorbar(total_cpds.freq, total_cpds.power, xerr=total_cpds.df/2, yerr=total_cpds.power_err, fmt='none', color='black', lw=0.5, rasterized=True)\n",
    "    plt.step(np.concatenate([total_cpds.freq-total_cpds.df/2, [total_cpds.freq[-1]+total_cpds.df/2]]), \\\n",
    "             np.concatenate([total_cpds.power, [total_cpds.power[-1]]]), where='post', color='black', lw=0.5, rasterized=True)\n",
    "    plt.ylim((1e-4, np.max(total_cpds.power) * 3))\n",
    "    plt.xscale('log')\n",
    "    plt.yscale('log')\n",
    "    plt.xlabel('Frequency (Hz)')\n",
    "    plt.ylabel(r'$\\mathrm{Power\\ (rms/mean)^{2}/Hz}$')\n",
    "    plt.tight_layout()\n",
    "    # plt.show()\n",
    "    plt.savefig(plot_dir + OBSID + '_CPDS_Pnu_' + str(int(split_time)) + 's_chusplit_unbinned.pdf')\n",
    "    plt.close()\n",
    "\n",
    "#     ### Plot PDS\n",
    "#     f_res = 0.5\n",
    "#     total_pds_log = total_pds.rebin_log(f=f_res)\n",
    "#     total_pds_log_err = total_pds.df*np.power(1.+f_res, range(len(total_pds_log.freq)))/2.\n",
    "\n",
    "#     plt.figure(figsize=(9,6))\n",
    "#     plt.errorbar(total_pds_log.freq, total_pds_log.power*total_pds_log.freq, xerr=total_pds_log_err, yerr=total_pds_log.power_err*total_pds_log.freq, fmt='none', color='black', lw=0.5)\n",
    "#     plt.step(np.concatenate([total_pds_log.freq-total_pds_log_err, [total_pds_log.freq[-1]+total_pds_log_err[-1]]]), \\\n",
    "#              np.concatenate([total_pds_log.power*total_pds_log.freq, [(total_pds_log.power*total_pds_log.freq)[-1]]]), where='post', color='black', lw=0.5)\n",
    "#     plt.xscale('log')\n",
    "#     plt.ylim((1e-6,np.max(total_pds_log.power*total_pds_log.freq) * 3))\n",
    "#     plt.yscale('log')\n",
    "#     plt.xlabel('Frequency (Hz)')\n",
    "#     plt.ylabel(r'$\\mathrm{\\nu P_{\\nu}\\ (rms/mean)^{2}}$')\n",
    "#     plt.tight_layout()\n",
    "#     # plt.show()\n",
    "#     plt.savefig(plot_dir + OBSID + '_PDS_nuPnu_' + str(int(split_time)) + 's_chusplit.pdf')\n",
    "#     plt.close()\n",
    "\n",
    "#     plt.figure(figsize=(9,6))\n",
    "#     plt.errorbar(total_pds_log.freq, total_pds_log.power, xerr=total_pds_log_err, yerr=total_pds_log.power_err, fmt='none', color='black', lw=0.5)\n",
    "#     plt.step(np.concatenate([total_pds_log.freq-total_pds_log_err, [total_pds_log.freq[-1]+total_pds_log_err[-1]]]), \\\n",
    "#              np.concatenate([total_pds_log.power, [total_pds_log.power[-1]]]), where='post', color='black', lw=0.5)\n",
    "#     plt.xscale('log')\n",
    "#     plt.ylim((1e-6, np.max(total_pds_log.power) * 3))\n",
    "#     plt.yscale('log')\n",
    "#     plt.xlabel('Frequency (Hz)')\n",
    "#     plt.ylabel(r'$\\mathrm{Power\\ (rms/mean)^{2}/Hz}$')\n",
    "#     plt.tight_layout()\n",
    "#     # plt.show()\n",
    "#     plt.savefig(plot_dir + OBSID + '_PDS_Pnu_' + str(int(split_time)) + 's_chusplit.pdf')\n",
    "#     plt.close()\n",
    "\n",
    "#     plt.figure(figsize=(9,6), dpi=100)\n",
    "#     plt.errorbar(total_pds.freq, total_pds.power, xerr=total_pds.df/2, yerr=total_pds.power_err, fmt='none', color='black', lw=0.5, rasterized=True)\n",
    "#     plt.step(np.concatenate([total_pds.freq-total_pds.df/2, [total_pds.freq[-1]+total_pds.df/2]]), \\\n",
    "#              np.concatenate([total_pds.power, [total_pds.power[-1]]]), where='post', color='black', lw=0.5, rasterized=True)\n",
    "#     plt.ylim((1e-4, np.max(total_cpds.power) * 3))\n",
    "#     plt.xscale('log')\n",
    "#     plt.yscale('log')\n",
    "#     plt.xlabel('Frequency (Hz)')\n",
    "#     plt.ylabel(r'$\\mathrm{Power\\ (rms/mean)^{2}/Hz}$')\n",
    "#     plt.tight_layout()\n",
    "#     # plt.show()\n",
    "#     plt.savefig(plot_dir + OBSID + '_PDS_Pnu_' + str(int(split_time)) + 's_chusplit_unbinned.pdf')\n",
    "#     plt.close()\n",
    "    \n",
    "lcurve_ax.set_xlabel('Time (s)')\n",
    "lcurve_ax.set_ylabel(r'$NuSTAR\\ \\mathrm{count\\ rate\\ (3-78\\,keV)}$')\n",
    "lcurve_ax.legend()\n",
    "plt.tight_layout()\n",
    "plt.savefig(plot_dir + OBSID + '_lc_chusplit.pdf')\n",
    "plt.close()"
   ]
  },
  {
   "cell_type": "code",
   "execution_count": 4,
   "metadata": {},
   "outputs": [
    {
     "name": "stdout",
     "output_type": "stream",
     "text": [
      "[8.11281665e-06]\n",
      "[2.53724658e-07]\n",
      "0.12889935816194015 +/- 0.003315416333722505\n"
     ]
    }
   ],
   "source": [
    "total_cpds = total_cpds_list[-1]\n",
    "split_time = [128.,256.,512.,1024.][-1]\n",
    "popt, pcov, chisq0, chisq = model_continuum_noise_pl(total_cpds, plot=True, plot_dir=plot_dir, \\\n",
    "                                                              plot_name=OBSID + '_' + str(int(split_time)) + 's_chusplit_pl.pdf', f_res = f_res)\n",
    "print(popt)\n",
    "print(np.sqrt(np.diag(pcov)))\n",
    "# print(np.sqrt(popt[1]/2))\n",
    "\n",
    "rms = np.sqrt(popt[0]*((split_time*2) - (2*bin_time)))\n",
    "rms_err=(np.sqrt(np.diag(pcov))[0]/popt[0])*(rms/2.)\n",
    "\n",
    "print(str(rms) + ' +/- ' + str(1.64485*rms_err))"
   ]
  },
  {
   "cell_type": "code",
   "execution_count": 5,
   "metadata": {},
   "outputs": [
    {
     "name": "stdout",
     "output_type": "stream",
     "text": [
      "[8.11281665e-06]\n"
     ]
    },
    {
     "name": "stderr",
     "output_type": "stream",
     "text": [
      "100%|█████████████████████████████████████| 1000/1000 [1:36:57<00:00,  5.82s/it]\n"
     ]
    },
    {
     "name": "stdout",
     "output_type": "stream",
     "text": [
      "-17.226888976059854\n",
      "2043871.223045052\n",
      "2047995\n"
     ]
    },
    {
     "data": {
      "text/plain": [
       "Text(0, 0.5, '$\\\\Delta \\\\chi^{2}$')"
      ]
     },
     "execution_count": 5,
     "metadata": {},
     "output_type": "execute_result"
    },
    {
     "data": {
      "image/png": "[encoded data removed]",
      "text/plain": [
       "<Figure size 648x432 with 1 Axes>"
      ]
     },
     "metadata": {
      "needs_background": "light"
     },
     "output_type": "display_data"
    }
   ],
   "source": [
    "# total_cpds = total_cpds_list[-1]\n",
    "QPO_nu, chisq0, chisq, dof = QPO_scan(total_cpds)\n",
    "print(np.min(chisq-chisq0))\n",
    "print(chisq0)\n",
    "print(dof)\n",
    "\n",
    "plt.figure(figsize=(9,6))\n",
    "plt.plot(QPO_nu, chisq-chisq0)\n",
    "plt.xscale('log')\n",
    "plt.xlabel('Frequency (Hz)')\n",
    "plt.ylabel(r'$\\Delta \\chi^{2}$')"
   ]
  },
  {
   "cell_type": "code",
   "execution_count": 6,
   "metadata": {},
   "outputs": [
    {
     "name": "stdout",
     "output_type": "stream",
     "text": [
      "[8.11280284e-06]\n",
      "[2.66634769e-07]\n",
      "0.12889923308021448 +/- 0.005456113464646252\n"
     ]
    }
   ],
   "source": [
    "total_cpds = total_cpds_list[-1]\n",
    "split_time = [128,256,512,1024][-1]\n",
    "popt, pcov, chisq0, chisq = model_continuum_noise_pl(total_cpds, plot=True, plot_dir=plot_dir, nu_max = 1.0, \\\n",
    "                                                              plot_name=OBSID + '_' + str(int(split_time)) + 's_chusplit_pl.pdf', f_res = f_res)\n",
    "print(popt)\n",
    "print(np.sqrt(np.diag(pcov)))\n",
    "# print(np.sqrt(popt[1]/2))\n",
    "\n",
    "rms = np.sqrt(popt[0]*((split_time*2) - (2*bin_time)))\n",
    "rms_err=(np.sqrt(np.diag(pcov))[0]/popt[0])*(rms/2.)\n",
    "\n",
    "print(str(rms) + ' +/- ' + str(2.57583*rms_err))"
   ]
  },
  {
   "cell_type": "code",
   "execution_count": 10,
   "metadata": {},
   "outputs": [
    {
     "name": "stdout",
     "output_type": "stream",
     "text": [
      "0.08544618901353424 +/- 0.02037580137741066\n",
      "0.007301051216936618\n"
     ]
    }
   ],
   "source": [
    "total_pds = total_pds_list[-1]\n",
    "split_time = [128,256,512,1024][-1]\n",
    "popt, pcov, chisq0, chisq = model_continuum_noise_pl(total_pds, plot=True, plot_dir=plot_dir, nu_max = 1.0, \\\n",
    "                                                              plot_name=OBSID + '_' + str(int(split_time)) + 's_chusplit_pl.pdf', f_res = f_res)\n",
    "print(popt)\n",
    "print(np.sqrt(np.diag(pcov)))\n",
    "print(np.sqrt(popt[1]/2))\n",
    "\n",
    "nu_max = 0.1\n",
    "nu_mask = total_pds.freq<nu_max\n",
    "rms_square = np.sum(total_pds.power[nu_mask]*total_pds.df)\n",
    "rms_square_err = np.sqrt(np.sum(np.square(total_pds.power_err[nu_mask])))*total_pds.df\n",
    "\n",
    "if rms_square < 0.0:\n",
    "    uplim = True\n",
    "    rms = np.sqrt(rms_square + 2.6*rms_square_err)\n",
    "    print('Upper limit')\n",
    "else:\n",
    "    uplim = False\n",
    "    rms = np.sqrt(rms_square)\n",
    "\n",
    "rms_err = np.sqrt(np.sum(np.square(total_pds.power_err[nu_mask])))*total_pds.df/(2*rms)\n",
    "\n",
    "print(str(rms) + ' +/- ' + str(rms_err))\n",
    "print(rms_square)"
   ]
  },
  {
   "cell_type": "code",
   "execution_count": null,
   "metadata": {},
   "outputs": [],
   "source": []
  }
 ],
 "metadata": {
  "anaconda-cloud": {},
  "kernelspec": {
   "display_name": "Python 3 (ipykernel)",
   "language": "python",
   "name": "python3"
  },
  "language_info": {
   "codemirror_mode": {
    "name": "ipython",
    "version": 3
   },
   "file_extension": ".py",
   "mimetype": "text/x-python",
   "name": "python",
   "nbconvert_exporter": "python",
   "pygments_lexer": "ipython3",
   "version": "3.8.8"
  },
  "varInspector": {
   "cols": {
    "lenName": 16,
    "lenType": 16,
    "lenVar": 40
   },
   "kernels_config": {
    "python": {
     "delete_cmd_postfix": "",
     "delete_cmd_prefix": "del ",
     "library": "var_list.py",
     "varRefreshCmd": "print(var_dic_list())"
    },
    "r": {
     "delete_cmd_postfix": ") ",
     "delete_cmd_prefix": "rm(",
     "library": "var_list.r",
     "varRefreshCmd": "cat(var_dic_list()) "
    }
   },
   "position": {
    "height": "593px",
    "left": "889px",
    "right": "20px",
    "top": "315px",
    "width": "315px"
   },
   "types_to_exclude": [
    "module",
    "function",
    "builtin_function_or_method",
    "instance",
    "_Feature"
   ],
   "window_display": false
  }
 },
 "nbformat": 4,
 "nbformat_minor": 4
}
