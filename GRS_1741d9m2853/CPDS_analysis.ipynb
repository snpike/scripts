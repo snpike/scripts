{
 "cells": [
  {
   "cell_type": "code",
   "execution_count": 6,
   "metadata": {},
   "outputs": [],
   "source": [
    "%matplotlib widget\n",
    "%matplotlib inline\n",
    "import sys\n",
    "from sys import platform\n",
    "import matplotlib.pyplot as plt\n",
    "import matplotlib.animation as animation\n",
    "from matplotlib.ticker import ScalarFormatter\n",
    "import numpy as np\n",
    "import pickle\n",
    "import seaborn as sns\n",
    "import scipy\n",
    "import emcee\n",
    "import corner\n",
    "from IPython.display import display, Math\n",
    "from tqdm import tqdm\n",
    "from multiprocessing import Pool\n",
    "\n",
    "from astropy.io import fits, ascii\n",
    "from astropy.table import Table\n",
    "from astropy.modeling import functional_models, fitting\n",
    "\n",
    "import stingray.events as ev\n",
    "import stingray.lightcurve as lc\n",
    "from stingray import io\n",
    "import stingray.powerspectrum as powspec \n",
    "import stingray.crossspectrum as crossspec\n",
    "from hendrics.efsearch import dyn_folding_search, z_n_search, folding_search\n",
    "import stingray.gti as sting_gti\n",
    "import stingray.pulse.pulsar as plsr\n",
    "from stingray import stats\n",
    "from astropy.timeseries import LombScargle\n",
    "\n",
    "\n",
    "\n",
    "\n",
    "sns.set_context('talk')\n",
    "# sns.set_style(\"whitegrid\")\n",
    "sns.set_palette(\"colorblind\")\n",
    "\n",
    "sys.path.insert(1, '/Users/sean/scripts/helpers')\n",
    "\n",
    "from stingray_plus import *\n",
    "\n",
    "def minimize_remainder(arr, min_div, max_div):\n",
    "    divisors = np.linspace(min_div, max_div, num=100)\n",
    "    remainders = []\n",
    "    for div in divisors:\n",
    "        remainders.append(np.sum(np.mod(arr, div)))\n",
    "        \n",
    "    return divisors[np.argmin(remainders)]\n",
    "\n",
    "def power_law(f, B, gamma):\n",
    "    return B*np.power(f,gamma)\n",
    "\n",
    "def Lorentzian(f, peakf, Q, A):\n",
    "    # gamma = HWHM\n",
    "    # peakf = centroid frequency\n",
    "    gamma = peakf/(2.0 * Q)\n",
    "    return (A * np.square(gamma)/(np.pi*gamma*(np.square(f-peakf) + np.square(gamma))))\n",
    "\n",
    "def Lorentzian_C(f, peakf, Q, A, C):\n",
    "    return Lorentzian(f, peakf, Q, A) + C\n",
    "\n",
    "def Lorentzian_power(f, peakf, Q, A, B, gamma):\n",
    "    return Lorentzian(f, peakf, Q, A) + power_law(f, B, gamma)\n",
    "\n",
    "def N_Lorentzian(f, *args):\n",
    "    N = int(len(args)/3)\n",
    "    peak_nu = args[:N]\n",
    "    Qs = args[N:N+N]\n",
    "    As = args[N+N:N+N+N]\n",
    "    model = np.zeros(np.shape(f))\n",
    "    for i in range(N):\n",
    "        model = model + Lorentzian(f, peak_nu[i], Qs[i], As[i])\n",
    "        \n",
    "    return model\n",
    "\n",
    "def N_Lorentzian_C(f, *args):\n",
    "    N = int((len(args)-1)/3)\n",
    "    peak_nu = args[:N]\n",
    "    Qs = args[N:N+N]\n",
    "    As = args[N+N:N+N+N]\n",
    "    C = args[-1]\n",
    "    model = C * np.ones(np.shape(f))\n",
    "    for i in range(N):\n",
    "        model = model + Lorentzian(f, peak_nu[i], Qs[i], As[i])\n",
    "        \n",
    "    return model\n",
    "\n",
    "def N_Lorentzian_power(f, *args):\n",
    "    N = int((len(args)-2)/3)\n",
    "    peak_nu = args[:N]\n",
    "    Qs = args[N:N+N]\n",
    "    As = args[N+N:N+N+N]\n",
    "    B, alpha = args[-2:]\n",
    "    model = power_law(f, B, alpha)\n",
    "    for i in range(N):\n",
    "        model = model + Lorentzian(f, peak_nu[i], Qs[i], As[i])\n",
    "        \n",
    "    return model\n",
    "\n",
    "def QPO_scan(cross_spec, f_min=1e-4, f_max=2000., f_bin=1000, n_lorentz = 1):\n",
    "    f_mask = (cross_spec.freq > f_min) * (cross_spec.freq < f_max)\n",
    "    freq_steps = np.logspace(np.log10(cross_spec.freq[f_mask][0]), np.log10(cross_spec.freq[f_mask][-1]), f_bin + 2)\n",
    "    xdata = cross_spec.freq[f_mask]\n",
    "    ydata = cross_spec.power[f_mask]\n",
    "    sigma = cross_spec.power_err[f_mask]\n",
    "    \n",
    "    pl_popt, pl_pcov = scipy.optimize.curve_fit(power_law, xdata, ydata, sigma = sigma, p0 = [10., -1.0], \\\n",
    "                                                bounds=np.array([(0.0, np.inf), (-np.inf, 0.0)]).T)\n",
    "    print(pl_popt)\n",
    "    chisq0 = np.sum(((ydata - power_law(xdata, *pl_popt)) / sigma) ** 2)\n",
    "    print(chisq0)\n",
    "    print(chisq0/(len(ydata)-len(pl_popt)))\n",
    "    chisq = []\n",
    "    for i in tqdm(range(len(freq_steps[1:-1]))):\n",
    "        f = freq_steps[i+1]\n",
    "        try:\n",
    "            popt, pcov = scipy.optimize.curve_fit(Lorentzian_power, xdata, ydata, sigma = sigma, p0 = [f, 2.0, 1e-3, pl_popt[0], pl_popt[1]], \\\n",
    "                                                  bounds=np.array([(f - (f-freq_steps[i])/2., f + (freq_steps[i+2] - f)/2.0), (1.0,np.inf), (0.0,np.inf), (0.0, np.inf), (-np.inf, 0.0)]).T)\n",
    "            chisq.append(np.sum(((ydata - Lorentzian_power(xdata, *popt)) / sigma) ** 2))\n",
    "        except RuntimeError:\n",
    "            print(\"No acceptable fit\")\n",
    "            chisq.append(chisq0)\n",
    "    dof = len(xdata)-len(popt)\n",
    "    return freq_steps[1:-1], chisq0, np.array(chisq), dof\n",
    "\n",
    "\n",
    "\n",
    "def fit_peaks(xdata, ydata, sigma, nu_peak):\n",
    "    \n",
    "    popt_arr = []\n",
    "    pcov_arr = []\n",
    "\n",
    "    for i, p in enumerate(nu_peak):\n",
    "        f_bound = None\n",
    "        if len(nu_peak)==1:\n",
    "            f_bound = (np.min(xdata), np.max(xdata))\n",
    "        else:\n",
    "            if i == 0:\n",
    "                f_bound = (np.min(xdata), p + (nu_peak[i+1] - p)/2)\n",
    "            elif i==len(nu_peak)-1:\n",
    "                f_bound = (p + (nu_peak[i-1] - p)/2, np.max(xdata))\n",
    "            else:\n",
    "                f_bound = (p + (nu_peak[i-1] - p)/2, p + (nu_peak[i+1] - p)/2)\n",
    "\n",
    "        par_bounds = np.array([f_bound, (1.0,np.inf), (0, np.inf), (0, np.inf), (-np.inf, 0.0)]).T\n",
    "        p0 = [p, 5.0, 0.1, 0.02, -0.5]\n",
    "        popt, pcov = scipy.optimize.curve_fit(Lorentzian_power, xdata, ydata, sigma = sigma, p0 = p0, bounds = par_bounds)\n",
    "        popt_arr.append(popt)\n",
    "        pcov_arr.append(pcov)\n",
    "\n",
    "    popt_arr = np.array(popt_arr)\n",
    "    pcov_arr = np.array(pcov_arr)\n",
    "\n",
    "    return popt_arr, pcov_arr\n",
    "\n",
    "def get_rms(events, centroids, radius, PI_min=35, PI_max=1210, nu_min=1e-4, nu_max=100., split_time=512, bin_time = 1/1024, plot = False):\n",
    "    \n",
    "    curve_A = events[0].to_lc(dt = bin_time, pi_low=PI_min, pi_high=PI_max, centroid = centroids[0], radius = radius)\n",
    "    curve_B = events[1].to_lc(dt = bin_time, pi_low=PI_min, pi_high=PI_max, centroid = centroids[1], radius = radius)\n",
    "    \n",
    "    average_CPDS = crossspec.AveragedCrossspectrum(curve_A, curve_B, segment_size=split_time, norm = 'frac')\n",
    "    \n",
    "    if plot:\n",
    "        f_res = 0.1\n",
    "        plt.figure(figsize=(9,6))\n",
    "        averaged_cross_log = average_CPDS.rebin_log(f=f_res)\n",
    "        averaged_cross_log_err = average_CPDS.df*np.power(1.+f_res, range(len(averaged_cross_log.freq)))/2.\n",
    "        plt.errorbar(averaged_cross_log.freq, averaged_cross_log.power*averaged_cross_log.freq, xerr=averaged_cross_log_err, yerr=averaged_cross_log.power_err*averaged_cross_log.freq, fmt='none', lw=0.5)\n",
    "        plt.xscale('log')\n",
    "        plt.ylim((1e-4,5*np.max(averaged_cross_log.power.real)))\n",
    "        plt.yscale('log')\n",
    "        plt.xlabel('Frequency (Hz)')\n",
    "        plt.ylabel('Leahy Power')\n",
    "        plt.ylabel(r'$\\mathrm{\\nu P_{\\nu}\\ (rms/mean)^{2}}$')\n",
    "        plt.tight_layout()\n",
    "        plt.show()\n",
    "#         plt.savefig(plot_dir + 'averaged_cross_spectrum_' + str(int(split_time)) + 's.pdf')\n",
    "        plt.close()\n",
    "    \n",
    "    rms_square = np.sum(average_CPDS.power[(average_CPDS.freq > nu_min) * (average_CPDS.freq < nu_max)])*average_CPDS.df\n",
    "    rms_square_err = np.sqrt(np.sum(np.square(average_CPDS.power_err[(average_CPDS.freq > nu_min) * (average_CPDS.freq < nu_max)])))*average_CPDS.df\n",
    "    \n",
    "    if rms_square < 0.0:\n",
    "        uplim = True\n",
    "        rms = np.sqrt(rms_square + 2.6*rms_square_err)\n",
    "    else:\n",
    "        uplim = False\n",
    "        rms = np.sqrt(rms_square)\n",
    "        \n",
    "    rms_err = np.sqrt(np.sum(np.square(average_CPDS.power_err[(average_CPDS.freq > nu_min) * (average_CPDS.freq < nu_max)])))*average_CPDS.df/(2*rms)\n",
    "\n",
    "    return rms, rms_err, uplim\n",
    "\n",
    "def model_continuum_noise(cpds, plot=True, plot_dir='/Users/sean/Desktop/', f_res = 0.5, rebinned_cospec = None, pl=True):\n",
    "    n_L = 0\n",
    "    L_args = []\n",
    "    L_bounds = []\n",
    "    if rebinned_cospec is None:\n",
    "                cpds_log = cpds.rebin_log(f=f_res)\n",
    "    else: \n",
    "        cpds_log = rebinned_cospec\n",
    "    temp_err = cpds.df*np.power(1.+f_res, range(len(cpds_log.freq)))/2.\n",
    "\n",
    "    if pl:\n",
    "        pow_fit, _ = scipy.optimize.curve_fit(power_law, cpds.freq, cpds.power, sigma = cpds.power_err, bounds = [[0.0, -np.inf], [np.inf, 0.0]])\n",
    "        chisq0 = np.sum(((cpds.power-power_law(cpds.freq, *pow_fit))/ cpds.power_err) ** 2)\n",
    "        if plot:\n",
    "            plt.figure(figsize=(9,6))\n",
    "            plt.errorbar(cpds_log.freq, cpds_log.power*cpds_log.freq, xerr=temp_err, \\\n",
    "                         yerr=cpds_log.power_err*cpds_log.freq, fmt='none', lw=0.5, color='black')\n",
    "            plt.step(np.concatenate([cpds_log.freq-temp_err, [cpds_log.freq[-1]+temp_err[-1]]]), \\\n",
    "                     np.concatenate([cpds_log.power*cpds_log.freq, [(cpds_log.power*cpds_log.freq)[-1]]]), where='post', color='black', lw=0.5)\n",
    "            plt.plot(cpds.freq, power_law(cpds.freq, *pow_fit)*cpds.freq, color='red', lw=0.5)\n",
    "            plt.xscale('log')\n",
    "            plt.ylim((1e-5,3*np.max(cpds_log.power.real*cpds_log.freq)))\n",
    "            plt.yscale('log')\n",
    "            plt.xlabel('Frequency (Hz)')\n",
    "            plt.ylabel(r'$\\mathrm{\\nu P_{\\nu}\\ (rms/mean)^{2}}$')\n",
    "            plt.tight_layout()\n",
    "            plt.savefig(plot_dir + 'CPDS_nuPnu_continuum_pl.pdf')\n",
    "            plt.close()\n",
    "            \n",
    "            plt.figure(figsize=(9,6))\n",
    "            plt.errorbar(cpds_log.freq, cpds_log.power, xerr=temp_err, \\\n",
    "                         yerr=cpds_log.power_err, fmt='none', lw=0.5, color='black')\n",
    "            plt.step(np.concatenate([cpds_log.freq-temp_err, [cpds_log.freq[-1]+temp_err[-1]]]), \\\n",
    "                     np.concatenate([cpds_log.power, [cpds_log.power[-1]]]), where='post', color='black', lw=0.5)\n",
    "            plt.plot(cpds.freq, power_law(cpds.freq, *pow_fit), color='red', lw=0.5)\n",
    "            plt.xscale('log')\n",
    "            plt.ylim((1e-5,3*np.max(cpds_log.power.real)))\n",
    "            plt.yscale('log')\n",
    "            plt.xlabel('Frequency (Hz)')\n",
    "            plt.ylabel(r'$\\mathrm{Power\\ (rms/mean)^{2}/Hz}$')\n",
    "            plt.tight_layout()\n",
    "            plt.savefig(plot_dir + 'CPDS_Pnu_continuum_pl.pdf')\n",
    "            plt.close()\n",
    "    \n",
    "    else:\n",
    "        chisq0 = np.sum(((cpds.power-np.mean(cpds.power))/ cpds.power_err) ** 2)\n",
    "        \n",
    "    chisq = []\n",
    "    popt_list = []\n",
    "    pcov_list = []\n",
    "    del_chisq = -100000\n",
    "    while del_chisq < 0.0:\n",
    "        n_L += 1\n",
    "        if n_L ==1:\n",
    "            L_args = np.array([1.0, 0.1, 10.])\n",
    "            L_bounds = np.array([[[0.0, np.max(cpds.freq)], [0.0, 2.0], [0,np.inf]]])\n",
    "        else:\n",
    "            L_args = np.vstack((L_args, [1.0, 0.1, 10.]))\n",
    "            L_bounds = np.concatenate((L_bounds, [[(0.0, np.max(cpds.freq)), (0.0, 10.0), (0,np.inf)]]))\n",
    "        \n",
    "        if pl:\n",
    "            temp_p0 = np.concatenate((L_args.T.flatten(), pow_fit))\n",
    "            temp_bounds = [np.concatenate((L_bounds.T.flatten()[:3*n_L], [0.0, -np.inf])), np.concatenate((L_bounds.T.flatten()[3*n_L:], [np.inf, 0.0]))]\n",
    "            popt, pcov = scipy.optimize.curve_fit(N_Lorentzian_power, cpds.freq, cpds.power, sigma = cpds.power_err, \\\n",
    "                                              p0 = temp_p0, bounds= temp_bounds)\n",
    "            temp_chisq = np.sum(((cpds.power - N_Lorentzian_power(cpds.freq, *popt)) / cpds.power_err) ** 2)\n",
    "\n",
    "\n",
    "        else:\n",
    "            temp_p0 = np.concatenate([L_args.T.flatten()])\n",
    "            temp_bounds = [L_bounds.T.flatten()[:3*n_L], L_bounds.T.flatten()[3*n_L:]]\n",
    "            popt, pcov = scipy.optimize.curve_fit(N_Lorentzian, cpds.freq, cpds.power, sigma = cpds.power_err, \\\n",
    "                                                  p0 = temp_p0, bounds= temp_bounds)\n",
    "            temp_chisq = np.sum(((cpds.power - N_Lorentzian(cpds.freq, *popt)) / cpds.power_err) ** 2)\n",
    "        \n",
    "        if n_L==1:\n",
    "            del_chisq = temp_chisq-chisq0\n",
    "        else:\n",
    "            del_chisq = temp_chisq-chisq[-1]\n",
    "        chisq.append(temp_chisq)\n",
    "        popt_list.append(popt)\n",
    "        pcov_list.append(pcov)\n",
    "        \n",
    "        L_args = np.array([popt[:n_L], popt[n_L:n_L + n_L], popt[n_L+n_L:n_L+n_L+n_L]]).T\n",
    "\n",
    "        if plot:\n",
    "            plt.figure(figsize=(9,6))\n",
    "            plt.errorbar(cpds_log.freq, cpds_log.power*cpds_log.freq, xerr=temp_err, \\\n",
    "                         yerr=cpds_log.power_err*cpds_log.freq, fmt='none', lw=0.5, color='black')\n",
    "            plt.step(np.concatenate([cpds_log.freq-temp_err, [cpds_log.freq[-1]+temp_err[-1]]]), \\\n",
    "                     np.concatenate([cpds_log.power*cpds_log.freq, [(cpds_log.power*cpds_log.freq)[-1]]]), where='post', color='black', lw=0.5)\n",
    "            for i in range(n_L):\n",
    "                plt.plot(cpds.freq, Lorentzian(cpds.freq, *((L_args[i])))*cpds.freq, color='red', ls='dotted', lw=0.5)\n",
    "            if pl:\n",
    "                plt.plot(cpds.freq, power_law(cpds.freq, *(popt[-2:]))*cpds.freq, color='red', ls='dotted', lw=0.5)\n",
    "                plt.plot(cpds.freq,N_Lorentzian_power(cpds.freq, *popt)*cpds.freq, color='red', lw=0.5)\n",
    "            else:\n",
    "                plt.plot(cpds.freq,N_Lorentzian(cpds.freq, *popt)*cpds.freq, color='red', lw=0.5)               \n",
    "            plt.xscale('log')\n",
    "            plt.ylim((1e-5,3*np.max(cpds_log.power.real*cpds_log.freq)))\n",
    "            plt.yscale('log')\n",
    "            plt.xlabel('Frequency (Hz)')\n",
    "            plt.ylabel(r'$\\mathrm{\\nu P_{\\nu}\\ (rms/mean)^{2}}$')\n",
    "            plt.tight_layout()\n",
    "            if pl:\n",
    "                plt.savefig(plot_dir + 'CPDS_nuPnu_continuum_pl_' + str(int(n_L)) + '_comps.pdf')\n",
    "            else:\n",
    "                plt.savefig(plot_dir + 'CPDS_nuPnu_continuum_' + str(int(n_L)) + '_comps.pdf')\n",
    "            plt.close()\n",
    "            \n",
    "            plt.figure(figsize=(9,6))\n",
    "            plt.errorbar(cpds_log.freq, cpds_log.power, xerr=temp_err, \\\n",
    "                         yerr=cpds_log.power_err, fmt='none', lw=0.5, color='black')\n",
    "            plt.step(np.concatenate([cpds_log.freq-temp_err, [cpds_log.freq[-1]+temp_err[-1]]]), \\\n",
    "                     np.concatenate([cpds_log.power, [cpds_log.power[-1]]]), where='post', color='black', lw=0.5)\n",
    "            for i in range(n_L):\n",
    "                plt.plot(cpds.freq, Lorentzian(cpds.freq, *((L_args[i]))), color='red', ls='dotted', lw=0.5)\n",
    "            if pl:\n",
    "                plt.plot(cpds.freq, power_law(cpds.freq, *(popt[-2:])), color='red', ls='dotted', lw=0.5)\n",
    "                plt.plot(cpds.freq,N_Lorentzian_power(cpds.freq, *popt), color='red', lw=0.5)\n",
    "            else:\n",
    "                plt.plot(cpds.freq,N_Lorentzian(cpds.freq, *popt), color='red', lw=0.5)               \n",
    "            plt.xscale('log')\n",
    "            plt.ylim((1e-5,3*np.max(cpds_log.power.real)))\n",
    "            plt.yscale('log')\n",
    "            plt.xlabel('Frequency (Hz)')\n",
    "            plt.ylabel(r'$\\mathrm{\\nu P_{\\nu}\\ (rms/mean)^{2}}$')\n",
    "            plt.tight_layout()\n",
    "            if pl:\n",
    "                plt.savefig(plot_dir + 'CPDS_Pnu_continuum_pl_' + str(int(n_L)) + '_comps.pdf')\n",
    "            else:\n",
    "                plt.savefig(plot_dir + 'CPDS_Pnu_continuum_' + str(int(n_L)) + '_comps.pdf')\n",
    "            plt.close()\n",
    "    \n",
    "    return n_L, popt_list, pcov_list, chisq0, chisq\n",
    "\n",
    "\n",
    "\n"
   ]
  },
  {
   "cell_type": "markdown",
   "metadata": {},
   "source": [
    "# Setup"
   ]
  },
  {
   "cell_type": "code",
   "execution_count": 2,
   "metadata": {},
   "outputs": [
    {
     "name": "stdout",
     "output_type": "stream",
     "text": [
      "Working on Macbook\n"
     ]
    }
   ],
   "source": [
    "if platform=='linux' or platform=='linux2':\n",
    "    print('Working on SRL server')\n",
    "    root_dir = '/disk/lif2/spike/GRS_1741d9m2853/'\n",
    "elif platform=='darwin':\n",
    "    print('Working on Macbook')\n",
    "    root_dir = '/Volumes/Samsung_1TB/AstroData/GRS_1741d9m2853/'\n",
    "\n",
    "products_dir = root_dir + 'products_3to78keV/'\n",
    "plot_dir = root_dir + 'figures/'\n",
    "\n",
    "OBSID = '90601317002'"
   ]
  },
  {
   "cell_type": "code",
   "execution_count": 3,
   "metadata": {},
   "outputs": [
    {
     "name": "stdout",
     "output_type": "stream",
     "text": [
      "[(326544755.2394121, 326544871.13439286)]\n",
      "[(326584617.4268709, 326584716.8078351)]\n",
      "[(326544755.2394121, 326544871.13439286), (326584617.4268709, 326584716.8078351)]\n",
      "[(326534755.2394121, 326544755.2394121)]\n",
      "[(326574617.4268709, 326584617.4268709)]\n"
     ]
    }
   ],
   "source": [
    "burst1_gti = list(fits.open(root_dir + 'burst1/' + 'burst1_gti_bc.fits')[1].data)\n",
    "burst2_gti = list(fits.open(root_dir + 'burst2/' + 'burst2_gti_bc.fits')[1].data)\n",
    "\n",
    "burst1_gti[0][1] += 75\n",
    "burst2_gti[0][1] += 75\n",
    "\n",
    "burst_gti = [*burst1_gti, *burst2_gti]\n",
    "\n",
    "# persistent_gti = list(fits.open(root_dir + 'persistent_gti.fits')[1].data)\n",
    "\n",
    "pre_burst1_gti = [(burst1_gti[0][0] - 10000, burst1_gti[0][0])]\n",
    "pre_burst2_gti = [(burst2_gti[0][0] - 10000, burst2_gti[0][0])]\n",
    "\n",
    "print(burst1_gti)\n",
    "print(burst2_gti)\n",
    "print(burst_gti)\n",
    "# print(persistent_gti)\n",
    "print(pre_burst1_gti)\n",
    "print(pre_burst2_gti)"
   ]
  },
  {
   "cell_type": "code",
   "execution_count": 4,
   "metadata": {
    "scrolled": true
   },
   "outputs": [
    {
     "name": "stderr",
     "output_type": "stream",
     "text": [
      "WARNING:root:Computing the bin time ``dt``. This can take time. If you know the bin time, please specify it at light curve creation\n",
      "WARNING:root:Computing the bin time ``dt``. This can take time. If you know the bin time, please specify it at light curve creation\n"
     ]
    },
    {
     "data": {
      "image/png": "[encoded data removed]",
      "text/plain": [
       "<Figure size 648x432 with 1 Axes>"
      ]
     },
     "metadata": {
      "needs_background": "light"
     },
     "output_type": "display_data"
    }
   ],
   "source": [
    "plt.ion()\n",
    "PI_min = 35     # 3.0 keV\n",
    "# PI_min = 260     # 12.0 keV\n",
    "# PI_max = 960   # 40.0 keV\n",
    "PI_max = 1909   # 78.0 keV\n",
    "events = extract_events(products_dir + 'nu' + OBSID + 'A01_cl_barycorr.evt', \\\n",
    "            products_dir + 'nu' + OBSID + 'B01_cl_barycorr.evt')\n",
    "\n",
    "centroid_A = [535.28765,442.54501]\n",
    "centroid_B = [529.3656,440.76094]\n",
    "extraction_radius = 40.681706 # 90 arcsec\n",
    "\n",
    "\n",
    "# plt.ion()\n",
    "\n",
    "curve_A = bkg_subtract(nuproducts_to_stingray_lc(products_dir + 'nu' + OBSID + 'A01_sr.lc'), nuproducts_to_stingray_lc(products_dir + 'nu' + OBSID + 'A01_bk.lc'))\n",
    "curve_B = bkg_subtract(nuproducts_to_stingray_lc(products_dir + 'nu' + OBSID + 'B01_sr.lc'), nuproducts_to_stingray_lc(products_dir + 'nu' + OBSID + 'B01_bk.lc'))\n",
    "curve_total = sum_lc(curve_A, curve_B)\n",
    "curve_10s = curve_total.rebin(dt_new=10)\n",
    "\n",
    "t_start = np.min(curve_total.time)\n",
    "\n",
    "plt.figure(figsize = (9,6))\n",
    "plt.errorbar(curve_10s.time-t_start, curve_10s.countrate, xerr=curve_10s.dt/2., yerr=curve_10s.countrate_err, fmt='none', lw = 0.5)\n",
    "plt.xlabel('Time (s)')\n",
    "plt.ylabel('NuSTAR count rate')\n",
    "plt.tight_layout()\n",
    "plt.show()\n",
    "plt.close()\n",
    "\n"
   ]
  },
  {
   "cell_type": "markdown",
   "metadata": {},
   "source": [
    "# Persistent emission"
   ]
  },
  {
   "cell_type": "code",
   "execution_count": 5,
   "metadata": {
    "scrolled": true
   },
   "outputs": [
    {
     "name": "stderr",
     "output_type": "stream",
     "text": [
      "/Users/sean/anaconda/lib/python3.6/site-packages/stingray/utils.py:118: UserWarning: SIMON says: Errorbars on cross spectra are not thoroughly tested. Please report any inconsistencies.\n",
      "  warnings.warn(\"SIMON says: {0}\".format(message), **kwargs)\n",
      "113it [00:39,  2.86it/s]\n",
      "113it [00:32,  3.43it/s]\n",
      "113it [00:32,  3.49it/s]\n"
     ]
    }
   ],
   "source": [
    "bin_time = 1/2048\n",
    "split_time = 256\n",
    "\n",
    "curve_A = events[0].to_lc(dt = bin_time, pi_low=PI_min, pi_high=PI_max, centroid = centroid_A, radius = extraction_radius, gti = persistent_gti)\n",
    "curve_B = events[1].to_lc(dt = bin_time, pi_low=PI_min, pi_high=PI_max, centroid = centroid_B, radius = extraction_radius, gti = persistent_gti)\n",
    "\n",
    "averaged_cross = crossspec.AveragedCrossspectrum(curve_A, curve_B, segment_size=split_time, norm = 'frac')\n"
   ]
  },
  {
   "cell_type": "code",
   "execution_count": 6,
   "metadata": {},
   "outputs": [],
   "source": [
    "f_res = 0.1\n",
    "averaged_cross_log = averaged_cross.rebin_log(f=f_res)\n",
    "averaged_cross_log_err = averaged_cross.df*np.power(1.+f_res, range(len(averaged_cross_log.freq)))/2.\n",
    "\n",
    "plt.figure(figsize=(9,6))\n",
    "plt.errorbar(averaged_cross_log.freq, averaged_cross_log.power*averaged_cross_log.freq, xerr=averaged_cross_log_err, yerr=averaged_cross_log.power_err*averaged_cross_log.freq, color='black', lw=0.5, fmt='none')\n",
    "plt.step(np.concatenate([averaged_cross_log.freq-averaged_cross_log_err, [averaged_cross_log.freq[-1]+averaged_cross_log_err[-1]]]), \\\n",
    "         np.concatenate([averaged_cross_log.power*averaged_cross_log.freq, [(averaged_cross_log.power*averaged_cross_log.freq)[-1]]]), where='post', color='black', lw=0.5)\n",
    "plt.xscale('log')\n",
    "plt.ylim((1e-5,5*np.max(averaged_cross_log.power*averaged_cross_log.freq)))\n",
    "plt.yscale('log')\n",
    "plt.xlabel('Frequency (Hz)')\n",
    "plt.ylabel(r'$\\mathrm{\\nu P_{\\nu}\\ (rms/mean)^{2}}$')\n",
    "plt.tight_layout()\n",
    "# plt.show()\n",
    "plt.savefig(plot_dir + 'persistent/' + 'CPDS_nuPnu_' + str(int(split_time)) + 's.pdf')\n",
    "plt.close()\n",
    "\n",
    "plt.figure(figsize=(9,6))\n",
    "plt.errorbar(averaged_cross_log.freq, averaged_cross_log.power, xerr=averaged_cross_log_err, yerr=averaged_cross_log.power_err, color='black', lw=0.5, fmt='none')\n",
    "plt.step(np.concatenate([averaged_cross_log.freq-averaged_cross_log_err, [averaged_cross_log.freq[-1]+averaged_cross_log_err[-1]]]), \\\n",
    "         np.concatenate([averaged_cross_log.power, [averaged_cross_log.power[-1]]]), where='post', color='black', lw=0.5)\n",
    "plt.xscale('log')\n",
    "plt.ylim((1e-5,5*np.max(averaged_cross_log.power)))\n",
    "plt.yscale('log')\n",
    "plt.xlabel('Frequency (Hz)')\n",
    "plt.ylabel(r'$\\mathrm{Power\\ (rms/mean)^{2}/Hz}$')\n",
    "plt.tight_layout()\n",
    "# plt.show()\n",
    "plt.savefig(plot_dir + 'persistent/' + 'CPDS_Pnu_' + str(int(split_time)) + 's.pdf')\n",
    "plt.close()"
   ]
  },
  {
   "cell_type": "markdown",
   "metadata": {},
   "source": [
    "# Model continuum"
   ]
  },
  {
   "cell_type": "code",
   "execution_count": 7,
   "metadata": {},
   "outputs": [
    {
     "data": {
      "image/png": "[encoded data removed]",
      "text/plain": [
       "<Figure size 648x432 with 1 Axes>"
      ]
     },
     "metadata": {
      "needs_background": "light"
     },
     "output_type": "display_data"
    }
   ],
   "source": [
    "n_L, popt_list, pcov_list, chisq0, chisq = model_continuum_noise(averaged_cross, plot=True, plot_dir=plot_dir + 'persistent/', f_res=f_res, rebinned_cospec= averaged_cross_log, pl=True)\n",
    "\n",
    "del_chisq = np.array(chisq) - chisq0\n",
    "\n",
    "plt.figure(figsize=(9,6))\n",
    "plt.plot(np.array(range(n_L)) + 1, -del_chisq)\n",
    "plt.xlabel('N_Lorentzians')\n",
    "plt.ylabel(r'$\\Delta\\chi^{2}$')\n",
    "# plt.yscale('log')\n",
    "plt.tight_layout()\n",
    "plt.show()\n",
    "plt.close()\n"
   ]
  },
  {
   "cell_type": "code",
   "execution_count": 8,
   "metadata": {},
   "outputs": [
    {
     "data": {
      "image/png": "[encoded data removed]",
      "text/plain": [
       "<Figure size 648x432 with 1 Axes>"
      ]
     },
     "metadata": {
      "needs_background": "light"
     },
     "output_type": "display_data"
    }
   ],
   "source": [
    "n_L, popt_list, pcov_list, chisq0, chisq = model_continuum_noise(averaged_cross, plot=True, plot_dir=plot_dir + 'persistent/', f_res=f_res, rebinned_cospec= averaged_cross_log, pl=False)\n",
    "\n",
    "del_chisq = np.array(chisq) - chisq0\n",
    "\n",
    "plt.figure(figsize=(9,6))\n",
    "plt.plot(np.array(range(n_L)) + 1, -del_chisq)\n",
    "plt.xlabel('N_Lorentzians')\n",
    "plt.ylabel(r'$\\Delta\\chi^{2}$')\n",
    "# plt.yscale('log')\n",
    "plt.tight_layout()\n",
    "plt.show()\n",
    "plt.close()"
   ]
  },
  {
   "cell_type": "markdown",
   "metadata": {},
   "source": [
    "### QPO search"
   ]
  },
  {
   "cell_type": "code",
   "execution_count": 12,
   "metadata": {},
   "outputs": [
    {
     "name": "stdout",
     "output_type": "stream",
     "text": [
      "258069.7639530517\n"
     ]
    }
   ],
   "source": [
    "# f_min = np.min(averaged_cross.freq)\n",
    "# f_max = np.min([2000., (np.max(averaged_cross.freq))])\n",
    "# freqs, chisq0, chisq, dof = QPO_scan(averaged_cross, f_min=f_min, f_max=f_max, f_bin = 500)\n",
    "\n",
    "print(chisq0)"
   ]
  },
  {
   "cell_type": "code",
   "execution_count": 10,
   "metadata": {},
   "outputs": [
    {
     "name": "stdout",
     "output_type": "stream",
     "text": [
      "0.9844880670836959\n"
     ]
    }
   ],
   "source": [
    "print(chisq0/dof)\n",
    "plt.figure(figsize=(9,6))\n",
    "plt.plot(freqs, (chisq - chisq0))\n",
    "plt.xscale('log')\n",
    "plt.ylabel(r'$\\Delta\\chi^{2}$')\n",
    "plt.xlabel('Frequency (Hz)')\n",
    "plt.tight_layout()\n",
    "plt.savefig(plot_dir + 'persistent/' + 'QPO_scan.pdf')\n",
    "plt.close()"
   ]
  },
  {
   "cell_type": "code",
   "execution_count": 11,
   "metadata": {},
   "outputs": [
    {
     "name": "stdout",
     "output_type": "stream",
     "text": [
      "[ 1.00925599e+01  1.99660474e+01  1.47551227e-03  8.86229539e-05\n",
      " -1.30320597e+00]\n",
      "[1.52187635e-01 1.70077180e+01 8.88720970e-04 7.87438493e-05\n",
      " 1.97774949e-01]\n",
      "1.6602649471199868\n"
     ]
    }
   ],
   "source": [
    "peaks, _ = scipy.signal.find_peaks(-(chisq - chisq0), height = 10.0)\n",
    "QPO_candidates = []\n",
    "f_mask = (averaged_cross.freq > f_min) * (averaged_cross.freq < f_max) \n",
    "xdata = averaged_cross.freq[f_mask]\n",
    "ydata = averaged_cross.power[f_mask]\n",
    "sigma = averaged_cross.power_err[f_mask]\n",
    "\n",
    "popt_arr, pcov_arr = fit_peaks(xdata, ydata, sigma, freqs[peaks])\n",
    "\n",
    "sigma_arr = []\n",
    "\n",
    "for i in range(len(popt_arr)):\n",
    "    print(popt_arr[i])\n",
    "    print(np.sqrt(np.diag(pcov_arr[i])))\n",
    "    sigma_arr.append(np.sqrt(np.diag(pcov_arr[i])))\n",
    "sigma_arr = np.array(sigma_arr)\n",
    "\n",
    "for i in range(len(popt_arr)):\n",
    "    print(popt_arr[i][2]/sigma_arr[i][2])\n",
    "\n",
    "\n"
   ]
  },
  {
   "cell_type": "code",
   "execution_count": null,
   "metadata": {},
   "outputs": [],
   "source": [
    "plt.ion()\n",
    "\n",
    "plt.figure(figsize=(9,6))\n",
    "plt.errorbar(averaged_cross_log.freq, averaged_cross_log.power.real, xerr=temp_err, yerr=averaged_cross_log.power_err, fmt='none', lw=0.5)\n",
    "plt.plot(averaged_cross_log.freq, Lorentzian_power(averaged_cross_log.freq, *(popt_arr[1])), color='red')\n",
    "plt.xscale('log')\n",
    "plt.ylim((1e-5,5*np.max(averaged_cross_log.power*averaged_cross_log.freq)))\n",
    "plt.yscale('log')\n",
    "plt.xlabel('Frequency (Hz)')\n",
    "plt.ylabel('Power x Frequency')\n",
    "plt.tight_layout()\n",
    "# plt.show()\n",
    "plt.savefig(plot_dir + 'persistent/' + 'CPDS_' + str(int(split_time)) + 's_QPO_fit.pdf')\n",
    "plt.close()\n",
    "\n"
   ]
  },
  {
   "cell_type": "markdown",
   "metadata": {},
   "source": [
    "## Both Bursts"
   ]
  },
  {
   "cell_type": "code",
   "execution_count": 13,
   "metadata": {
    "scrolled": true
   },
   "outputs": [
    {
     "name": "stderr",
     "output_type": "stream",
     "text": [
      "/Users/sean/anaconda/lib/python3.6/site-packages/stingray/utils.py:118: UserWarning: SIMON says: Errorbars on cross spectra are not thoroughly tested. Please report any inconsistencies.\n",
      "  warnings.warn(\"SIMON says: {0}\".format(message), **kwargs)\n",
      "213it [00:00, 267.71it/s]\n",
      "213it [00:00, 239.28it/s]\n",
      "213it [00:00, 259.25it/s]"
     ]
    },
    {
     "name": "stdout",
     "output_type": "stream",
     "text": [
      "0.0891378913353799 +/- 0.02764548539978505\n",
      "0.16101615337482103\n"
     ]
    },
    {
     "name": "stderr",
     "output_type": "stream",
     "text": [
      "\n"
     ]
    }
   ],
   "source": [
    "bin_time = 1/2048\n",
    "split_time = 1\n",
    "\n",
    "curve_A = events[0].to_lc(dt = bin_time, pi_low=PI_min, pi_high=PI_max, centroid = centroid_A, radius = extraction_radius, gti = burst_gti)\n",
    "curve_B = events[1].to_lc(dt = bin_time, pi_low=PI_min, pi_high=PI_max, centroid = centroid_B, radius = extraction_radius, gti = burst_gti)\n",
    "\n",
    "averaged_cross = crossspec.AveragedCrossspectrum(curve_A, curve_B, segment_size=split_time, norm = 'frac')\n",
    "\n",
    "tmp_mask = (averaged_cross.freq < 590) * (averaged_cross.freq > 588)\n",
    "\n",
    "rms = np.sqrt((np.sum(averaged_cross.power[tmp_mask])*averaged_cross.df))\n",
    "rms_err = np.sqrt(np.sum(np.square(averaged_cross.power_err[tmp_mask])))*averaged_cross.df/(2*rms)\n",
    "print(str(rms) + ' +/- ' + str(rms_err))\n",
    "print(str(rms+ (2.6*rms_err)))"
   ]
  },
  {
   "cell_type": "code",
   "execution_count": 14,
   "metadata": {},
   "outputs": [],
   "source": [
    "f_res = 0.01\n",
    "averaged_cross_log = averaged_cross.rebin_log(f=f_res)\n",
    "averaged_cross_log_err = averaged_cross.df*np.power(1.+f_res, range(len(averaged_cross_log.freq)))/2.\n",
    "\n",
    "plt.figure(figsize=(9,6))\n",
    "plt.errorbar(averaged_cross_log.freq, averaged_cross_log.power*averaged_cross_log.freq, xerr=averaged_cross_log_err, yerr=averaged_cross_log.power_err*averaged_cross_log.freq, color='black', lw=0.5, fmt='none')\n",
    "plt.step(np.concatenate([averaged_cross_log.freq-averaged_cross_log_err, [averaged_cross_log.freq[-1]+averaged_cross_log_err[-1]]]), \\\n",
    "         np.concatenate([averaged_cross_log.power*averaged_cross_log.freq, [(averaged_cross_log.power*averaged_cross_log.freq)[-1]]]), where='post', color='black', lw=0.5)\n",
    "plt.xscale('log')\n",
    "plt.ylim((1e-4,5*np.max(averaged_cross_log.power*averaged_cross_log.freq)))\n",
    "plt.yscale('log')\n",
    "plt.xlabel('Frequency (Hz)')\n",
    "plt.ylabel(r'$\\mathrm{\\nu P_{\\nu}\\ (rms/mean)^{2}}$')\n",
    "plt.tight_layout()\n",
    "# plt.show()\n",
    "plt.savefig(plot_dir + 'burst/' + 'CPDS_nuPnu_' + str(int(split_time)) + 's.pdf')\n",
    "plt.close()\n",
    "\n",
    "plt.figure(figsize=(9,6))\n",
    "plt.errorbar(averaged_cross_log.freq, averaged_cross_log.power, xerr=averaged_cross_log_err, yerr=averaged_cross_log.power_err, color='black', lw=0.5, fmt='none')\n",
    "plt.step(np.concatenate([averaged_cross_log.freq-averaged_cross_log_err, [averaged_cross_log.freq[-1]+averaged_cross_log_err[-1]]]), \\\n",
    "         np.concatenate([averaged_cross_log.power, [averaged_cross_log.power[-1]]]), where='post', color='black', lw=0.5)\n",
    "plt.xscale('log')\n",
    "plt.ylim((1e-4,5*np.max(averaged_cross_log.power)))\n",
    "plt.yscale('log')\n",
    "plt.xlabel('Frequency (Hz)')\n",
    "plt.ylabel(r'$\\mathrm{Power\\ (rms/mean)^{2}/Hz}$')\n",
    "plt.tight_layout()\n",
    "# plt.show()\n",
    "plt.savefig(plot_dir + 'burst/' + 'CPDS_Pnu_' + str(int(split_time)) + 's.pdf')\n",
    "plt.close()"
   ]
  },
  {
   "cell_type": "markdown",
   "metadata": {},
   "source": [
    "### QPO search"
   ]
  },
  {
   "cell_type": "code",
   "execution_count": 31,
   "metadata": {},
   "outputs": [
    {
     "name": "stderr",
     "output_type": "stream",
     "text": [
      "  3%|▎         | 14/500 [00:00<00:03, 131.92it/s]"
     ]
    },
    {
     "name": "stdout",
     "output_type": "stream",
     "text": [
      "[ 6.34752181e-05 -2.97747291e+01]\n",
      "927.3804563075287\n",
      "0.9100887696835414\n"
     ]
    },
    {
     "name": "stderr",
     "output_type": "stream",
     "text": [
      " 40%|███▉      | 199/500 [00:02<00:02, 119.72it/s]/Users/sean/anaconda/lib/python3.6/site-packages/ipykernel_launcher.py:50: RuntimeWarning: underflow encountered in power\n",
      "/Users/sean/anaconda/lib/python3.6/site-packages/ipykernel_launcher.py:50: RuntimeWarning: underflow encountered in multiply\n",
      " 59%|█████▉    | 296/500 [00:03<00:03, 51.01it/s] "
     ]
    },
    {
     "name": "stdout",
     "output_type": "stream",
     "text": [
      "No acceptable fit\n"
     ]
    },
    {
     "name": "stderr",
     "output_type": "stream",
     "text": [
      " 90%|█████████ | 450/500 [00:05<00:01, 47.55it/s] "
     ]
    },
    {
     "name": "stdout",
     "output_type": "stream",
     "text": [
      "No acceptable fit\n"
     ]
    },
    {
     "name": "stderr",
     "output_type": "stream",
     "text": [
      " 92%|█████████▏| 460/500 [00:05<00:01, 31.57it/s]"
     ]
    },
    {
     "name": "stdout",
     "output_type": "stream",
     "text": [
      "No acceptable fit\n"
     ]
    },
    {
     "name": "stderr",
     "output_type": "stream",
     "text": [
      " 96%|█████████▌| 480/500 [00:06<00:00, 33.11it/s]"
     ]
    },
    {
     "name": "stdout",
     "output_type": "stream",
     "text": [
      "No acceptable fit\n"
     ]
    },
    {
     "name": "stderr",
     "output_type": "stream",
     "text": [
      "100%|██████████| 500/500 [00:06<00:00, 74.51it/s]\n"
     ]
    }
   ],
   "source": [
    "f_min = np.min(averaged_cross.freq)\n",
    "f_max = np.min([2000., (np.max(averaged_cross.freq))])\n",
    "freqs, chisq0, chisq, dof = QPO_scan(averaged_cross, f_min=f_min, f_max=f_max, f_bin = 500)"
   ]
  },
  {
   "cell_type": "code",
   "execution_count": 32,
   "metadata": {},
   "outputs": [
    {
     "name": "stdout",
     "output_type": "stream",
     "text": [
      "0.9127760396727644\n"
     ]
    }
   ],
   "source": [
    "print(chisq0/dof)\n",
    "plt.figure(figsize=(9,6))\n",
    "plt.plot(freqs, (chisq - chisq0))\n",
    "plt.xscale('log')\n",
    "plt.ylabel(r'$\\Delta\\chi^{2}$')\n",
    "plt.xlabel('Frequency (Hz)')\n",
    "plt.tight_layout()\n",
    "plt.savefig(plot_dir + 'burst/' + 'QPO_scan.pdf')\n",
    "plt.close()"
   ]
  },
  {
   "cell_type": "code",
   "execution_count": 34,
   "metadata": {},
   "outputs": [
    {
     "name": "stdout",
     "output_type": "stream",
     "text": [
      "[ 4.78488814e+02  7.74249578e+04  1.92991818e+00  3.10709959e-37\n",
      " -9.83456476e+00]\n",
      "[1.18730810e-01 4.07500807e+09 1.01567233e+05 4.28732548e+00\n",
      " 0.00000000e+00]\n",
      "[ 8.92769174e+02  4.43950745e+01  6.42536523e-02  1.06865842e-26\n",
      " -6.71718684e+00]\n",
      "[ 8.2706048  51.66735148  0.0528725   0.49361517  0.        ]\n",
      "1.900138582113206e-05\n",
      "1.2152564756060662\n"
     ]
    }
   ],
   "source": [
    "peaks, _ = scipy.signal.find_peaks(-(chisq - chisq0), height = 8.0)\n",
    "QPO_candidates = []\n",
    "f_mask = (averaged_cross.freq > f_min) * (averaged_cross.freq < f_max) \n",
    "xdata = averaged_cross.freq[f_mask]\n",
    "ydata = averaged_cross.power[f_mask]\n",
    "sigma = averaged_cross.power_err[f_mask]\n",
    "\n",
    "popt_arr, pcov_arr = fit_peaks(xdata, ydata, sigma, freqs[peaks])\n",
    "\n",
    "sigma_arr = []\n",
    "\n",
    "for i in range(len(popt_arr)):\n",
    "    print(popt_arr[i])\n",
    "    print(np.sqrt(np.diag(pcov_arr[i])))\n",
    "    sigma_arr.append(np.sqrt(np.diag(pcov_arr[i])))\n",
    "sigma_arr = np.array(sigma_arr)\n",
    "\n",
    "for i in range(len(popt_arr)):\n",
    "    print(popt_arr[i][2]/sigma_arr[i][2])\n",
    "\n",
    "\n"
   ]
  },
  {
   "cell_type": "code",
   "execution_count": null,
   "metadata": {},
   "outputs": [],
   "source": [
    "plt.ion()\n",
    "\n",
    "plt.figure(figsize=(9,6))\n",
    "plt.errorbar(averaged_cross_log.freq, averaged_cross_log.power.real, xerr=temp_err, yerr=averaged_cross_log.power_err, fmt='none', lw=0.5)\n",
    "plt.plot(averaged_cross_log.freq, Lorentzian_power(averaged_cross_log.freq, *(popt_arr[1])), color='red')\n",
    "plt.xscale('log')\n",
    "plt.ylim((1e-5,5*np.max(averaged_cross_log.power*averaged_cross_log.freq)))\n",
    "plt.yscale('log')\n",
    "plt.xlabel('Frequency (Hz)')\n",
    "plt.ylabel('Power x Frequency')\n",
    "plt.tight_layout()\n",
    "# plt.show()\n",
    "plt.savefig(plot_dir + 'burst/' + 'CPDS_' + str(int(split_time)) + 's_QPO_fit.pdf')\n",
    "plt.close()\n",
    "\n"
   ]
  },
  {
   "cell_type": "code",
   "execution_count": null,
   "metadata": {},
   "outputs": [],
   "source": []
  },
  {
   "cell_type": "markdown",
   "metadata": {},
   "source": [
    "## Burst 1"
   ]
  },
  {
   "cell_type": "code",
   "execution_count": 37,
   "metadata": {
    "scrolled": true
   },
   "outputs": [
    {
     "name": "stderr",
     "output_type": "stream",
     "text": [
      "115it [00:00, 251.46it/s]\n",
      "115it [00:00, 264.21it/s]\n",
      "115it [00:00, 266.42it/s]"
     ]
    },
    {
     "name": "stdout",
     "output_type": "stream",
     "text": [
      "0.12066925364657918 +/- 0.032147287839382484\n",
      "0.20425220202897365\n"
     ]
    },
    {
     "name": "stderr",
     "output_type": "stream",
     "text": [
      "\n"
     ]
    }
   ],
   "source": [
    "bin_time = 1/2048\n",
    "split_time = 1\n",
    "\n",
    "curve_A = events[0].to_lc(dt = bin_time, pi_low=PI_min, pi_high=PI_max, centroid = centroid_A, radius = extraction_radius, gti = burst1_gti)\n",
    "curve_B = events[1].to_lc(dt = bin_time, pi_low=PI_min, pi_high=PI_max, centroid = centroid_B, radius = extraction_radius, gti = burst1_gti)\n",
    "\n",
    "averaged_cross = crossspec.AveragedCrossspectrum(curve_A, curve_B, segment_size=split_time, norm = 'frac')\n",
    "\n",
    "tmp_mask = (averaged_cross.freq < 590) * (averaged_cross.freq > 588)\n",
    "\n",
    "rms = np.sqrt((np.sum(averaged_cross.power[tmp_mask])*averaged_cross.df))\n",
    "rms_err = np.sqrt(np.sum(np.square(averaged_cross.power_err[tmp_mask])))*averaged_cross.df/(2*rms)\n",
    "print(str(rms) + ' +/- ' + str(rms_err))\n",
    "print(str(rms+ (2.6*rms_err)))"
   ]
  },
  {
   "cell_type": "code",
   "execution_count": 23,
   "metadata": {},
   "outputs": [],
   "source": [
    "# f_res = 0.01\n",
    "# averaged_cross_log = averaged_cross.rebin_log(f=f_res)\n",
    "# averaged_cross_log_err = averaged_cross.df*np.power(1.+f_res, range(len(averaged_cross_log.freq)))/2.\n",
    "\n",
    "plt.figure(figsize=(9,6))\n",
    "plt.errorbar(averaged_cross_log.freq, averaged_cross_log.power*averaged_cross_log.freq, xerr=averaged_cross_log_err, yerr=averaged_cross_log.power_err*averaged_cross_log.freq, color='black', lw=0.5, fmt='none')\n",
    "plt.step(np.concatenate([averaged_cross_log.freq-averaged_cross_log_err, [averaged_cross_log.freq[-1]+averaged_cross_log_err[-1]]]), \\\n",
    "         np.concatenate([averaged_cross_log.power*averaged_cross_log.freq, [(averaged_cross_log.power*averaged_cross_log.freq)[-1]]]), where='post', color='black', lw=0.5)\n",
    "plt.xscale('log')\n",
    "plt.ylim((1e-4,5*np.max(averaged_cross_log.power*averaged_cross_log.freq)))\n",
    "plt.yscale('log')\n",
    "plt.xlabel('Frequency (Hz)')\n",
    "plt.ylabel(r'$\\mathrm{\\nu P_{\\nu}\\ (rms/mean)^{2}}$')\n",
    "plt.tight_layout()\n",
    "# plt.show()\n",
    "plt.savefig(plot_dir + 'burst/burst1/' + 'CPDS_nuPnu_' + str(int(split_time)) + 's.pdf')\n",
    "plt.close()\n",
    "\n",
    "plt.figure(figsize=(9,6))\n",
    "plt.errorbar(averaged_cross_log.freq, averaged_cross_log.power, xerr=averaged_cross_log_err, yerr=averaged_cross_log.power_err, color='black', lw=0.5, fmt='none')\n",
    "plt.step(np.concatenate([averaged_cross_log.freq-averaged_cross_log_err, [averaged_cross_log.freq[-1]+averaged_cross_log_err[-1]]]), \\\n",
    "         np.concatenate([averaged_cross_log.power, [averaged_cross_log.power[-1]]]), where='post', color='black', lw=0.5)\n",
    "plt.xscale('log')\n",
    "plt.ylim((1e-4,5*np.max(averaged_cross_log.power)))\n",
    "plt.yscale('log')\n",
    "plt.xlabel('Frequency (Hz)')\n",
    "plt.ylabel(r'$\\mathrm{Power\\ (rms/mean)^{2}/Hz}$')\n",
    "plt.tight_layout()\n",
    "# plt.show()\n",
    "plt.savefig(plot_dir + 'burst/burst1/' + 'CPDS_Pnu_' + str(int(split_time)) + 's.pdf')\n",
    "plt.close()"
   ]
  },
  {
   "cell_type": "markdown",
   "metadata": {},
   "source": [
    "## Burst 2"
   ]
  },
  {
   "cell_type": "code",
   "execution_count": 38,
   "metadata": {
    "scrolled": true
   },
   "outputs": [
    {
     "name": "stderr",
     "output_type": "stream",
     "text": [
      "98it [00:00, 260.36it/s]\n",
      "98it [00:00, 278.61it/s]\n",
      "98it [00:00, 281.06it/s]"
     ]
    },
    {
     "name": "stdout",
     "output_type": "stream",
     "text": [
      "0.043183257968433225 +/- 0.06532526949526594\n",
      "0.2130289586561247\n"
     ]
    },
    {
     "name": "stderr",
     "output_type": "stream",
     "text": [
      "\n"
     ]
    }
   ],
   "source": [
    "bin_time = 1/2048\n",
    "split_time = 1\n",
    "\n",
    "curve_A = events[0].to_lc(dt = bin_time, pi_low=PI_min, pi_high=PI_max, centroid = centroid_A, radius = extraction_radius, gti = burst2_gti)\n",
    "curve_B = events[1].to_lc(dt = bin_time, pi_low=PI_min, pi_high=PI_max, centroid = centroid_B, radius = extraction_radius, gti = burst2_gti)\n",
    "\n",
    "averaged_cross = crossspec.AveragedCrossspectrum(curve_A, curve_B, segment_size=split_time, norm = 'frac')\n",
    "\n",
    "tmp_mask = (averaged_cross.freq < 590) * (averaged_cross.freq > 588)\n",
    "\n",
    "rms = np.sqrt((np.sum(averaged_cross.power[tmp_mask])*averaged_cross.df))\n",
    "rms_err = np.sqrt(np.sum(np.square(averaged_cross.power_err[tmp_mask])))*averaged_cross.df/(2*rms)\n",
    "print(str(rms) + ' +/- ' + str(rms_err))\n",
    "print(str(rms+ (2.6*rms_err)))"
   ]
  },
  {
   "cell_type": "code",
   "execution_count": 25,
   "metadata": {},
   "outputs": [],
   "source": [
    "f_res = 0.01\n",
    "averaged_cross_log = averaged_cross.rebin_log(f=f_res)\n",
    "averaged_cross_log_err = averaged_cross.df*np.power(1.+f_res, range(len(averaged_cross_log.freq)))/2.\n",
    "\n",
    "plt.figure(figsize=(9,6))\n",
    "plt.errorbar(averaged_cross_log.freq, averaged_cross_log.power*averaged_cross_log.freq, xerr=averaged_cross_log_err, yerr=averaged_cross_log.power_err*averaged_cross_log.freq, color='black', lw=0.5, fmt='none')\n",
    "plt.step(np.concatenate([averaged_cross_log.freq-averaged_cross_log_err, [averaged_cross_log.freq[-1]+averaged_cross_log_err[-1]]]), \\\n",
    "         np.concatenate([averaged_cross_log.power*averaged_cross_log.freq, [(averaged_cross_log.power*averaged_cross_log.freq)[-1]]]), where='post', color='black', lw=0.5)\n",
    "plt.xscale('log')\n",
    "plt.ylim((1e-4,5*np.max(averaged_cross_log.power*averaged_cross_log.freq)))\n",
    "plt.yscale('log')\n",
    "plt.xlabel('Frequency (Hz)')\n",
    "plt.ylabel(r'$\\mathrm{\\nu P_{\\nu}\\ (rms/mean)^{2}}$')\n",
    "plt.tight_layout()\n",
    "# plt.show()\n",
    "plt.savefig(plot_dir + 'burst/burst2/' + 'CPDS_nuPnu_' + str(int(split_time)) + 's.pdf')\n",
    "plt.close()\n",
    "\n",
    "plt.figure(figsize=(9,6))\n",
    "plt.errorbar(averaged_cross_log.freq, averaged_cross_log.power, xerr=averaged_cross_log_err, yerr=averaged_cross_log.power_err, color='black', lw=0.5, fmt='none')\n",
    "plt.step(np.concatenate([averaged_cross_log.freq-averaged_cross_log_err, [averaged_cross_log.freq[-1]+averaged_cross_log_err[-1]]]), \\\n",
    "         np.concatenate([averaged_cross_log.power, [averaged_cross_log.power[-1]]]), where='post', color='black', lw=0.5)\n",
    "plt.xscale('log')\n",
    "plt.ylim((1e-4,5*np.max(averaged_cross_log.power)))\n",
    "plt.yscale('log')\n",
    "plt.xlabel('Frequency (Hz)')\n",
    "plt.ylabel(r'$\\mathrm{Power\\ (rms/mean)^{2}/Hz}$')\n",
    "plt.tight_layout()\n",
    "# plt.show()\n",
    "plt.savefig(plot_dir + 'burst/burst2/' + 'CPDS_Pnu_' + str(int(split_time)) + 's.pdf')\n",
    "plt.close()"
   ]
  },
  {
   "cell_type": "markdown",
   "metadata": {},
   "source": [
    "# Pre-burst emission"
   ]
  },
  {
   "cell_type": "code",
   "execution_count": 35,
   "metadata": {
    "scrolled": true
   },
   "outputs": [
    {
     "name": "stderr",
     "output_type": "stream",
     "text": [
      "/Users/sean/anaconda/lib/python3.6/site-packages/stingray/utils.py:118: UserWarning: SIMON says: Errorbars on cross spectra are not thoroughly tested. Please report any inconsistencies.\n",
      "  warnings.warn(\"SIMON says: {0}\".format(message), **kwargs)\n",
      "18it [00:05,  3.01it/s]\n",
      "18it [00:04,  3.81it/s]\n",
      "18it [00:04,  3.82it/s]\n"
     ]
    }
   ],
   "source": [
    "bin_time = 1/2048\n",
    "split_time = 256\n",
    "\n",
    "PI_min = 35     # 3.0 keV\n",
    "PI_max = 260     # 12.0 keV\n",
    "\n",
    "curve_A = events[0].to_lc(dt = bin_time, pi_low=PI_min, pi_high=PI_max, centroid = centroid_A, radius = extraction_radius, gti = pre_burst1_gti)\n",
    "curve_B = events[1].to_lc(dt = bin_time, pi_low=PI_min, pi_high=PI_max, centroid = centroid_B, radius = extraction_radius, gti = pre_burst1_gti)\n",
    "\n",
    "averaged_cross = crossspec.AveragedCrossspectrum(curve_A, curve_B, segment_size=split_time, norm = 'frac')\n"
   ]
  },
  {
   "cell_type": "code",
   "execution_count": 36,
   "metadata": {},
   "outputs": [],
   "source": [
    "f_res = 0.1\n",
    "averaged_cross_log = averaged_cross.rebin_log(f=f_res)\n",
    "averaged_cross_log_err = averaged_cross.df*np.power(1.+f_res, range(len(averaged_cross_log.freq)))/2.\n",
    "\n",
    "plt.figure(figsize=(9,6))\n",
    "plt.errorbar(averaged_cross_log.freq, averaged_cross_log.power*averaged_cross_log.freq, xerr=averaged_cross_log_err, yerr=averaged_cross_log.power_err*averaged_cross_log.freq, color='black', lw=0.5, fmt='none')\n",
    "plt.step(np.concatenate([averaged_cross_log.freq-averaged_cross_log_err, [averaged_cross_log.freq[-1]+averaged_cross_log_err[-1]]]), \\\n",
    "         np.concatenate([averaged_cross_log.power*averaged_cross_log.freq, [(averaged_cross_log.power*averaged_cross_log.freq)[-1]]]), where='post', color='black', lw=0.5)\n",
    "plt.xscale('log')\n",
    "plt.ylim((1e-5,5*np.max(averaged_cross_log.power*averaged_cross_log.freq)))\n",
    "plt.yscale('log')\n",
    "plt.xlabel('Frequency (Hz)')\n",
    "plt.ylabel(r'$\\mathrm{\\nu P_{\\nu}\\ (rms/mean)^{2}}$')\n",
    "plt.tight_layout()\n",
    "# plt.show()\n",
    "plt.savefig(plot_dir + 'persistent/preburst1/' + 'CPDS_nuPnu_' + str(int(split_time)) + 's.pdf')\n",
    "plt.close()\n",
    "\n",
    "plt.figure(figsize=(9,6))\n",
    "plt.errorbar(averaged_cross_log.freq, averaged_cross_log.power, xerr=averaged_cross_log_err, yerr=averaged_cross_log.power_err, color='black', lw=0.5, fmt='none')\n",
    "plt.step(np.concatenate([averaged_cross_log.freq-averaged_cross_log_err, [averaged_cross_log.freq[-1]+averaged_cross_log_err[-1]]]), \\\n",
    "         np.concatenate([averaged_cross_log.power, [averaged_cross_log.power[-1]]]), where='post', color='black', lw=0.5)\n",
    "plt.xscale('log')\n",
    "plt.ylim((1e-5,5*np.max(averaged_cross_log.power)))\n",
    "plt.yscale('log')\n",
    "plt.xlabel('Frequency (Hz)')\n",
    "plt.ylabel(r'$\\mathrm{Power\\ (rms/mean)^{2}/Hz}$')\n",
    "plt.tight_layout()\n",
    "# plt.show()\n",
    "plt.savefig(plot_dir + 'persistent/preburst1/' + 'CPDS_Pnu_' + str(int(split_time)) + 's.pdf')\n",
    "plt.close()"
   ]
  },
  {
   "cell_type": "code",
   "execution_count": 17,
   "metadata": {},
   "outputs": [
    {
     "data": {
      "image/png": "[encoded data removed]",
      "text/plain": [
       "<Figure size 648x432 with 1 Axes>"
      ]
     },
     "metadata": {
      "needs_background": "light"
     },
     "output_type": "display_data"
    },
    {
     "data": {
      "image/png": "[encoded data removed]",
      "text/plain": [
       "<Figure size 648x432 with 1 Axes>"
      ]
     },
     "metadata": {
      "needs_background": "light"
     },
     "output_type": "display_data"
    },
    {
     "data": {
      "image/png": "[encoded data removed]",
      "text/plain": [
       "<Figure size 648x432 with 1 Axes>"
      ]
     },
     "metadata": {
      "needs_background": "light"
     },
     "output_type": "display_data"
    },
    {
     "data": {
      "image/png": "[encoded data removed]",
      "text/plain": [
       "<Figure size 648x432 with 1 Axes>"
      ]
     },
     "metadata": {
      "needs_background": "light"
     },
     "output_type": "display_data"
    }
   ],
   "source": [
    "temp_mask = (curve_total.time < pre_burst1_gti[0][1]) * (curve_total.time > pre_burst1_gti[0][0])\n",
    "## Calculate Lomb-Scargle\n",
    "ls1 = LombScargle(curve_total.time[temp_mask]-t_start, curve_total.countrate[temp_mask], dy=curve_total.countrate_err[temp_mask])\n",
    "frequency, power = ls1.autopower()\n",
    "plt.figure(figsize=(9,6))\n",
    "plt.plot(frequency, power, rasterized=True)\n",
    "plt.xscale('log')\n",
    "plt.xlabel('Frequency (Hz)')\n",
    "plt.ylabel('Lomb-Scargle Power')\n",
    "plt.axhline(ls1.false_alarm_level([1-0.68]))\n",
    "plt.axhline(ls1.false_alarm_level([1-0.997]))\n",
    "plt.tight_layout()\n",
    "plt.savefig(plot_dir + 'persistent/preburst1/lomb_scargle.pdf')\n",
    "\n",
    "## Calculate Lomb-Scargle on window\n",
    "frequency, power = LombScargle(curve_total.time[temp_mask]-t_start, np.ones(np.shape(curve_total.countrate[temp_mask])), fit_mean=False, center_data=False).autopower()\n",
    "plt.figure(figsize=(9,6))\n",
    "plt.plot(frequency, power, rasterized=True)\n",
    "plt.xscale('log')\n",
    "plt.xlabel('Frequency (Hz)')\n",
    "plt.ylabel('Lomb-Scargle Power')\n",
    "plt.tight_layout()\n",
    "plt.savefig(plot_dir + 'persistent/preburst1/lomb_scargle_window.pdf')\n",
    "\n",
    "\n",
    "\n",
    "\n",
    "temp_mask = (curve_total.time < pre_burst2_gti[0][1]) * (curve_total.time > pre_burst2_gti[0][0])\n",
    "## Calculate Lomb-Scargle\n",
    "ls2 = LombScargle(curve_total.time[temp_mask]-t_start, curve_total.countrate[temp_mask], dy=curve_total.countrate_err[temp_mask])\n",
    "frequency, power = ls2.autopower()\n",
    "plt.figure(figsize=(9,6))\n",
    "plt.plot(frequency, power, rasterized=True)\n",
    "plt.xscale('log')\n",
    "plt.xlabel('Frequency (Hz)')\n",
    "plt.ylabel('Lomb-Scargle Power')\n",
    "plt.axhline(ls2.false_alarm_level([1-0.68]))\n",
    "plt.axhline(ls2.false_alarm_level([1-0.997]))\n",
    "plt.tight_layout()\n",
    "plt.savefig(plot_dir + 'persistent/preburst2/lomb_scargle.pdf')\n",
    "\n",
    "## Calculate Lomb-Scargle on window\n",
    "frequency, power = LombScargle(curve_total.time[temp_mask]-t_start, np.ones(np.shape(curve_total.countrate[temp_mask])), fit_mean=False, center_data=False).autopower()\n",
    "plt.figure(figsize=(9,6))\n",
    "plt.plot(frequency, power, rasterized=True)\n",
    "plt.xscale('log')\n",
    "plt.xlabel('Frequency (Hz)')\n",
    "plt.ylabel('Lomb-Scargle Power')\n",
    "plt.tight_layout()\n",
    "plt.savefig(plot_dir + 'persistent/preburst2/lomb_scargle_window.pdf')\n",
    "\n",
    "\n",
    "\n"
   ]
  },
  {
   "cell_type": "markdown",
   "metadata": {},
   "source": [
    "# Model continuum"
   ]
  },
  {
   "cell_type": "code",
   "execution_count": 47,
   "metadata": {},
   "outputs": [
    {
     "data": {
      "image/png": "[encoded data removed]",
      "text/plain": [
       "<Figure size 648x432 with 1 Axes>"
      ]
     },
     "metadata": {
      "needs_background": "light"
     },
     "output_type": "display_data"
    }
   ],
   "source": [
    "n_L, popt_list, pcov_list, chisq0, chisq = model_continuum_noise(averaged_cross, plot=True, plot_dir=plot_dir + 'persistent/preburst1', f_res=f_res, rebinned_cospec= averaged_cross_log, pl=True)\n",
    "\n",
    "del_chisq = np.array(chisq) - chisq0\n",
    "\n",
    "plt.figure(figsize=(9,6))\n",
    "plt.plot(np.array(range(n_L)) + 1, -del_chisq)\n",
    "plt.xlabel('N_Lorentzians')\n",
    "plt.ylabel(r'$\\Delta\\chi^{2}$')\n",
    "# plt.yscale('log')\n",
    "plt.tight_layout()\n",
    "plt.show()\n",
    "plt.close()\n"
   ]
  },
  {
   "cell_type": "markdown",
   "metadata": {},
   "source": [
    "### QPO search"
   ]
  },
  {
   "cell_type": "code",
   "execution_count": 37,
   "metadata": {},
   "outputs": [
    {
     "name": "stderr",
     "output_type": "stream",
     "text": [
      "  0%|          | 0/500 [00:00<?, ?it/s]"
     ]
    },
    {
     "name": "stdout",
     "output_type": "stream",
     "text": [
      "[ 1.89823592e-16 -6.71479865e+00]\n",
      "258484.7380231236\n",
      "0.9860598309413082\n"
     ]
    },
    {
     "name": "stderr",
     "output_type": "stream",
     "text": [
      "100%|██████████| 500/500 [45:07<00:00,  5.41s/it]\n"
     ]
    }
   ],
   "source": [
    "f_min = np.min(averaged_cross.freq)\n",
    "f_max = np.min([2000., (np.max(averaged_cross.freq))])\n",
    "freqs, chisq0, chisq, dof = QPO_scan(averaged_cross, f_min=f_min, f_max=f_max, f_bin = 500)"
   ]
  },
  {
   "cell_type": "code",
   "execution_count": 38,
   "metadata": {},
   "outputs": [
    {
     "name": "stdout",
     "output_type": "stream",
     "text": [
      "0.9860711158449186\n"
     ]
    }
   ],
   "source": [
    "print(chisq0/dof)\n",
    "plt.figure(figsize=(9,6))\n",
    "plt.plot(freqs, (chisq - chisq0))\n",
    "plt.xscale('log')\n",
    "plt.ylabel(r'$\\Delta\\chi^{2}$')\n",
    "plt.xlabel('Frequency (Hz)')\n",
    "plt.tight_layout()\n",
    "plt.savefig(plot_dir + 'persistent/preburst1/' + 'QPO_scan.pdf')\n",
    "plt.close()"
   ]
  },
  {
   "cell_type": "code",
   "execution_count": 39,
   "metadata": {},
   "outputs": [
    {
     "name": "stdout",
     "output_type": "stream",
     "text": [
      "[ 1.62513644e+00  5.52484793e+00  2.03777637e-03  4.90923165e-16\n",
      " -7.62648189e-01]\n",
      "[1.48635806e-01 7.99602087e+00 2.09871987e-03 2.92157889e-04\n",
      " 2.31755935e-17]\n",
      "[ 1.44374834e+01  1.13000702e+01  3.52744604e-03  4.17948653e-15\n",
      " -7.15384435e-01]\n",
      "[7.77218836e-01 1.94997806e+01 4.31147745e-03 3.32768458e-04\n",
      " 1.96723322e-11]\n",
      "[ 2.21312021e+01  1.40411264e+01  3.75852941e-03  2.53355142e-15\n",
      " -7.56952365e-01]\n",
      "[9.99478458e-01 2.52167419e+01 4.77565819e-03 2.92628943e-04\n",
      " 1.92326669e-15]\n",
      "[ 3.96091070e+02  2.44092961e+01  1.67832590e-33  1.58680096e-15\n",
      " -6.27343993e+00]\n",
      "[0.00000000e+00 0.00000000e+00 1.57653743e-33 1.45752474e-15\n",
      " 1.12157418e-29]\n",
      "0.9709615837832312\n",
      "0.8181524965462198\n",
      "0.787018094193311\n",
      "1.0645645758867743\n"
     ]
    }
   ],
   "source": [
    "peaks, _ = scipy.signal.find_peaks(-(chisq - chisq0), height = 10.0)\n",
    "QPO_candidates = []\n",
    "f_mask = (averaged_cross.freq > f_min) * (averaged_cross.freq < f_max) \n",
    "xdata = averaged_cross.freq[f_mask]\n",
    "ydata = averaged_cross.power[f_mask]\n",
    "sigma = averaged_cross.power_err[f_mask]\n",
    "\n",
    "popt_arr, pcov_arr = fit_peaks(xdata, ydata, sigma, freqs[peaks])\n",
    "\n",
    "sigma_arr = []\n",
    "\n",
    "for i in range(len(popt_arr)):\n",
    "    print(popt_arr[i])\n",
    "    print(np.sqrt(np.diag(pcov_arr[i])))\n",
    "    sigma_arr.append(np.sqrt(np.diag(pcov_arr[i])))\n",
    "sigma_arr = np.array(sigma_arr)\n",
    "\n",
    "for i in range(len(popt_arr)):\n",
    "    print(popt_arr[i][2]/sigma_arr[i][2])\n",
    "\n",
    "\n"
   ]
  },
  {
   "cell_type": "code",
   "execution_count": null,
   "metadata": {},
   "outputs": [],
   "source": [
    "plt.ion()\n",
    "\n",
    "plt.figure(figsize=(9,6))\n",
    "plt.errorbar(averaged_cross_log.freq, averaged_cross_log.power.real, xerr=temp_err, yerr=averaged_cross_log.power_err, fmt='none', lw=0.5)\n",
    "plt.plot(averaged_cross_log.freq, Lorentzian_power(averaged_cross_log.freq, *(popt_arr[1])), color='red')\n",
    "plt.xscale('log')\n",
    "plt.ylim((1e-5,5*np.max(averaged_cross_log.power*averaged_cross_log.freq)))\n",
    "plt.yscale('log')\n",
    "plt.xlabel('Frequency (Hz)')\n",
    "plt.ylabel('Power x Frequency')\n",
    "plt.tight_layout()\n",
    "# plt.show()\n",
    "plt.savefig(plot_dir + 'persistent/preburst1/' + 'CPDS_' + str(int(split_time)) + 's_QPO_fit.pdf')\n",
    "plt.close()\n",
    "\n"
   ]
  },
  {
   "cell_type": "markdown",
   "metadata": {},
   "source": [
    "# Pre-burst emission"
   ]
  },
  {
   "cell_type": "code",
   "execution_count": 40,
   "metadata": {
    "scrolled": true
   },
   "outputs": [
    {
     "name": "stderr",
     "output_type": "stream",
     "text": [
      "/Users/sean/anaconda/lib/python3.6/site-packages/stingray/utils.py:118: UserWarning: SIMON says: Errorbars on cross spectra are not thoroughly tested. Please report any inconsistencies.\n",
      "  warnings.warn(\"SIMON says: {0}\".format(message), **kwargs)\n",
      "16it [00:05,  3.05it/s]\n",
      "16it [00:04,  3.49it/s]\n",
      "16it [00:04,  3.38it/s]\n"
     ]
    }
   ],
   "source": [
    "bin_time = 1/2048\n",
    "split_time = 256\n",
    "\n",
    "PI_min = 35     # 3.0 keV\n",
    "PI_max = 260     # 12.0 keV\n",
    "\n",
    "curve_A = events[0].to_lc(dt = bin_time, pi_low=PI_min, pi_high=PI_max, centroid = centroid_A, radius = extraction_radius, gti = pre_burst2_gti)\n",
    "curve_B = events[1].to_lc(dt = bin_time, pi_low=PI_min, pi_high=PI_max, centroid = centroid_B, radius = extraction_radius, gti = pre_burst2_gti)\n",
    "\n",
    "averaged_cross = crossspec.AveragedCrossspectrum(curve_A, curve_B, segment_size=split_time, norm = 'frac')\n"
   ]
  },
  {
   "cell_type": "code",
   "execution_count": 41,
   "metadata": {},
   "outputs": [],
   "source": [
    "f_res = 0.1\n",
    "averaged_cross_log = averaged_cross.rebin_log(f=f_res)\n",
    "averaged_cross_log_err = averaged_cross.df*np.power(1.+f_res, range(len(averaged_cross_log.freq)))/2.\n",
    "\n",
    "plt.figure(figsize=(9,6))\n",
    "plt.errorbar(averaged_cross_log.freq, averaged_cross_log.power*averaged_cross_log.freq, xerr=averaged_cross_log_err, yerr=averaged_cross_log.power_err*averaged_cross_log.freq, color='black', lw=0.5, fmt='none')\n",
    "plt.step(np.concatenate([averaged_cross_log.freq-averaged_cross_log_err, [averaged_cross_log.freq[-1]+averaged_cross_log_err[-1]]]), \\\n",
    "         np.concatenate([averaged_cross_log.power*averaged_cross_log.freq, [(averaged_cross_log.power*averaged_cross_log.freq)[-1]]]), where='post', color='black', lw=0.5)\n",
    "plt.xscale('log')\n",
    "plt.ylim((1e-5,5*np.max(averaged_cross_log.power*averaged_cross_log.freq)))\n",
    "plt.yscale('log')\n",
    "plt.xlabel('Frequency (Hz)')\n",
    "plt.ylabel(r'$\\mathrm{\\nu P_{\\nu}\\ (rms/mean)^{2}}$')\n",
    "plt.tight_layout()\n",
    "# plt.show()\n",
    "plt.savefig(plot_dir + 'persistent/preburst2/' + 'CPDS_nuPnu_' + str(int(split_time)) + 's.pdf')\n",
    "plt.close()\n",
    "\n",
    "plt.figure(figsize=(9,6))\n",
    "plt.errorbar(averaged_cross_log.freq, averaged_cross_log.power, xerr=averaged_cross_log_err, yerr=averaged_cross_log.power_err, color='black', lw=0.5, fmt='none')\n",
    "plt.step(np.concatenate([averaged_cross_log.freq-averaged_cross_log_err, [averaged_cross_log.freq[-1]+averaged_cross_log_err[-1]]]), \\\n",
    "         np.concatenate([averaged_cross_log.power, [averaged_cross_log.power[-1]]]), where='post', color='black', lw=0.5)\n",
    "plt.xscale('log')\n",
    "plt.ylim((1e-5,5*np.max(averaged_cross_log.power)))\n",
    "plt.yscale('log')\n",
    "plt.xlabel('Frequency (Hz)')\n",
    "plt.ylabel(r'$\\mathrm{Power\\ (rms/mean)^{2}/Hz}$')\n",
    "plt.tight_layout()\n",
    "# plt.show()\n",
    "plt.savefig(plot_dir + 'persistent/preburst2/' + 'CPDS_Pnu_' + str(int(split_time)) + 's.pdf')\n",
    "plt.close()"
   ]
  },
  {
   "cell_type": "markdown",
   "metadata": {},
   "source": [
    "# Model continuum"
   ]
  },
  {
   "cell_type": "code",
   "execution_count": 50,
   "metadata": {},
   "outputs": [
    {
     "data": {
      "image/png": "[encoded data removed]",
      "text/plain": [
       "<Figure size 648x432 with 1 Axes>"
      ]
     },
     "metadata": {
      "needs_background": "light"
     },
     "output_type": "display_data"
    }
   ],
   "source": [
    "n_L, popt_list, pcov_list, chisq0, chisq = model_continuum_noise(averaged_cross, plot=True, plot_dir=plot_dir + 'persistent/preburst2/', f_res=f_res, rebinned_cospec= averaged_cross_log, pl=True)\n",
    "\n",
    "del_chisq = np.array(chisq) - chisq0\n",
    "\n",
    "plt.figure(figsize=(9,6))\n",
    "plt.plot(np.array(range(n_L)) + 1, -del_chisq)\n",
    "plt.xlabel('N_Lorentzians')\n",
    "plt.ylabel(r'$\\Delta\\chi^{2}$')\n",
    "# plt.yscale('log')\n",
    "plt.tight_layout()\n",
    "plt.show()\n",
    "plt.close()\n"
   ]
  },
  {
   "cell_type": "markdown",
   "metadata": {},
   "source": [
    "### QPO search"
   ]
  },
  {
   "cell_type": "code",
   "execution_count": 42,
   "metadata": {},
   "outputs": [
    {
     "name": "stderr",
     "output_type": "stream",
     "text": [
      "  0%|          | 0/500 [00:00<?, ?it/s]"
     ]
    },
    {
     "name": "stdout",
     "output_type": "stream",
     "text": [
      "[ 7.66475982e-04 -8.85610742e-01]\n",
      "258635.61320319245\n",
      "0.9866353850559911\n"
     ]
    },
    {
     "name": "stderr",
     "output_type": "stream",
     "text": [
      "100%|██████████| 500/500 [06:18<00:00,  1.32it/s]\n"
     ]
    }
   ],
   "source": [
    "f_min = np.min(averaged_cross.freq)\n",
    "f_max = np.min([2000., (np.max(averaged_cross.freq))])\n",
    "freqs, chisq0, chisq, dof = QPO_scan(averaged_cross, f_min=f_min, f_max=f_max, f_bin = 500)"
   ]
  },
  {
   "cell_type": "code",
   "execution_count": 43,
   "metadata": {},
   "outputs": [
    {
     "name": "stdout",
     "output_type": "stream",
     "text": [
      "0.9866466765464966\n"
     ]
    }
   ],
   "source": [
    "print(chisq0/dof)\n",
    "plt.figure(figsize=(9,6))\n",
    "plt.plot(freqs, (chisq - chisq0))\n",
    "plt.xscale('log')\n",
    "plt.ylabel(r'$\\Delta\\chi^{2}$')\n",
    "plt.xlabel('Frequency (Hz)')\n",
    "plt.tight_layout()\n",
    "plt.savefig(plot_dir + 'persistent/preburst2/' + 'QPO_scan.pdf')\n",
    "plt.close()"
   ]
  },
  {
   "cell_type": "code",
   "execution_count": 44,
   "metadata": {},
   "outputs": [
    {
     "name": "stdout",
     "output_type": "stream",
     "text": [
      "[ 1.93929630e-02  5.25584745e+01  6.18241160e-05  6.78916501e-04\n",
      " -8.67053189e-01]\n",
      "[1.15911590e-01 2.49783362e+04 2.90064016e-02 4.88005960e-04\n",
      " 1.82814576e-01]\n",
      "[ 9.53325732e+01  5.15269367e+02  2.24027022e-03  7.56428814e-04\n",
      " -8.88876351e-01]\n",
      "[5.55862319e-02 4.37889576e+02 1.34629574e-03 4.78010942e-04\n",
      " 1.57238394e-01]\n",
      "[ 1.37423817e+02  1.22844455e+01  3.93207712e-03  7.52806938e-04\n",
      " -8.90067156e-01]\n",
      "[1.48902169e+01 4.63714492e+01 1.05122193e-02 4.79484136e-04\n",
      " 1.58388397e-01]\n",
      "[ 2.88667373e+02  1.00000013e+00  1.46142699e-09  7.66865117e-04\n",
      " -8.85478836e-01]\n",
      "[1.85790615e-13 1.11922969e-10 3.88105034e-02 4.88988172e-04\n",
      " 1.58899648e-01]\n",
      "[ 3.10888042e+02  7.51028152e+01  1.43384874e-02  7.40936837e-04\n",
      " -8.94049366e-01]\n",
      "[9.19118942e-01 4.71752513e+01 6.36977913e-03 4.76182841e-04\n",
      " 1.59498249e-01]\n",
      "0.002131395575897871\n",
      "1.6640253338365796\n",
      "0.3740482393703906\n",
      "3.7655450558482836e-08\n",
      "2.2510179929777387\n"
     ]
    }
   ],
   "source": [
    "peaks, _ = scipy.signal.find_peaks(-(chisq - chisq0), height = 10.0)\n",
    "QPO_candidates = []\n",
    "f_mask = (averaged_cross.freq > f_min) * (averaged_cross.freq < f_max) \n",
    "xdata = averaged_cross.freq[f_mask]\n",
    "ydata = averaged_cross.power[f_mask]\n",
    "sigma = averaged_cross.power_err[f_mask]\n",
    "\n",
    "popt_arr, pcov_arr = fit_peaks(xdata, ydata, sigma, freqs[peaks])\n",
    "\n",
    "sigma_arr = []\n",
    "\n",
    "for i in range(len(popt_arr)):\n",
    "    print(popt_arr[i])\n",
    "    print(np.sqrt(np.diag(pcov_arr[i])))\n",
    "    sigma_arr.append(np.sqrt(np.diag(pcov_arr[i])))\n",
    "sigma_arr = np.array(sigma_arr)\n",
    "\n",
    "for i in range(len(popt_arr)):\n",
    "    print(popt_arr[i][2]/sigma_arr[i][2])\n",
    "\n",
    "\n"
   ]
  },
  {
   "cell_type": "code",
   "execution_count": null,
   "metadata": {},
   "outputs": [],
   "source": [
    "plt.ion()\n",
    "\n",
    "plt.figure(figsize=(9,6))\n",
    "plt.errorbar(averaged_cross_log.freq, averaged_cross_log.power.real, xerr=temp_err, yerr=averaged_cross_log.power_err, fmt='none', lw=0.5)\n",
    "plt.plot(averaged_cross_log.freq, Lorentzian_power(averaged_cross_log.freq, *(popt_arr[1])), color='red')\n",
    "plt.xscale('log')\n",
    "plt.ylim((1e-5,5*np.max(averaged_cross_log.power*averaged_cross_log.freq)))\n",
    "plt.yscale('log')\n",
    "plt.xlabel('Frequency (Hz)')\n",
    "plt.ylabel('Power x Frequency')\n",
    "plt.tight_layout()\n",
    "# plt.show()\n",
    "plt.savefig(plot_dir + 'persistent/preburst2/' + 'CPDS_' + str(int(split_time)) + 's_QPO_fit.pdf')\n",
    "plt.close()\n",
    "\n"
   ]
  },
  {
   "cell_type": "code",
   "execution_count": null,
   "metadata": {},
   "outputs": [],
   "source": []
  }
 ],
 "metadata": {
  "anaconda-cloud": {},
  "kernelspec": {
   "display_name": "Python 3",
   "language": "python",
   "name": "python3"
  },
  "language_info": {
   "codemirror_mode": {
    "name": "ipython",
    "version": 3
   },
   "file_extension": ".py",
   "mimetype": "text/x-python",
   "name": "python",
   "nbconvert_exporter": "python",
   "pygments_lexer": "ipython3",
   "version": "3.6.11"
  },
  "varInspector": {
   "cols": {
    "lenName": 16,
    "lenType": 16,
    "lenVar": 40
   },
   "kernels_config": {
    "python": {
     "delete_cmd_postfix": "",
     "delete_cmd_prefix": "del ",
     "library": "var_list.py",
     "varRefreshCmd": "print(var_dic_list())"
    },
    "r": {
     "delete_cmd_postfix": ") ",
     "delete_cmd_prefix": "rm(",
     "library": "var_list.r",
     "varRefreshCmd": "cat(var_dic_list()) "
    }
   },
   "position": {
    "height": "593px",
    "left": "889px",
    "right": "20px",
    "top": "315px",
    "width": "315px"
   },
   "types_to_exclude": [
    "module",
    "function",
    "builtin_function_or_method",
    "instance",
    "_Feature"
   ],
   "window_display": false
  }
 },
 "nbformat": 4,
 "nbformat_minor": 4
}
