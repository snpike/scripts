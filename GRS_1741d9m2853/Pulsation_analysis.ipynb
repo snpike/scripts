{
 "cells": [
  {
   "cell_type": "code",
   "execution_count": 1,
   "metadata": {},
   "outputs": [
    {
     "name": "stderr",
     "output_type": "stream",
     "text": [
      "WARNING: DistributionNotFound error occurred in entry point sherpafitter. [astropy.modeling.fitting]\n",
      "WARNING:root:Warning! NetCDF is not available. Using pickle format.\n"
     ]
    }
   ],
   "source": [
    "%matplotlib widget\n",
    "%matplotlib inline\n",
    "import sys\n",
    "from sys import platform\n",
    "import matplotlib.pyplot as plt\n",
    "import matplotlib.animation as animation\n",
    "from matplotlib.ticker import ScalarFormatter\n",
    "import numpy as np\n",
    "import pickle\n",
    "import seaborn as sns\n",
    "import scipy\n",
    "import emcee\n",
    "import corner\n",
    "import IPython\n",
    "from IPython.display import display, Math\n",
    "from tqdm import tqdm\n",
    "from multiprocessing import Pool\n",
    "\n",
    "from astropy.io import fits, ascii\n",
    "from astropy.table import Table\n",
    "from astropy.modeling import functional_models, fitting\n",
    "\n",
    "import stingray.events as ev\n",
    "import stingray.lightcurve as lc\n",
    "from stingray import io\n",
    "import stingray.powerspectrum as powspec \n",
    "import stingray.crossspectrum as crossspec\n",
    "from hendrics.efsearch import dyn_folding_search, z_n_search, folding_search\n",
    "import stingray.gti as sting_gti\n",
    "import stingray.pulse.pulsar as plsr\n",
    "from stingray import stats\n",
    "\n",
    "\n",
    "sns.set_context('talk')\n",
    "# sns.set_style(\"whitegrid\")\n",
    "sns.set_palette(\"colorblind\")\n",
    "\n",
    "sys.path.insert(1, '/Users/sean/scripts/helpers')\n",
    "\n",
    "from stingray_plus import *\n",
    "\n",
    "def minimize_remainder(arr, min_div, max_div):\n",
    "    divisors = np.linspace(min_div, max_div, num=100)\n",
    "    remainders = []\n",
    "    for div in divisors:\n",
    "        remainders.append(np.sum(np.mod(arr, div)))\n",
    "        \n",
    "    return divisors[np.argmin(remainders)]\n"
   ]
  },
  {
   "cell_type": "markdown",
   "metadata": {},
   "source": [
    "# Setup"
   ]
  },
  {
   "cell_type": "code",
   "execution_count": 2,
   "metadata": {},
   "outputs": [
    {
     "name": "stdout",
     "output_type": "stream",
     "text": [
      "Working on Macbook\n"
     ]
    }
   ],
   "source": [
    "if platform=='linux' or platform=='linux2':\n",
    "    print('Working on SRL server')\n",
    "    root_dir = '/disk/lif2/spike/GRS_1741d9m2853/'\n",
    "elif platform=='darwin':\n",
    "    print('Working on Macbook')\n",
    "    root_dir = '/Volumes/Samsung_1TB/AstroData/GRS_1741d9m2853/'\n",
    "\n",
    "products_dir = root_dir + 'products_3to78keV/'\n",
    "plot_dir = root_dir + 'figures/'\n",
    "\n",
    "OBSID = '90601317002'"
   ]
  },
  {
   "cell_type": "code",
   "execution_count": 3,
   "metadata": {
    "scrolled": true
   },
   "outputs": [
    {
     "name": "stdout",
     "output_type": "stream",
     "text": [
      "[(326544755.2394121, 326544871.13439286)]\n",
      "[(326584617.4268709, 326584716.8078351)]\n",
      "[(326544755.2394121, 326544871.13439286), (326584617.4268709, 326584716.8078351)]\n",
      "[[326534755.2394121, 326544755.2394121]]\n",
      "[[326574617.4268709, 326584617.4268709]]\n"
     ]
    }
   ],
   "source": [
    "burst1_gti = list(fits.open(root_dir + 'burst1/' + 'burst1_gti_bc.fits')[1].data)\n",
    "burst2_gti = list(fits.open(root_dir + 'burst2/' + 'burst2_gti_bc.fits')[1].data)\n",
    "\n",
    "burst1_gti[0][1] += 75\n",
    "burst2_gti[0][1] += 75\n",
    "\n",
    "burst_gti = [*burst1_gti, *burst2_gti]\n",
    "\n",
    "# persistent_gti = list(fits.open(root_dir + 'persistent_gti.fits')[1].data)\n",
    "\n",
    "pre_burst1_gti = [[burst1_gti[0][0] - 10000, burst1_gti[0][0]]]\n",
    "pre_burst2_gti = [[burst2_gti[0][0] - 10000, burst2_gti[0][0]]]\n",
    "\n",
    "print(burst1_gti)\n",
    "print(burst2_gti)\n",
    "print(burst_gti)\n",
    "# print(persistent_gti)\n",
    "print(pre_burst1_gti)\n",
    "print(pre_burst2_gti)"
   ]
  },
  {
   "cell_type": "code",
   "execution_count": 4,
   "metadata": {},
   "outputs": [
    {
     "name": "stderr",
     "output_type": "stream",
     "text": [
      "WARNING:root:Computing the bin time ``dt``. This can take time. If you know the bin time, please specify it at light curve creation\n",
      "WARNING:root:Computing the bin time ``dt``. This can take time. If you know the bin time, please specify it at light curve creation\n"
     ]
    },
    {
     "name": "stdout",
     "output_type": "stream",
     "text": [
      "[535.3029243894167, 442.5438081398301]\n",
      "[529.3808432379683, 440.759772400419]\n",
      "40.681718089201986\n"
     ]
    }
   ],
   "source": [
    "PI_min = 35     # 3.0 keV\n",
    "# PI_min = 260     # 12.0 keV\n",
    "PI_max = 960   # 40.0 keV\n",
    "# PI_max = 1909   # 78.0 keV\n",
    "events = extract_events(products_dir + 'nu' + OBSID + 'A01_cl_barycorr.evt', \\\n",
    "            products_dir + 'nu' + OBSID + 'B01_cl_barycorr.evt')\n",
    "\n",
    "# joined_events = events[0].join(events[1])\n",
    "# print(events[0].time)\n",
    "\n",
    "# hk_files = [fits.open(timing_dir + 'nu' + OBSID + 'A_fpm_bc.hk'), fits.open(timing_dir + 'nu' + OBSID + 'B_fpm_bc.hk')]\n",
    "# hk_data_A = hk_files[0][1].data\n",
    "\n",
    "# plt.ion()\n",
    "\n",
    "curve_A = bkg_subtract(nuproducts_to_stingray_lc(products_dir + 'nu' + OBSID + 'A01_sr.lc'), nuproducts_to_stingray_lc(products_dir + 'nu' + OBSID + 'A01_bk.lc'))\n",
    "curve_B = bkg_subtract(nuproducts_to_stingray_lc(products_dir + 'nu' + OBSID + 'B01_sr.lc'), nuproducts_to_stingray_lc(products_dir + 'nu' + OBSID + 'B01_bk.lc'))\n",
    "# curve_total = sum_lc(curveA, curveB)\n",
    "# curve_10s = curve_total.rebin(dt_new=10)\n",
    "\n",
    "centroid_A = curve_A.centroid\n",
    "centroid_B = curve_B.centroid\n",
    "extraction_radius = curve_A.radius\n",
    "print(centroid_A)\n",
    "print(centroid_B)\n",
    "print(extraction_radius)\n",
    "\n",
    "events[0].centroid=centroid_A\n",
    "events[0].radius=extraction_radius\n",
    "events[1].centroid=centroid_B\n",
    "events[1].radius=extraction_radius\n",
    "\n",
    "\n",
    "\n",
    "# t_start = np.min(curve_total.time)\n",
    "\n",
    "# plt.figure(figsize = (9,6))\n",
    "# plt.errorbar(curve_total.time-t_start, curve_total.countrate, xerr=curve_total.dt/2., yerr=curve_total.countrate_err, fmt='none', lw = 0.5)\n",
    "# plt.xlabel('Time (s)')\n",
    "# plt.ylabel('NuSTAR count rate')\n",
    "# # plt.close()\n"
   ]
  },
  {
   "cell_type": "markdown",
   "metadata": {},
   "source": [
    "# Livetime"
   ]
  },
  {
   "cell_type": "code",
   "execution_count": 7,
   "metadata": {
    "scrolled": true
   },
   "outputs": [
    {
     "ename": "NameError",
     "evalue": "name 'curve_total' is not defined",
     "output_type": "error",
     "traceback": [
      "\u001b[0;31m---------------------------------------------------------------------------\u001b[0m",
      "\u001b[0;31mNameError\u001b[0m                                 Traceback (most recent call last)",
      "\u001b[0;32m<ipython-input-7-6e80017e2711>\u001b[0m in \u001b[0;36m<module>\u001b[0;34m\u001b[0m\n\u001b[1;32m      1\u001b[0m \u001b[0mplt\u001b[0m\u001b[0;34m.\u001b[0m\u001b[0mfigure\u001b[0m\u001b[0;34m(\u001b[0m\u001b[0mfigsize\u001b[0m\u001b[0;34m=\u001b[0m\u001b[0;34m(\u001b[0m\u001b[0;36m9\u001b[0m\u001b[0;34m,\u001b[0m\u001b[0;36m6\u001b[0m\u001b[0;34m)\u001b[0m\u001b[0;34m)\u001b[0m\u001b[0;34m\u001b[0m\u001b[0;34m\u001b[0m\u001b[0m\n\u001b[0;32m----> 2\u001b[0;31m \u001b[0mplt\u001b[0m\u001b[0;34m.\u001b[0m\u001b[0merrorbar\u001b[0m\u001b[0;34m(\u001b[0m\u001b[0mcurve_total\u001b[0m\u001b[0;34m.\u001b[0m\u001b[0mtime\u001b[0m\u001b[0;34m,\u001b[0m \u001b[0mcurve_total\u001b[0m\u001b[0;34m.\u001b[0m\u001b[0mcountrate\u001b[0m\u001b[0;34m/\u001b[0m\u001b[0mnp\u001b[0m\u001b[0;34m.\u001b[0m\u001b[0mmax\u001b[0m\u001b[0;34m(\u001b[0m\u001b[0mcurve_total\u001b[0m\u001b[0;34m.\u001b[0m\u001b[0mcountrate\u001b[0m\u001b[0;34m)\u001b[0m\u001b[0;34m,\u001b[0m \u001b[0mxerr\u001b[0m \u001b[0;34m=\u001b[0m \u001b[0mcurve_total\u001b[0m\u001b[0;34m.\u001b[0m\u001b[0mdt\u001b[0m\u001b[0;34m/\u001b[0m\u001b[0;36m2\u001b[0m\u001b[0;34m,\u001b[0m \u001b[0myerr\u001b[0m\u001b[0;34m=\u001b[0m\u001b[0mcurve_total\u001b[0m\u001b[0;34m.\u001b[0m\u001b[0mcountrate_err\u001b[0m\u001b[0;34m/\u001b[0m\u001b[0mnp\u001b[0m\u001b[0;34m.\u001b[0m\u001b[0mmax\u001b[0m\u001b[0;34m(\u001b[0m\u001b[0mcurve_total\u001b[0m\u001b[0;34m.\u001b[0m\u001b[0mcountrate\u001b[0m\u001b[0;34m)\u001b[0m\u001b[0;34m,\u001b[0m \u001b[0mfmt\u001b[0m\u001b[0;34m=\u001b[0m\u001b[0;34m'none'\u001b[0m\u001b[0;34m,\u001b[0m \u001b[0mlw\u001b[0m\u001b[0;34m=\u001b[0m\u001b[0;36m1.0\u001b[0m\u001b[0;34m)\u001b[0m\u001b[0;34m\u001b[0m\u001b[0;34m\u001b[0m\u001b[0m\n\u001b[0m\u001b[1;32m      3\u001b[0m \u001b[0mplt\u001b[0m\u001b[0;34m.\u001b[0m\u001b[0mstep\u001b[0m\u001b[0;34m(\u001b[0m\u001b[0mhk_data_A\u001b[0m\u001b[0;34m[\u001b[0m\u001b[0;34m'TIME'\u001b[0m\u001b[0;34m]\u001b[0m\u001b[0;34m,\u001b[0m \u001b[0mhk_data_A\u001b[0m\u001b[0;34m[\u001b[0m\u001b[0;34m'LIVETIME'\u001b[0m\u001b[0;34m]\u001b[0m\u001b[0;34m,\u001b[0m \u001b[0mwhere\u001b[0m\u001b[0;34m=\u001b[0m\u001b[0;34m'mid'\u001b[0m\u001b[0;34m)\u001b[0m\u001b[0;34m\u001b[0m\u001b[0;34m\u001b[0m\u001b[0m\n\u001b[1;32m      4\u001b[0m \u001b[0mplt\u001b[0m\u001b[0;34m.\u001b[0m\u001b[0mxlabel\u001b[0m\u001b[0;34m(\u001b[0m\u001b[0;34m'Time (s)'\u001b[0m\u001b[0;34m)\u001b[0m\u001b[0;34m\u001b[0m\u001b[0;34m\u001b[0m\u001b[0m\n\u001b[1;32m      5\u001b[0m \u001b[0;31m# plt.ylabel('Count rate')\u001b[0m\u001b[0;34m\u001b[0m\u001b[0;34m\u001b[0m\u001b[0;34m\u001b[0m\u001b[0m\n",
      "\u001b[0;31mNameError\u001b[0m: name 'curve_total' is not defined"
     ]
    },
    {
     "data": {
      "text/plain": [
       "<Figure size 648x432 with 0 Axes>"
      ]
     },
     "metadata": {},
     "output_type": "display_data"
    }
   ],
   "source": [
    "plt.figure(figsize=(9,6))\n",
    "plt.errorbar(curve_total.time, curve_total.countrate/np.max(curve_total.countrate), xerr = curve_total.dt/2, yerr=curve_total.countrate_err/np.max(curve_total.countrate), fmt='none', lw=1.0)\n",
    "plt.step(hk_data_A['TIME'], hk_data_A['LIVETIME'], where='mid')\n",
    "plt.xlabel('Time (s)')\n",
    "# plt.ylabel('Count rate')\n",
    "plt.tight_layout()\n",
    "\n",
    "livetime_prior = []\n",
    "livetime_hk = []\n",
    "livetime_rate = []\n",
    "livetime_time = []\n",
    "\n",
    "for i in range(len(curve_total.time)-5):\n",
    "    if (curve_total.time[i+4] - curve_total.time[i] < 4.1) and (not i%5):\n",
    "        hk_mask = (hk_data_A['TIME'] > curve_total.time[i]-0.1) * (hk_data_A['TIME'] < curve_total.time[i+5] + 0.1)\n",
    "        if np.sum(hk_mask) == 5:\n",
    "#             print('hk mask length: ' + str(np.sum(hk_mask)))\n",
    "            ev_mask = (events[0].time > hk_data_A['TIME'][hk_mask][0]) * (events[0].time < (hk_data_A['TIME'][hk_mask][-1] + 1.0))\n",
    "\n",
    "            livetime_time.append(np.mean(hk_data_A['TIME'][hk_mask] + 0.5))\n",
    "            livetime_rate.append(np.mean(curve_total.countrate[i:i+5]))\n",
    "            livetime_hk.append(np.sum(hk_data_A['LIVETIME'][hk_mask]))\n",
    "            prior_temp = 0.0\n",
    "\n",
    "            if np.sum(ev_mask) > 0:\n",
    "                prior_temp += np.min([events[0].prior[ev_mask][0], events[0].time[ev_mask][0] -  hk_data_A['TIME'][hk_mask][0]])\n",
    "                if np.sum(ev_mask) > 1:\n",
    "                    prior_temp += np.sum(events[0].prior[ev_mask][1:])\n",
    "\n",
    "                if events[0].time[ev_mask][0] - events[0].prior[ev_mask][0] < hk_data_A['TIME'][hk_mask][0]:\n",
    "                    if livetime_time[-1] - livetime_time[-2] < 6.0:\n",
    "                        livetime_prior[-1] += events[0].prior[ev_mask][0] - (events[0].time[ev_mask][0] - hk_data_A['TIME'][hk_mask][0])\n",
    "            livetime_prior.append(prior_temp)\n",
    "        \n",
    "# print(len(livetime_prior))\n",
    "# livetime_time = np.array(livetime_time)\n",
    "# livetime_rate = np.array(livetime_rate)\n",
    "# livetime_hk = np.array(livetime_hk)\n",
    "# livetime_prior = np.array(livetime_prior)\n",
    "\n",
    "# plt.figure(figsize=(9,6))\n",
    "# plt.scatter(livetime_rate, livetime_prior/livetime_hk)\n",
    "# plt.xlabel('Count rate')\n",
    "# plt.xscale('log')\n",
    "# # plt.ylabel('Count rate')\n",
    "# plt.tight_layout()\n",
    "\n",
    "# plt.figure(figsize=(9,6))\n",
    "# plt.scatter(livetime_hk, livetime_prior)\n",
    "# plt.xlabel('Livetime calculated from hk (s)')\n",
    "# plt.ylabel('Livetime calculated from PRIOR (s)')\n",
    "# plt.loglog()\n",
    "# # plt.ylabel('Count rate')\n",
    "# plt.tight_layout()\n"
   ]
  },
  {
   "cell_type": "code",
   "execution_count": 11,
   "metadata": {
    "collapsed": true,
    "jupyter": {
     "outputs_hidden": true
    }
   },
   "outputs": [
    {
     "name": "stderr",
     "output_type": "stream",
     "text": [
      "/Users/sean/scripts/helpers/stingray_plus.py:156: RuntimeWarning: underflow encountered in true_divide\n",
      "  z_stat = plsr.z_n(fold_phases, n=2, norm=weights * p_weights * np.max(livetime_profile)/fold_lts)\n"
     ]
    },
    {
     "data": {
      "text/plain": [
       "[<matplotlib.lines.Line2D at 0x7f83ef22aef0>]"
      ]
     },
     "execution_count": 11,
     "metadata": {},
     "output_type": "execute_result"
    },
    {
     "data": {
      "image/png": "[encoded data removed]",
      "text/plain": [
       "<Figure size 648x432 with 1 Axes>"
      ]
     },
     "metadata": {
      "needs_background": "light"
     },
     "output_type": "display_data"
    },
    {
     "data": {
      "image/png": "[encoded data removed]",
      "text/plain": [
       "<Figure size 648x432 with 1 Axes>"
      ]
     },
     "metadata": {
      "needs_background": "light"
     },
     "output_type": "display_data"
    },
    {
     "data": {
      "image/png": "[encoded data removed]",
      "text/plain": [
       "<Figure size 648x432 with 1 Axes>"
      ]
     },
     "metadata": {
      "needs_background": "light"
     },
     "output_type": "display_data"
    },
    {
     "data": {
      "image/png": "[encoded data removed]",
      "text/plain": [
       "<Figure size 648x432 with 1 Axes>"
      ]
     },
     "metadata": {
      "needs_background": "light"
     },
     "output_type": "display_data"
    }
   ],
   "source": [
    "phase_bins_A, profile_A, profile_err_A, livetime_profile_A, z_stat_A = \\\n",
    "        events[0].fold_events_ltcorr(589., time_intervals = burst_gti, \\\n",
    "                                nbin = 64, ref_time = events[0].time[0], region_filter=False, pi_min = 35, pi_max = 260, weight_pos=True)\n",
    "phase_bins_B, profile_B, profile_err_B, livetime_profile_B, z_stat_B = \\\n",
    "        events[1].fold_events_ltcorr(589., time_intervals = burst_gti, \\\n",
    "                                nbin = 64, ref_time = events[0].time[0], region_filter=False, pi_min = 35, pi_max = 260, weight_pos=True)\n",
    "\n",
    "\n",
    "# plt.figure(figsize=(9,6))\n",
    "# plt.step(phase_bins_A, profile_A)\n",
    "# plt.step(phase_bins_B, profile_B)\n",
    "\n",
    "# plt.figure(figsize=(9,6))\n",
    "# plt.step(phase_bins_A, livetime_profile_A)\n",
    "# plt.step(phase_bins_B, livetime_profile_B)\n",
    "\n",
    "# plt.figure(figsize=(9,6))\n",
    "# plt.step(phase_bins_A, profile_A/livetime_profile_A)\n",
    "# plt.step(phase_bins_B, profile_B/livetime_profile_B)\n",
    "\n",
    "# plt.figure(figsize=(9,6))\n",
    "# plt.step(phase_bins_A, (profile_A + profile_B)/(livetime_profile_A + livetime_profile_B)/np.max((profile_A + profile_B)/(livetime_profile_A + livetime_profile_B)))\n",
    "# plt.step(phase_bins_A, (livetime_profile_A + livetime_profile_B)/np.max(livetime_profile_A + livetime_profile_B))\n",
    "\n",
    "# plt.figure(figsize=(9,6))\n",
    "# plt.step(phase_bins_A, (profile_A/livetime_profile_A) + (profile_B/livetime_profile_B))\n",
    "\n",
    "\n"
   ]
  },
  {
   "cell_type": "code",
   "execution_count": 5,
   "metadata": {},
   "outputs": [
    {
     "name": "stderr",
     "output_type": "stream",
     "text": [
      "  0%|          | 0/1000 [00:00<?, ?it/s]/Users/sean/anaconda/lib/python3.6/site-packages/stingray/stats.py:86: RuntimeWarning: underflow encountered in _logp_multitrial_from_single_logp\n",
      "  np.log10(p1).astype(np.double), n)\n",
      "100%|██████████| 1000/1000 [01:09<00:00, 14.47it/s]\n",
      "100%|██████████| 1000/1000 [01:06<00:00, 15.10it/s]\n",
      "100%|██████████| 1000/1000 [01:04<00:00, 15.53it/s]\n",
      "100%|██████████| 1000/1000 [00:57<00:00, 17.28it/s]\n",
      "  0%|          | 2/1000 [00:00<00:55, 17.96it/s]"
     ]
    },
    {
     "name": "stdout",
     "output_type": "stream",
     "text": [
      "0.91342028103451787524\n",
      "584.1591591591591\n"
     ]
    },
    {
     "name": "stderr",
     "output_type": "stream",
     "text": [
      "100%|██████████| 1000/1000 [01:04<00:00, 15.46it/s]\n",
      "100%|██████████| 1000/1000 [00:54<00:00, 18.29it/s]\n",
      "  0%|          | 2/1000 [00:00<01:05, 15.24it/s]"
     ]
    },
    {
     "name": "stdout",
     "output_type": "stream",
     "text": [
      "0.9039382765336029284\n",
      "583.6586586586586\n"
     ]
    },
    {
     "name": "stderr",
     "output_type": "stream",
     "text": [
      "100%|██████████| 1000/1000 [01:06<00:00, 15.10it/s]\n",
      "100%|██████████| 1000/1000 [00:57<00:00, 17.34it/s]\n",
      "100%|██████████| 1000/1000 [01:04<00:00, 15.44it/s]\n",
      "100%|██████████| 1000/1000 [00:57<00:00, 17.39it/s]\n",
      "100%|██████████| 1000/1000 [01:06<00:00, 14.93it/s]\n",
      "100%|██████████| 1000/1000 [00:57<00:00, 17.46it/s]\n",
      "100%|██████████| 1000/1000 [01:06<00:00, 15.05it/s]\n",
      "100%|██████████| 1000/1000 [00:57<00:00, 17.27it/s]\n",
      "100%|██████████| 1000/1000 [01:06<00:00, 14.99it/s]\n",
      "100%|██████████| 1000/1000 [00:57<00:00, 17.38it/s]\n",
      "100%|██████████| 1000/1000 [01:07<00:00, 14.86it/s]\n",
      "100%|██████████| 1000/1000 [00:56<00:00, 17.56it/s]\n",
      "100%|██████████| 1000/1000 [01:04<00:00, 15.47it/s]\n",
      "100%|██████████| 1000/1000 [00:58<00:00, 17.19it/s]\n",
      "100%|██████████| 1000/1000 [01:07<00:00, 14.71it/s]\n",
      "100%|██████████| 1000/1000 [00:57<00:00, 17.41it/s]\n",
      "100%|██████████| 1000/1000 [01:07<00:00, 14.92it/s]\n",
      "100%|██████████| 1000/1000 [00:58<00:00, 17.20it/s]\n",
      "100%|██████████| 1000/1000 [01:07<00:00, 14.82it/s]\n",
      "100%|██████████| 1000/1000 [00:57<00:00, 17.31it/s]\n",
      "100%|██████████| 1000/1000 [01:06<00:00, 15.01it/s]\n",
      "100%|██████████| 1000/1000 [00:56<00:00, 17.85it/s]\n",
      "100%|██████████| 1000/1000 [01:06<00:00, 15.06it/s]\n",
      "100%|██████████| 1000/1000 [00:55<00:00, 18.01it/s]\n",
      "100%|██████████| 1000/1000 [01:07<00:00, 14.78it/s]\n",
      "100%|██████████| 1000/1000 [00:59<00:00, 16.82it/s]\n",
      "  0%|          | 2/1000 [00:00<01:10, 14.11it/s]"
     ]
    },
    {
     "name": "stdout",
     "output_type": "stream",
     "text": [
      "0.9392433370895169123\n",
      "581.006006006006\n"
     ]
    },
    {
     "name": "stderr",
     "output_type": "stream",
     "text": [
      "100%|██████████| 1000/1000 [01:07<00:00, 14.73it/s]\n",
      "100%|██████████| 1000/1000 [01:01<00:00, 16.23it/s]\n",
      "100%|██████████| 1000/1000 [01:16<00:00, 13.00it/s]\n",
      "100%|██████████| 1000/1000 [00:58<00:00, 17.05it/s]\n",
      "100%|██████████| 1000/1000 [01:04<00:00, 15.40it/s]\n",
      "100%|██████████| 1000/1000 [00:57<00:00, 17.35it/s]\n",
      "100%|██████████| 1000/1000 [01:07<00:00, 14.71it/s]\n",
      "100%|██████████| 1000/1000 [00:57<00:00, 17.51it/s]\n",
      "100%|██████████| 1000/1000 [01:05<00:00, 15.24it/s]\n",
      "100%|██████████| 1000/1000 [00:55<00:00, 18.00it/s]\n",
      "100%|██████████| 1000/1000 [01:08<00:00, 14.50it/s]\n",
      "100%|██████████| 1000/1000 [00:58<00:00, 16.99it/s]\n",
      "100%|██████████| 1000/1000 [01:07<00:00, 14.80it/s]\n",
      "100%|██████████| 1000/1000 [00:59<00:00, 16.93it/s]\n",
      "100%|██████████| 1000/1000 [01:00<00:00, 16.62it/s]\n",
      "100%|██████████| 1000/1000 [00:54<00:00, 18.24it/s]\n",
      "  0%|          | 2/1000 [00:00<01:19, 12.59it/s]"
     ]
    },
    {
     "name": "stdout",
     "output_type": "stream",
     "text": [
      "0.96248621496618570054\n",
      "577.3523523523523\n"
     ]
    },
    {
     "name": "stderr",
     "output_type": "stream",
     "text": [
      "100%|██████████| 1000/1000 [01:03<00:00, 15.79it/s]\n",
      "100%|██████████| 1000/1000 [00:52<00:00, 18.92it/s]\n",
      "100%|██████████| 1000/1000 [01:00<00:00, 16.53it/s]\n",
      "100%|██████████| 1000/1000 [00:52<00:00, 19.01it/s]\n",
      "100%|██████████| 1000/1000 [01:02<00:00, 16.02it/s]\n",
      "100%|██████████| 1000/1000 [00:53<00:00, 18.57it/s]\n",
      "100%|██████████| 1000/1000 [01:02<00:00, 16.08it/s]\n",
      "100%|██████████| 1000/1000 [01:00<00:00, 16.44it/s]\n",
      "  0%|          | 1/1000 [00:00<01:42,  9.73it/s]"
     ]
    },
    {
     "name": "stdout",
     "output_type": "stream",
     "text": [
      "0.7876515461475912805\n",
      "596.8468468468468\n"
     ]
    },
    {
     "name": "stderr",
     "output_type": "stream",
     "text": [
      "100%|██████████| 1000/1000 [01:03<00:00, 15.78it/s]\n",
      "100%|██████████| 1000/1000 [00:55<00:00, 18.13it/s]\n",
      "  0%|          | 2/1000 [00:00<01:03, 15.60it/s]"
     ]
    },
    {
     "name": "stdout",
     "output_type": "stream",
     "text": [
      "0.7091923761588657671\n",
      "593.7937937937938\n"
     ]
    },
    {
     "name": "stderr",
     "output_type": "stream",
     "text": [
      "100%|██████████| 1000/1000 [01:00<00:00, 16.41it/s]\n",
      "100%|██████████| 1000/1000 [00:52<00:00, 19.15it/s]\n",
      "100%|██████████| 1000/1000 [01:02<00:00, 15.94it/s]\n",
      "100%|██████████| 1000/1000 [01:00<00:00, 16.60it/s]\n",
      "100%|██████████| 1000/1000 [01:05<00:00, 15.18it/s]\n",
      "100%|██████████| 1000/1000 [00:50<00:00, 19.70it/s]\n",
      "100%|██████████| 1000/1000 [01:00<00:00, 16.53it/s]\n",
      "100%|██████████| 1000/1000 [00:53<00:00, 18.54it/s]\n",
      "100%|██████████| 1000/1000 [01:00<00:00, 16.62it/s]\n",
      "100%|██████████| 1000/1000 [00:52<00:00, 19.02it/s]\n",
      "100%|██████████| 1000/1000 [01:06<00:00, 15.09it/s]\n",
      "100%|██████████| 1000/1000 [00:58<00:00, 17.10it/s]\n",
      "100%|██████████| 1000/1000 [01:03<00:00, 15.64it/s]\n",
      "100%|██████████| 1000/1000 [00:57<00:00, 17.47it/s]\n",
      "100%|██████████| 1000/1000 [01:14<00:00, 13.48it/s]\n",
      "100%|██████████| 1000/1000 [00:56<00:00, 17.72it/s]\n",
      "100%|██████████| 1000/1000 [01:02<00:00, 15.99it/s]\n",
      "100%|██████████| 1000/1000 [00:52<00:00, 19.03it/s]\n",
      "100%|██████████| 1000/1000 [00:59<00:00, 16.74it/s]\n",
      "100%|██████████| 1000/1000 [00:53<00:00, 18.60it/s]\n",
      "100%|██████████| 1000/1000 [01:06<00:00, 15.11it/s]\n",
      "100%|██████████| 1000/1000 [00:57<00:00, 17.28it/s]\n",
      "100%|██████████| 1000/1000 [01:08<00:00, 14.69it/s]\n",
      "100%|██████████| 1000/1000 [00:58<00:00, 17.04it/s]\n",
      "100%|██████████| 1000/1000 [01:06<00:00, 15.10it/s]\n",
      "100%|██████████| 1000/1000 [00:55<00:00, 17.99it/s]\n",
      "  0%|          | 2/1000 [00:00<00:58, 17.04it/s]"
     ]
    },
    {
     "name": "stdout",
     "output_type": "stream",
     "text": [
      "0.72621118377224413987\n",
      "588.9389389389389\n"
     ]
    },
    {
     "name": "stderr",
     "output_type": "stream",
     "text": [
      "100%|██████████| 1000/1000 [00:58<00:00, 17.18it/s]\n",
      "100%|██████████| 1000/1000 [00:50<00:00, 19.77it/s]\n",
      "100%|██████████| 1000/1000 [00:59<00:00, 16.93it/s]\n",
      "100%|██████████| 1000/1000 [00:50<00:00, 19.79it/s]\n",
      "100%|██████████| 1000/1000 [00:59<00:00, 16.88it/s]\n",
      "100%|██████████| 1000/1000 [00:51<00:00, 19.43it/s]\n",
      "100%|██████████| 1000/1000 [00:58<00:00, 17.15it/s]\n",
      "100%|██████████| 1000/1000 [00:50<00:00, 19.74it/s]\n",
      "100%|██████████| 1000/1000 [01:02<00:00, 16.07it/s]\n",
      "100%|██████████| 1000/1000 [00:58<00:00, 17.16it/s]\n",
      "100%|██████████| 1000/1000 [01:02<00:00, 15.98it/s]\n",
      "100%|██████████| 1000/1000 [00:50<00:00, 19.90it/s]\n",
      "100%|██████████| 1000/1000 [00:58<00:00, 17.05it/s]\n",
      "100%|██████████| 1000/1000 [00:50<00:00, 19.95it/s]\n",
      "100%|██████████| 1000/1000 [01:02<00:00, 16.09it/s]\n",
      "100%|██████████| 1000/1000 [00:58<00:00, 17.15it/s]\n",
      "100%|██████████| 1000/1000 [01:05<00:00, 15.28it/s]\n",
      "100%|██████████| 1000/1000 [00:50<00:00, 19.66it/s]\n",
      "100%|██████████| 1000/1000 [00:57<00:00, 17.29it/s]\n",
      "100%|██████████| 1000/1000 [00:50<00:00, 19.72it/s]\n",
      "  0%|          | 2/1000 [00:00<00:59, 16.81it/s]"
     ]
    },
    {
     "name": "stdout",
     "output_type": "stream",
     "text": [
      "0.91075526440971356357\n",
      "583.2082082082082\n"
     ]
    },
    {
     "name": "stderr",
     "output_type": "stream",
     "text": [
      "100%|██████████| 1000/1000 [00:59<00:00, 16.93it/s]\n",
      "100%|██████████| 1000/1000 [00:52<00:00, 19.08it/s]\n",
      "100%|██████████| 1000/1000 [01:04<00:00, 15.40it/s]\n",
      "100%|██████████| 1000/1000 [00:58<00:00, 17.15it/s]\n",
      "100%|██████████| 1000/1000 [01:09<00:00, 14.41it/s]\n",
      "100%|██████████| 1000/1000 [01:02<00:00, 16.03it/s]\n",
      "100%|██████████| 1000/1000 [01:11<00:00, 14.08it/s]\n",
      "100%|██████████| 1000/1000 [01:01<00:00, 16.17it/s]\n",
      "100%|██████████| 1000/1000 [01:13<00:00, 13.63it/s]\n",
      "100%|██████████| 1000/1000 [01:01<00:00, 16.31it/s]\n",
      "100%|██████████| 1000/1000 [01:11<00:00, 14.04it/s]\n",
      "100%|██████████| 1000/1000 [01:00<00:00, 16.43it/s]\n",
      "100%|██████████| 1000/1000 [01:10<00:00, 14.21it/s]\n",
      "100%|██████████| 1000/1000 [00:59<00:00, 16.94it/s]\n",
      "100%|██████████| 1000/1000 [01:09<00:00, 14.32it/s]\n",
      "100%|██████████| 1000/1000 [01:01<00:00, 16.38it/s]\n",
      "100%|██████████| 1000/1000 [01:11<00:00, 14.07it/s]\n",
      "100%|██████████| 1000/1000 [01:02<00:00, 15.99it/s]\n",
      "100%|██████████| 1000/1000 [01:11<00:00, 14.07it/s]\n",
      "100%|██████████| 1000/1000 [01:01<00:00, 16.37it/s]\n",
      "100%|██████████| 1000/1000 [01:10<00:00, 14.22it/s]\n",
      "100%|██████████| 1000/1000 [00:59<00:00, 16.71it/s]\n",
      "100%|██████████| 1000/1000 [01:10<00:00, 14.14it/s]\n",
      "100%|██████████| 1000/1000 [01:00<00:00, 16.50it/s]\n",
      "100%|██████████| 1000/1000 [01:11<00:00, 13.98it/s]\n",
      "100%|██████████| 1000/1000 [01:01<00:00, 16.38it/s]\n",
      "100%|██████████| 1000/1000 [01:10<00:00, 14.20it/s]\n",
      "100%|██████████| 1000/1000 [01:00<00:00, 16.55it/s]\n",
      "100%|██████████| 1000/1000 [01:10<00:00, 14.26it/s]\n",
      "100%|██████████| 1000/1000 [01:00<00:00, 16.50it/s]\n",
      "100%|██████████| 1000/1000 [01:09<00:00, 14.45it/s]\n",
      "100%|██████████| 1000/1000 [01:01<00:00, 16.39it/s]\n",
      "100%|██████████| 1000/1000 [01:11<00:00, 13.96it/s]\n",
      "100%|██████████| 1000/1000 [01:02<00:00, 15.94it/s]\n",
      "100%|██████████| 1000/1000 [01:16<00:00, 13.05it/s]\n",
      "100%|██████████| 1000/1000 [01:01<00:00, 16.37it/s]\n",
      "100%|██████████| 1000/1000 [01:10<00:00, 14.18it/s]\n",
      "100%|██████████| 1000/1000 [01:00<00:00, 16.50it/s]\n",
      "100%|██████████| 1000/1000 [01:10<00:00, 14.16it/s]\n",
      "100%|██████████| 1000/1000 [01:02<00:00, 15.97it/s]\n",
      "  0%|          | 2/1000 [00:00<01:15, 13.21it/s]"
     ]
    },
    {
     "name": "stdout",
     "output_type": "stream",
     "text": [
      "0.83851892160594868053\n",
      "592.967967967968\n"
     ]
    },
    {
     "name": "stderr",
     "output_type": "stream",
     "text": [
      "100%|██████████| 1000/1000 [01:15<00:00, 13.21it/s]\n",
      "100%|██████████| 1000/1000 [01:14<00:00, 13.50it/s]\n",
      "100%|██████████| 1000/1000 [01:19<00:00, 12.59it/s]\n",
      "100%|██████████| 1000/1000 [01:06<00:00, 15.10it/s]\n",
      "100%|██████████| 1000/1000 [01:10<00:00, 14.26it/s]\n",
      "100%|██████████| 1000/1000 [01:03<00:00, 15.83it/s]\n",
      "100%|██████████| 1000/1000 [01:20<00:00, 12.45it/s]\n",
      "100%|██████████| 1000/1000 [01:10<00:00, 14.23it/s]\n",
      "100%|██████████| 1000/1000 [01:20<00:00, 12.47it/s]\n",
      "100%|██████████| 1000/1000 [01:11<00:00, 14.03it/s]\n",
      "100%|██████████| 1000/1000 [01:19<00:00, 12.59it/s]\n",
      "100%|██████████| 1000/1000 [01:09<00:00, 14.48it/s]\n",
      "  0%|          | 2/1000 [00:00<01:18, 12.74it/s]"
     ]
    },
    {
     "name": "stdout",
     "output_type": "stream",
     "text": [
      "0.78106463686891347553\n",
      "576.3013013013014\n"
     ]
    },
    {
     "name": "stderr",
     "output_type": "stream",
     "text": [
      "100%|██████████| 1000/1000 [01:06<00:00, 14.98it/s]\n",
      "100%|██████████| 1000/1000 [00:54<00:00, 18.37it/s]\n",
      "100%|██████████| 1000/1000 [00:58<00:00, 17.04it/s]\n",
      "100%|██████████| 1000/1000 [00:59<00:00, 16.93it/s]\n",
      "  0%|          | 2/1000 [00:00<01:02, 15.89it/s]"
     ]
    },
    {
     "name": "stdout",
     "output_type": "stream",
     "text": [
      "0.8088860806620067345\n",
      "584.4844844844845\n"
     ]
    },
    {
     "name": "stderr",
     "output_type": "stream",
     "text": [
      "100%|██████████| 1000/1000 [01:03<00:00, 15.63it/s]\n",
      "100%|██████████| 1000/1000 [00:53<00:00, 18.66it/s]\n",
      "100%|██████████| 1000/1000 [01:00<00:00, 16.62it/s]\n",
      "100%|██████████| 1000/1000 [00:56<00:00, 17.84it/s]\n",
      "100%|██████████| 1000/1000 [00:59<00:00, 16.77it/s]\n",
      "100%|██████████| 1000/1000 [00:51<00:00, 19.59it/s]\n",
      "100%|██████████| 1000/1000 [01:05<00:00, 15.25it/s]\n",
      "100%|██████████| 1000/1000 [01:05<00:00, 15.19it/s]\n",
      "100%|██████████| 1000/1000 [01:04<00:00, 15.55it/s]\n",
      "100%|██████████| 1000/1000 [00:51<00:00, 19.25it/s]\n",
      "100%|██████████| 1000/1000 [00:59<00:00, 16.75it/s]\n",
      "100%|██████████| 1000/1000 [00:53<00:00, 18.78it/s]\n",
      "100%|██████████| 1000/1000 [01:09<00:00, 14.37it/s]\n",
      "100%|██████████| 1000/1000 [01:09<00:00, 14.45it/s]\n",
      "100%|██████████| 1000/1000 [01:04<00:00, 15.56it/s]\n",
      "100%|██████████| 1000/1000 [01:00<00:00, 16.39it/s]\n",
      "100%|██████████| 1000/1000 [01:07<00:00, 14.86it/s]\n",
      "100%|██████████| 1000/1000 [00:52<00:00, 19.22it/s]\n",
      "100%|██████████| 1000/1000 [00:59<00:00, 16.72it/s]\n",
      "100%|██████████| 1000/1000 [00:54<00:00, 18.49it/s]\n",
      "100%|██████████| 1000/1000 [01:04<00:00, 15.51it/s]\n",
      "100%|██████████| 1000/1000 [00:54<00:00, 18.29it/s]\n",
      "100%|██████████| 1000/1000 [01:02<00:00, 16.02it/s]\n",
      "100%|██████████| 1000/1000 [00:51<00:00, 19.25it/s]\n",
      "100%|██████████| 1000/1000 [01:18<00:00, 12.77it/s]\n",
      "100%|██████████| 1000/1000 [01:02<00:00, 16.10it/s]\n",
      "100%|██████████| 1000/1000 [01:10<00:00, 14.15it/s]\n",
      "100%|██████████| 1000/1000 [01:02<00:00, 15.88it/s]\n",
      "100%|██████████| 1000/1000 [01:12<00:00, 13.86it/s]\n",
      "100%|██████████| 1000/1000 [01:02<00:00, 16.06it/s]\n",
      "100%|██████████| 1000/1000 [01:10<00:00, 14.20it/s]\n",
      "100%|██████████| 1000/1000 [01:01<00:00, 16.22it/s]\n",
      "100%|██████████| 1000/1000 [01:13<00:00, 13.65it/s]\n",
      "100%|██████████| 1000/1000 [01:02<00:00, 15.94it/s]\n",
      "100%|██████████| 1000/1000 [01:13<00:00, 13.64it/s]\n",
      "100%|██████████| 1000/1000 [01:02<00:00, 16.02it/s]\n",
      "100%|██████████| 1000/1000 [01:12<00:00, 13.75it/s]\n",
      "100%|██████████| 1000/1000 [01:03<00:00, 15.67it/s]\n",
      "100%|██████████| 1000/1000 [01:12<00:00, 13.71it/s]\n",
      "100%|██████████| 1000/1000 [01:04<00:00, 15.52it/s]\n",
      "  0%|          | 2/1000 [00:00<01:01, 16.27it/s]"
     ]
    },
    {
     "name": "stdout",
     "output_type": "stream",
     "text": [
      "0.7870537546732204459\n",
      "575.5255255255255\n"
     ]
    },
    {
     "name": "stderr",
     "output_type": "stream",
     "text": [
      "100%|██████████| 1000/1000 [01:12<00:00, 13.83it/s]\n",
      "100%|██████████| 1000/1000 [01:01<00:00, 16.27it/s]\n",
      "100%|██████████| 1000/1000 [01:13<00:00, 13.69it/s]\n",
      "100%|██████████| 1000/1000 [00:59<00:00, 16.94it/s]\n",
      "100%|██████████| 1000/1000 [01:13<00:00, 13.70it/s]\n",
      "100%|██████████| 1000/1000 [01:03<00:00, 15.84it/s]\n",
      "100%|██████████| 1000/1000 [01:16<00:00, 13.00it/s]\n",
      "100%|██████████| 1000/1000 [01:03<00:00, 15.64it/s]\n",
      "100%|██████████| 1000/1000 [01:11<00:00, 14.07it/s]\n",
      "100%|██████████| 1000/1000 [01:02<00:00, 16.13it/s]\n",
      "100%|██████████| 1000/1000 [01:07<00:00, 14.79it/s]\n",
      "100%|██████████| 1000/1000 [00:54<00:00, 18.37it/s]\n",
      "100%|██████████| 1000/1000 [01:03<00:00, 15.69it/s]\n",
      "100%|██████████| 1000/1000 [01:02<00:00, 16.07it/s]\n",
      "100%|██████████| 1000/1000 [01:03<00:00, 15.86it/s]\n",
      "100%|██████████| 1000/1000 [00:54<00:00, 18.25it/s]\n",
      "100%|██████████| 1000/1000 [01:13<00:00, 13.54it/s]\n",
      "100%|██████████| 1000/1000 [1:47:30<00:00,  6.45s/it]   \n",
      "100%|██████████| 1000/1000 [01:17<00:00, 12.98it/s]\n",
      "100%|██████████| 1000/1000 [01:05<00:00, 15.33it/s]\n",
      "100%|██████████| 1000/1000 [01:14<00:00, 13.43it/s]\n",
      "100%|██████████| 1000/1000 [00:57<00:00, 17.37it/s]\n",
      "100%|██████████| 1000/1000 [01:12<00:00, 13.80it/s]\n",
      "100%|██████████| 1000/1000 [01:01<00:00, 16.29it/s]\n",
      "100%|██████████| 1000/1000 [01:15<00:00, 13.33it/s]\n",
      "100%|██████████| 1000/1000 [01:08<00:00, 14.56it/s]\n",
      "100%|██████████| 1000/1000 [01:16<00:00, 13.01it/s]\n",
      "100%|██████████| 1000/1000 [01:05<00:00, 15.34it/s]\n",
      "100%|██████████| 1000/1000 [01:21<00:00, 12.33it/s]\n",
      "100%|██████████| 1000/1000 [01:11<00:00, 13.99it/s]\n",
      "100%|██████████| 1000/1000 [01:13<00:00, 13.69it/s]\n",
      "100%|██████████| 1000/1000 [00:58<00:00, 17.17it/s]\n",
      "100%|██████████| 1000/1000 [01:00<00:00, 16.52it/s]\n",
      "100%|██████████| 1000/1000 [00:54<00:00, 18.28it/s]\n",
      "100%|██████████| 1000/1000 [01:08<00:00, 14.61it/s]\n",
      "100%|██████████| 1000/1000 [00:53<00:00, 18.57it/s]\n",
      "100%|██████████| 1000/1000 [00:59<00:00, 16.92it/s]\n",
      "100%|██████████| 1000/1000 [00:53<00:00, 18.82it/s]\n",
      "100%|██████████| 1000/1000 [01:02<00:00, 15.98it/s]\n",
      "100%|██████████| 1000/1000 [00:52<00:00, 19.04it/s]\n",
      "100%|██████████| 1000/1000 [01:15<00:00, 13.28it/s]\n",
      "100%|██████████| 1000/1000 [01:17<00:00, 12.91it/s]\n",
      "100%|██████████| 1000/1000 [01:12<00:00, 13.76it/s]\n",
      "100%|██████████| 1000/1000 [00:55<00:00, 18.14it/s]\n",
      "100%|██████████| 1000/1000 [01:03<00:00, 15.74it/s]\n",
      "100%|██████████| 1000/1000 [00:55<00:00, 17.95it/s]\n",
      "100%|██████████| 1000/1000 [01:13<00:00, 13.62it/s]\n",
      "100%|██████████| 1000/1000 [01:06<00:00, 15.14it/s]\n",
      "100%|██████████| 1000/1000 [01:17<00:00, 12.82it/s]\n",
      "100%|██████████| 1000/1000 [01:04<00:00, 15.53it/s]\n",
      "100%|██████████| 1000/1000 [01:17<00:00, 12.85it/s]\n",
      "100%|██████████| 1000/1000 [01:02<00:00, 16.11it/s]\n",
      "100%|██████████| 1000/1000 [01:11<00:00, 13.91it/s]\n",
      "100%|██████████| 1000/1000 [01:01<00:00, 16.26it/s]\n",
      "100%|██████████| 1000/1000 [01:12<00:00, 13.84it/s]\n",
      "100%|██████████| 1000/1000 [01:10<00:00, 14.22it/s]\n",
      "100%|██████████| 1000/1000 [01:04<00:00, 15.62it/s]\n",
      "100%|██████████| 1000/1000 [00:58<00:00, 17.23it/s]\n",
      "100%|██████████| 1000/1000 [01:04<00:00, 15.50it/s]\n",
      "100%|██████████| 1000/1000 [00:57<00:00, 17.43it/s]\n",
      "100%|██████████| 1000/1000 [01:08<00:00, 14.50it/s]\n",
      "100%|██████████| 1000/1000 [01:02<00:00, 16.02it/s]\n",
      "100%|██████████| 1000/1000 [01:13<00:00, 13.59it/s]\n",
      "100%|██████████| 1000/1000 [01:08<00:00, 14.65it/s]\n",
      "100%|██████████| 1000/1000 [01:16<00:00, 13.06it/s]\n",
      "100%|██████████| 1000/1000 [01:09<00:00, 14.40it/s]\n",
      "100%|██████████| 1000/1000 [01:15<00:00, 13.27it/s]\n",
      "100%|██████████| 1000/1000 [00:52<00:00, 19.04it/s]\n",
      "100%|██████████| 1000/1000 [01:00<00:00, 16.61it/s]\n",
      "100%|██████████| 1000/1000 [00:53<00:00, 18.57it/s]\n",
      "100%|██████████| 1000/1000 [01:00<00:00, 16.60it/s]\n",
      "100%|██████████| 1000/1000 [00:52<00:00, 19.09it/s]\n",
      "100%|██████████| 1000/1000 [01:00<00:00, 16.45it/s]\n",
      "100%|██████████| 1000/1000 [00:52<00:00, 19.03it/s]\n",
      "100%|██████████| 1000/1000 [00:59<00:00, 16.67it/s]\n",
      "100%|██████████| 1000/1000 [00:51<00:00, 19.30it/s]\n",
      "100%|██████████| 1000/1000 [01:07<00:00, 14.81it/s]\n",
      "100%|██████████| 1000/1000 [00:55<00:00, 18.05it/s]\n",
      "100%|██████████| 1000/1000 [00:59<00:00, 16.69it/s]\n",
      "100%|██████████| 1000/1000 [00:52<00:00, 18.91it/s]\n",
      "100%|██████████| 1000/1000 [00:58<00:00, 16.99it/s]\n",
      "100%|██████████| 1000/1000 [00:54<00:00, 18.24it/s]\n",
      "100%|██████████| 1000/1000 [01:08<00:00, 14.52it/s]\n",
      "100%|██████████| 1000/1000 [01:00<00:00, 16.46it/s]\n",
      "  0%|          | 2/1000 [00:00<01:15, 13.16it/s]"
     ]
    },
    {
     "name": "stdout",
     "output_type": "stream",
     "text": [
      "0.766353495706984994\n",
      "576.926926926927\n"
     ]
    },
    {
     "name": "stderr",
     "output_type": "stream",
     "text": [
      "100%|██████████| 1000/1000 [01:00<00:00, 16.45it/s]\n",
      "100%|██████████| 1000/1000 [00:49<00:00, 20.16it/s]\n",
      "100%|██████████| 1000/1000 [00:54<00:00, 18.30it/s]\n",
      "100%|██████████| 1000/1000 [00:51<00:00, 19.47it/s]\n",
      "100%|██████████| 1000/1000 [01:00<00:00, 16.44it/s]\n",
      "100%|██████████| 1000/1000 [00:51<00:00, 19.49it/s]\n",
      "100%|██████████| 1000/1000 [01:00<00:00, 16.47it/s]\n",
      "100%|██████████| 1000/1000 [00:56<00:00, 17.63it/s]\n",
      "100%|██████████| 1000/1000 [01:05<00:00, 15.29it/s]\n",
      "100%|██████████| 1000/1000 [00:55<00:00, 17.95it/s]\n",
      "100%|██████████| 1000/1000 [01:05<00:00, 15.22it/s]\n",
      "100%|██████████| 1000/1000 [00:56<00:00, 17.58it/s]\n",
      "100%|██████████| 1000/1000 [01:06<00:00, 15.13it/s]\n",
      "100%|██████████| 1000/1000 [00:55<00:00, 18.03it/s]\n",
      "100%|██████████| 1000/1000 [01:05<00:00, 15.16it/s]\n",
      "100%|██████████| 1000/1000 [00:57<00:00, 17.54it/s]\n",
      "100%|██████████| 1000/1000 [01:10<00:00, 14.17it/s]\n",
      "100%|██████████| 1000/1000 [00:59<00:00, 16.91it/s]\n",
      "100%|██████████| 1000/1000 [01:07<00:00, 14.81it/s]\n",
      "100%|██████████| 1000/1000 [00:56<00:00, 17.65it/s]\n",
      "100%|██████████| 1000/1000 [01:09<00:00, 14.34it/s]\n",
      "100%|██████████| 1000/1000 [00:57<00:00, 17.26it/s]\n",
      "100%|██████████| 1000/1000 [01:03<00:00, 15.87it/s]\n",
      "100%|██████████| 1000/1000 [00:56<00:00, 17.57it/s]\n",
      "100%|██████████| 1000/1000 [01:04<00:00, 15.59it/s]\n",
      "100%|██████████| 1000/1000 [00:50<00:00, 19.97it/s]\n",
      "100%|██████████| 1000/1000 [01:04<00:00, 15.42it/s]\n",
      "100%|██████████| 1000/1000 [00:57<00:00, 17.54it/s]\n",
      "100%|██████████| 1000/1000 [01:06<00:00, 15.12it/s]\n",
      "100%|██████████| 1000/1000 [00:52<00:00, 19.11it/s]\n",
      "100%|██████████| 1000/1000 [01:00<00:00, 16.56it/s]\n",
      "100%|██████████| 1000/1000 [00:54<00:00, 18.36it/s]\n",
      "100%|██████████| 1000/1000 [01:05<00:00, 15.31it/s]\n",
      "100%|██████████| 1000/1000 [00:56<00:00, 17.67it/s]\n",
      "100%|██████████| 1000/1000 [01:05<00:00, 15.17it/s]\n",
      "100%|██████████| 1000/1000 [00:56<00:00, 17.77it/s]\n",
      "100%|██████████| 1000/1000 [01:05<00:00, 15.29it/s]\n",
      "100%|██████████| 1000/1000 [00:56<00:00, 17.62it/s]\n",
      "100%|██████████| 1000/1000 [01:05<00:00, 15.17it/s]\n",
      "100%|██████████| 1000/1000 [00:54<00:00, 18.37it/s]\n",
      "100%|██████████| 1000/1000 [01:06<00:00, 15.14it/s]\n",
      "100%|██████████| 1000/1000 [00:56<00:00, 17.63it/s]\n",
      "  0%|          | 2/1000 [00:00<01:05, 15.17it/s]"
     ]
    },
    {
     "name": "stdout",
     "output_type": "stream",
     "text": [
      "0.746993831653341267\n",
      "579.9799799799799\n"
     ]
    },
    {
     "name": "stderr",
     "output_type": "stream",
     "text": [
      "100%|██████████| 1000/1000 [01:05<00:00, 15.29it/s]\n",
      "100%|██████████| 1000/1000 [00:57<00:00, 17.52it/s]\n",
      "100%|██████████| 1000/1000 [01:04<00:00, 15.50it/s]\n",
      "100%|██████████| 1000/1000 [00:57<00:00, 17.53it/s]\n",
      "100%|██████████| 1000/1000 [01:04<00:00, 15.60it/s]\n",
      "100%|██████████| 1000/1000 [00:57<00:00, 17.52it/s]\n",
      "100%|██████████| 1000/1000 [01:05<00:00, 15.32it/s]\n",
      "100%|██████████| 1000/1000 [00:51<00:00, 19.48it/s]\n",
      "100%|██████████| 1000/1000 [01:05<00:00, 15.35it/s]\n",
      "100%|██████████| 1000/1000 [00:56<00:00, 17.62it/s]\n",
      "100%|██████████| 1000/1000 [01:05<00:00, 15.17it/s]\n",
      "100%|██████████| 1000/1000 [00:56<00:00, 17.56it/s]\n",
      "100%|██████████| 1000/1000 [01:06<00:00, 15.15it/s]\n",
      "100%|██████████| 1000/1000 [00:56<00:00, 17.62it/s]\n",
      "  0%|          | 2/1000 [00:00<01:05, 15.22it/s]"
     ]
    },
    {
     "name": "stdout",
     "output_type": "stream",
     "text": [
      "0.8255093816166436671\n",
      "575.1751751751751\n"
     ]
    },
    {
     "name": "stderr",
     "output_type": "stream",
     "text": [
      "100%|██████████| 1000/1000 [01:02<00:00, 16.01it/s]\n",
      "100%|██████████| 1000/1000 [00:57<00:00, 17.51it/s]\n",
      "100%|██████████| 1000/1000 [01:02<00:00, 16.08it/s]\n",
      "100%|██████████| 1000/1000 [00:52<00:00, 19.17it/s]\n",
      "100%|██████████| 1000/1000 [01:06<00:00, 15.10it/s]\n",
      "100%|██████████| 1000/1000 [00:56<00:00, 17.57it/s]\n",
      "100%|██████████| 1000/1000 [01:01<00:00, 16.25it/s]\n",
      "100%|██████████| 1000/1000 [00:46<00:00, 21.28it/s]\n",
      "100%|██████████| 1000/1000 [01:06<00:00, 15.08it/s]\n",
      "100%|██████████| 1000/1000 [00:54<00:00, 18.25it/s]\n",
      "100%|██████████| 1000/1000 [01:00<00:00, 16.63it/s]\n",
      "100%|██████████| 1000/1000 [00:45<00:00, 21.85it/s]\n",
      "100%|██████████| 1000/1000 [00:58<00:00, 16.99it/s]\n",
      "100%|██████████| 1000/1000 [00:55<00:00, 17.90it/s]\n",
      "100%|██████████| 1000/1000 [01:04<00:00, 15.56it/s]\n",
      "100%|██████████| 1000/1000 [00:57<00:00, 17.28it/s]\n",
      "100%|██████████| 1000/1000 [01:06<00:00, 15.09it/s]\n",
      "100%|██████████| 1000/1000 [00:56<00:00, 17.57it/s]\n",
      "100%|██████████| 1000/1000 [01:06<00:00, 15.14it/s]\n",
      "100%|██████████| 1000/1000 [00:57<00:00, 17.54it/s]\n",
      "100%|██████████| 1000/1000 [01:05<00:00, 15.18it/s]\n",
      "100%|██████████| 1000/1000 [00:57<00:00, 17.53it/s]\n",
      "  0%|          | 2/1000 [00:00<01:05, 15.17it/s]"
     ]
    },
    {
     "name": "stdout",
     "output_type": "stream",
     "text": [
      "0.78991107552704944994\n",
      "589.4144144144144\n"
     ]
    },
    {
     "name": "stderr",
     "output_type": "stream",
     "text": [
      "100%|██████████| 1000/1000 [01:06<00:00, 15.14it/s]\n",
      "100%|██████████| 1000/1000 [00:55<00:00, 18.13it/s]\n",
      "100%|██████████| 1000/1000 [01:03<00:00, 15.70it/s]\n",
      "100%|██████████| 1000/1000 [00:54<00:00, 18.23it/s]\n",
      "100%|██████████| 1000/1000 [01:04<00:00, 15.42it/s]\n",
      "100%|██████████| 1000/1000 [00:51<00:00, 19.47it/s]\n",
      "100%|██████████| 1000/1000 [01:06<00:00, 15.14it/s]\n",
      "100%|██████████| 1000/1000 [00:57<00:00, 17.48it/s]\n",
      "100%|██████████| 1000/1000 [01:05<00:00, 15.16it/s]\n",
      "100%|██████████| 1000/1000 [00:55<00:00, 18.17it/s]\n",
      "100%|██████████| 1000/1000 [01:06<00:00, 15.14it/s]\n",
      "100%|██████████| 1000/1000 [00:54<00:00, 18.41it/s]\n",
      "100%|██████████| 1000/1000 [01:04<00:00, 15.44it/s]\n",
      "100%|██████████| 1000/1000 [00:56<00:00, 17.63it/s]\n",
      "100%|██████████| 1000/1000 [01:06<00:00, 15.14it/s]\n",
      "100%|██████████| 1000/1000 [00:56<00:00, 17.58it/s]\n",
      "100%|██████████| 1000/1000 [01:05<00:00, 15.16it/s]\n",
      "100%|██████████| 1000/1000 [00:56<00:00, 17.64it/s]\n",
      "  0%|          | 2/1000 [00:00<01:05, 15.21it/s]"
     ]
    },
    {
     "name": "stdout",
     "output_type": "stream",
     "text": [
      "0.7506749022279828043\n",
      "594.1941941941942\n"
     ]
    },
    {
     "name": "stderr",
     "output_type": "stream",
     "text": [
      "100%|██████████| 1000/1000 [01:06<00:00, 15.12it/s]\n",
      "100%|██████████| 1000/1000 [00:55<00:00, 18.06it/s]\n",
      "100%|██████████| 1000/1000 [01:04<00:00, 15.45it/s]\n",
      "100%|██████████| 1000/1000 [00:50<00:00, 19.99it/s]\n",
      "100%|██████████| 1000/1000 [01:02<00:00, 16.08it/s]\n",
      "100%|██████████| 1000/1000 [00:56<00:00, 17.55it/s]\n",
      "100%|██████████| 1000/1000 [01:06<00:00, 15.09it/s]\n",
      "100%|██████████| 1000/1000 [00:56<00:00, 17.69it/s]\n",
      "100%|██████████| 1000/1000 [01:06<00:00, 15.14it/s]\n",
      "100%|██████████| 1000/1000 [00:57<00:00, 17.44it/s]\n",
      "100%|██████████| 1000/1000 [01:06<00:00, 15.13it/s]\n",
      "100%|██████████| 1000/1000 [00:55<00:00, 18.04it/s]\n",
      "100%|██████████| 1000/1000 [01:04<00:00, 15.56it/s]\n",
      "100%|██████████| 1000/1000 [00:51<00:00, 19.47it/s]\n",
      "100%|██████████| 1000/1000 [01:02<00:00, 15.90it/s]\n",
      "100%|██████████| 1000/1000 [00:57<00:00, 17.54it/s]\n",
      "100%|██████████| 1000/1000 [01:03<00:00, 15.69it/s]\n",
      "100%|██████████| 1000/1000 [00:53<00:00, 18.56it/s]\n",
      "100%|██████████| 1000/1000 [01:06<00:00, 15.13it/s]\n",
      "100%|██████████| 1000/1000 [00:50<00:00, 19.88it/s]\n",
      "100%|██████████| 1000/1000 [01:05<00:00, 15.17it/s]\n",
      "100%|██████████| 1000/1000 [00:56<00:00, 17.57it/s]\n",
      "  0%|          | 2/1000 [00:00<01:04, 15.37it/s]"
     ]
    },
    {
     "name": "stdout",
     "output_type": "stream",
     "text": [
      "0.7825499455573394769\n",
      "591.0910910910911\n"
     ]
    },
    {
     "name": "stderr",
     "output_type": "stream",
     "text": [
      "100%|██████████| 1000/1000 [01:05<00:00, 15.16it/s]\n",
      "100%|██████████| 1000/1000 [00:53<00:00, 18.70it/s]\n",
      "100%|██████████| 1000/1000 [01:05<00:00, 15.18it/s]\n",
      "100%|██████████| 1000/1000 [00:56<00:00, 17.55it/s]\n",
      "100%|██████████| 1000/1000 [01:06<00:00, 15.11it/s]\n",
      "100%|██████████| 1000/1000 [00:47<00:00, 20.85it/s]\n",
      "100%|██████████| 1000/1000 [01:06<00:00, 15.15it/s]\n",
      "100%|██████████| 1000/1000 [00:49<00:00, 20.02it/s]\n",
      "100%|██████████| 1000/1000 [01:01<00:00, 16.18it/s]\n",
      "100%|██████████| 1000/1000 [00:57<00:00, 17.50it/s]\n",
      "100%|██████████| 1000/1000 [01:06<00:00, 15.10it/s]\n",
      "100%|██████████| 1000/1000 [00:53<00:00, 18.52it/s]\n",
      "100%|██████████| 1000/1000 [01:02<00:00, 16.09it/s]\n",
      "100%|██████████| 1000/1000 [00:56<00:00, 17.58it/s]\n",
      "100%|██████████| 1000/1000 [01:04<00:00, 15.45it/s]\n",
      "100%|██████████| 1000/1000 [00:45<00:00, 22.08it/s]\n",
      "100%|██████████| 1000/1000 [01:04<00:00, 15.43it/s]\n",
      "100%|██████████| 1000/1000 [00:54<00:00, 18.47it/s]\n",
      "100%|██████████| 1000/1000 [01:02<00:00, 15.88it/s]\n",
      "100%|██████████| 1000/1000 [00:53<00:00, 18.53it/s]\n",
      "100%|██████████| 1000/1000 [01:02<00:00, 16.05it/s]\n",
      "100%|██████████| 1000/1000 [00:56<00:00, 17.58it/s]\n",
      "100%|██████████| 1000/1000 [01:01<00:00, 16.21it/s]\n",
      "100%|██████████| 1000/1000 [00:56<00:00, 17.67it/s]\n",
      "100%|██████████| 1000/1000 [01:07<00:00, 14.88it/s]\n",
      "100%|██████████| 1000/1000 [00:51<00:00, 19.39it/s]\n",
      "100%|██████████| 1000/1000 [01:06<00:00, 15.12it/s]\n",
      "100%|██████████| 1000/1000 [00:57<00:00, 17.52it/s]\n",
      "100%|██████████| 1000/1000 [01:05<00:00, 15.15it/s]\n",
      "100%|██████████| 1000/1000 [00:56<00:00, 17.61it/s]\n",
      "100%|██████████| 1000/1000 [01:06<00:00, 15.12it/s]\n",
      "100%|██████████| 1000/1000 [00:49<00:00, 20.40it/s]\n",
      "  0%|          | 2/1000 [00:00<01:04, 15.53it/s]"
     ]
    },
    {
     "name": "stdout",
     "output_type": "stream",
     "text": [
      "0.8563915009435381087\n",
      "586.5865865865866\n"
     ]
    },
    {
     "name": "stderr",
     "output_type": "stream",
     "text": [
      "100%|██████████| 1000/1000 [01:06<00:00, 15.10it/s]\n",
      "100%|██████████| 1000/1000 [00:49<00:00, 20.17it/s]\n",
      "100%|██████████| 1000/1000 [01:03<00:00, 15.70it/s]\n",
      "100%|██████████| 1000/1000 [00:55<00:00, 18.14it/s]\n",
      "100%|██████████| 1000/1000 [01:06<00:00, 15.10it/s]\n",
      "100%|██████████| 1000/1000 [00:56<00:00, 17.62it/s]\n",
      "100%|██████████| 1000/1000 [01:06<00:00, 15.13it/s]\n",
      "100%|██████████| 1000/1000 [00:56<00:00, 17.57it/s]\n",
      "100%|██████████| 1000/1000 [01:05<00:00, 15.32it/s]\n",
      "100%|██████████| 1000/1000 [00:54<00:00, 18.42it/s]\n",
      "100%|██████████| 1000/1000 [01:04<00:00, 15.42it/s]\n",
      "100%|██████████| 1000/1000 [00:57<00:00, 17.52it/s]\n",
      "100%|██████████| 1000/1000 [01:06<00:00, 15.09it/s]\n",
      "100%|██████████| 1000/1000 [00:57<00:00, 17.48it/s]\n",
      "100%|██████████| 1000/1000 [01:06<00:00, 15.12it/s]\n",
      "100%|██████████| 1000/1000 [00:57<00:00, 17.52it/s]\n",
      "100%|██████████| 1000/1000 [01:05<00:00, 15.22it/s]\n",
      "100%|██████████| 1000/1000 [00:56<00:00, 17.65it/s]\n",
      "100%|██████████| 1000/1000 [01:06<00:00, 15.08it/s]\n",
      "100%|██████████| 1000/1000 [00:55<00:00, 17.92it/s]\n",
      "100%|██████████| 1000/1000 [01:06<00:00, 15.08it/s]\n",
      "100%|██████████| 1000/1000 [00:56<00:00, 17.71it/s]\n",
      "100%|██████████| 1000/1000 [01:06<00:00, 15.09it/s]\n",
      "100%|██████████| 1000/1000 [00:56<00:00, 17.58it/s]\n",
      "100%|██████████| 1000/1000 [01:06<00:00, 15.10it/s]\n",
      "100%|██████████| 1000/1000 [00:57<00:00, 17.49it/s]\n"
     ]
    }
   ],
   "source": [
    "temp_gtis = []\n",
    "temp_start = burst1_gti[0][0]\n",
    "while temp_start + 1.0 < burst1_gti[0][1]:\n",
    "    temp_gtis.append([temp_start, temp_start + 1.0])\n",
    "    temp_start += 0.5\n",
    "    \n",
    "\n",
    "for x in temp_gtis:\n",
    "    f_arr_A, z_prob_A = efold_search_ltcorr(events[0], f_min=575., f_max=600., f_steps=1000, time_intervals = [x], nbin = 32, pi_min = 35, pi_max = 260)\n",
    "    f_arr_B, z_prob_B = efold_search_ltcorr(events[1], f_min=575., f_max=600., f_steps=1000, time_intervals = [x], nbin = 32, pi_min = 35, pi_max = 260)\n",
    "    \n",
    "    total_prob = z_prob_A + z_prob_B - (z_prob_A * z_prob_B)\n",
    "#     print(total_prob)\n",
    "    \n",
    "    if np.max(total_prob) > 0.68: \n",
    "#         plt.figure(figsize= (9,6))\n",
    "#         plt.step(f_arr_A, z_prob_A, where='mid')\n",
    "#         print(np.max(z_prob_A))\n",
    "#         print(f_arr_A[np.argmax(z_prob_A)])\n",
    "\n",
    "#         plt.figure(figsize= (9,6))\n",
    "#         plt.step(f_arr_B, z_prob_B, where='mid')\n",
    "#         print(np.max(z_prob_B))\n",
    "#         print(f_arr_B[np.argmax(z_prob_B)])\n",
    "\n",
    "#         plt.figure(figsize= (9,6))\n",
    "#         plt.step(f_arr_A, total_prob, where='mid')\n",
    "        print(np.max(total_prob))\n",
    "        print(f_arr_A[np.argmax(total_prob)])"
   ]
  },
  {
   "cell_type": "code",
   "execution_count": 6,
   "metadata": {},
   "outputs": [
    {
     "name": "stderr",
     "output_type": "stream",
     "text": [
      "100%|██████████| 1000/1000 [01:06<00:00, 14.93it/s]\n",
      "100%|██████████| 1000/1000 [00:57<00:00, 17.51it/s]\n",
      "100%|██████████| 1000/1000 [01:04<00:00, 15.61it/s]\n",
      "100%|██████████| 1000/1000 [00:56<00:00, 17.84it/s]\n",
      "  0%|          | 2/1000 [00:00<01:05, 15.16it/s]"
     ]
    },
    {
     "name": "stdout",
     "output_type": "stream",
     "text": [
      "0.7368096732814367611\n",
      "582.7577577577578\n"
     ]
    },
    {
     "name": "stderr",
     "output_type": "stream",
     "text": [
      "100%|██████████| 1000/1000 [01:06<00:00, 15.02it/s]\n",
      "100%|██████████| 1000/1000 [00:58<00:00, 17.14it/s]\n",
      "100%|██████████| 1000/1000 [01:07<00:00, 14.91it/s]\n",
      "100%|██████████| 1000/1000 [01:02<00:00, 16.06it/s]\n",
      "100%|██████████| 1000/1000 [01:17<00:00, 12.87it/s]\n",
      "100%|██████████| 1000/1000 [01:06<00:00, 15.13it/s]\n",
      "100%|██████████| 1000/1000 [01:15<00:00, 13.21it/s]\n",
      "100%|██████████| 1000/1000 [01:05<00:00, 15.22it/s]\n",
      "100%|██████████| 1000/1000 [01:16<00:00, 13.14it/s]\n",
      "100%|██████████| 1000/1000 [01:08<00:00, 14.68it/s]\n",
      "  0%|          | 2/1000 [00:00<01:17, 12.84it/s]"
     ]
    },
    {
     "name": "stdout",
     "output_type": "stream",
     "text": [
      "0.9800856564304802898\n",
      "586.8368368368368\n"
     ]
    },
    {
     "name": "stderr",
     "output_type": "stream",
     "text": [
      "100%|██████████| 1000/1000 [01:21<00:00, 12.20it/s]\n",
      "100%|██████████| 1000/1000 [01:09<00:00, 14.45it/s]\n",
      "100%|██████████| 1000/1000 [01:09<00:00, 14.49it/s]\n",
      "100%|██████████| 1000/1000 [00:59<00:00, 16.92it/s]\n",
      "100%|██████████| 1000/1000 [01:07<00:00, 14.83it/s]\n",
      "100%|██████████| 1000/1000 [00:57<00:00, 17.26it/s]\n",
      "100%|██████████| 1000/1000 [01:09<00:00, 14.37it/s]\n",
      "100%|██████████| 1000/1000 [01:00<00:00, 16.67it/s]\n",
      "100%|██████████| 1000/1000 [01:07<00:00, 14.87it/s]\n",
      "100%|██████████| 1000/1000 [00:59<00:00, 16.90it/s]\n",
      "100%|██████████| 1000/1000 [01:07<00:00, 14.74it/s]\n",
      "100%|██████████| 1000/1000 [01:01<00:00, 16.27it/s]\n",
      "100%|██████████| 1000/1000 [01:07<00:00, 14.75it/s]\n",
      "100%|██████████| 1000/1000 [01:09<00:00, 14.32it/s]\n",
      "100%|██████████| 1000/1000 [01:29<00:00, 11.19it/s]\n",
      "100%|██████████| 1000/1000 [01:20<00:00, 12.38it/s]\n",
      "  0%|          | 2/1000 [00:00<01:35, 10.49it/s]"
     ]
    },
    {
     "name": "stdout",
     "output_type": "stream",
     "text": [
      "0.6994905453949717966\n",
      "594.0690690690691\n"
     ]
    },
    {
     "name": "stderr",
     "output_type": "stream",
     "text": [
      "100%|██████████| 1000/1000 [01:21<00:00, 12.23it/s]\n",
      "100%|██████████| 1000/1000 [01:20<00:00, 12.47it/s]\n",
      "  0%|          | 2/1000 [00:00<01:33, 10.63it/s]"
     ]
    },
    {
     "name": "stdout",
     "output_type": "stream",
     "text": [
      "0.80434892498333243616\n",
      "596.6716716716717\n"
     ]
    },
    {
     "name": "stderr",
     "output_type": "stream",
     "text": [
      "100%|██████████| 1000/1000 [01:30<00:00, 11.00it/s]\n",
      "100%|██████████| 1000/1000 [01:17<00:00, 12.92it/s]\n",
      "100%|██████████| 1000/1000 [01:32<00:00, 10.79it/s]\n",
      "100%|██████████| 1000/1000 [01:15<00:00, 13.23it/s]\n",
      "100%|██████████| 1000/1000 [01:36<00:00, 10.32it/s]\n",
      "100%|██████████| 1000/1000 [01:25<00:00, 11.67it/s]\n",
      "  0%|          | 1/1000 [00:00<01:44,  9.55it/s]"
     ]
    },
    {
     "name": "stdout",
     "output_type": "stream",
     "text": [
      "0.71213106393580050124\n",
      "593.3683683683684\n"
     ]
    },
    {
     "name": "stderr",
     "output_type": "stream",
     "text": [
      "100%|██████████| 1000/1000 [01:33<00:00, 10.67it/s]\n",
      "100%|██████████| 1000/1000 [01:19<00:00, 12.60it/s]\n",
      "  0%|          | 1/1000 [00:00<01:41,  9.87it/s]"
     ]
    },
    {
     "name": "stdout",
     "output_type": "stream",
     "text": [
      "0.83025261705274536195\n",
      "585.1351351351351\n"
     ]
    },
    {
     "name": "stderr",
     "output_type": "stream",
     "text": [
      "100%|██████████| 1000/1000 [01:31<00:00, 10.98it/s]\n",
      "100%|██████████| 1000/1000 [01:14<00:00, 13.50it/s]\n",
      "100%|██████████| 1000/1000 [01:31<00:00, 10.87it/s]\n",
      "100%|██████████| 1000/1000 [01:03<00:00, 15.84it/s]\n",
      "  0%|          | 2/1000 [00:00<01:23, 11.97it/s]"
     ]
    },
    {
     "name": "stdout",
     "output_type": "stream",
     "text": [
      "0.7925191061451718477\n",
      "591.7417417417417\n"
     ]
    },
    {
     "name": "stderr",
     "output_type": "stream",
     "text": [
      "100%|██████████| 1000/1000 [01:28<00:00, 11.34it/s]\n",
      "100%|██████████| 1000/1000 [01:20<00:00, 12.45it/s]\n",
      "  0%|          | 1/1000 [00:00<01:51,  8.95it/s]"
     ]
    },
    {
     "name": "stdout",
     "output_type": "stream",
     "text": [
      "0.8705972160455776043\n",
      "588.8638638638639\n"
     ]
    },
    {
     "name": "stderr",
     "output_type": "stream",
     "text": [
      "100%|██████████| 1000/1000 [01:24<00:00, 11.80it/s]\n",
      "100%|██████████| 1000/1000 [01:07<00:00, 14.72it/s]\n",
      "100%|██████████| 1000/1000 [01:15<00:00, 13.16it/s]\n",
      "100%|██████████| 1000/1000 [01:14<00:00, 13.38it/s]\n",
      "100%|██████████| 1000/1000 [01:25<00:00, 11.75it/s]\n",
      "100%|██████████| 1000/1000 [01:12<00:00, 13.79it/s]\n",
      "100%|██████████| 1000/1000 [01:25<00:00, 11.69it/s]\n",
      "100%|██████████| 1000/1000 [01:12<00:00, 13.80it/s]\n",
      "100%|██████████| 1000/1000 [01:18<00:00, 12.67it/s]\n",
      "100%|██████████| 1000/1000 [01:06<00:00, 15.02it/s]\n",
      "100%|██████████| 1000/1000 [01:16<00:00, 13.07it/s]\n",
      "100%|██████████| 1000/1000 [01:07<00:00, 14.87it/s]\n",
      "100%|██████████| 1000/1000 [01:17<00:00, 12.91it/s]\n",
      "100%|██████████| 1000/1000 [01:07<00:00, 14.83it/s]\n",
      "100%|██████████| 1000/1000 [01:11<00:00, 14.04it/s]\n",
      "100%|██████████| 1000/1000 [01:05<00:00, 15.22it/s]\n",
      "100%|██████████| 1000/1000 [01:14<00:00, 13.33it/s]\n",
      "100%|██████████| 1000/1000 [01:05<00:00, 15.19it/s]\n",
      "100%|██████████| 1000/1000 [01:09<00:00, 14.48it/s]\n",
      "100%|██████████| 1000/1000 [01:03<00:00, 15.77it/s]\n",
      "100%|██████████| 1000/1000 [01:12<00:00, 13.83it/s]\n",
      "100%|██████████| 1000/1000 [01:04<00:00, 15.54it/s]\n",
      "100%|██████████| 1000/1000 [01:07<00:00, 14.84it/s]\n",
      "100%|██████████| 1000/1000 [01:03<00:00, 15.66it/s]\n",
      "100%|██████████| 1000/1000 [01:13<00:00, 13.61it/s]\n",
      "100%|██████████| 1000/1000 [01:04<00:00, 15.60it/s]\n",
      "100%|██████████| 1000/1000 [01:12<00:00, 13.71it/s]\n",
      "100%|██████████| 1000/1000 [01:03<00:00, 15.66it/s]\n",
      "100%|██████████| 1000/1000 [01:13<00:00, 13.63it/s]\n",
      "100%|██████████| 1000/1000 [01:03<00:00, 15.63it/s]\n",
      "100%|██████████| 1000/1000 [01:24<00:00, 11.89it/s]\n",
      "100%|██████████| 1000/1000 [01:04<00:00, 15.58it/s]\n",
      "100%|██████████| 1000/1000 [01:12<00:00, 13.75it/s]\n",
      "100%|██████████| 1000/1000 [01:06<00:00, 15.09it/s]\n",
      "  0%|          | 2/1000 [00:00<01:12, 13.73it/s]"
     ]
    },
    {
     "name": "stdout",
     "output_type": "stream",
     "text": [
      "0.88869505924595013123\n",
      "595.7957957957958\n"
     ]
    },
    {
     "name": "stderr",
     "output_type": "stream",
     "text": [
      "100%|██████████| 1000/1000 [01:12<00:00, 13.86it/s]\n",
      "100%|██████████| 1000/1000 [01:02<00:00, 15.95it/s]\n",
      "100%|██████████| 1000/1000 [01:16<00:00, 13.09it/s]\n",
      "100%|██████████| 1000/1000 [01:02<00:00, 15.97it/s]\n",
      "100%|██████████| 1000/1000 [01:12<00:00, 13.89it/s]\n",
      "100%|██████████| 1000/1000 [01:02<00:00, 16.06it/s]\n",
      "100%|██████████| 1000/1000 [01:11<00:00, 13.92it/s]\n",
      "100%|██████████| 1000/1000 [01:03<00:00, 15.66it/s]\n",
      "100%|██████████| 1000/1000 [01:13<00:00, 13.55it/s]\n",
      "100%|██████████| 1000/1000 [01:04<00:00, 15.51it/s]\n",
      "100%|██████████| 1000/1000 [01:15<00:00, 13.33it/s]\n",
      "100%|██████████| 1000/1000 [01:08<00:00, 14.62it/s]\n",
      "  0%|          | 2/1000 [00:00<01:21, 12.19it/s]"
     ]
    },
    {
     "name": "stdout",
     "output_type": "stream",
     "text": [
      "0.9062879215701430402\n",
      "596.2962962962963\n"
     ]
    },
    {
     "name": "stderr",
     "output_type": "stream",
     "text": [
      "100%|██████████| 1000/1000 [01:15<00:00, 13.33it/s]\n",
      "100%|██████████| 1000/1000 [01:05<00:00, 15.33it/s]\n",
      "100%|██████████| 1000/1000 [01:14<00:00, 13.37it/s]\n",
      "100%|██████████| 1000/1000 [01:04<00:00, 15.42it/s]\n",
      "100%|██████████| 1000/1000 [01:14<00:00, 13.36it/s]\n",
      "100%|██████████| 1000/1000 [01:05<00:00, 15.23it/s]\n",
      "100%|██████████| 1000/1000 [01:07<00:00, 14.74it/s]\n",
      "100%|██████████| 1000/1000 [00:55<00:00, 17.86it/s]\n",
      "100%|██████████| 1000/1000 [01:05<00:00, 15.22it/s]\n",
      "100%|██████████| 1000/1000 [00:54<00:00, 18.46it/s]\n",
      "100%|██████████| 1000/1000 [01:07<00:00, 14.85it/s]\n",
      "100%|██████████| 1000/1000 [00:57<00:00, 17.28it/s]\n",
      "100%|██████████| 1000/1000 [01:06<00:00, 15.03it/s]\n",
      "100%|██████████| 1000/1000 [00:58<00:00, 17.13it/s]\n",
      "100%|██████████| 1000/1000 [01:06<00:00, 15.09it/s]\n",
      "100%|██████████| 1000/1000 [01:00<00:00, 16.46it/s]\n",
      "  0%|          | 1/1000 [00:00<01:41,  9.89it/s]"
     ]
    },
    {
     "name": "stdout",
     "output_type": "stream",
     "text": [
      "0.82216377993484379694\n",
      "581.056056056056\n"
     ]
    },
    {
     "name": "stderr",
     "output_type": "stream",
     "text": [
      "100%|██████████| 1000/1000 [01:23<00:00, 11.91it/s]\n",
      "100%|██████████| 1000/1000 [01:12<00:00, 13.85it/s]\n",
      "100%|██████████| 1000/1000 [01:22<00:00, 12.14it/s]\n",
      "100%|██████████| 1000/1000 [01:08<00:00, 14.54it/s]\n",
      "100%|██████████| 1000/1000 [01:27<00:00, 11.49it/s]\n",
      "100%|██████████| 1000/1000 [01:10<00:00, 14.11it/s]\n",
      "100%|██████████| 1000/1000 [01:27<00:00, 11.43it/s]\n",
      "100%|██████████| 1000/1000 [01:21<00:00, 12.28it/s]\n",
      "100%|██████████| 1000/1000 [01:27<00:00, 11.43it/s]\n",
      "100%|██████████| 1000/1000 [00:58<00:00, 17.20it/s]\n",
      "100%|██████████| 1000/1000 [01:13<00:00, 13.52it/s]\n",
      "100%|██████████| 1000/1000 [01:08<00:00, 14.63it/s]\n",
      "100%|██████████| 1000/1000 [01:21<00:00, 12.21it/s]\n",
      "100%|██████████| 1000/1000 [01:07<00:00, 14.78it/s]\n",
      "100%|██████████| 1000/1000 [01:14<00:00, 13.49it/s]\n",
      "100%|██████████| 1000/1000 [01:10<00:00, 14.15it/s]\n",
      "100%|██████████| 1000/1000 [01:20<00:00, 12.46it/s]\n",
      "100%|██████████| 1000/1000 [01:10<00:00, 14.27it/s]\n",
      "100%|██████████| 1000/1000 [01:17<00:00, 12.98it/s]\n",
      "100%|██████████| 1000/1000 [01:07<00:00, 14.82it/s]\n",
      "100%|██████████| 1000/1000 [01:15<00:00, 13.29it/s]\n",
      "100%|██████████| 1000/1000 [01:07<00:00, 14.82it/s]\n",
      "100%|██████████| 1000/1000 [01:16<00:00, 12.99it/s]\n",
      "100%|██████████| 1000/1000 [01:09<00:00, 14.35it/s]\n",
      "100%|██████████| 1000/1000 [01:17<00:00, 12.95it/s]\n",
      "100%|██████████| 1000/1000 [01:10<00:00, 14.12it/s]\n",
      "100%|██████████| 1000/1000 [01:16<00:00, 13.11it/s]\n",
      "100%|██████████| 1000/1000 [01:04<00:00, 15.39it/s]\n",
      "100%|██████████| 1000/1000 [01:16<00:00, 13.02it/s]\n",
      "100%|██████████| 1000/1000 [01:06<00:00, 15.06it/s]\n",
      "100%|██████████| 1000/1000 [01:17<00:00, 12.98it/s]\n",
      "100%|██████████| 1000/1000 [01:07<00:00, 14.89it/s]\n",
      "100%|██████████| 1000/1000 [01:16<00:00, 13.05it/s]\n",
      "100%|██████████| 1000/1000 [01:06<00:00, 15.10it/s]\n",
      "100%|██████████| 1000/1000 [01:16<00:00, 13.06it/s]\n",
      "100%|██████████| 1000/1000 [01:06<00:00, 15.08it/s]\n",
      "100%|██████████| 1000/1000 [01:17<00:00, 12.90it/s]\n",
      "100%|██████████| 1000/1000 [01:06<00:00, 15.14it/s]\n",
      "100%|██████████| 1000/1000 [01:17<00:00, 12.87it/s]\n",
      "100%|██████████| 1000/1000 [01:08<00:00, 14.63it/s]\n",
      "100%|██████████| 1000/1000 [01:20<00:00, 12.39it/s]\n",
      "100%|██████████| 1000/1000 [01:09<00:00, 14.37it/s]\n",
      "100%|██████████| 1000/1000 [01:18<00:00, 12.78it/s]\n",
      "100%|██████████| 1000/1000 [01:11<00:00, 13.91it/s]\n",
      "100%|██████████| 1000/1000 [01:20<00:00, 12.37it/s]\n",
      "100%|██████████| 1000/1000 [01:06<00:00, 15.04it/s]\n",
      "100%|██████████| 1000/1000 [01:18<00:00, 12.66it/s]\n",
      "100%|██████████| 1000/1000 [01:08<00:00, 14.55it/s]\n",
      "  0%|          | 2/1000 [00:00<01:19, 12.53it/s]"
     ]
    },
    {
     "name": "stdout",
     "output_type": "stream",
     "text": [
      "0.90616965971241655864\n",
      "587.9379379379379\n"
     ]
    },
    {
     "name": "stderr",
     "output_type": "stream",
     "text": [
      "100%|██████████| 1000/1000 [01:18<00:00, 12.82it/s]\n",
      "100%|██████████| 1000/1000 [01:11<00:00, 13.99it/s]\n",
      "100%|██████████| 1000/1000 [01:05<00:00, 15.37it/s]\n",
      "100%|██████████| 1000/1000 [00:56<00:00, 17.83it/s]\n",
      "100%|██████████| 1000/1000 [01:05<00:00, 15.25it/s]\n",
      "100%|██████████| 1000/1000 [00:57<00:00, 17.50it/s]\n",
      "100%|██████████| 1000/1000 [01:06<00:00, 15.14it/s]\n",
      "100%|██████████| 1000/1000 [00:58<00:00, 17.09it/s]\n",
      "100%|██████████| 1000/1000 [01:06<00:00, 15.07it/s]\n",
      "100%|██████████| 1000/1000 [00:56<00:00, 17.55it/s]\n",
      "100%|██████████| 1000/1000 [01:03<00:00, 15.66it/s]\n",
      "100%|██████████| 1000/1000 [00:59<00:00, 16.78it/s]\n",
      "100%|██████████| 1000/1000 [01:11<00:00, 14.04it/s]\n",
      "100%|██████████| 1000/1000 [00:57<00:00, 17.48it/s]\n",
      "100%|██████████| 1000/1000 [01:15<00:00, 13.33it/s]\n",
      "100%|██████████| 1000/1000 [01:05<00:00, 15.38it/s]\n",
      "100%|██████████| 1000/1000 [01:10<00:00, 14.15it/s]\n",
      "100%|██████████| 1000/1000 [00:58<00:00, 17.00it/s]\n",
      "100%|██████████| 1000/1000 [01:13<00:00, 13.67it/s]\n",
      "100%|██████████| 1000/1000 [00:59<00:00, 16.75it/s]\n",
      "100%|██████████| 1000/1000 [01:12<00:00, 13.87it/s]\n",
      "100%|██████████| 1000/1000 [01:01<00:00, 16.19it/s]\n",
      "100%|██████████| 1000/1000 [01:04<00:00, 15.49it/s]\n",
      "100%|██████████| 1000/1000 [00:57<00:00, 17.54it/s]\n",
      "100%|██████████| 1000/1000 [01:05<00:00, 15.21it/s]\n",
      "100%|██████████| 1000/1000 [01:01<00:00, 16.32it/s]\n",
      "100%|██████████| 1000/1000 [01:05<00:00, 15.30it/s]\n",
      "100%|██████████| 1000/1000 [00:57<00:00, 17.53it/s]\n",
      "100%|██████████| 1000/1000 [01:04<00:00, 15.52it/s]\n",
      "100%|██████████| 1000/1000 [00:56<00:00, 17.56it/s]\n",
      "100%|██████████| 1000/1000 [01:05<00:00, 15.29it/s]\n",
      "100%|██████████| 1000/1000 [00:57<00:00, 17.50it/s]\n",
      "100%|██████████| 1000/1000 [01:03<00:00, 15.74it/s]\n",
      "100%|██████████| 1000/1000 [00:56<00:00, 17.60it/s]\n",
      "100%|██████████| 1000/1000 [01:05<00:00, 15.17it/s]\n",
      "100%|██████████| 1000/1000 [00:57<00:00, 17.54it/s]\n",
      "100%|██████████| 1000/1000 [01:06<00:00, 15.05it/s]\n",
      "100%|██████████| 1000/1000 [00:58<00:00, 17.23it/s]\n",
      "100%|██████████| 1000/1000 [01:06<00:00, 15.11it/s]\n",
      "100%|██████████| 1000/1000 [00:57<00:00, 17.54it/s]\n",
      "100%|██████████| 1000/1000 [01:05<00:00, 15.21it/s]\n",
      "100%|██████████| 1000/1000 [00:56<00:00, 17.66it/s]\n",
      "100%|██████████| 1000/1000 [01:05<00:00, 15.18it/s]\n",
      "100%|██████████| 1000/1000 [00:54<00:00, 18.20it/s]\n",
      "100%|██████████| 1000/1000 [01:06<00:00, 15.06it/s]\n",
      "100%|██████████| 1000/1000 [01:00<00:00, 16.41it/s]\n",
      "100%|██████████| 1000/1000 [01:06<00:00, 15.11it/s]\n",
      "100%|██████████| 1000/1000 [00:57<00:00, 17.47it/s]\n",
      "100%|██████████| 1000/1000 [01:06<00:00, 15.13it/s]\n",
      "100%|██████████| 1000/1000 [00:56<00:00, 17.57it/s]\n",
      "100%|██████████| 1000/1000 [01:06<00:00, 15.14it/s]\n",
      "100%|██████████| 1000/1000 [00:55<00:00, 17.96it/s]\n",
      "100%|██████████| 1000/1000 [01:05<00:00, 15.20it/s]\n",
      "100%|██████████| 1000/1000 [01:02<00:00, 15.95it/s]\n",
      "  0%|          | 2/1000 [00:00<01:15, 13.14it/s]"
     ]
    },
    {
     "name": "stdout",
     "output_type": "stream",
     "text": [
      "0.8878817329245918266\n",
      "598.8738738738739\n"
     ]
    },
    {
     "name": "stderr",
     "output_type": "stream",
     "text": [
      "100%|██████████| 1000/1000 [01:16<00:00, 13.02it/s]\n",
      "100%|██████████| 1000/1000 [01:06<00:00, 14.94it/s]\n",
      "100%|██████████| 1000/1000 [01:17<00:00, 12.90it/s]\n",
      "100%|██████████| 1000/1000 [01:07<00:00, 14.75it/s]\n",
      "  0%|          | 2/1000 [00:00<01:12, 13.69it/s]"
     ]
    },
    {
     "name": "stdout",
     "output_type": "stream",
     "text": [
      "0.8777737326902236431\n",
      "589.8148148148148\n"
     ]
    },
    {
     "name": "stderr",
     "output_type": "stream",
     "text": [
      "100%|██████████| 1000/1000 [01:15<00:00, 13.17it/s]\n",
      "100%|██████████| 1000/1000 [01:04<00:00, 15.53it/s]\n",
      "  0%|          | 2/1000 [00:00<01:14, 13.33it/s]"
     ]
    },
    {
     "name": "stdout",
     "output_type": "stream",
     "text": [
      "0.9927440541370168292\n",
      "581.7567567567568\n"
     ]
    },
    {
     "name": "stderr",
     "output_type": "stream",
     "text": [
      "100%|██████████| 1000/1000 [01:13<00:00, 13.63it/s]\n",
      "100%|██████████| 1000/1000 [01:04<00:00, 15.62it/s]\n",
      "100%|██████████| 1000/1000 [01:13<00:00, 13.65it/s]\n",
      "100%|██████████| 1000/1000 [01:01<00:00, 16.21it/s]\n",
      "100%|██████████| 1000/1000 [01:11<00:00, 13.92it/s]\n",
      "100%|██████████| 1000/1000 [01:04<00:00, 15.43it/s]\n",
      "100%|██████████| 1000/1000 [01:13<00:00, 13.52it/s]\n",
      "100%|██████████| 1000/1000 [01:03<00:00, 15.64it/s]\n",
      "100%|██████████| 1000/1000 [01:13<00:00, 13.64it/s]\n",
      "100%|██████████| 1000/1000 [01:01<00:00, 16.21it/s]\n",
      "100%|██████████| 1000/1000 [01:12<00:00, 13.79it/s]\n",
      "100%|██████████| 1000/1000 [01:04<00:00, 15.55it/s]\n",
      "100%|██████████| 1000/1000 [01:16<00:00, 13.04it/s]\n",
      "100%|██████████| 1000/1000 [01:03<00:00, 15.73it/s]\n",
      "100%|██████████| 1000/1000 [01:13<00:00, 13.70it/s]\n",
      "100%|██████████| 1000/1000 [01:03<00:00, 15.72it/s]\n",
      "100%|██████████| 1000/1000 [01:13<00:00, 13.57it/s]\n",
      "100%|██████████| 1000/1000 [01:04<00:00, 15.60it/s]\n",
      "100%|██████████| 1000/1000 [01:13<00:00, 13.53it/s]\n",
      "100%|██████████| 1000/1000 [01:04<00:00, 15.52it/s]\n",
      "100%|██████████| 1000/1000 [01:14<00:00, 13.48it/s]\n",
      "100%|██████████| 1000/1000 [01:02<00:00, 15.99it/s]\n",
      "100%|██████████| 1000/1000 [01:14<00:00, 13.42it/s]\n",
      "100%|██████████| 1000/1000 [01:06<00:00, 14.98it/s]\n",
      "  0%|          | 2/1000 [00:00<01:17, 12.85it/s]"
     ]
    },
    {
     "name": "stdout",
     "output_type": "stream",
     "text": [
      "0.94531456903420139903\n",
      "581.981981981982\n"
     ]
    },
    {
     "name": "stderr",
     "output_type": "stream",
     "text": [
      "100%|██████████| 1000/1000 [01:14<00:00, 13.47it/s]\n",
      "100%|██████████| 1000/1000 [01:05<00:00, 15.16it/s]\n",
      "100%|██████████| 1000/1000 [01:14<00:00, 13.33it/s]\n",
      "100%|██████████| 1000/1000 [01:07<00:00, 14.84it/s]\n",
      "100%|██████████| 1000/1000 [01:14<00:00, 13.46it/s]\n",
      "100%|██████████| 1000/1000 [01:04<00:00, 15.54it/s]\n",
      "100%|██████████| 1000/1000 [01:11<00:00, 13.96it/s]\n",
      "100%|██████████| 1000/1000 [01:05<00:00, 15.17it/s]\n",
      "100%|██████████| 1000/1000 [01:15<00:00, 13.31it/s]\n",
      "100%|██████████| 1000/1000 [01:02<00:00, 15.88it/s]\n",
      "100%|██████████| 1000/1000 [01:17<00:00, 12.86it/s]\n",
      "100%|██████████| 1000/1000 [01:05<00:00, 15.37it/s]\n",
      "100%|██████████| 1000/1000 [01:13<00:00, 13.63it/s]\n",
      "100%|██████████| 1000/1000 [01:05<00:00, 15.25it/s]\n",
      "100%|██████████| 1000/1000 [01:16<00:00, 13.11it/s]\n",
      "100%|██████████| 1000/1000 [01:03<00:00, 15.82it/s]\n",
      "100%|██████████| 1000/1000 [01:14<00:00, 13.49it/s]\n",
      "100%|██████████| 1000/1000 [01:04<00:00, 15.41it/s]\n",
      "100%|██████████| 1000/1000 [01:12<00:00, 13.78it/s]\n",
      "100%|██████████| 1000/1000 [01:04<00:00, 15.51it/s]\n",
      "100%|██████████| 1000/1000 [01:14<00:00, 13.47it/s]\n",
      "100%|██████████| 1000/1000 [01:00<00:00, 16.43it/s]\n",
      "  0%|          | 2/1000 [00:00<01:09, 14.32it/s]"
     ]
    },
    {
     "name": "stdout",
     "output_type": "stream",
     "text": [
      "0.68129145451557959756\n",
      "598.0980980980981\n"
     ]
    },
    {
     "name": "stderr",
     "output_type": "stream",
     "text": [
      "100%|██████████| 1000/1000 [01:10<00:00, 14.27it/s]\n",
      "100%|██████████| 1000/1000 [00:56<00:00, 17.72it/s]\n",
      "100%|██████████| 1000/1000 [01:18<00:00, 12.70it/s]\n",
      "100%|██████████| 1000/1000 [01:05<00:00, 15.17it/s]\n",
      "100%|██████████| 1000/1000 [01:15<00:00, 13.17it/s]\n",
      "100%|██████████| 1000/1000 [01:05<00:00, 15.31it/s]\n",
      "100%|██████████| 1000/1000 [01:14<00:00, 13.36it/s]\n",
      "100%|██████████| 1000/1000 [01:04<00:00, 15.39it/s]\n",
      "100%|██████████| 1000/1000 [01:15<00:00, 13.33it/s]\n",
      "100%|██████████| 1000/1000 [01:04<00:00, 15.42it/s]\n",
      "  0%|          | 2/1000 [00:00<01:25, 11.70it/s]"
     ]
    },
    {
     "name": "stdout",
     "output_type": "stream",
     "text": [
      "0.84662788862240093146\n",
      "594.8198198198198\n"
     ]
    },
    {
     "name": "stderr",
     "output_type": "stream",
     "text": [
      "100%|██████████| 1000/1000 [01:15<00:00, 13.29it/s]\n",
      "100%|██████████| 1000/1000 [01:05<00:00, 15.21it/s]\n",
      "  0%|          | 2/1000 [00:00<01:17, 12.84it/s]"
     ]
    },
    {
     "name": "stdout",
     "output_type": "stream",
     "text": [
      "0.8811397473504983813\n",
      "595.0200200200201\n"
     ]
    },
    {
     "name": "stderr",
     "output_type": "stream",
     "text": [
      "100%|██████████| 1000/1000 [01:16<00:00, 13.00it/s]\n",
      "100%|██████████| 1000/1000 [01:04<00:00, 15.41it/s]\n",
      "100%|██████████| 1000/1000 [01:13<00:00, 13.52it/s]\n",
      "100%|██████████| 1000/1000 [01:05<00:00, 15.28it/s]\n",
      "100%|██████████| 1000/1000 [01:15<00:00, 13.25it/s]\n",
      "100%|██████████| 1000/1000 [01:05<00:00, 15.20it/s]\n",
      "100%|██████████| 1000/1000 [01:16<00:00, 13.12it/s]\n",
      "100%|██████████| 1000/1000 [01:05<00:00, 15.24it/s]\n",
      "100%|██████████| 1000/1000 [01:14<00:00, 13.39it/s]\n",
      "100%|██████████| 1000/1000 [01:03<00:00, 15.79it/s]\n",
      "100%|██████████| 1000/1000 [01:14<00:00, 13.34it/s]\n",
      "100%|██████████| 1000/1000 [01:03<00:00, 15.64it/s]\n",
      "  0%|          | 2/1000 [00:00<01:18, 12.69it/s]"
     ]
    },
    {
     "name": "stdout",
     "output_type": "stream",
     "text": [
      "0.8764684593963990439\n",
      "575.7757757757757\n"
     ]
    },
    {
     "name": "stderr",
     "output_type": "stream",
     "text": [
      "100%|██████████| 1000/1000 [01:16<00:00, 13.13it/s]\n",
      "100%|██████████| 1000/1000 [01:03<00:00, 15.81it/s]\n",
      "100%|██████████| 1000/1000 [01:14<00:00, 13.44it/s]\n",
      "100%|██████████| 1000/1000 [01:03<00:00, 15.76it/s]\n",
      "100%|██████████| 1000/1000 [01:11<00:00, 14.08it/s]\n",
      "100%|██████████| 1000/1000 [01:06<00:00, 14.97it/s]\n",
      "100%|██████████| 1000/1000 [01:14<00:00, 13.34it/s]\n",
      "100%|██████████| 1000/1000 [01:06<00:00, 14.93it/s]\n",
      "100%|██████████| 1000/1000 [01:18<00:00, 12.79it/s]\n",
      "100%|██████████| 1000/1000 [01:07<00:00, 14.77it/s]\n",
      "100%|██████████| 1000/1000 [01:19<00:00, 12.65it/s]\n",
      "100%|██████████| 1000/1000 [01:00<00:00, 16.46it/s]\n",
      "100%|██████████| 1000/1000 [01:07<00:00, 14.89it/s]\n",
      "100%|██████████| 1000/1000 [00:58<00:00, 17.19it/s]\n",
      "100%|██████████| 1000/1000 [01:07<00:00, 14.71it/s]\n",
      "100%|██████████| 1000/1000 [01:04<00:00, 15.57it/s]\n",
      "100%|██████████| 1000/1000 [01:08<00:00, 14.61it/s]\n",
      "100%|██████████| 1000/1000 [00:59<00:00, 16.68it/s]\n",
      "100%|██████████| 1000/1000 [01:16<00:00, 13.05it/s]\n",
      "100%|██████████| 1000/1000 [01:02<00:00, 15.88it/s]\n",
      "100%|██████████| 1000/1000 [01:09<00:00, 14.31it/s]\n",
      "100%|██████████| 1000/1000 [01:00<00:00, 16.55it/s]\n",
      "100%|██████████| 1000/1000 [01:10<00:00, 14.26it/s]\n",
      "100%|██████████| 1000/1000 [01:00<00:00, 16.47it/s]\n",
      "100%|██████████| 1000/1000 [01:10<00:00, 14.22it/s]\n",
      "100%|██████████| 1000/1000 [00:58<00:00, 17.18it/s]\n",
      "100%|██████████| 1000/1000 [01:02<00:00, 16.05it/s]\n",
      "100%|██████████| 1000/1000 [01:00<00:00, 16.56it/s]\n",
      "100%|██████████| 1000/1000 [01:06<00:00, 14.96it/s]\n",
      "100%|██████████| 1000/1000 [01:00<00:00, 16.51it/s]\n",
      "100%|██████████| 1000/1000 [01:09<00:00, 14.29it/s]\n",
      "100%|██████████| 1000/1000 [00:59<00:00, 16.83it/s]\n",
      "100%|██████████| 1000/1000 [01:10<00:00, 14.17it/s]\n",
      "100%|██████████| 1000/1000 [01:00<00:00, 16.52it/s]\n",
      "100%|██████████| 1000/1000 [01:09<00:00, 14.36it/s]\n",
      "100%|██████████| 1000/1000 [00:58<00:00, 16.98it/s]\n",
      "100%|██████████| 1000/1000 [01:05<00:00, 15.33it/s]\n",
      "100%|██████████| 1000/1000 [01:00<00:00, 16.48it/s]\n",
      "100%|██████████| 1000/1000 [01:09<00:00, 14.49it/s]\n",
      "100%|██████████| 1000/1000 [01:00<00:00, 16.63it/s]\n",
      "100%|██████████| 1000/1000 [01:10<00:00, 14.28it/s]\n",
      "100%|██████████| 1000/1000 [01:00<00:00, 16.54it/s]\n",
      "100%|██████████| 1000/1000 [01:10<00:00, 14.23it/s]\n",
      "100%|██████████| 1000/1000 [01:00<00:00, 16.57it/s]\n",
      "100%|██████████| 1000/1000 [01:08<00:00, 14.55it/s]\n",
      "100%|██████████| 1000/1000 [00:59<00:00, 16.79it/s]\n",
      "  0%|          | 2/1000 [00:00<01:07, 14.74it/s]"
     ]
    },
    {
     "name": "stdout",
     "output_type": "stream",
     "text": [
      "0.76301795240742154025\n",
      "595.8208208208208\n"
     ]
    },
    {
     "name": "stderr",
     "output_type": "stream",
     "text": [
      "100%|██████████| 1000/1000 [01:10<00:00, 14.11it/s]\n",
      "100%|██████████| 1000/1000 [01:00<00:00, 16.64it/s]\n",
      "100%|██████████| 1000/1000 [01:11<00:00, 14.07it/s]\n",
      "100%|██████████| 1000/1000 [01:00<00:00, 16.47it/s]\n",
      "100%|██████████| 1000/1000 [01:10<00:00, 14.27it/s]\n",
      "100%|██████████| 1000/1000 [01:00<00:00, 16.43it/s]\n",
      "100%|██████████| 1000/1000 [01:11<00:00, 14.00it/s]\n",
      "100%|██████████| 1000/1000 [01:02<00:00, 16.08it/s]\n",
      "100%|██████████| 1000/1000 [01:09<00:00, 14.36it/s]\n",
      "100%|██████████| 1000/1000 [01:01<00:00, 16.36it/s]\n",
      "100%|██████████| 1000/1000 [01:10<00:00, 14.14it/s]\n",
      "100%|██████████| 1000/1000 [01:00<00:00, 16.42it/s]\n",
      "  0%|          | 2/1000 [00:00<01:14, 13.38it/s]"
     ]
    },
    {
     "name": "stdout",
     "output_type": "stream",
     "text": [
      "0.82692279833211435047\n",
      "581.3063063063063\n"
     ]
    },
    {
     "name": "stderr",
     "output_type": "stream",
     "text": [
      "100%|██████████| 1000/1000 [01:11<00:00, 14.05it/s]\n",
      "100%|██████████| 1000/1000 [01:00<00:00, 16.44it/s]\n",
      "100%|██████████| 1000/1000 [01:07<00:00, 14.88it/s]\n",
      "100%|██████████| 1000/1000 [00:57<00:00, 17.38it/s]\n",
      "100%|██████████| 1000/1000 [01:07<00:00, 14.82it/s]\n",
      "100%|██████████| 1000/1000 [00:56<00:00, 17.79it/s]\n",
      "100%|██████████| 1000/1000 [01:05<00:00, 15.28it/s]\n",
      "100%|██████████| 1000/1000 [00:57<00:00, 17.48it/s]\n",
      "100%|██████████| 1000/1000 [01:06<00:00, 15.07it/s]\n",
      "100%|██████████| 1000/1000 [00:58<00:00, 17.12it/s]\n",
      "100%|██████████| 1000/1000 [01:09<00:00, 14.49it/s]\n",
      "100%|██████████| 1000/1000 [00:58<00:00, 16.97it/s]\n",
      "100%|██████████| 1000/1000 [01:08<00:00, 14.59it/s]\n",
      "100%|██████████| 1000/1000 [00:58<00:00, 17.11it/s]\n",
      "100%|██████████| 1000/1000 [01:08<00:00, 14.50it/s]\n",
      "100%|██████████| 1000/1000 [00:56<00:00, 17.73it/s]\n",
      "100%|██████████| 1000/1000 [01:05<00:00, 15.34it/s]\n",
      "100%|██████████| 1000/1000 [00:57<00:00, 17.43it/s]\n",
      "100%|██████████| 1000/1000 [01:05<00:00, 15.25it/s]\n",
      "100%|██████████| 1000/1000 [00:59<00:00, 16.91it/s]\n",
      "100%|██████████| 1000/1000 [01:08<00:00, 14.65it/s]\n",
      "100%|██████████| 1000/1000 [00:57<00:00, 17.42it/s]\n",
      "100%|██████████| 1000/1000 [01:08<00:00, 14.55it/s]\n",
      "100%|██████████| 1000/1000 [01:00<00:00, 16.54it/s]\n",
      "100%|██████████| 1000/1000 [01:07<00:00, 14.77it/s]\n",
      "100%|██████████| 1000/1000 [01:00<00:00, 16.41it/s]\n",
      "100%|██████████| 1000/1000 [01:10<00:00, 14.19it/s]\n",
      "100%|██████████| 1000/1000 [01:02<00:00, 15.92it/s]\n",
      "  0%|          | 2/1000 [00:00<01:09, 14.38it/s]"
     ]
    },
    {
     "name": "stdout",
     "output_type": "stream",
     "text": [
      "0.7779896991589107247\n",
      "580.7807807807808\n"
     ]
    },
    {
     "name": "stderr",
     "output_type": "stream",
     "text": [
      "100%|██████████| 1000/1000 [01:10<00:00, 14.26it/s]\n",
      "100%|██████████| 1000/1000 [01:00<00:00, 16.46it/s]\n",
      "100%|██████████| 1000/1000 [01:09<00:00, 14.48it/s]\n",
      "100%|██████████| 1000/1000 [00:56<00:00, 17.63it/s]\n",
      "100%|██████████| 1000/1000 [01:09<00:00, 14.38it/s]\n",
      "100%|██████████| 1000/1000 [01:00<00:00, 16.62it/s]\n",
      "100%|██████████| 1000/1000 [01:08<00:00, 14.69it/s]\n",
      "100%|██████████| 1000/1000 [01:01<00:00, 16.27it/s]\n",
      "100%|██████████| 1000/1000 [01:08<00:00, 14.55it/s]\n",
      "100%|██████████| 1000/1000 [01:01<00:00, 16.15it/s]\n",
      "  0%|          | 2/1000 [00:00<01:09, 14.42it/s]"
     ]
    },
    {
     "name": "stdout",
     "output_type": "stream",
     "text": [
      "0.73522506699286871434\n",
      "586.6116116116116\n"
     ]
    },
    {
     "name": "stderr",
     "output_type": "stream",
     "text": [
      "100%|██████████| 1000/1000 [01:11<00:00, 13.93it/s]\n",
      "100%|██████████| 1000/1000 [00:56<00:00, 17.65it/s]\n",
      "100%|██████████| 1000/1000 [01:07<00:00, 14.73it/s]\n",
      "100%|██████████| 1000/1000 [01:02<00:00, 16.11it/s]\n",
      "100%|██████████| 1000/1000 [01:10<00:00, 14.28it/s]\n",
      "100%|██████████| 1000/1000 [01:01<00:00, 16.27it/s]\n",
      "100%|██████████| 1000/1000 [01:09<00:00, 14.33it/s]\n",
      "100%|██████████| 1000/1000 [00:57<00:00, 17.43it/s]\n",
      "100%|██████████| 1000/1000 [01:10<00:00, 14.18it/s]\n",
      "100%|██████████| 1000/1000 [01:01<00:00, 16.36it/s]\n",
      "100%|██████████| 1000/1000 [01:12<00:00, 13.88it/s]\n",
      "100%|██████████| 1000/1000 [00:58<00:00, 17.10it/s]\n"
     ]
    }
   ],
   "source": [
    "temp_gtis = []\n",
    "temp_start = burst2_gti[0][0]\n",
    "while temp_start + 1.0 < burst2_gti[0][1]:\n",
    "    temp_gtis.append([temp_start, temp_start + 1.0])\n",
    "    temp_start += 0.5\n",
    "\n",
    "\n",
    "for x in temp_gtis:\n",
    "    f_arr_A, z_prob_A = efold_search_ltcorr(events[0], f_min=575., f_max=600., f_steps=1000, time_intervals = [x], nbin = 32, pi_min = 35, pi_max = 260)\n",
    "    f_arr_B, z_prob_B = efold_search_ltcorr(events[1], f_min=575., f_max=600., f_steps=1000, time_intervals = [x], nbin = 32, pi_min = 35, pi_max = 260)\n",
    "    \n",
    "    total_prob = z_prob_A + z_prob_B - (z_prob_A * z_prob_B)\n",
    "#     print(total_prob)\n",
    "    \n",
    "    if np.max(total_prob) > 0.68: \n",
    "#         plt.figure(figsize= (9,6))\n",
    "#         plt.step(f_arr_A, z_prob_A, where='mid')\n",
    "#         print(np.max(z_prob_A))\n",
    "#         print(f_arr_A[np.argmax(z_prob_A)])\n",
    "\n",
    "#         plt.figure(figsize= (9,6))\n",
    "#         plt.step(f_arr_B, z_prob_B, where='mid')\n",
    "#         print(np.max(z_prob_B))\n",
    "#         print(f_arr_B[np.argmax(z_prob_B)])\n",
    "\n",
    "#         plt.figure(figsize= (9,6))\n",
    "#         plt.step(f_arr_A, total_prob, where='mid')\n",
    "        print(np.max(total_prob))\n",
    "        print(f_arr_A[np.argmax(total_prob)]) "
   ]
  },
  {
   "cell_type": "code",
   "execution_count": 37,
   "metadata": {},
   "outputs": [
    {
     "name": "stderr",
     "output_type": "stream",
     "text": [
      "  0%|          | 0/1000 [00:00<?, ?it/s]/Users/sean/anaconda/lib/python3.6/site-packages/stingray/stats.py:86: RuntimeWarning: underflow encountered in _logp_multitrial_from_single_logp\n",
      "  np.log10(p1).astype(np.double), n)\n",
      "100%|██████████| 1000/1000 [01:16<00:00, 13.01it/s]\n",
      "100%|██████████| 1000/1000 [01:08<00:00, 14.53it/s]\n"
     ]
    },
    {
     "name": "stdout",
     "output_type": "stream",
     "text": [
      "0.6282203478979344613\n",
      "566.9693693693694\n",
      "0.27239295549932307505\n",
      "566.9881881881881\n",
      "0.6282203478979344613\n",
      "566.9693693693694\n"
     ]
    },
    {
     "data": {
      "image/png": "[encoded data removed]",
      "text/plain": [
       "<Figure size 648x432 with 1 Axes>"
      ]
     },
     "metadata": {
      "needs_background": "light"
     },
     "output_type": "display_data"
    },
    {
     "data": {
      "image/png": "[encoded data removed]",
      "text/plain": [
       "<Figure size 648x432 with 1 Axes>"
      ]
     },
     "metadata": {
      "needs_background": "light"
     },
     "output_type": "display_data"
    },
    {
     "data": {
      "image/png": "[encoded data removed]",
      "text/plain": [
       "<Figure size 648x432 with 1 Axes>"
      ]
     },
     "metadata": {
      "needs_background": "light"
     },
     "output_type": "display_data"
    }
   ],
   "source": [
    "f_arr_A, z_prob_A = efold_search(events[0], f_min=566.8, f_max=567.2, f_steps=1000, time_intervals = burst2_gti, nbin = 32, pi_min = 35, pi_max = 260)\n",
    "f_arr_B, z_prob_B = efold_search(events[1], f_min=566.8, f_max=567.2, f_steps=1000, time_intervals = burst2_gti, nbin = 32, pi_min = 35, pi_max = 260)\n",
    "    \n",
    "plt.figure(figsize= (9,6))\n",
    "plt.step(f_arr_A, z_prob_A, where='mid')\n",
    "print(np.max(z_prob_A))\n",
    "print(f_arr_A[np.argmax(z_prob_A)])\n",
    "\n",
    "plt.figure(figsize= (9,6))\n",
    "plt.step(f_arr_B, z_prob_B, where='mid')\n",
    "print(np.max(z_prob_B))\n",
    "print(f_arr_B[np.argmax(z_prob_B)])    \n",
    "\n",
    "total_prob = z_prob_A + z_prob_B - (z_prob_A * z_prob_B)\n",
    "plt.figure(figsize= (9,6))\n",
    "plt.step(f_arr_A, total_prob, where='mid')\n",
    "print(np.max(total_prob))\n",
    "print(f_arr_A[np.argmax(total_prob)])    "
   ]
  },
  {
   "cell_type": "markdown",
   "metadata": {},
   "source": [
    "# Persistent Cospectra"
   ]
  },
  {
   "cell_type": "code",
   "execution_count": 7,
   "metadata": {},
   "outputs": [
    {
     "name": "stdout",
     "output_type": "stream",
     "text": [
      "530.3030303030303\n"
     ]
    }
   ],
   "source": [
    "gti_lens = np.array([(g[1]-g[0]) for g in sting_gti.cross_two_gtis(events[0].gti, persistent_gti)])\n",
    "len_mask = gti_lens > 500.\n",
    "split_time = minimize_remainder(gti_lens[len_mask], 500,1500)\n",
    "print(split_time)\n",
    "ms_bin = 0.0001\n",
    "f_res = 0.05\n",
    "\n",
    "# print(events[0].split_by_time(bintime=split_time))\n",
    "curves_A = [x.to_lc(dt = ms_bin, pi_low=PI_min, pi_high=PI_max, centroid = [535.45075,442.58818], radius = 40.681706) for x in events[0].split_by_time(bintime=split_time, gti=persistent_gti)]\n",
    "curves_B = [x.to_lc(dt = ms_bin, pi_low=PI_min, pi_high=PI_max, centroid = [529.34253,440.82937], radius = 40.681706) for x in events[1].split_by_time(bintime=split_time, gti=persistent_gti)]\n",
    "\n"
   ]
  },
  {
   "cell_type": "code",
   "execution_count": 8,
   "metadata": {
    "scrolled": true
   },
   "outputs": [
    {
     "name": "stderr",
     "output_type": "stream",
     "text": [
      "  0%|          | 0/55 [00:00<?, ?it/s]/Users/sean/anaconda/lib/python3.6/site-packages/stingray/utils.py:118: UserWarning: SIMON says: Errorbars on cross spectra are not thoroughly tested. Please report any inconsistencies.\n",
      "  warnings.warn(\"SIMON says: {0}\".format(message), **kwargs)\n",
      "  2%|▏         | 1/55 [00:41<37:24, 41.56s/it]/Users/sean/anaconda/lib/python3.6/site-packages/stingray/utils.py:118: UserWarning: SIMON says: Errorbars on cross spectra are not thoroughly tested. Please report any inconsistencies.\n",
      "  warnings.warn(\"SIMON says: {0}\".format(message), **kwargs)\n",
      "  4%|▎         | 2/55 [01:20<36:03, 40.81s/it]/Users/sean/anaconda/lib/python3.6/site-packages/stingray/utils.py:118: UserWarning: SIMON says: Errorbars on cross spectra are not thoroughly tested. Please report any inconsistencies.\n",
      "  warnings.warn(\"SIMON says: {0}\".format(message), **kwargs)\n",
      "  5%|▌         | 3/55 [01:58<34:33, 39.88s/it]/Users/sean/anaconda/lib/python3.6/site-packages/stingray/utils.py:118: UserWarning: SIMON says: Errorbars on cross spectra are not thoroughly tested. Please report any inconsistencies.\n",
      "  warnings.warn(\"SIMON says: {0}\".format(message), **kwargs)\n",
      "  7%|▋         | 4/55 [02:35<33:09, 39.01s/it]/Users/sean/anaconda/lib/python3.6/site-packages/stingray/utils.py:118: UserWarning: SIMON says: Errorbars on cross spectra are not thoroughly tested. Please report any inconsistencies.\n",
      "  warnings.warn(\"SIMON says: {0}\".format(message), **kwargs)\n",
      "  9%|▉         | 5/55 [03:12<31:59, 38.39s/it]/Users/sean/anaconda/lib/python3.6/site-packages/stingray/utils.py:118: UserWarning: SIMON says: Errorbars on cross spectra are not thoroughly tested. Please report any inconsistencies.\n",
      "  warnings.warn(\"SIMON says: {0}\".format(message), **kwargs)\n",
      " 11%|█         | 6/55 [03:48<30:54, 37.84s/it]/Users/sean/anaconda/lib/python3.6/site-packages/stingray/utils.py:118: UserWarning: SIMON says: Errorbars on cross spectra are not thoroughly tested. Please report any inconsistencies.\n",
      "  warnings.warn(\"SIMON says: {0}\".format(message), **kwargs)\n",
      " 13%|█▎        | 7/55 [04:25<30:06, 37.63s/it]/Users/sean/anaconda/lib/python3.6/site-packages/stingray/utils.py:118: UserWarning: SIMON says: Errorbars on cross spectra are not thoroughly tested. Please report any inconsistencies.\n",
      "  warnings.warn(\"SIMON says: {0}\".format(message), **kwargs)\n",
      " 15%|█▍        | 8/55 [05:02<29:20, 37.45s/it]/Users/sean/anaconda/lib/python3.6/site-packages/stingray/utils.py:118: UserWarning: SIMON says: Errorbars on cross spectra are not thoroughly tested. Please report any inconsistencies.\n",
      "  warnings.warn(\"SIMON says: {0}\".format(message), **kwargs)\n",
      " 16%|█▋        | 9/55 [05:41<28:51, 37.64s/it]/Users/sean/anaconda/lib/python3.6/site-packages/stingray/utils.py:118: UserWarning: SIMON says: Errorbars on cross spectra are not thoroughly tested. Please report any inconsistencies.\n",
      "  warnings.warn(\"SIMON says: {0}\".format(message), **kwargs)\n",
      " 18%|█▊        | 10/55 [06:22<29:01, 38.70s/it]/Users/sean/anaconda/lib/python3.6/site-packages/stingray/utils.py:118: UserWarning: SIMON says: Errorbars on cross spectra are not thoroughly tested. Please report any inconsistencies.\n",
      "  warnings.warn(\"SIMON says: {0}\".format(message), **kwargs)\n",
      " 20%|██        | 11/55 [06:59<27:59, 38.17s/it]/Users/sean/anaconda/lib/python3.6/site-packages/stingray/utils.py:118: UserWarning: SIMON says: Errorbars on cross spectra are not thoroughly tested. Please report any inconsistencies.\n",
      "  warnings.warn(\"SIMON says: {0}\".format(message), **kwargs)\n",
      " 22%|██▏       | 12/55 [07:34<26:50, 37.46s/it]/Users/sean/anaconda/lib/python3.6/site-packages/stingray/utils.py:118: UserWarning: SIMON says: Errorbars on cross spectra are not thoroughly tested. Please report any inconsistencies.\n",
      "  warnings.warn(\"SIMON says: {0}\".format(message), **kwargs)\n",
      " 24%|██▎       | 13/55 [08:11<26:02, 37.20s/it]/Users/sean/anaconda/lib/python3.6/site-packages/stingray/utils.py:118: UserWarning: SIMON says: Errorbars on cross spectra are not thoroughly tested. Please report any inconsistencies.\n",
      "  warnings.warn(\"SIMON says: {0}\".format(message), **kwargs)\n",
      " 25%|██▌       | 14/55 [08:48<25:20, 37.08s/it]/Users/sean/anaconda/lib/python3.6/site-packages/stingray/utils.py:118: UserWarning: SIMON says: Errorbars on cross spectra are not thoroughly tested. Please report any inconsistencies.\n",
      "  warnings.warn(\"SIMON says: {0}\".format(message), **kwargs)\n",
      " 27%|██▋       | 15/55 [09:25<24:39, 36.98s/it]/Users/sean/anaconda/lib/python3.6/site-packages/stingray/utils.py:118: UserWarning: SIMON says: Errorbars on cross spectra are not thoroughly tested. Please report any inconsistencies.\n",
      "  warnings.warn(\"SIMON says: {0}\".format(message), **kwargs)\n",
      " 29%|██▉       | 16/55 [10:03<24:13, 37.26s/it]/Users/sean/anaconda/lib/python3.6/site-packages/stingray/utils.py:118: UserWarning: SIMON says: Errorbars on cross spectra are not thoroughly tested. Please report any inconsistencies.\n",
      "  warnings.warn(\"SIMON says: {0}\".format(message), **kwargs)\n",
      " 31%|███       | 17/55 [10:40<23:32, 37.18s/it]/Users/sean/anaconda/lib/python3.6/site-packages/stingray/utils.py:118: UserWarning: SIMON says: Errorbars on cross spectra are not thoroughly tested. Please report any inconsistencies.\n",
      "  warnings.warn(\"SIMON says: {0}\".format(message), **kwargs)\n",
      " 33%|███▎      | 18/55 [11:17<22:53, 37.13s/it]/Users/sean/anaconda/lib/python3.6/site-packages/stingray/utils.py:118: UserWarning: SIMON says: Errorbars on cross spectra are not thoroughly tested. Please report any inconsistencies.\n",
      "  warnings.warn(\"SIMON says: {0}\".format(message), **kwargs)\n",
      " 35%|███▍      | 19/55 [11:59<23:18, 38.84s/it]/Users/sean/anaconda/lib/python3.6/site-packages/stingray/utils.py:118: UserWarning: SIMON says: Errorbars on cross spectra are not thoroughly tested. Please report any inconsistencies.\n",
      "  warnings.warn(\"SIMON says: {0}\".format(message), **kwargs)\n",
      " 36%|███▋      | 20/55 [12:38<22:32, 38.64s/it]/Users/sean/anaconda/lib/python3.6/site-packages/stingray/utils.py:118: UserWarning: SIMON says: Errorbars on cross spectra are not thoroughly tested. Please report any inconsistencies.\n",
      "  warnings.warn(\"SIMON says: {0}\".format(message), **kwargs)\n",
      " 38%|███▊      | 21/55 [13:14<21:34, 38.08s/it]/Users/sean/anaconda/lib/python3.6/site-packages/stingray/utils.py:118: UserWarning: SIMON says: Errorbars on cross spectra are not thoroughly tested. Please report any inconsistencies.\n",
      "  warnings.warn(\"SIMON says: {0}\".format(message), **kwargs)\n",
      " 40%|████      | 22/55 [13:51<20:38, 37.52s/it]/Users/sean/anaconda/lib/python3.6/site-packages/stingray/utils.py:118: UserWarning: SIMON says: Errorbars on cross spectra are not thoroughly tested. Please report any inconsistencies.\n",
      "  warnings.warn(\"SIMON says: {0}\".format(message), **kwargs)\n",
      " 42%|████▏     | 23/55 [14:27<19:53, 37.31s/it]/Users/sean/anaconda/lib/python3.6/site-packages/stingray/utils.py:118: UserWarning: SIMON says: Errorbars on cross spectra are not thoroughly tested. Please report any inconsistencies.\n",
      "  warnings.warn(\"SIMON says: {0}\".format(message), **kwargs)\n",
      " 44%|████▎     | 24/55 [15:06<19:26, 37.64s/it]/Users/sean/anaconda/lib/python3.6/site-packages/stingray/utils.py:118: UserWarning: SIMON says: Errorbars on cross spectra are not thoroughly tested. Please report any inconsistencies.\n",
      "  warnings.warn(\"SIMON says: {0}\".format(message), **kwargs)\n",
      " 45%|████▌     | 25/55 [15:43<18:48, 37.63s/it]/Users/sean/anaconda/lib/python3.6/site-packages/stingray/utils.py:118: UserWarning: SIMON says: Errorbars on cross spectra are not thoroughly tested. Please report any inconsistencies.\n",
      "  warnings.warn(\"SIMON says: {0}\".format(message), **kwargs)\n",
      " 47%|████▋     | 26/55 [16:21<18:07, 37.51s/it]/Users/sean/anaconda/lib/python3.6/site-packages/stingray/utils.py:118: UserWarning: SIMON says: Errorbars on cross spectra are not thoroughly tested. Please report any inconsistencies.\n",
      "  warnings.warn(\"SIMON says: {0}\".format(message), **kwargs)\n",
      " 49%|████▉     | 27/55 [17:00<17:49, 38.19s/it]/Users/sean/anaconda/lib/python3.6/site-packages/stingray/utils.py:118: UserWarning: SIMON says: Errorbars on cross spectra are not thoroughly tested. Please report any inconsistencies.\n",
      "  warnings.warn(\"SIMON says: {0}\".format(message), **kwargs)\n",
      " 51%|█████     | 28/55 [17:44<17:54, 39.78s/it]/Users/sean/anaconda/lib/python3.6/site-packages/stingray/utils.py:118: UserWarning: SIMON says: Errorbars on cross spectra are not thoroughly tested. Please report any inconsistencies.\n",
      "  warnings.warn(\"SIMON says: {0}\".format(message), **kwargs)\n",
      " 53%|█████▎    | 29/55 [18:22<17:00, 39.24s/it]/Users/sean/anaconda/lib/python3.6/site-packages/stingray/utils.py:118: UserWarning: SIMON says: Errorbars on cross spectra are not thoroughly tested. Please report any inconsistencies.\n",
      "  warnings.warn(\"SIMON says: {0}\".format(message), **kwargs)\n",
      " 55%|█████▍    | 30/55 [18:59<16:06, 38.67s/it]/Users/sean/anaconda/lib/python3.6/site-packages/stingray/utils.py:118: UserWarning: SIMON says: Errorbars on cross spectra are not thoroughly tested. Please report any inconsistencies.\n",
      "  warnings.warn(\"SIMON says: {0}\".format(message), **kwargs)\n",
      " 56%|█████▋    | 31/55 [19:37<15:19, 38.29s/it]/Users/sean/anaconda/lib/python3.6/site-packages/stingray/utils.py:118: UserWarning: SIMON says: Errorbars on cross spectra are not thoroughly tested. Please report any inconsistencies.\n",
      "  warnings.warn(\"SIMON says: {0}\".format(message), **kwargs)\n",
      " 58%|█████▊    | 32/55 [20:15<14:39, 38.24s/it]/Users/sean/anaconda/lib/python3.6/site-packages/stingray/utils.py:118: UserWarning: SIMON says: Errorbars on cross spectra are not thoroughly tested. Please report any inconsistencies.\n",
      "  warnings.warn(\"SIMON says: {0}\".format(message), **kwargs)\n",
      " 60%|██████    | 33/55 [20:52<13:55, 37.97s/it]/Users/sean/anaconda/lib/python3.6/site-packages/stingray/utils.py:118: UserWarning: SIMON says: Errorbars on cross spectra are not thoroughly tested. Please report any inconsistencies.\n",
      "  warnings.warn(\"SIMON says: {0}\".format(message), **kwargs)\n",
      " 62%|██████▏   | 34/55 [21:29<13:12, 37.74s/it]/Users/sean/anaconda/lib/python3.6/site-packages/stingray/utils.py:118: UserWarning: SIMON says: Errorbars on cross spectra are not thoroughly tested. Please report any inconsistencies.\n",
      "  warnings.warn(\"SIMON says: {0}\".format(message), **kwargs)\n",
      " 64%|██████▎   | 35/55 [22:06<12:29, 37.47s/it]/Users/sean/anaconda/lib/python3.6/site-packages/stingray/utils.py:118: UserWarning: SIMON says: Errorbars on cross spectra are not thoroughly tested. Please report any inconsistencies.\n",
      "  warnings.warn(\"SIMON says: {0}\".format(message), **kwargs)\n",
      " 65%|██████▌   | 36/55 [22:42<11:44, 37.08s/it]/Users/sean/anaconda/lib/python3.6/site-packages/stingray/utils.py:118: UserWarning: SIMON says: Errorbars on cross spectra are not thoroughly tested. Please report any inconsistencies.\n",
      "  warnings.warn(\"SIMON says: {0}\".format(message), **kwargs)\n",
      " 67%|██████▋   | 37/55 [23:19<11:05, 36.97s/it]/Users/sean/anaconda/lib/python3.6/site-packages/stingray/utils.py:118: UserWarning: SIMON says: Errorbars on cross spectra are not thoroughly tested. Please report any inconsistencies.\n",
      "  warnings.warn(\"SIMON says: {0}\".format(message), **kwargs)\n",
      " 69%|██████▉   | 38/55 [23:59<10:44, 37.93s/it]/Users/sean/anaconda/lib/python3.6/site-packages/stingray/utils.py:118: UserWarning: SIMON says: Errorbars on cross spectra are not thoroughly tested. Please report any inconsistencies.\n",
      "  warnings.warn(\"SIMON says: {0}\".format(message), **kwargs)\n",
      " 71%|███████   | 39/55 [24:36<10:04, 37.75s/it]/Users/sean/anaconda/lib/python3.6/site-packages/stingray/utils.py:118: UserWarning: SIMON says: Errorbars on cross spectra are not thoroughly tested. Please report any inconsistencies.\n",
      "  warnings.warn(\"SIMON says: {0}\".format(message), **kwargs)\n",
      " 73%|███████▎  | 40/55 [25:15<09:29, 37.99s/it]/Users/sean/anaconda/lib/python3.6/site-packages/stingray/utils.py:118: UserWarning: SIMON says: Errorbars on cross spectra are not thoroughly tested. Please report any inconsistencies.\n",
      "  warnings.warn(\"SIMON says: {0}\".format(message), **kwargs)\n",
      " 75%|███████▍  | 41/55 [25:54<08:54, 38.17s/it]/Users/sean/anaconda/lib/python3.6/site-packages/stingray/utils.py:118: UserWarning: SIMON says: Errorbars on cross spectra are not thoroughly tested. Please report any inconsistencies.\n",
      "  warnings.warn(\"SIMON says: {0}\".format(message), **kwargs)\n",
      " 76%|███████▋  | 42/55 [26:32<08:18, 38.34s/it]/Users/sean/anaconda/lib/python3.6/site-packages/stingray/utils.py:118: UserWarning: SIMON says: Errorbars on cross spectra are not thoroughly tested. Please report any inconsistencies.\n",
      "  warnings.warn(\"SIMON says: {0}\".format(message), **kwargs)\n",
      " 78%|███████▊  | 43/55 [27:09<07:35, 37.93s/it]/Users/sean/anaconda/lib/python3.6/site-packages/stingray/utils.py:118: UserWarning: SIMON says: Errorbars on cross spectra are not thoroughly tested. Please report any inconsistencies.\n",
      "  warnings.warn(\"SIMON says: {0}\".format(message), **kwargs)\n",
      " 80%|████████  | 44/55 [27:45<06:50, 37.34s/it]/Users/sean/anaconda/lib/python3.6/site-packages/stingray/utils.py:118: UserWarning: SIMON says: Errorbars on cross spectra are not thoroughly tested. Please report any inconsistencies.\n",
      "  warnings.warn(\"SIMON says: {0}\".format(message), **kwargs)\n",
      " 82%|████████▏ | 45/55 [28:22<06:12, 37.29s/it]/Users/sean/anaconda/lib/python3.6/site-packages/stingray/utils.py:118: UserWarning: SIMON says: Errorbars on cross spectra are not thoroughly tested. Please report any inconsistencies.\n",
      "  warnings.warn(\"SIMON says: {0}\".format(message), **kwargs)\n",
      " 84%|████████▎ | 46/55 [29:02<05:42, 38.08s/it]/Users/sean/anaconda/lib/python3.6/site-packages/stingray/utils.py:118: UserWarning: SIMON says: Errorbars on cross spectra are not thoroughly tested. Please report any inconsistencies.\n",
      "  warnings.warn(\"SIMON says: {0}\".format(message), **kwargs)\n",
      " 85%|████████▌ | 47/55 [29:40<05:04, 38.07s/it]/Users/sean/anaconda/lib/python3.6/site-packages/stingray/utils.py:118: UserWarning: SIMON says: Errorbars on cross spectra are not thoroughly tested. Please report any inconsistencies.\n",
      "  warnings.warn(\"SIMON says: {0}\".format(message), **kwargs)\n",
      " 87%|████████▋ | 48/55 [30:18<04:24, 37.78s/it]/Users/sean/anaconda/lib/python3.6/site-packages/stingray/utils.py:118: UserWarning: SIMON says: Errorbars on cross spectra are not thoroughly tested. Please report any inconsistencies.\n",
      "  warnings.warn(\"SIMON says: {0}\".format(message), **kwargs)\n",
      " 89%|████████▉ | 49/55 [30:54<03:45, 37.51s/it]/Users/sean/anaconda/lib/python3.6/site-packages/stingray/utils.py:118: UserWarning: SIMON says: Errorbars on cross spectra are not thoroughly tested. Please report any inconsistencies.\n",
      "  warnings.warn(\"SIMON says: {0}\".format(message), **kwargs)\n",
      " 91%|█████████ | 50/55 [31:31<03:05, 37.13s/it]/Users/sean/anaconda/lib/python3.6/site-packages/stingray/utils.py:118: UserWarning: SIMON says: Errorbars on cross spectra are not thoroughly tested. Please report any inconsistencies.\n",
      "  warnings.warn(\"SIMON says: {0}\".format(message), **kwargs)\n",
      " 93%|█████████▎| 51/55 [32:07<02:27, 36.93s/it]/Users/sean/anaconda/lib/python3.6/site-packages/stingray/utils.py:118: UserWarning: SIMON says: Errorbars on cross spectra are not thoroughly tested. Please report any inconsistencies.\n",
      "  warnings.warn(\"SIMON says: {0}\".format(message), **kwargs)\n",
      " 95%|█████████▍| 52/55 [32:44<01:50, 36.90s/it]/Users/sean/anaconda/lib/python3.6/site-packages/stingray/utils.py:118: UserWarning: SIMON says: Errorbars on cross spectra are not thoroughly tested. Please report any inconsistencies.\n",
      "  warnings.warn(\"SIMON says: {0}\".format(message), **kwargs)\n",
      " 96%|█████████▋| 53/55 [33:21<01:13, 36.83s/it]/Users/sean/anaconda/lib/python3.6/site-packages/stingray/utils.py:118: UserWarning: SIMON says: Errorbars on cross spectra are not thoroughly tested. Please report any inconsistencies.\n",
      "  warnings.warn(\"SIMON says: {0}\".format(message), **kwargs)\n",
      " 98%|█████████▊| 54/55 [33:58<00:36, 36.93s/it]/Users/sean/anaconda/lib/python3.6/site-packages/stingray/utils.py:118: UserWarning: SIMON says: Errorbars on cross spectra are not thoroughly tested. Please report any inconsistencies.\n",
      "  warnings.warn(\"SIMON says: {0}\".format(message), **kwargs)\n",
      "100%|██████████| 55/55 [34:35<00:00, 37.73s/it]\n"
     ]
    }
   ],
   "source": [
    "plt.ioff()\n",
    "\n",
    "cross_spectra = []\n",
    "for i in tqdm(range(len(curves_A))):\n",
    "    cross = crossspec.Crossspectrum(curves_A[i], curves_B[i], norm='leahy')\n",
    "    cross_spectra.append(cross)\n",
    "    cross_log = cross.rebin_log(f=f_res)\n",
    "    temp_err = cross.df*np.power(1.+f_res, range(len(cross_log.freq)))/2\n",
    "#     cross_lin = cross.rebin(df=1)\n",
    "    fig, (ax1, ax2) = plt.subplots(nrows=2, ncols=1, figsize=(12,8))\n",
    "#     res_mask = cross_log.freq > cross.df/f_re\n",
    "    ax1.errorbar(cross_log.freq, cross_log.power.real, xerr=temp_err, yerr=cross_log.power_err, fmt='none', lw=0.2)\n",
    "#     ax1.errorbar(cross.freq, cross.power.real*cross.freq, xerr=cross.df/2, yerr=cross.power_err*cross.freq, fmt='')\n",
    "#     ax1.set_xlim(1./split_time,1./(2.*ms_bin))\n",
    "#     ax1.axvline(1122, ls='--', color='red')\n",
    "    ax1.set_xlabel('Frequency (Hz)')\n",
    "    ax1.set_ylabel('Leahy power')\n",
    "    ax1.set_ylim(1e-6,100.)\n",
    "    ax1.set_xscale('log')\n",
    "    ax1.set_yscale('log')\n",
    "    ax2.errorbar(curve_10s.time, curve_10s.countrate, xerr=curve_10s.dt/2, yerr=curve_10s.countrate_err, fmt='none')\n",
    "    ax2.axvspan(np.min(curves_A[i].time),np.max(curves_A[i].time), facecolor='red', alpha = 0.2)\n",
    "    ax2.set_xlabel('Time (s)')\n",
    "    ax2.set_ylabel(r'$\\mathrm{Count\\ rate\\ (s^{-1})}$')\n",
    "    plt.tight_layout()\n",
    "    plt.savefig(plot_dir + 'persistent_cross_spectrum_log_' + str(int(split_time)) + 's_segment' + str(i) + '.pdf')  \n",
    "    plt.close()\n",
    "    cross_file = open(timing_dir + 'analysis_products/' + 'persistent_cross_spectrum_' + str(int(split_time)) + 's_segment' + str(i) + '.txt', 'wb')\n",
    "    pickle.dump(cross, cross_file)\n",
    "    cross_file.close()\n",
    "    "
   ]
  },
  {
   "cell_type": "code",
   "execution_count": 11,
   "metadata": {},
   "outputs": [
    {
     "name": "stderr",
     "output_type": "stream",
     "text": [
      "/Users/sean/anaconda/lib/python3.6/site-packages/ipykernel_launcher.py:46: UserWarning: Attempted to set non-positive left xlim on a log-scaled axis.\n",
      "Invalid limit will be ignored.\n"
     ]
    }
   ],
   "source": [
    "plt.ion()\n",
    "\n",
    "averaged_cross = cross_spectra[0]\n",
    "\n",
    "averaged_cross.m = len(cross_spectra)\n",
    "\n",
    "for i in range(len(cross_spectra))[1:]:\n",
    "    averaged_cross.power += cross_spectra[i].power\n",
    "    averaged_cross.unnorm_power += cross_spectra[i].unnorm_power\n",
    "    averaged_cross.power_err += np.square(cross_spectra[i].power_err)\n",
    "    averaged_cross.nphots1 += cross_spectra[i].nphots1\n",
    "    averaged_cross.nphots2 += cross_spectra[i].nphots2\n",
    "    \n",
    "averaged_cross.power = averaged_cross.power/averaged_cross.m\n",
    "averaged_cross.unnorm_power = averaged_cross.unnorm_power/averaged_cross.m\n",
    "averaged_cross.power_err = np.sqrt(averaged_cross.power_err)/averaged_cross.m\n",
    "averaged_cross.nphots1 = averaged_cross.nphots1/averaged_cross.m\n",
    "averaged_cross.nphots2 = averaged_cross.nphots2/averaged_cross.m\n",
    "\n",
    "cross_file = open(timing_dir + 'analysis_products/' + 'persistent_cross_spectrum_average.txt', 'wb')\n",
    "pickle.dump(averaged_cross, cross_file)\n",
    "cross_file.close()\n",
    "\n",
    "\n",
    "    \n",
    "f_res = 0.05\n",
    "plt.figure(figsize=(9,6))\n",
    "averaged_cross_log = averaged_cross.rebin_log(f=f_res)\n",
    "temp_err = averaged_cross.df*np.power(1.+f_res, range(len(averaged_cross_log.freq)))/2.\n",
    "plt.errorbar(averaged_cross_log.freq, averaged_cross_log.power.real, xerr=temp_err, yerr=averaged_cross_log.power_err, fmt='none', lw=0.5)\n",
    "# plt.errorbar(averaged_cross_log.freq, averaged_cross_log.power.real, xerr=temp_err, yerr=averaged_cross_log.power_err, fmt='none', lw=0.2)\n",
    "plt.xscale('log')\n",
    "# plt.xlim((1./split_time) - (averaged_cross.df/2.),1./(2.*ms_bin))\n",
    "# plt.xlim((1./split_time) - (averaged_cross.df),10.)\n",
    "plt.ylim((1e-4,10.))\n",
    "plt.yscale('log')\n",
    "plt.xlabel('Frequency (Hz)')\n",
    "plt.ylabel('Leahy Power')\n",
    "plt.tight_layout()\n",
    "# plt.show()\n",
    "plt.savefig(plot_dir + 'persistent_averaged_cross_spectrum_' + str(int(split_time)) + 's.pdf')\n",
    "plt.close()\n",
    "\n",
    "f_res = 0.05\n",
    "plt.figure(figsize=(9,6))\n",
    "averaged_cross_log = averaged_cross.rebin_log(f=f_res)\n",
    "temp_err = averaged_cross.df*np.power(1.+f_res, range(len(averaged_cross_log.freq)))/2.\n",
    "# plt.errorbar(averaged_cross_log.freq, averaged_cross_log.power.real*averaged_cross_log.freq, xerr=temp_err, yerr=averaged_cross_log.power_err*averaged_cross_log.freq, fmt='none', lw=0.5)\n",
    "plt.errorbar(averaged_cross_log.freq, averaged_cross_log.power.real, xerr=temp_err, yerr=averaged_cross_log.power_err, fmt='none', lw=0.2)\n",
    "plt.xscale('log')\n",
    "# plt.xlim((1./split_time) - (averaged_cross.df/2.),1./(2.*ms_bin))\n",
    "plt.xlim((1./split_time) - (averaged_cross.df),0.5)\n",
    "plt.ylim((1e-3,10.0))\n",
    "plt.yscale('log')\n",
    "plt.xlabel('Frequency (Hz)')\n",
    "plt.ylabel('Leahy Power')\n",
    "plt.tight_layout()\n",
    "# plt.show()\n",
    "plt.savefig(plot_dir + 'persistent_averaged_cross_spectrum_' + str(int(split_time)) + 's_lowf.pdf')\n",
    "plt.close()\n",
    "\n",
    "f_res = 0.05\n",
    "plt.figure(figsize=(9,6))\n",
    "averaged_cross_log = averaged_cross.rebin_log(f=f_res)\n",
    "temp_err = averaged_cross.df*np.power(1.+f_res, range(len(averaged_cross_log.freq)))/2.\n",
    "plt.errorbar(averaged_cross_log.freq, averaged_cross_log.power.real, xerr=temp_err, yerr=averaged_cross_log.power_err, fmt='none', lw=0.5)\n",
    "# plt.errorbar(averaged_cross_log.freq, averaged_cross_log.power.real, xerr=temp_err, yerr=averaged_cross_log.power_err, fmt='none', lw=0.2)\n",
    "plt.xscale('log')\n",
    "# plt.xlim((1./split_time) - (averaged_cross.df/2.),1./(2.*ms_bin))\n",
    "plt.xlim((0.3, 2500.))\n",
    "plt.ylim((1e-4,2.))\n",
    "plt.yscale('log')\n",
    "plt.xlabel('Frequency (Hz)')\n",
    "plt.ylabel('Leahy Power')\n",
    "plt.tight_layout()\n",
    "# plt.show()\n",
    "plt.savefig(plot_dir + 'persistent_averaged_cross_spectrum_' + str(int(split_time)) + 's_highf.pdf')\n",
    "plt.close()"
   ]
  },
  {
   "cell_type": "markdown",
   "metadata": {},
   "source": [
    "# Burst Cospectra"
   ]
  },
  {
   "cell_type": "code",
   "execution_count": 12,
   "metadata": {},
   "outputs": [
    {
     "name": "stdout",
     "output_type": "stream",
     "text": [
      "10.0\n",
      "[3.26544755e+08 3.26544755e+08 3.26544755e+08 ... 3.26544765e+08\n",
      " 3.26544765e+08 3.26544765e+08]\n"
     ]
    }
   ],
   "source": [
    "gti_lens = np.array([(g[1]-g[0]) for g in sting_gti.cross_two_gtis(events[0].gti, burst_gti)])\n",
    "split_time = minimize_remainder(gti_lens, 10.,1000.)\n",
    "print(split_time)\n",
    "ms_bin = 0.0001\n",
    "f_res = 0.05\n",
    "\n",
    "# print(events[0].split_by_time(bintime=split_time))\n",
    "curves_A = [x.to_lc(dt = ms_bin, pi_low=PI_min, pi_high=PI_max, centroid = [535.45075,442.58818], radius = 40.681706) for x in events[0].split_by_time(bintime=split_time, gti=burst_gti)]\n",
    "curves_B = [x.to_lc(dt = ms_bin, pi_low=PI_min, pi_high=PI_max, centroid = [529.34253,440.82937], radius = 40.681706) for x in events[1].split_by_time(bintime=split_time, gti=burst_gti)]\n",
    "\n",
    "print(curves_A[0].time)\n",
    "\n"
   ]
  },
  {
   "cell_type": "code",
   "execution_count": 13,
   "metadata": {
    "scrolled": true
   },
   "outputs": [
    {
     "name": "stderr",
     "output_type": "stream",
     "text": [
      "  0%|          | 0/6 [00:00<?, ?it/s]/Users/sean/anaconda/lib/python3.6/site-packages/stingray/utils.py:118: UserWarning: SIMON says: Errorbars on cross spectra are not thoroughly tested. Please report any inconsistencies.\n",
      "  warnings.warn(\"SIMON says: {0}\".format(message), **kwargs)\n",
      " 17%|█▋        | 1/6 [01:06<05:30, 66.16s/it]/Users/sean/anaconda/lib/python3.6/site-packages/stingray/utils.py:118: UserWarning: SIMON says: Errorbars on cross spectra are not thoroughly tested. Please report any inconsistencies.\n",
      "  warnings.warn(\"SIMON says: {0}\".format(message), **kwargs)\n",
      " 33%|███▎      | 2/6 [02:11<04:23, 65.79s/it]/Users/sean/anaconda/lib/python3.6/site-packages/stingray/utils.py:118: UserWarning: SIMON says: Errorbars on cross spectra are not thoroughly tested. Please report any inconsistencies.\n",
      "  warnings.warn(\"SIMON says: {0}\".format(message), **kwargs)\n",
      " 50%|█████     | 3/6 [03:16<03:16, 65.61s/it]/Users/sean/anaconda/lib/python3.6/site-packages/stingray/utils.py:118: UserWarning: SIMON says: Errorbars on cross spectra are not thoroughly tested. Please report any inconsistencies.\n",
      "  warnings.warn(\"SIMON says: {0}\".format(message), **kwargs)\n",
      " 67%|██████▋   | 4/6 [04:20<02:10, 65.12s/it]/Users/sean/anaconda/lib/python3.6/site-packages/stingray/utils.py:118: UserWarning: SIMON says: Errorbars on cross spectra are not thoroughly tested. Please report any inconsistencies.\n",
      "  warnings.warn(\"SIMON says: {0}\".format(message), **kwargs)\n",
      " 83%|████████▎ | 5/6 [05:24<01:04, 64.94s/it]/Users/sean/anaconda/lib/python3.6/site-packages/stingray/utils.py:118: UserWarning: SIMON says: Errorbars on cross spectra are not thoroughly tested. Please report any inconsistencies.\n",
      "  warnings.warn(\"SIMON says: {0}\".format(message), **kwargs)\n",
      "100%|██████████| 6/6 [06:29<00:00, 64.90s/it]\n"
     ]
    }
   ],
   "source": [
    "plt.ioff()\n",
    "\n",
    "cross_spectra = []\n",
    "for i in tqdm(range(len(curves_A))):\n",
    "    cross = crossspec.Crossspectrum(curves_A[i], curves_B[i], norm='leahy')\n",
    "    cross_spectra.append(cross)\n",
    "    cross_log = cross.rebin_log(f=f_res)\n",
    "    temp_err = cross.df*np.power(1.+f_res, range(len(cross_log.freq)))/2\n",
    "#     cross_lin = cross.rebin(df=1)\n",
    "    fig, (ax1, ax2) = plt.subplots(nrows=2, ncols=1, figsize=(12,8))\n",
    "#     res_mask = cross_log.freq > cross.df/f_re\n",
    "    ax1.errorbar(cross_log.freq, cross_log.power.real, xerr=temp_err, yerr=cross_log.power_err, fmt='none', lw=0.2)\n",
    "#     ax1.errorbar(cross.freq, cross.power.real*cross.freq, xerr=cross.df/2, yerr=cross.power_err*cross.freq, fmt='')\n",
    "#     ax1.set_xlim(1./split_time,1./(2.*ms_bin))\n",
    "#     ax1.axvline(1122, ls='--', color='red')\n",
    "    ax1.set_xlabel('Frequency (Hz)')\n",
    "    ax1.set_ylabel('Leahy power')\n",
    "    ax1.set_ylim(1e-6,1000.)\n",
    "    ax1.set_xscale('log')\n",
    "    ax1.set_yscale('log')\n",
    "    ax2.errorbar(curve_total.time, curve_total.countrate, xerr=curve_total.dt/2, yerr=curve_total.countrate_err, fmt='none')\n",
    "    ax2.axvspan(np.min(curves_A[i].time),np.max(curves_A[i].time), facecolor='red', alpha = 0.2)\n",
    "    ax2.set_xlabel('Time (s)')\n",
    "    ax2.set_ylabel(r'$\\mathrm{Count\\ rate\\ (s^{-1})}$')\n",
    "    plt.tight_layout()\n",
    "    plt.savefig(plot_dir + 'burst_cross_spectrum_log_' + str(int(split_time)) + 's_segment' + str(i) + '.pdf')  \n",
    "    plt.close()\n",
    "\n",
    "    cross_file = open(timing_dir + 'analysis_products/burst_cross_spectrum_' + str(int(split_time)) + 's_segment' + str(i) + '.txt', 'wb')\n",
    "    pickle.dump(cross, cross_file)\n",
    "    cross_file.close()\n",
    "    "
   ]
  },
  {
   "cell_type": "code",
   "execution_count": 14,
   "metadata": {},
   "outputs": [
    {
     "name": "stderr",
     "output_type": "stream",
     "text": [
      "/Users/sean/anaconda/lib/python3.6/site-packages/ipykernel_launcher.py:46: UserWarning: Attempted to set non-positive left xlim on a log-scaled axis.\n",
      "Invalid limit will be ignored.\n"
     ]
    }
   ],
   "source": [
    "## plt.ion()\n",
    "\n",
    "averaged_cross = cross_spectra[0]\n",
    "\n",
    "averaged_cross.m = len(cross_spectra)\n",
    "\n",
    "for i in range(len(cross_spectra))[1:]:\n",
    "    averaged_cross.power += cross_spectra[i].power\n",
    "    averaged_cross.unnorm_power += cross_spectra[i].unnorm_power\n",
    "    averaged_cross.power_err += np.square(cross_spectra[i].power_err)\n",
    "    averaged_cross.nphots1 += cross_spectra[i].nphots1\n",
    "    averaged_cross.nphots2 += cross_spectra[i].nphots2\n",
    "    \n",
    "averaged_cross.power = averaged_cross.power/averaged_cross.m\n",
    "averaged_cross.unnorm_power = averaged_cross.unnorm_power/averaged_cross.m\n",
    "averaged_cross.power_err = np.sqrt(averaged_cross.power_err)/averaged_cross.m\n",
    "averaged_cross.nphots1 = averaged_cross.nphots1/averaged_cross.m\n",
    "averaged_cross.nphots2 = averaged_cross.nphots2/averaged_cross.m\n",
    "    \n",
    "f_res = 0.05\n",
    "plt.figure(figsize=(9,6))\n",
    "averaged_cross_log = averaged_cross.rebin_log(f=f_res)\n",
    "temp_err = averaged_cross.df*np.power(1.+f_res, range(len(averaged_cross_log.freq)))/2.\n",
    "plt.errorbar(averaged_cross_log.freq, averaged_cross_log.power.real, xerr=temp_err, yerr=averaged_cross_log.power_err, fmt='none', lw=0.5)\n",
    "# plt.errorbar(averaged_cross_log.freq, averaged_cross_log.power.real, xerr=temp_err, yerr=averaged_cross_log.power_err, fmt='none', lw=0.2)\n",
    "plt.xscale('log')\n",
    "# plt.xlim((1./split_time) - (averaged_cross.df/2.),1./(2.*ms_bin))\n",
    "# plt.xlim((1./split_time) - (averaged_cross.df),10.)\n",
    "plt.ylim((1e-2,100.))\n",
    "plt.yscale('log')\n",
    "plt.xlabel('Frequency (Hz)')\n",
    "plt.ylabel('Leahy Power')\n",
    "plt.tight_layout()\n",
    "# plt.show()\n",
    "plt.savefig(plot_dir + 'burst_averaged_cross_spectrum_' + str(int(split_time)) + 's.pdf')\n",
    "plt.close()\n",
    "\n",
    "f_res = 0.05\n",
    "plt.figure(figsize=(9,6))\n",
    "averaged_cross_log = averaged_cross.rebin_log(f=f_res)\n",
    "temp_err = averaged_cross.df*np.power(1.+f_res, range(len(averaged_cross_log.freq)))/2.\n",
    "plt.errorbar(averaged_cross_log.freq, averaged_cross_log.power.real, xerr=temp_err, yerr=averaged_cross_log.power_err, fmt='none', lw=0.5)\n",
    "# plt.errorbar(averaged_cross_log.freq, averaged_cross_log.power.real, xerr=temp_err, yerr=averaged_cross_log.power_err, fmt='none', lw=0.2)\n",
    "plt.xscale('log')\n",
    "# plt.xlim((1./split_time) - (averaged_cross.df/2.),1./(2.*ms_bin))\n",
    "plt.xlim((1./split_time) - (averaged_cross.df),10.)\n",
    "plt.ylim((1e-2,100.0))\n",
    "plt.yscale('log')\n",
    "plt.xlabel('Frequency (Hz)')\n",
    "plt.ylabel('Leahy Power')\n",
    "plt.tight_layout()\n",
    "# plt.show()\n",
    "plt.savefig(plot_dir + 'burst_averaged_cross_spectrum_' + str(int(split_time)) + 's_lowf.pdf')\n",
    "plt.close()\n",
    "\n",
    "f_res = 0.05\n",
    "plt.figure(figsize=(9,6))\n",
    "averaged_cross_log = averaged_cross.rebin_log(f=f_res)\n",
    "temp_err = averaged_cross.df*np.power(1.+f_res, range(len(averaged_cross_log.freq)))/2.\n",
    "plt.errorbar(averaged_cross_log.freq, averaged_cross_log.power.real, xerr=temp_err, yerr=averaged_cross_log.power_err, fmt='none', lw=0.5)\n",
    "# plt.errorbar(averaged_cross_log.freq, averaged_cross_log.power.real, xerr=temp_err, yerr=averaged_cross_log.power_err, fmt='none', lw=0.2)\n",
    "plt.xscale('log')\n",
    "# plt.xlim((1./split_time) - (averaged_cross.df/2.),1./(2.*ms_bin))\n",
    "plt.xlim((10.0, 3000.))\n",
    "plt.ylim((1e-2,100.))\n",
    "plt.yscale('log')\n",
    "plt.xlabel('Frequency (Hz)')\n",
    "plt.ylabel('Leahy Power')\n",
    "plt.tight_layout()\n",
    "# plt.show()\n",
    "plt.savefig(plot_dir + 'burst_averaged_cross_spectrum_' + str(int(split_time)) + 's_highf.pdf')\n",
    "plt.close()"
   ]
  },
  {
   "cell_type": "markdown",
   "metadata": {},
   "source": [
    "# Pre-Burst Cospectra"
   ]
  },
  {
   "cell_type": "code",
   "execution_count": 24,
   "metadata": {},
   "outputs": [
    {
     "name": "stdout",
     "output_type": "stream",
     "text": [
      "515.1515151515151\n",
      "[3.26534755e+08 3.26534755e+08 3.26534755e+08 ... 3.26535270e+08\n",
      " 3.26535270e+08 3.26535270e+08]\n"
     ]
    }
   ],
   "source": [
    "gti_lens = np.array([(g[1]-g[0]) for g in sting_gti.cross_two_gtis(events[0].gti, pre_burst1_gti)])\n",
    "split_time = minimize_remainder(gti_lens, 500.,2000.)\n",
    "print(split_time)\n",
    "ms_bin = 0.0001\n",
    "f_res = 0.05\n",
    "\n",
    "PI_min = 35     # 3.0 keV\n",
    "PI_max = 260     # 12.0 keV\n",
    "\n",
    "# print(events[0].split_by_time(bintime=split_time))\n",
    "curves_A = [x.to_lc(dt = ms_bin, pi_low=PI_min, pi_high=PI_max, centroid = [535.45075,442.58818], radius = 40.681706) for x in events[0].split_by_time(bintime=split_time, gti=pre_burst1_gti)]\n",
    "curves_B = [x.to_lc(dt = ms_bin, pi_low=PI_min, pi_high=PI_max, centroid = [529.34253,440.82937], radius = 40.681706) for x in events[1].split_by_time(bintime=split_time, gti=pre_burst1_gti)]\n",
    "\n",
    "print(curves_A[0].time)\n",
    "\n"
   ]
  },
  {
   "cell_type": "code",
   "execution_count": 25,
   "metadata": {},
   "outputs": [
    {
     "name": "stderr",
     "output_type": "stream",
     "text": [
      "  0%|          | 0/9 [00:00<?, ?it/s]/Users/sean/anaconda/lib/python3.6/site-packages/stingray/utils.py:118: UserWarning: SIMON says: Errorbars on cross spectra are not thoroughly tested. Please report any inconsistencies.\n",
      "  warnings.warn(\"SIMON says: {0}\".format(message), **kwargs)\n",
      " 11%|█         | 1/9 [00:35<04:46, 35.78s/it]/Users/sean/anaconda/lib/python3.6/site-packages/stingray/utils.py:118: UserWarning: SIMON says: Errorbars on cross spectra are not thoroughly tested. Please report any inconsistencies.\n",
      "  warnings.warn(\"SIMON says: {0}\".format(message), **kwargs)\n",
      " 22%|██▏       | 2/9 [01:15<04:18, 36.96s/it]/Users/sean/anaconda/lib/python3.6/site-packages/stingray/utils.py:118: UserWarning: SIMON says: Errorbars on cross spectra are not thoroughly tested. Please report any inconsistencies.\n",
      "  warnings.warn(\"SIMON says: {0}\".format(message), **kwargs)\n",
      " 33%|███▎      | 3/9 [01:53<03:43, 37.28s/it]/Users/sean/anaconda/lib/python3.6/site-packages/stingray/utils.py:118: UserWarning: SIMON says: Errorbars on cross spectra are not thoroughly tested. Please report any inconsistencies.\n",
      "  warnings.warn(\"SIMON says: {0}\".format(message), **kwargs)\n",
      " 44%|████▍     | 4/9 [02:32<03:09, 37.83s/it]/Users/sean/anaconda/lib/python3.6/site-packages/stingray/utils.py:118: UserWarning: SIMON says: Errorbars on cross spectra are not thoroughly tested. Please report any inconsistencies.\n",
      "  warnings.warn(\"SIMON says: {0}\".format(message), **kwargs)\n",
      " 56%|█████▌    | 5/9 [03:09<02:30, 37.54s/it]/Users/sean/anaconda/lib/python3.6/site-packages/stingray/utils.py:118: UserWarning: SIMON says: Errorbars on cross spectra are not thoroughly tested. Please report any inconsistencies.\n",
      "  warnings.warn(\"SIMON says: {0}\".format(message), **kwargs)\n",
      " 67%|██████▋   | 6/9 [03:46<01:52, 37.44s/it]/Users/sean/anaconda/lib/python3.6/site-packages/stingray/utils.py:118: UserWarning: SIMON says: Errorbars on cross spectra are not thoroughly tested. Please report any inconsistencies.\n",
      "  warnings.warn(\"SIMON says: {0}\".format(message), **kwargs)\n",
      " 78%|███████▊  | 7/9 [04:23<01:14, 37.21s/it]/Users/sean/anaconda/lib/python3.6/site-packages/stingray/utils.py:118: UserWarning: SIMON says: Errorbars on cross spectra are not thoroughly tested. Please report any inconsistencies.\n",
      "  warnings.warn(\"SIMON says: {0}\".format(message), **kwargs)\n",
      " 89%|████████▉ | 8/9 [05:02<00:37, 37.90s/it]/Users/sean/anaconda/lib/python3.6/site-packages/stingray/utils.py:118: UserWarning: SIMON says: Errorbars on cross spectra are not thoroughly tested. Please report any inconsistencies.\n",
      "  warnings.warn(\"SIMON says: {0}\".format(message), **kwargs)\n",
      "100%|██████████| 9/9 [05:40<00:00, 37.85s/it]\n"
     ]
    }
   ],
   "source": [
    "plt.ioff()\n",
    "\n",
    "cross_spectra = []\n",
    "for i in tqdm(range(len(curves_A))):\n",
    "    cross = crossspec.Crossspectrum(curves_A[i], curves_B[i], norm='leahy')\n",
    "    cross_spectra.append(cross)\n",
    "    cross_log = cross.rebin_log(f=f_res)\n",
    "    temp_err = cross.df*np.power(1.+f_res, range(len(cross_log.freq)))/2\n",
    "#     cross_lin = cross.rebin(df=1)\n",
    "    fig, (ax1, ax2) = plt.subplots(nrows=2, ncols=1, figsize=(12,8))\n",
    "#     res_mask = cross_log.freq > cross.df/f_re\n",
    "    ax1.errorbar(cross_log.freq, cross_log.power.real, xerr=temp_err, yerr=cross_log.power_err, fmt='none', lw=0.2)\n",
    "#     ax1.errorbar(cross.freq, cross.power.real*cross.freq, xerr=cross.df/2, yerr=cross.power_err*cross.freq, fmt='')\n",
    "#     ax1.set_xlim(1./split_time,1./(2.*ms_bin))\n",
    "#     ax1.axvline(1122, ls='--', color='red')\n",
    "    ax1.set_xlabel('Frequency (Hz)')\n",
    "    ax1.set_ylabel('Leahy power')\n",
    "    ax1.set_ylim(1e-6,1000.)\n",
    "    ax1.set_xscale('log')\n",
    "    ax1.set_yscale('log')\n",
    "    ax2.errorbar(curve_10s.time, curve_10s.countrate, xerr=curve_10s.dt/2, yerr=curve_10s.countrate_err, fmt='none')\n",
    "    ax2.axvspan(np.min(curves_A[i].time),np.max(curves_A[i].time), facecolor='red', alpha = 0.2)\n",
    "    ax2.set_xlabel('Time (s)')\n",
    "    ax2.set_ylabel(r'$\\mathrm{Count\\ rate\\ (s^{-1})}$')\n",
    "    plt.tight_layout()\n",
    "    plt.savefig(plot_dir + 'preburst1_cross_spectrum_log_' + str(int(split_time)) + 's_segment' + str(i) + '.pdf')  \n",
    "    plt.close()\n",
    "\n",
    "    cross_file = open(timing_dir + 'analysis_products/preburst1_cross_spectrum_' + str(int(split_time)) + 's_segment' + str(i) + '.txt', 'wb')\n",
    "    pickle.dump(cross, cross_file)\n",
    "    cross_file.close()\n",
    "    "
   ]
  },
  {
   "cell_type": "code",
   "execution_count": 26,
   "metadata": {},
   "outputs": [
    {
     "name": "stderr",
     "output_type": "stream",
     "text": [
      "/Users/sean/anaconda/lib/python3.6/site-packages/ipykernel_launcher.py:46: UserWarning: Attempted to set non-positive left xlim on a log-scaled axis.\n",
      "Invalid limit will be ignored.\n"
     ]
    }
   ],
   "source": [
    "## plt.ion()\n",
    "\n",
    "averaged_cross = cross_spectra[0]\n",
    "\n",
    "averaged_cross.m = len(cross_spectra)\n",
    "\n",
    "for i in range(len(cross_spectra))[1:]:\n",
    "    averaged_cross.power += cross_spectra[i].power\n",
    "    averaged_cross.unnorm_power += cross_spectra[i].unnorm_power\n",
    "    averaged_cross.power_err += np.square(cross_spectra[i].power_err)\n",
    "    averaged_cross.nphots1 += cross_spectra[i].nphots1\n",
    "    averaged_cross.nphots2 += cross_spectra[i].nphots2\n",
    "    \n",
    "averaged_cross.power = averaged_cross.power/averaged_cross.m\n",
    "averaged_cross.unnorm_power = averaged_cross.unnorm_power/averaged_cross.m\n",
    "averaged_cross.power_err = np.sqrt(averaged_cross.power_err)/averaged_cross.m\n",
    "averaged_cross.nphots1 = averaged_cross.nphots1/averaged_cross.m\n",
    "averaged_cross.nphots2 = averaged_cross.nphots2/averaged_cross.m\n",
    "    \n",
    "f_res = 0.05\n",
    "plt.figure(figsize=(9,6))\n",
    "averaged_cross_log = averaged_cross.rebin_log(f=f_res)\n",
    "temp_err = averaged_cross.df*np.power(1.+f_res, range(len(averaged_cross_log.freq)))/2.\n",
    "plt.errorbar(averaged_cross_log.freq, averaged_cross_log.power.real, xerr=temp_err, yerr=averaged_cross_log.power_err, fmt='none', lw=0.5)\n",
    "# plt.errorbar(averaged_cross_log.freq, averaged_cross_log.power.real, xerr=temp_err, yerr=averaged_cross_log.power_err, fmt='none', lw=0.2)\n",
    "plt.xscale('log')\n",
    "# plt.xlim((1./split_time) - (averaged_cross.df/2.),1./(2.*ms_bin))\n",
    "# plt.xlim((1./split_time) - (averaged_cross.df),10.)\n",
    "plt.ylim((1e-4,3.))\n",
    "plt.yscale('log')\n",
    "plt.xlabel('Frequency (Hz)')\n",
    "plt.ylabel('Leahy Power')\n",
    "plt.tight_layout()\n",
    "# plt.show()\n",
    "plt.savefig(plot_dir + 'preburst1_averaged_cross_spectrum_' + str(int(split_time)) + 's.pdf')\n",
    "plt.close()\n",
    "\n",
    "f_res = 0.05\n",
    "plt.figure(figsize=(9,6))\n",
    "averaged_cross_log = averaged_cross.rebin_log(f=f_res)\n",
    "temp_err = averaged_cross.df*np.power(1.+f_res, range(len(averaged_cross_log.freq)))/2.\n",
    "plt.errorbar(averaged_cross_log.freq, averaged_cross_log.power.real, xerr=temp_err, yerr=averaged_cross_log.power_err, fmt='none', lw=0.5)\n",
    "# plt.errorbar(averaged_cross_log.freq, averaged_cross_log.power.real, xerr=temp_err, yerr=averaged_cross_log.power_err, fmt='none', lw=0.2)\n",
    "plt.xscale('log')\n",
    "# plt.xlim((1./split_time) - (averaged_cross.df/2.),1./(2.*ms_bin))\n",
    "plt.xlim((1./split_time) - (averaged_cross.df),10.)\n",
    "plt.ylim((1e-3,3.0))\n",
    "plt.yscale('log')\n",
    "plt.xlabel('Frequency (Hz)')\n",
    "plt.ylabel('Leahy Power')\n",
    "plt.tight_layout()\n",
    "# plt.show()\n",
    "plt.savefig(plot_dir + 'preburst1_averaged_cross_spectrum_' + str(int(split_time)) + 's_lowf.pdf')\n",
    "plt.close()\n",
    "\n",
    "f_res = 0.05\n",
    "plt.figure(figsize=(9,6))\n",
    "averaged_cross_log = averaged_cross.rebin_log(f=f_res)\n",
    "temp_err = averaged_cross.df*np.power(1.+f_res, range(len(averaged_cross_log.freq)))/2.\n",
    "plt.errorbar(averaged_cross_log.freq, averaged_cross_log.power.real, xerr=temp_err, yerr=averaged_cross_log.power_err, fmt='none', lw=0.5)\n",
    "# plt.errorbar(averaged_cross_log.freq, averaged_cross_log.power.real, xerr=temp_err, yerr=averaged_cross_log.power_err, fmt='none', lw=0.2)\n",
    "plt.xscale('log')\n",
    "# plt.xlim((1./split_time) - (averaged_cross.df/2.),1./(2.*ms_bin))\n",
    "plt.xlim((10.0, 3000.))\n",
    "plt.ylim((1e-4,3.))\n",
    "plt.yscale('log')\n",
    "plt.xlabel('Frequency (Hz)')\n",
    "plt.ylabel('Leahy Power')\n",
    "plt.tight_layout()\n",
    "# plt.show()\n",
    "plt.savefig(plot_dir + 'preburst1_averaged_cross_spectrum_' + str(int(split_time)) + 's_highf.pdf')\n",
    "plt.close()"
   ]
  },
  {
   "cell_type": "code",
   "execution_count": 27,
   "metadata": {},
   "outputs": [
    {
     "name": "stdout",
     "output_type": "stream",
     "text": [
      "545.4545454545455\n",
      "[3.26574617e+08 3.26574617e+08 3.26574617e+08 ... 3.26575163e+08\n",
      " 3.26575163e+08 3.26575163e+08]\n"
     ]
    }
   ],
   "source": [
    "gti_lens = np.array([(g[1]-g[0]) for g in sting_gti.cross_two_gtis(events[0].gti, pre_burst2_gti)])\n",
    "split_time = minimize_remainder(gti_lens, 500.,2000.)\n",
    "print(split_time)\n",
    "ms_bin = 0.0001\n",
    "f_res = 0.05\n",
    "\n",
    "PI_min = 35     # 3.0 keV\n",
    "PI_max = 260     # 12.0 keV\n",
    "\n",
    "# print(events[0].split_by_time(bintime=split_time))\n",
    "curves_A = [x.to_lc(dt = ms_bin, pi_low=PI_min, pi_high=PI_max, centroid = [535.45075,442.58818], radius = 40.681706) for x in events[0].split_by_time(bintime=split_time, gti=pre_burst2_gti)]\n",
    "curves_B = [x.to_lc(dt = ms_bin, pi_low=PI_min, pi_high=PI_max, centroid = [529.34253,440.82937], radius = 40.681706) for x in events[1].split_by_time(bintime=split_time, gti=pre_burst2_gti)]\n",
    "\n",
    "print(curves_A[0].time)\n",
    "\n"
   ]
  },
  {
   "cell_type": "code",
   "execution_count": 28,
   "metadata": {},
   "outputs": [
    {
     "name": "stderr",
     "output_type": "stream",
     "text": [
      "  0%|          | 0/8 [00:00<?, ?it/s]/Users/sean/anaconda/lib/python3.6/site-packages/stingray/utils.py:118: UserWarning: SIMON says: Errorbars on cross spectra are not thoroughly tested. Please report any inconsistencies.\n",
      "  warnings.warn(\"SIMON says: {0}\".format(message), **kwargs)\n",
      " 12%|█▎        | 1/8 [00:42<04:59, 42.72s/it]/Users/sean/anaconda/lib/python3.6/site-packages/stingray/utils.py:118: UserWarning: SIMON says: Errorbars on cross spectra are not thoroughly tested. Please report any inconsistencies.\n",
      "  warnings.warn(\"SIMON says: {0}\".format(message), **kwargs)\n",
      " 25%|██▌       | 2/8 [01:25<04:15, 42.60s/it]/Users/sean/anaconda/lib/python3.6/site-packages/stingray/utils.py:118: UserWarning: SIMON says: Errorbars on cross spectra are not thoroughly tested. Please report any inconsistencies.\n",
      "  warnings.warn(\"SIMON says: {0}\".format(message), **kwargs)\n",
      " 38%|███▊      | 3/8 [02:08<03:33, 42.72s/it]/Users/sean/anaconda/lib/python3.6/site-packages/stingray/utils.py:118: UserWarning: SIMON says: Errorbars on cross spectra are not thoroughly tested. Please report any inconsistencies.\n",
      "  warnings.warn(\"SIMON says: {0}\".format(message), **kwargs)\n",
      " 50%|█████     | 4/8 [02:51<02:51, 42.89s/it]/Users/sean/anaconda/lib/python3.6/site-packages/stingray/utils.py:118: UserWarning: SIMON says: Errorbars on cross spectra are not thoroughly tested. Please report any inconsistencies.\n",
      "  warnings.warn(\"SIMON says: {0}\".format(message), **kwargs)\n",
      " 62%|██████▎   | 5/8 [03:34<02:08, 42.93s/it]/Users/sean/anaconda/lib/python3.6/site-packages/stingray/utils.py:118: UserWarning: SIMON says: Errorbars on cross spectra are not thoroughly tested. Please report any inconsistencies.\n",
      "  warnings.warn(\"SIMON says: {0}\".format(message), **kwargs)\n",
      " 75%|███████▌  | 6/8 [04:17<01:26, 43.08s/it]/Users/sean/anaconda/lib/python3.6/site-packages/stingray/utils.py:118: UserWarning: SIMON says: Errorbars on cross spectra are not thoroughly tested. Please report any inconsistencies.\n",
      "  warnings.warn(\"SIMON says: {0}\".format(message), **kwargs)\n",
      " 88%|████████▊ | 7/8 [04:59<00:42, 42.74s/it]/Users/sean/anaconda/lib/python3.6/site-packages/stingray/utils.py:118: UserWarning: SIMON says: Errorbars on cross spectra are not thoroughly tested. Please report any inconsistencies.\n",
      "  warnings.warn(\"SIMON says: {0}\".format(message), **kwargs)\n",
      "100%|██████████| 8/8 [05:45<00:00, 43.14s/it]\n"
     ]
    }
   ],
   "source": [
    "plt.ioff()\n",
    "\n",
    "cross_spectra = []\n",
    "for i in tqdm(range(len(curves_A))):\n",
    "    cross = crossspec.Crossspectrum(curves_A[i], curves_B[i], norm='leahy')\n",
    "    cross_spectra.append(cross)\n",
    "    cross_log = cross.rebin_log(f=f_res)\n",
    "    temp_err = cross.df*np.power(1.+f_res, range(len(cross_log.freq)))/2\n",
    "#     cross_lin = cross.rebin(df=1)\n",
    "    fig, (ax1, ax2) = plt.subplots(nrows=2, ncols=1, figsize=(12,8))\n",
    "#     res_mask = cross_log.freq > cross.df/f_re\n",
    "    ax1.errorbar(cross_log.freq, cross_log.power.real, xerr=temp_err, yerr=cross_log.power_err, fmt='none', lw=0.2)\n",
    "#     ax1.errorbar(cross.freq, cross.power.real*cross.freq, xerr=cross.df/2, yerr=cross.power_err*cross.freq, fmt='')\n",
    "#     ax1.set_xlim(1./split_time,1./(2.*ms_bin))\n",
    "#     ax1.axvline(1122, ls='--', color='red')\n",
    "    ax1.set_xlabel('Frequency (Hz)')\n",
    "    ax1.set_ylabel('Leahy power')\n",
    "    ax1.set_ylim(1e-6,1000.)\n",
    "    ax1.set_xscale('log')\n",
    "    ax1.set_yscale('log')\n",
    "    ax2.errorbar(curve_10s.time, curve_10s.countrate, xerr=curve_10s.dt/2, yerr=curve_10s.countrate_err, fmt='none')\n",
    "    ax2.axvspan(np.min(curves_A[i].time),np.max(curves_A[i].time), facecolor='red', alpha = 0.2)\n",
    "    ax2.set_xlabel('Time (s)')\n",
    "    ax2.set_ylabel(r'$\\mathrm{Count\\ rate\\ (s^{-1})}$')\n",
    "    plt.tight_layout()\n",
    "    plt.savefig(plot_dir + 'preburst2_cross_spectrum_log_' + str(int(split_time)) + 's_segment' + str(i) + '.pdf')  \n",
    "    plt.close()\n",
    "\n",
    "    cross_file = open(timing_dir + 'analysis_products/preburst2_cross_spectrum_' + str(int(split_time)) + 's_segment' + str(i) + '.txt', 'wb')\n",
    "    pickle.dump(cross, cross_file)\n",
    "    cross_file.close()\n",
    "    "
   ]
  },
  {
   "cell_type": "code",
   "execution_count": 29,
   "metadata": {},
   "outputs": [
    {
     "name": "stderr",
     "output_type": "stream",
     "text": [
      "/Users/sean/anaconda/lib/python3.6/site-packages/ipykernel_launcher.py:46: UserWarning: Attempted to set non-positive left xlim on a log-scaled axis.\n",
      "Invalid limit will be ignored.\n"
     ]
    }
   ],
   "source": [
    "## plt.ion()\n",
    "\n",
    "averaged_cross = cross_spectra[0]\n",
    "\n",
    "averaged_cross.m = len(cross_spectra)\n",
    "\n",
    "for i in range(len(cross_spectra))[1:]:\n",
    "    averaged_cross.power += cross_spectra[i].power\n",
    "    averaged_cross.unnorm_power += cross_spectra[i].unnorm_power\n",
    "    averaged_cross.power_err += np.square(cross_spectra[i].power_err)\n",
    "    averaged_cross.nphots1 += cross_spectra[i].nphots1\n",
    "    averaged_cross.nphots2 += cross_spectra[i].nphots2\n",
    "    \n",
    "averaged_cross.power = averaged_cross.power/averaged_cross.m\n",
    "averaged_cross.unnorm_power = averaged_cross.unnorm_power/averaged_cross.m\n",
    "averaged_cross.power_err = np.sqrt(averaged_cross.power_err)/averaged_cross.m\n",
    "averaged_cross.nphots1 = averaged_cross.nphots1/averaged_cross.m\n",
    "averaged_cross.nphots2 = averaged_cross.nphots2/averaged_cross.m\n",
    "    \n",
    "f_res = 0.05\n",
    "plt.figure(figsize=(9,6))\n",
    "averaged_cross_log = averaged_cross.rebin_log(f=f_res)\n",
    "temp_err = averaged_cross.df*np.power(1.+f_res, range(len(averaged_cross_log.freq)))/2.\n",
    "plt.errorbar(averaged_cross_log.freq, averaged_cross_log.power.real, xerr=temp_err, yerr=averaged_cross_log.power_err, fmt='none', lw=0.5)\n",
    "# plt.errorbar(averaged_cross_log.freq, averaged_cross_log.power.real, xerr=temp_err, yerr=averaged_cross_log.power_err, fmt='none', lw=0.2)\n",
    "plt.xscale('log')\n",
    "# plt.xlim((1./split_time) - (averaged_cross.df/2.),1./(2.*ms_bin))\n",
    "# plt.xlim((1./split_time) - (averaged_cross.df),10.)\n",
    "plt.ylim((1e-4,10.))\n",
    "plt.yscale('log')\n",
    "plt.xlabel('Frequency (Hz)')\n",
    "plt.ylabel('Leahy Power')\n",
    "plt.tight_layout()\n",
    "# plt.show()\n",
    "plt.savefig(plot_dir + 'preburst2_averaged_cross_spectrum_' + str(int(split_time)) + 's.pdf')\n",
    "plt.close()\n",
    "\n",
    "f_res = 0.05\n",
    "plt.figure(figsize=(9,6))\n",
    "averaged_cross_log = averaged_cross.rebin_log(f=f_res)\n",
    "temp_err = averaged_cross.df*np.power(1.+f_res, range(len(averaged_cross_log.freq)))/2.\n",
    "plt.errorbar(averaged_cross_log.freq, averaged_cross_log.power.real, xerr=temp_err, yerr=averaged_cross_log.power_err, fmt='none', lw=0.5)\n",
    "# plt.errorbar(averaged_cross_log.freq, averaged_cross_log.power.real, xerr=temp_err, yerr=averaged_cross_log.power_err, fmt='none', lw=0.2)\n",
    "plt.xscale('log')\n",
    "# plt.xlim((1./split_time) - (averaged_cross.df/2.),1./(2.*ms_bin))\n",
    "plt.xlim((1./split_time) - (averaged_cross.df),10.)\n",
    "plt.ylim((1e-3,10.0))\n",
    "plt.yscale('log')\n",
    "plt.xlabel('Frequency (Hz)')\n",
    "plt.ylabel('Leahy Power')\n",
    "plt.tight_layout()\n",
    "# plt.show()\n",
    "plt.savefig(plot_dir + 'preburst2_averaged_cross_spectrum_' + str(int(split_time)) + 's_lowf.pdf')\n",
    "plt.close()\n",
    "\n",
    "f_res = 0.05\n",
    "plt.figure(figsize=(9,6))\n",
    "averaged_cross_log = averaged_cross.rebin_log(f=f_res)\n",
    "temp_err = averaged_cross.df*np.power(1.+f_res, range(len(averaged_cross_log.freq)))/2.\n",
    "plt.errorbar(averaged_cross_log.freq, averaged_cross_log.power.real, xerr=temp_err, yerr=averaged_cross_log.power_err, fmt='none', lw=0.5)\n",
    "# plt.errorbar(averaged_cross_log.freq, averaged_cross_log.power.real, xerr=temp_err, yerr=averaged_cross_log.power_err, fmt='none', lw=0.2)\n",
    "plt.xscale('log')\n",
    "# plt.xlim((1./split_time) - (averaged_cross.df/2.),1./(2.*ms_bin))\n",
    "plt.xlim((10.0, 3000.))\n",
    "plt.ylim((1e-4,3.))\n",
    "plt.yscale('log')\n",
    "plt.xlabel('Frequency (Hz)')\n",
    "plt.ylabel('Leahy Power')\n",
    "plt.tight_layout()\n",
    "# plt.show()\n",
    "plt.savefig(plot_dir + 'preburst2_averaged_cross_spectrum_' + str(int(split_time)) + 's_highf.pdf')\n",
    "plt.close()"
   ]
  },
  {
   "cell_type": "code",
   "execution_count": null,
   "metadata": {},
   "outputs": [],
   "source": []
  }
 ],
 "metadata": {
  "anaconda-cloud": {},
  "kernelspec": {
   "display_name": "Python 3",
   "language": "python",
   "name": "python3"
  },
  "language_info": {
   "codemirror_mode": {
    "name": "ipython",
    "version": 3
   },
   "file_extension": ".py",
   "mimetype": "text/x-python",
   "name": "python",
   "nbconvert_exporter": "python",
   "pygments_lexer": "ipython3",
   "version": "3.6.11"
  },
  "varInspector": {
   "cols": {
    "lenName": 16,
    "lenType": 16,
    "lenVar": 40
   },
   "kernels_config": {
    "python": {
     "delete_cmd_postfix": "",
     "delete_cmd_prefix": "del ",
     "library": "var_list.py",
     "varRefreshCmd": "print(var_dic_list())"
    },
    "r": {
     "delete_cmd_postfix": ") ",
     "delete_cmd_prefix": "rm(",
     "library": "var_list.r",
     "varRefreshCmd": "cat(var_dic_list()) "
    }
   },
   "position": {
    "height": "593px",
    "left": "889px",
    "right": "20px",
    "top": "315px",
    "width": "315px"
   },
   "types_to_exclude": [
    "module",
    "function",
    "builtin_function_or_method",
    "instance",
    "_Feature"
   ],
   "window_display": false
  }
 },
 "nbformat": 4,
 "nbformat_minor": 4
}
