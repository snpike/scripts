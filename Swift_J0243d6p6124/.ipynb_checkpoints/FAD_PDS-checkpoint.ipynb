{
 "cells": [
  {
   "cell_type": "code",
   "execution_count": 1,
   "metadata": {
    "tags": []
   },
   "outputs": [
    {
     "name": "stderr",
     "output_type": "stream",
     "text": [
      "/Users/sean/opt/miniconda3/lib/python3.9/site-packages/stingray/utils.py:25: UserWarning: pyfftw not installed. Using standard scipy fft\n",
      "  warnings.warn(\"pyfftw not installed. Using standard scipy fft\")\n"
     ]
    }
   ],
   "source": [
    "import sys\n",
    "from sys import platform\n",
    "import matplotlib.pyplot as plt\n",
    "import matplotlib.animation as animation\n",
    "from matplotlib.ticker import ScalarFormatter\n",
    "from matplotlib.gridspec import GridSpec\n",
    "import copy\n",
    "import matplotlib as mpl\n",
    "mpl.rcParams['agg.path.chunksize'] = 10000\n",
    "\n",
    "import numpy as np\n",
    "import seaborn as sns\n",
    "from scipy.interpolate import interp1d\n",
    "from scipy.optimize import curve_fit\n",
    "from scipy.integrate import quad\n",
    "from IPython.display import display, Math\n",
    "from scipy.interpolate import CubicSpline\n",
    "from tqdm import tqdm\n",
    "\n",
    "import pickle\n",
    "\n",
    "from astropy.io import fits, ascii\n",
    "from astropy.table import Table\n",
    "from astropy.modeling import functional_models, fitting\n",
    "from astropy.timeseries import LombScargle\n",
    "\n",
    "import stingray.events as ev\n",
    "import stingray.lightcurve as lc\n",
    "from stingray import io\n",
    "import stingray.powerspectrum as powspec \n",
    "import stingray.crossspectrum as crossspec\n",
    "from stingray.pulse.search import phaseogram, plot_phaseogram, plot_profile, epoch_folding_search, z_n_search\n",
    "from stingray.pulse.pulsar import fold_events, pulse_phase\n",
    "import stingray.gti as sting_gti\n",
    "import stingray.pulse.accelsearch as accelsearch\n",
    "from stingray import stats\n",
    "from stingray.deadtime import fad\n",
    "\n",
    "\n",
    "sns.set_context('paper')\n",
    "sns.set(font_scale=1.6)\n",
    "sns.set_style(\"whitegrid\")\n",
    "sns.set_style({'axes.edgecolor': 'black', 'xtick.bottom': True, 'ytick.left': True,})\n",
    "sns.set_palette(\"colorblind\")\n",
    "\n",
    "sys.path.insert(1, '/Users/sean/scripts/helpers')\n",
    "\n",
    "from stingray_plus import *\n",
    "\n",
    "root_dir = '/Users/sean/astro/Swift_J0243d6p6124/'"
   ]
  },
  {
   "cell_type": "code",
   "execution_count": 2,
   "metadata": {
    "tags": []
   },
   "outputs": [],
   "source": [
    "OBSID='90901321002'\n",
    "\n",
    "pipeline_dir = root_dir + OBSID + '_pipe_out/'\n",
    "plot_dir = root_dir + 'figures/'"
   ]
  },
  {
   "cell_type": "markdown",
   "metadata": {},
   "source": [
    "# Calculate the FAD and Z_n search"
   ]
  },
  {
   "cell_type": "code",
   "execution_count": 3,
   "metadata": {},
   "outputs": [
    {
     "name": "stdout",
     "output_type": "stream",
     "text": [
      "425566542.7625644\n"
     ]
    }
   ],
   "source": [
    "events = extract_events(pipeline_dir + 'nu' + OBSID + 'A01_cl_bc_regfilt_3-78keV.evt', pipeline_dir + 'nu' + OBSID + 'B01_cl_bc_regfilt_3-78keV.evt')\n",
    "all_times = np.sort(np.concatenate([events[0].time, events[1].time]))\n",
    "print(np.min(all_times))"
   ]
  },
  {
   "cell_type": "code",
   "execution_count": null,
   "metadata": {},
   "outputs": [
    {
     "name": "stderr",
     "output_type": "stream",
     "text": [
      "9it [09:46, 64.85s/it]"
     ]
    }
   ],
   "source": [
    "fad_pds = fad.FAD(events[0], events[1], segment_size=1024., dt=1.0/8192., norm='frac', return_objects=True)['ptot']\n",
    "pickle.dump(fad_pds, open(pipeline_dir + 'FAD_ptot_rms.txt', 'wb'))\n",
    "# fad_pds = pickle.load(open(pipeline_dir + 'FAD_ptot_rms.txt', 'rb'))\n",
    "# print(fad_pds.freq[:5])"
   ]
  },
  {
   "cell_type": "code",
   "execution_count": null,
   "metadata": {},
   "outputs": [],
   "source": [
    "if fad_pds.norm == 'frac':\n",
    "    fad_pds.power_err = fad_pds.power/np.sqrt(fad_pds.m)\n",
    "elif fad_pds.norm == 'leahy':\n",
    "    fad_pds.power_err = fad_pds.power/np.sqrt(fad_pds.m/2.)\n",
    "# pickle.dump(fad_pds, open(pipeline_dir + 'FAD_ptot_Leahy.txt', 'wb'))\n",
    "# print(fad_pds.df/2)\n",
    "# print(fad_pds.freq)\n",
    "log_pds = fad_pds.rebin_log(f=0.005)\n",
    "if fad_pds.norm =='leahy':\n",
    "    p_noise = 2.0\n",
    "else:\n",
    "    p_noise = np.mean(fad_pds.power[fad_pds.freq>10.])\n",
    "print(p_noise)"
   ]
  },
  {
   "cell_type": "code",
   "execution_count": null,
   "metadata": {},
   "outputs": [],
   "source": [
    "plt.figure(figsize=(12,6))\n",
    "plt.errorbar(log_pds.freq, log_pds.power, yerr=log_pds.power_err, \\\n",
    "                     fmt='none', color='black', lw=0.5, rasterized=False)\n",
    "plt.step(np.concatenate([[log_pds.freq[0]-log_pds.df/2.], log_pds.freq]), np.concatenate([[log_pds.power[0]], log_pds.power]), where='mid', color='black', lw=0.5, rasterized=False)\n",
    "\n",
    "plt.axhline(p_noise, color='black', ls='--', lw=0.7)\n",
    "    \n",
    "plt.loglog()\n",
    "plt.xlabel('Frequency (Hz)')\n",
    "\n",
    "if fad_pds.norm =='leahy':\n",
    "    plt.ylabel('Leahy Power')\n",
    "else:\n",
    "    plt.ylabel(r'$P_{\\nu}\\,[\\mathrm{(rms/mean)^{2}/Hz}]$')\n",
    "plt.tight_layout()\n",
    "plt.savefig(plot_dir + OBSID + '_FAD_ptot_rms.pdf')"
   ]
  },
  {
   "cell_type": "code",
   "execution_count": null,
   "metadata": {},
   "outputs": [],
   "source": []
  }
 ],
 "metadata": {
  "anaconda-cloud": {},
  "kernelspec": {
   "display_name": "Python 3 (ipykernel)",
   "language": "python",
   "name": "python3"
  },
  "language_info": {
   "codemirror_mode": {
    "name": "ipython",
    "version": 3
   },
   "file_extension": ".py",
   "mimetype": "text/x-python",
   "name": "python",
   "nbconvert_exporter": "python",
   "pygments_lexer": "ipython3",
   "version": "3.9.16"
  },
  "varInspector": {
   "cols": {
    "lenName": 16,
    "lenType": 16,
    "lenVar": 40
   },
   "kernels_config": {
    "python": {
     "delete_cmd_postfix": "",
     "delete_cmd_prefix": "del ",
     "library": "var_list.py",
     "varRefreshCmd": "print(var_dic_list())"
    },
    "r": {
     "delete_cmd_postfix": ") ",
     "delete_cmd_prefix": "rm(",
     "library": "var_list.r",
     "varRefreshCmd": "cat(var_dic_list()) "
    }
   },
   "position": {
    "height": "593px",
    "left": "889px",
    "right": "20px",
    "top": "315px",
    "width": "315px"
   },
   "types_to_exclude": [
    "module",
    "function",
    "builtin_function_or_method",
    "instance",
    "_Feature"
   ],
   "window_display": false
  }
 },
 "nbformat": 4,
 "nbformat_minor": 4
}
