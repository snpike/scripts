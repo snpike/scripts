{
 "cells": [
  {
   "cell_type": "code",
   "execution_count": 1,
   "metadata": {},
   "outputs": [
    {
     "ename": "KeyboardInterrupt",
     "evalue": "",
     "output_type": "error",
     "traceback": [
      "\u001b[0;31m---------------------------------------------------------------------------\u001b[0m",
      "\u001b[0;31mKeyboardInterrupt\u001b[0m                         Traceback (most recent call last)",
      "\u001b[0;32m/var/folders/bs/3q1_zdjn6b59l3mxccjw3wmm0000gn/T/ipykernel_8757/2760661948.py\u001b[0m in \u001b[0;36m<module>\u001b[0;34m\u001b[0m\n\u001b[1;32m      9\u001b[0m \u001b[0msns\u001b[0m\u001b[0;34m.\u001b[0m\u001b[0mset_palette\u001b[0m\u001b[0;34m(\u001b[0m\u001b[0;34m'colorblind'\u001b[0m\u001b[0;34m)\u001b[0m\u001b[0;34m\u001b[0m\u001b[0;34m\u001b[0m\u001b[0m\n\u001b[1;32m     10\u001b[0m \u001b[0;34m\u001b[0m\u001b[0m\n\u001b[0;32m---> 11\u001b[0;31m \u001b[0;32mimport\u001b[0m \u001b[0mnudetect\u001b[0m\u001b[0;34m\u001b[0m\u001b[0;34m\u001b[0m\u001b[0m\n\u001b[0m\u001b[1;32m     12\u001b[0m \u001b[0mH119_dir\u001b[0m \u001b[0;34m=\u001b[0m \u001b[0;34m'/Volumes/Samsung_1TB/detectorData/H119/'\u001b[0m\u001b[0;34m\u001b[0m\u001b[0;34m\u001b[0m\u001b[0m\n\u001b[1;32m     13\u001b[0m \u001b[0mplot_dir\u001b[0m \u001b[0;34m=\u001b[0m \u001b[0mH119_dir\u001b[0m \u001b[0;34m+\u001b[0m \u001b[0;34m'figures/'\u001b[0m\u001b[0;34m\u001b[0m\u001b[0;34m\u001b[0m\u001b[0m\n",
      "\u001b[0;32m~/nudetect/nudetect.py\u001b[0m in \u001b[0;36m<module>\u001b[0;34m\u001b[0m\n\u001b[1;32m     25\u001b[0m \u001b[0;32mimport\u001b[0m \u001b[0mpandas\u001b[0m \u001b[0;32mas\u001b[0m \u001b[0mpd\u001b[0m\u001b[0;34m\u001b[0m\u001b[0;34m\u001b[0m\u001b[0m\n\u001b[1;32m     26\u001b[0m \u001b[0;32mfrom\u001b[0m \u001b[0mastropy\u001b[0m\u001b[0;34m.\u001b[0m\u001b[0mio\u001b[0m \u001b[0;32mimport\u001b[0m \u001b[0mfits\u001b[0m\u001b[0;34m\u001b[0m\u001b[0;34m\u001b[0m\u001b[0m\n\u001b[0;32m---> 27\u001b[0;31m \u001b[0;32mfrom\u001b[0m \u001b[0mastropy\u001b[0m\u001b[0;34m.\u001b[0m\u001b[0mmodeling\u001b[0m \u001b[0;32mimport\u001b[0m \u001b[0mmodels\u001b[0m\u001b[0;34m,\u001b[0m \u001b[0mfitting\u001b[0m\u001b[0;34m\u001b[0m\u001b[0;34m\u001b[0m\u001b[0m\n\u001b[0m\u001b[1;32m     28\u001b[0m \u001b[0;32mfrom\u001b[0m \u001b[0mastropy\u001b[0m\u001b[0;34m.\u001b[0m\u001b[0mtable\u001b[0m \u001b[0;32mimport\u001b[0m \u001b[0mTable\u001b[0m\u001b[0;34m\u001b[0m\u001b[0;34m\u001b[0m\u001b[0m\n\u001b[1;32m     29\u001b[0m \u001b[0;32mimport\u001b[0m \u001b[0mastropy\u001b[0m\u001b[0;34m.\u001b[0m\u001b[0mio\u001b[0m\u001b[0;34m.\u001b[0m\u001b[0mascii\u001b[0m \u001b[0;32mas\u001b[0m \u001b[0masciio\u001b[0m\u001b[0;34m\u001b[0m\u001b[0;34m\u001b[0m\u001b[0m\n",
      "\u001b[0;32m~/opt/anaconda3/lib/python3.8/site-packages/astropy/modeling/__init__.py\u001b[0m in \u001b[0;36m<module>\u001b[0;34m\u001b[0m\n\u001b[1;32m      8\u001b[0m \"\"\"\n\u001b[1;32m      9\u001b[0m \u001b[0;34m\u001b[0m\u001b[0m\n\u001b[0;32m---> 10\u001b[0;31m \u001b[0;32mfrom\u001b[0m \u001b[0;34m.\u001b[0m \u001b[0;32mimport\u001b[0m \u001b[0mfitting\u001b[0m\u001b[0;34m\u001b[0m\u001b[0;34m\u001b[0m\u001b[0m\n\u001b[0m\u001b[1;32m     11\u001b[0m \u001b[0;32mfrom\u001b[0m \u001b[0;34m.\u001b[0m \u001b[0;32mimport\u001b[0m \u001b[0mmodels\u001b[0m\u001b[0;34m\u001b[0m\u001b[0;34m\u001b[0m\u001b[0m\n\u001b[1;32m     12\u001b[0m \u001b[0;32mfrom\u001b[0m \u001b[0;34m.\u001b[0m\u001b[0mcore\u001b[0m \u001b[0;32mimport\u001b[0m \u001b[0;34m*\u001b[0m\u001b[0;34m\u001b[0m\u001b[0;34m\u001b[0m\u001b[0m\n",
      "\u001b[0;32m~/opt/anaconda3/lib/python3.8/site-packages/astropy/modeling/fitting.py\u001b[0m in \u001b[0;36m<module>\u001b[0;34m\u001b[0m\n\u001b[1;32m     32\u001b[0m \u001b[0;32mimport\u001b[0m \u001b[0mnumpy\u001b[0m \u001b[0;32mas\u001b[0m \u001b[0mnp\u001b[0m\u001b[0;34m\u001b[0m\u001b[0;34m\u001b[0m\u001b[0m\n\u001b[1;32m     33\u001b[0m \u001b[0;34m\u001b[0m\u001b[0m\n\u001b[0;32m---> 34\u001b[0;31m \u001b[0;32mfrom\u001b[0m \u001b[0mastropy\u001b[0m\u001b[0;34m.\u001b[0m\u001b[0munits\u001b[0m \u001b[0;32mimport\u001b[0m \u001b[0mQuantity\u001b[0m\u001b[0;34m\u001b[0m\u001b[0;34m\u001b[0m\u001b[0m\n\u001b[0m\u001b[1;32m     35\u001b[0m \u001b[0;32mfrom\u001b[0m \u001b[0mastropy\u001b[0m\u001b[0;34m.\u001b[0m\u001b[0mutils\u001b[0m\u001b[0;34m.\u001b[0m\u001b[0mexceptions\u001b[0m \u001b[0;32mimport\u001b[0m \u001b[0mAstropyUserWarning\u001b[0m\u001b[0;34m\u001b[0m\u001b[0;34m\u001b[0m\u001b[0m\n\u001b[1;32m     36\u001b[0m \u001b[0;32mfrom\u001b[0m \u001b[0;34m.\u001b[0m\u001b[0mutils\u001b[0m \u001b[0;32mimport\u001b[0m \u001b[0mpoly_map_domain\u001b[0m\u001b[0;34m,\u001b[0m \u001b[0m_combine_equivalency_dict\u001b[0m\u001b[0;34m\u001b[0m\u001b[0;34m\u001b[0m\u001b[0m\n",
      "\u001b[0;32m~/opt/anaconda3/lib/python3.8/site-packages/astropy/units/__init__.py\u001b[0m in \u001b[0;36m<module>\u001b[0;34m\u001b[0m\n\u001b[1;32m     27\u001b[0m \u001b[0;32mfrom\u001b[0m \u001b[0;34m.\u001b[0m\u001b[0mphotometric\u001b[0m \u001b[0;32mimport\u001b[0m \u001b[0;34m*\u001b[0m\u001b[0;34m\u001b[0m\u001b[0;34m\u001b[0m\u001b[0m\n\u001b[1;32m     28\u001b[0m \u001b[0;32mfrom\u001b[0m \u001b[0;34m.\u001b[0m\u001b[0mcgs\u001b[0m \u001b[0;32mimport\u001b[0m \u001b[0;34m*\u001b[0m\u001b[0;34m\u001b[0m\u001b[0;34m\u001b[0m\u001b[0m\n\u001b[0;32m---> 29\u001b[0;31m \u001b[0;32mfrom\u001b[0m \u001b[0;34m.\u001b[0m\u001b[0mphysical\u001b[0m \u001b[0;32mimport\u001b[0m \u001b[0;34m*\u001b[0m\u001b[0;34m\u001b[0m\u001b[0;34m\u001b[0m\u001b[0m\n\u001b[0m\u001b[1;32m     30\u001b[0m \u001b[0;32mfrom\u001b[0m \u001b[0;34m.\u001b[0m\u001b[0mfunction\u001b[0m\u001b[0;34m.\u001b[0m\u001b[0munits\u001b[0m \u001b[0;32mimport\u001b[0m \u001b[0;34m*\u001b[0m\u001b[0;34m\u001b[0m\u001b[0;34m\u001b[0m\u001b[0m\n\u001b[1;32m     31\u001b[0m \u001b[0;34m\u001b[0m\u001b[0m\n",
      "\u001b[0;32m~/opt/anaconda3/lib/python3.8/importlib/_bootstrap.py\u001b[0m in \u001b[0;36m_find_and_load\u001b[0;34m(name, import_)\u001b[0m\n",
      "\u001b[0;32m~/opt/anaconda3/lib/python3.8/importlib/_bootstrap.py\u001b[0m in \u001b[0;36m_find_and_load_unlocked\u001b[0;34m(name, import_)\u001b[0m\n",
      "\u001b[0;32m~/opt/anaconda3/lib/python3.8/importlib/_bootstrap.py\u001b[0m in \u001b[0;36m_load_unlocked\u001b[0;34m(spec)\u001b[0m\n",
      "\u001b[0;32m~/opt/anaconda3/lib/python3.8/importlib/_bootstrap_external.py\u001b[0m in \u001b[0;36mexec_module\u001b[0;34m(self, module)\u001b[0m\n",
      "\u001b[0;32m~/opt/anaconda3/lib/python3.8/importlib/_bootstrap_external.py\u001b[0m in \u001b[0;36mget_code\u001b[0;34m(self, fullname)\u001b[0m\n",
      "\u001b[0;32m~/opt/anaconda3/lib/python3.8/importlib/_bootstrap_external.py\u001b[0m in \u001b[0;36mget_data\u001b[0;34m(self, path)\u001b[0m\n",
      "\u001b[0;31mKeyboardInterrupt\u001b[0m: "
     ]
    }
   ],
   "source": [
    "import numpy as np\n",
    "import pandas as pd\n",
    "import matplotlib.pyplot as plt\n",
    "import seaborn as sns\n",
    "import scipy\n",
    "from scipy.interpolate import UnivariateSpline\n",
    "\n",
    "sns.set_context('paper', font_scale=1.5)\n",
    "sns.set_palette('colorblind')\n",
    "\n",
    "import nudetect\n",
    "H119_dir = '/Volumes/Samsung_1TB/detectorData/H119/'\n",
    "plot_dir = H119_dir + 'figures/'\n",
    "save_dir = H119_dir + 'data_products/'"
   ]
  },
  {
   "cell_type": "code",
   "execution_count": null,
   "metadata": {},
   "outputs": [],
   "source": [
    "H119 = nudetect.Detector('H119', offset=np.zeros((32,32,16)))\n",
    "Am241 = nudetect.Source('Am241')\n",
    "Eu155 = nudetect.Source('Eu155')\n",
    "noise_exp = nudetect.Noise(H119_dir + '20190624_H119_noise_5C/20190624_H119_noise_5C.fits', \\\n",
    "                           'H119', 5, pos=0, data_dir=save_dir, plot_dir=plot_dir)\n",
    "Am241_flood = nudetect.GammaFlood(H119_dir + 'floodAm241_5C_-500V_20190815_small_region_capoffset_corrected.fits',\\\n",
    "                               'H119', Am241, 500, 5, data_dir=save_dir, plot_dir=plot_dir, region = [[14,12],[19,17]])\n",
    "Eu155_flood = nudetect.GammaFlood(H119_dir + 'floodEu155_5C_-500V_20190816_small_region_capoffset_corrected.fits',\\\n",
    "                               'H119', Eu155, 500, 5, data_dir=save_dir, plot_dir=plot_dir, region = [[14,12],[19,17]])\n",
    "\n",
    "noise_exp = H119.add_experiment(noise_exp)\n",
    "Am241_flood = H119.add_experiment(Am241_flood)\n",
    "Eu155_flood = H119.add_experiment(Eu155_flood)\n",
    "H119.print_experiments()\n"
   ]
  },
  {
   "cell_type": "code",
   "execution_count": null,
   "metadata": {
    "scrolled": true,
    "tags": []
   },
   "outputs": [],
   "source": [
    "am_spectrum, eu_spectrum = H119.gen_calibrated_spectrum((Am241_flood, Eu155_flood), exclude_edges=False, grade_cut=0)"
   ]
  },
  {
   "cell_type": "code",
   "execution_count": 4,
   "metadata": {},
   "outputs": [],
   "source": [
    "plt.ion()\n",
    "plt.figure(figsize = (9,6))\n",
    "plt.plot(am_spectrum[1], am_spectrum[0]/np.max(am_spectrum[0]), label=r'$^{241}\\mathrm{Am}$')\n",
    "plt.plot(eu_spectrum[1], eu_spectrum[0]/np.max(eu_spectrum[0]), label=r'$^{155}\\mathrm{Eu}$')\n",
    "plt.xlabel('Energy (keV)')\n",
    "plt.ylabel('Normalized Counts')\n",
    "plt.legend()\n",
    "plt.xlim(0.0,110.)\n",
    "plt.tight_layout()\n",
    "plt.savefig(plot_dir + 'Eu155_Am241_calibrated_spec_offset_grade0.pdf')\n",
    "plt.close()\n",
    "# plt.ylim(0,600) "
   ]
  },
  {
   "cell_type": "code",
   "execution_count": 5,
   "metadata": {},
   "outputs": [],
   "source": [
    "from astropy.modeling import models, fitting\n",
    "def tie_stddevs(model):\n",
    "    return model.stddev_0\n",
    "\n",
    "def tie_stddevs3(model):\n",
    "    return model.stddev_3\n",
    "\n",
    "def tie_means(model):\n",
    "    return model.mean_0\n",
    "\n",
    "def tie_means3(model):\n",
    "    return model.mean_3\n",
    "\n",
    "def exp_tail(x, norm=1, mean=0, stddev=1, slope=1):\n",
    "    return norm*np.exp(slope*(x-mean))*(1-scipy.stats.norm.cdf(x, mean, stddev))\n",
    "\n",
    "def exp_tail_deriv(x, norm=1, mean=0, stddev=1, slope=1):\n",
    "    return [\n",
    "        np.exp(slope*(x-mean))*(1-scipy.stats.norm.cdf(x, mean, stddev)),\n",
    "        norm*np.exp(slope*(x-mean) - (x - mean)**2 / stddev**2 * 0.5)/(stddev*np.sqrt(2*np.pi)) -\\\n",
    "            norm*slope*np.exp(slope*(x-mean))*(1-scipy.stats.norm.cdf(x, mean, stddev)),\n",
    "        norm*(x-mean)*np.exp(slope*(x-mean) - (x - mean)**2 / stddev**2 * 0.5)/(stddev*stddev*np.sqrt(2*np.pi)),\n",
    "        norm*(x-mean)*np.exp(slope*(x-mean))*(1-scipy.stats.norm.cdf(x, mean, stddev))\n",
    "    ]\n",
    "\n",
    "# ExpTail = models.custom_model(exp_tail, fit_deriv=exp_tail_deriv)\n",
    "ExpTail = models.custom_model(exp_tail)\n",
    "\n",
    "def const_shelf(x, norm=1, mean=0, stddev=1):\n",
    "    return norm*(1-scipy.stats.norm.cdf(x, mean, stddev))\n",
    "\n",
    "def const_shelf_deriv(x, norm=1, mean=0, stddev=1):\n",
    "    return [\n",
    "        (1-scipy.stats.norm.cdf(x, mean, stddev)),\n",
    "        norm*np.exp(-0.5*(x-mean)**2 / stddev**2) / (np.sqrt(2*np.pi) * stddev),\n",
    "        norm*(x-mean)*np.exp(-0.5*(x-mean)**2 / stddev**2) / (np.sqrt(2*np.pi) * stddev**2)\n",
    "    ]\n",
    "\n",
    "# ConstShelf = models.custom_model(const_shelf, fit_deriv=const_shelf_deriv)\n",
    "ConstShelf = models.custom_model(const_shelf)\n",
    "\n"
   ]
  },
  {
   "cell_type": "markdown",
   "metadata": {},
   "source": [
    "# Eu155 86keV"
   ]
  },
  {
   "cell_type": "code",
   "execution_count": 10,
   "metadata": {},
   "outputs": [
    {
     "data": {
      "image/png": "[encoded data removed]",
      "text/plain": [
       "<Figure size 648x432 with 1 Axes>"
      ]
     },
     "metadata": {
      "needs_background": "light"
     },
     "output_type": "display_data"
    },
    {
     "name": "stdout",
     "output_type": "stream",
     "text": [
      "FWHM: 0.7896529715922753\n",
      "[2.28304521e+02 8.66699584e+01 2.67924612e-01 1.39074450e+01\n",
      " 8.66699584e+01 2.67924612e-01 6.80786393e+02 8.66699584e+01\n",
      " 2.67924612e-01 2.03660398e+00 3.82555712e+00]\n",
      "None\n"
     ]
    }
   ],
   "source": [
    "upper=7400\n",
    "lower=6850\n",
    "\n",
    "line_init = models.Gaussian1D(amplitude=1600, mean=86.8, stddev=0.4) + ConstShelf(norm=60, mean=86.8, stddev=0.4) + \\\n",
    "    ExpTail(norm=1000, mean=86.8, stddev=0.4, slope=1.5) + models.Const1D(amplitude=20)\n",
    "\n",
    "# line_init.amplitude_0.min = 0\n",
    "line_init.stddev_1.tied=tie_stddevs\n",
    "line_init.mean_1.tied = tie_means\n",
    "# line_init.norm_1.min = 0\n",
    "# line_init.norm_1.max = None\n",
    "line_init.stddev_2.tied=tie_stddevs\n",
    "line_init.mean_2.tied = tie_means\n",
    "# line_init.norm_2.min = 0\n",
    "# line_init.norm_2.max = None\n",
    "\n",
    "fit_line = fitting.LevMarLSQFitter()\n",
    "line = fit_line(line_init, eu_spectrum[1][lower:upper], eu_spectrum[0][lower:upper], weights = 1/np.sqrt(eu_spectrum[0][lower:upper]))\n",
    "\n",
    "fig, (ax1, ax2) = plt.subplots(nrows = 2, figsize=(9,8), sharex=True, gridspec_kw={'hspace':0, 'height_ratios': [2,1]})\n",
    "ax1.errorbar(eu_spectrum[1][lower:upper], eu_spectrum[0][lower:upper], yerr=np.sqrt(eu_spectrum[0][lower:upper]), fmt='', ls='')\n",
    "ax1.plot(eu_spectrum[1][lower:upper], line(eu_spectrum[1][lower:upper]))\n",
    "\n",
    "ax1.plot(eu_spectrum[1][lower:upper], line[0](eu_spectrum[1][lower:upper]), ls='dashed')\n",
    "ax1.plot(eu_spectrum[1][lower:upper], line[1](eu_spectrum[1][lower:upper]), ls='dashed')\n",
    "ax1.plot(eu_spectrum[1][lower:upper], line[2](eu_spectrum[1][lower:upper]), ls='dashed')\n",
    "ax1.plot(eu_spectrum[1][lower:upper], line[3](eu_spectrum[1][lower:upper]), ls='dashed')\n",
    "ax1.set_yscale('log')\n",
    "ax1.set_ylim((1.0, 1000))\n",
    "ax1.set_ylabel('Counts')\n",
    "ax1.set_xlabel('Energy (keV)')\n",
    "\n",
    "ax2.errorbar(eu_spectrum[1][lower:upper], (eu_spectrum[0][lower:upper] - line(eu_spectrum[1][lower:upper]))/np.sqrt(eu_spectrum[0][lower:upper]),\n",
    "             yerr=1.0, fmt='', ls='')\n",
    "ax2.axhline(0, color='C1')\n",
    "ax2.set_ylim((-5,5))\n",
    "ax2.set_xlabel('Energy (keV)')\n",
    "ax2.set_ylabel(r'$\\chi$')\n",
    "plt.savefig(plot_dir + 'Eu155_grade0_86kev_fit.pdf')\n",
    "plt.close()\n",
    "\n",
    "# chisq_red = np.sum(((eu_spectrum[0][lower:upper] - line(eu_spectrum[1][lower:upper])) ** 2)/\\\n",
    "#                    eu_spectrum[0][lower:upper])/len(eu_spectrum[0][lower:upper] - 7)\n",
    "# print(chisq_red)\n",
    "\n",
    "xs = np.linspace(84, 88, int(1e6))\n",
    "spline = UnivariateSpline(xs,\n",
    "                          line(xs) - line.parameters[-1] - line(xs).max()/2)\n",
    "roots = spline.roots() # find the roots\n",
    "plt.figure(figsize=(9,6))\n",
    "plt.plot(xs, spline(xs)+line(xs).max()/2 + line.parameters[-1])\n",
    "plt.plot(eu_spectrum[1][np.abs(eu_spectrum[1] - 86) < 2],\n",
    "         eu_spectrum[0][np.abs(eu_spectrum[1] - 86) < 2])\n",
    "plt.show()\n",
    "plt.close()\n",
    "del xs, spline\n",
    "print('FWHM: ' + str(roots[1] - roots[0]))\n",
    "\n",
    "print(line.parameters)\n",
    "print(line.stds)"
   ]
  },
  {
   "cell_type": "markdown",
   "metadata": {},
   "source": [
    "# Eu155 105keV"
   ]
  },
  {
   "cell_type": "code",
   "execution_count": 15,
   "metadata": {},
   "outputs": [
    {
     "name": "stderr",
     "output_type": "stream",
     "text": [
      "WARNING: The fit may be unsuccessful; check fit_info['message'] for more information. [astropy.modeling.fitting]\n",
      "/var/folders/bs/3q1_zdjn6b59l3mxccjw3wmm0000gn/T/ipykernel_5477/316845819.py:34: RuntimeWarning: divide by zero encountered in true_divide\n",
      "  ax2.errorbar(eu_spectrum[1][lower:upper], (eu_spectrum[0][lower:upper] - line(eu_spectrum[1][lower:upper]))/np.sqrt(eu_spectrum[0][lower:upper]),\n",
      "/var/folders/bs/3q1_zdjn6b59l3mxccjw3wmm0000gn/T/ipykernel_5477/316845819.py:43: RuntimeWarning: divide by zero encountered in true_divide\n",
      "  chisq_red = np.sum(((eu_spectrum[0][lower:upper] - line(eu_spectrum[1][lower:upper])) ** 2)/\\\n"
     ]
    },
    {
     "name": "stdout",
     "output_type": "stream",
     "text": [
      "inf\n",
      "0.9670296036834003\n",
      "[7.56553482e+01 1.05526700e+02 2.91958327e-01 1.29740165e+01\n",
      " 1.05526700e+02 2.91958327e-01 3.88998530e+02 1.05526700e+02\n",
      " 2.91958327e-01 1.72541742e+00]\n",
      "None\n"
     ]
    },
    {
     "data": {
      "image/png": "[encoded data removed]",
      "text/plain": [
       "<Figure size 432x288 with 1 Axes>"
      ]
     },
     "metadata": {
      "needs_background": "light"
     },
     "output_type": "display_data"
    }
   ],
   "source": [
    "upper=8890\n",
    "lower=8500\n",
    "line_init = models.Gaussian1D(amplitude=50, mean=105, stddev=0.2) + ConstShelf(norm=1, mean=105, stddev=0.4) + \\\n",
    "        ExpTail(norm=10, mean=105, stddev=0.4, slope=.1)# + models.Const1D(amplitude=20)\n",
    "\n",
    "\n",
    "# line_init.amplitude_0.min = 0\n",
    "line_init.stddev_1.tied=tie_stddevs\n",
    "line_init.mean_1.tied = tie_means\n",
    "# line_init.norm_1.min = 0\n",
    "# line_init.norm_1.max = None\n",
    "line_init.stddev_2.tied=tie_stddevs\n",
    "line_init.mean_2.tied = tie_means\n",
    "# line_init.norm_2.min = 0\n",
    "# line_init.norm_2.max = None\n",
    "\n",
    "zero_mask = eu_spectrum[0][lower:upper]!=0\n",
    "\n",
    "fit_line = fitting.LevMarLSQFitter()\n",
    "line = fit_line(line_init, eu_spectrum[1][lower:upper], eu_spectrum[0][lower:upper])\n",
    "\n",
    "fig, (ax1, ax2) = plt.subplots(nrows = 2, figsize=(9,8), sharex=True, gridspec_kw={'hspace':0, 'height_ratios': [2,1]})\n",
    "ax1.errorbar(eu_spectrum[1][lower:upper], eu_spectrum[0][lower:upper], yerr=np.sqrt(eu_spectrum[0][lower:upper]), fmt='', ls='')\n",
    "ax1.plot(eu_spectrum[1][lower:upper], line(eu_spectrum[1][lower:upper]))\n",
    "\n",
    "ax1.plot(eu_spectrum[1][lower:upper], line[0](eu_spectrum[1][lower:upper]), ls='dashed')\n",
    "ax1.plot(eu_spectrum[1][lower:upper], line[1](eu_spectrum[1][lower:upper]), ls='dashed')\n",
    "ax1.plot(eu_spectrum[1][lower:upper], line[2](eu_spectrum[1][lower:upper]), ls='dashed')\n",
    "ax1.set_yscale('log')\n",
    "ax1.set_ylim((1.0, 1000))\n",
    "ax1.set_ylabel('Counts')\n",
    "ax1.set_xlabel('Energy (keV)')\n",
    "\n",
    "ax2.errorbar(eu_spectrum[1][lower:upper], (eu_spectrum[0][lower:upper] - line(eu_spectrum[1][lower:upper]))/np.sqrt(eu_spectrum[0][lower:upper]),\n",
    "             yerr=1.0, fmt='', ls='')\n",
    "ax2.axhline(0, color='C1')\n",
    "ax2.set_ylim((-5,5))\n",
    "ax2.set_xlabel('Energy (keV)')\n",
    "ax2.set_ylabel(r'$\\chi$')\n",
    "plt.savefig(plot_dir + 'Eu155_grade0_105kev_fit.pdf')\n",
    "plt.close()\n",
    "\n",
    "chisq_red = np.sum(((eu_spectrum[0][lower:upper] - line(eu_spectrum[1][lower:upper])) ** 2)/\\\n",
    "                   eu_spectrum[0][lower:upper])/len(eu_spectrum[0][lower:upper] - 7)\n",
    "print(chisq_red)\n",
    "\n",
    "xs = np.linspace(103, 107, int(1e6))\n",
    "spline = UnivariateSpline(xs,\n",
    "                          line(xs) - line(xs).max()/2)\n",
    "roots = spline.roots() # find the roots\n",
    "plt.plot(xs, spline(xs)+line(xs).max()/2)\n",
    "plt.plot(eu_spectrum[1][np.abs(eu_spectrum[1] - 105) < 2],\n",
    "         eu_spectrum[0][np.abs(eu_spectrum[1] - 105) < 2])\n",
    "del xs, spline\n",
    "print(roots[1] - roots[0])\n",
    "print(line.parameters)\n",
    "print(line.stds)\n"
   ]
  },
  {
   "cell_type": "markdown",
   "metadata": {},
   "source": [
    "# Am241 59.5keV"
   ]
  },
  {
   "cell_type": "code",
   "execution_count": 27,
   "metadata": {},
   "outputs": [
    {
     "name": "stderr",
     "output_type": "stream",
     "text": [
      "/var/folders/bs/3q1_zdjn6b59l3mxccjw3wmm0000gn/T/ipykernel_5477/4210306125.py:32: RuntimeWarning: divide by zero encountered in true_divide\n",
      "  ax2.errorbar(am_spectrum[1][lower:upper], (am_spectrum[0][lower:upper] - line(am_spectrum[1][lower:upper]))/np.sqrt(am_spectrum[0][lower:upper]),\n"
     ]
    },
    {
     "name": "stdout",
     "output_type": "stream",
     "text": [
      "0.6356448737716462\n",
      "[1.38871013e+02 5.95971108e+01 2.21741214e-01 1.18924385e+01\n",
      " 5.95971108e+01 2.21741214e-01 9.50883490e+02 5.95971108e+01\n",
      " 2.21741214e-01 3.83552686e+00]\n",
      "[[ 2.02583920e+03  3.33991354e-01  1.16853480e-01 -1.36658336e+01\n",
      "  -3.90043127e+03 -8.09452412e+00]\n",
      " [ 3.33991354e-01  8.20681588e-05  1.39085529e-05 -3.76560409e-03\n",
      "  -6.32455413e-01 -1.64597464e-03]\n",
      " [ 1.16853480e-01  1.39085529e-05  8.68223971e-06 -6.53523371e-04\n",
      "  -2.29308309e-01 -4.21053739e-04]\n",
      " [-1.36658336e+01 -3.76560409e-03 -6.53523371e-04  7.62990853e-01\n",
      "   2.53261687e+01  8.00664040e-02]\n",
      " [-3.90043127e+03 -6.32455413e-01 -2.29308309e-01  2.53261687e+01\n",
      "   7.53077531e+03  1.54997066e+01]\n",
      " [-8.09452412e+00 -1.64597464e-03 -4.21053739e-04  8.00664040e-02\n",
      "   1.54997066e+01  3.65119842e-02]]\n"
     ]
    },
    {
     "data": {
      "image/png": "[encoded data removed]",
      "text/plain": [
       "<Figure size 432x288 with 1 Axes>"
      ]
     },
     "metadata": {
      "needs_background": "light"
     },
     "output_type": "display_data"
    }
   ],
   "source": [
    "upper=5050\n",
    "lower=4700\n",
    "\n",
    "line_init = models.Gaussian1D(amplitude=150, mean=59.6, stddev=0.22) + ConstShelf(norm=11, mean=59.5, stddev=0.2) + \\\n",
    "    ExpTail(norm=920, mean=59.5, stddev=0.2, slope=3.7)# + models.Const1D(amplitude=20)\n",
    "\n",
    "# line_init = models.Gaussian1D(amplitude=500, mean=59.5, stddev=0.2) + ConstShelf(norm=10, mean=59.5, stddev=0.2)\n",
    "\n",
    "\n",
    "line_init.stddev_1.tied=tie_stddevs\n",
    "line_init.mean_1.tied = tie_means\n",
    "line_init.stddev_2.tied=tie_stddevs\n",
    "line_init.mean_2.tied = tie_means\n",
    "\n",
    "zero_mask = am_spectrum[0][lower:upper]!=0\n",
    "\n",
    "fit_line = fitting.LevMarLSQFitter()\n",
    "line = fit_line(line_init, am_spectrum[1][lower:upper], am_spectrum[0][lower:upper])\n",
    "\n",
    "fig, (ax1, ax2) = plt.subplots(nrows = 2, figsize=(9,8), sharex=True, gridspec_kw={'hspace':0, 'height_ratios': [2,1]})\n",
    "ax1.errorbar(am_spectrum[1][lower:upper], am_spectrum[0][lower:upper], yerr=np.sqrt(am_spectrum[0][lower:upper]), fmt='', ls='')\n",
    "ax1.plot(am_spectrum[1][lower:upper], line(am_spectrum[1][lower:upper]))\n",
    "\n",
    "ax1.plot(am_spectrum[1][lower:upper], line[0](am_spectrum[1][lower:upper]), ls='dashed')\n",
    "ax1.plot(am_spectrum[1][lower:upper], line[1](am_spectrum[1][lower:upper]), ls='dashed')\n",
    "ax1.plot(am_spectrum[1][lower:upper], line[2](am_spectrum[1][lower:upper]), ls='dashed')\n",
    "ax1.set_yscale('log')\n",
    "ax1.set_ylim((1.0, 1000))\n",
    "ax1.set_ylabel('Counts')\n",
    "ax1.set_xlabel('Energy (keV)')\n",
    "\n",
    "ax2.errorbar(am_spectrum[1][lower:upper], (am_spectrum[0][lower:upper] - line(am_spectrum[1][lower:upper]))/np.sqrt(am_spectrum[0][lower:upper]),\n",
    "             yerr=1.0, fmt='', ls='')\n",
    "ax2.axhline(0, color='C1')\n",
    "ax2.set_ylim((-5,5))\n",
    "ax2.set_xlabel('Energy (keV)')\n",
    "ax2.set_ylabel(r'$\\chi$')\n",
    "plt.savefig(plot_dir + 'Am241_grade0_60kev_fit.pdf')\n",
    "plt.close()\n",
    "\n",
    "\n",
    "# chisq_red = np.sum(((am_spectrum[0][lower:upper][zero_mask] - line(am_spectrum[1][lower:upper][zero_mask])) ** 2)/\\\n",
    "#                    am_spectrum[0][lower:upper][zero_mask])/len(am_spectrum[0][lower:upper][zero_mask] - 7)\n",
    "# print(chisq_red)\n",
    "\n",
    "xs = np.linspace(58, 61, int(1e6))\n",
    "spline = UnivariateSpline(xs,\n",
    "                          line(xs) - line(xs).max()/2)\n",
    "roots = spline.roots() # find the roots\n",
    "plt.plot(xs, spline(xs)+line(xs).max()/2)\n",
    "plt.plot(am_spectrum[1][np.abs(am_spectrum[1] - 59.5) < 1.5],\n",
    "         am_spectrum[0][np.abs(am_spectrum[1] - 59.5) < 1.5])\n",
    "del xs, spline\n",
    "print(roots[1] - roots[0])\n",
    "print(line.parameters)\n",
    "print(fit_line.fit_info['param_cov'])\n"
   ]
  },
  {
   "cell_type": "markdown",
   "metadata": {},
   "source": [
    "# Am241 14keV"
   ]
  },
  {
   "cell_type": "code",
   "execution_count": 30,
   "metadata": {},
   "outputs": [
    {
     "name": "stdout",
     "output_type": "stream",
     "text": [
      "1.0965535071406753\n",
      "0.4790523836114353\n",
      "[1.24435874e+02 1.39703364e+01 1.78781115e-01 2.49428141e+02\n",
      " 1.39703364e+01 1.78781115e-01 3.62637484e+00 1.04077155e+01]\n",
      "[[ 8.43207176e+02  1.96000128e-02  1.40472406e-01 -1.66680271e+03\n",
      "  -1.18004713e+01 -1.46372285e+01]\n",
      " [ 1.96000128e-02  1.51902788e-05 -8.59501839e-07 -3.69287094e-02\n",
      "  -6.05860463e-04 -1.39932821e-03]\n",
      " [ 1.40472406e-01 -8.59501839e-07  2.76840181e-05 -2.80870874e-01\n",
      "  -1.92685699e-03 -2.65030480e-03]\n",
      " [-1.66680271e+03 -3.69287094e-02 -2.80870874e-01  3.30612648e+03\n",
      "   2.33629933e+01  2.83118726e+01]\n",
      " [-1.18004713e+01 -6.05860463e-04 -1.92685699e-03  2.33629933e+01\n",
      "   1.75915745e-01  2.45071890e-01]\n",
      " [-1.46372285e+01 -1.39932821e-03 -2.65030480e-03  2.83118726e+01\n",
      "   2.45071890e-01  7.84794794e-01]]\n"
     ]
    },
    {
     "data": {
      "image/png": "[encoded data removed]",
      "text/plain": [
       "<Figure size 432x288 with 1 Axes>"
      ]
     },
     "metadata": {
      "needs_background": "light"
     },
     "output_type": "display_data"
    }
   ],
   "source": [
    "lower=1020\n",
    "upper=1250\n",
    "\n",
    "# line_init = models.Gaussian1D(amplitude=250, mean=13.9, stddev=0.3) + ConstShelf(norm=1, mean=13.9, stddev=0.2) + models.Const1D(amplitude=20)\n",
    "\n",
    "line_init = models.Gaussian1D(amplitude=120, mean=13.9, stddev=0.2) + \\\n",
    "    ExpTail(norm=250, mean=13.9, stddev=0.2, slope=3.6) + models.Const1D(amplitude=10)\n",
    "\n",
    "line_init.stddev_1.tied=tie_stddevs\n",
    "line_init.mean_1.tied = tie_means\n",
    "\n",
    "\n",
    "fit_line = fitting.LevMarLSQFitter()\n",
    "line = fit_line(line_init, am_spectrum[1][lower:upper], am_spectrum[0][lower:upper])\n",
    "\n",
    "fig, (ax1, ax2) = plt.subplots(nrows = 2, figsize=(9,8), sharex=True, gridspec_kw={'hspace':0, 'height_ratios': [2,1]})\n",
    "ax1.errorbar(am_spectrum[1][lower:upper], am_spectrum[0][lower:upper], yerr=np.sqrt(am_spectrum[0][lower:upper]), fmt='', ls='')\n",
    "ax1.plot(am_spectrum[1][lower:upper], line(am_spectrum[1][lower:upper]))\n",
    "\n",
    "ax1.plot(am_spectrum[1][lower:upper], line[0](am_spectrum[1][lower:upper]), ls='dashed')\n",
    "ax1.plot(am_spectrum[1][lower:upper], line[1](am_spectrum[1][lower:upper]), ls='dashed')\n",
    "ax1.plot(am_spectrum[1][lower:upper], line[2](am_spectrum[1][lower:upper]), ls='dashed')\n",
    "ax1.set_yscale('log')\n",
    "ax1.set_ylim((1.0, 1000))\n",
    "ax1.set_ylabel('Counts')\n",
    "ax1.set_xlabel('Energy (keV)')\n",
    "\n",
    "ax2.errorbar(am_spectrum[1][lower:upper], (am_spectrum[0][lower:upper] - line(am_spectrum[1][lower:upper]))/np.sqrt(am_spectrum[0][lower:upper]),\n",
    "             yerr=1.0, fmt='', ls='')\n",
    "ax2.axhline(0, color='C1')\n",
    "ax2.set_ylim((-5,5))\n",
    "ax2.set_xlabel('Energy (keV)')\n",
    "ax2.set_ylabel(r'$\\chi$')\n",
    "plt.savefig(plot_dir + 'Am241_grade0_14kev_fit.pdf')\n",
    "plt.close()\n",
    "\n",
    "chisq_red = np.sum(((am_spectrum[0][lower:upper] - line(am_spectrum[1][lower:upper])) ** 2)/\\\n",
    "                   am_spectrum[0][lower:upper])/len(am_spectrum[0][lower:upper] - 7)\n",
    "print(chisq_red)\n",
    "\n",
    "xs = np.linspace(10, 15.5, int(1e6))\n",
    "spline = UnivariateSpline(xs,\n",
    "                          line(xs) - line(xs).max()/2 - line.parameters[-1])\n",
    "roots = spline.roots() # find the roots\n",
    "plt.plot(xs, spline(xs)+line(xs).max()/2 + line.parameters[-1])\n",
    "plt.plot(am_spectrum[1][np.abs(am_spectrum[1] - 14) < 1.5],\n",
    "         am_spectrum[0][np.abs(am_spectrum[1] - 14) < 1.5])\n",
    "del xs, spline\n",
    "print(roots[1] - roots[0])\n",
    "print(line.parameters)\n",
    "print(fit_line.fit_info['param_cov'])\n"
   ]
  },
  {
   "cell_type": "code",
   "execution_count": null,
   "metadata": {},
   "outputs": [],
   "source": []
  },
  {
   "cell_type": "code",
   "execution_count": null,
   "metadata": {},
   "outputs": [],
   "source": []
  }
 ],
 "metadata": {
  "anaconda-cloud": {},
  "kernelspec": {
   "display_name": "Python 3 (ipykernel)",
   "language": "python",
   "name": "python3"
  },
  "language_info": {
   "codemirror_mode": {
    "name": "ipython",
    "version": 3
   },
   "file_extension": ".py",
   "mimetype": "text/x-python",
   "name": "python",
   "nbconvert_exporter": "python",
   "pygments_lexer": "ipython3",
   "version": "3.8.8"
  },
  "varInspector": {
   "cols": {
    "lenName": 16,
    "lenType": 16,
    "lenVar": 40
   },
   "kernels_config": {
    "python": {
     "delete_cmd_postfix": "",
     "delete_cmd_prefix": "del ",
     "library": "var_list.py",
     "varRefreshCmd": "print(var_dic_list())"
    },
    "r": {
     "delete_cmd_postfix": ") ",
     "delete_cmd_prefix": "rm(",
     "library": "var_list.r",
     "varRefreshCmd": "cat(var_dic_list()) "
    }
   },
   "types_to_exclude": [
    "module",
    "function",
    "builtin_function_or_method",
    "instance",
    "_Feature"
   ],
   "window_display": false
  }
 },
 "nbformat": 4,
 "nbformat_minor": 4
}
