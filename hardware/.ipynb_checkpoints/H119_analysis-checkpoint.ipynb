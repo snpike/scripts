{
 "cells": [
  {
   "cell_type": "code",
   "execution_count": 1,
   "metadata": {},
   "outputs": [
    {
     "name": "stderr",
     "output_type": "stream",
     "text": [
      "WARNING: DistributionNotFound error occurred in entry point sherpafitter. [astropy.modeling.fitting]\n"
     ]
    }
   ],
   "source": [
    "import numpy as np\n",
    "import pandas as pd\n",
    "import matplotlib.pyplot as plt\n",
    "\n",
    "import nudetect\n",
    "H119_dir = '/Volumes/LaCie/detectorData/H119/'\n",
    "plot_dir = H119_dir + 'figures'\n",
    "save_dir = H119_dir + 'saved_data'"
   ]
  },
  {
   "cell_type": "code",
   "execution_count": 2,
   "metadata": {},
   "outputs": [
    {
     "name": "stdout",
     "output_type": "stream",
     "text": [
      "Noise5C\n",
      "GammaAm2415C500V\n",
      "GammaEu1555C500V\n"
     ]
    }
   ],
   "source": [
    "H119 = nudetect.Detector('H119')\n",
    "Am241 = nudetect.Source('Am241')\n",
    "Eu155 = nudetect.Source('Eu155')\n",
    "noise_exp = nudetect.Noise(H119_dir + '20190624_H119_noise_5C/20190624_H119_noise_5C.fits', \\\n",
    "                           'H119', 5, pos=0, data_dir=save_dir, plot_dir=plot_dir)\n",
    "Am241_flood = nudetect.GammaFlood(H119_dir + 'H119_5C_-500V_small_region/20190815_H119_Am241_5C_-500V_small_region.e.fits',\\\n",
    "                               'H119', Am241, 500, 5, data_dir=save_dir, plot_dir=plot_dir, region = [[14,12],[19,17]])\n",
    "Eu155_flood = nudetect.GammaFlood(H119_dir + 'H119_5C_-500V_small_region/20190816_H119_Eu155_5C_-500V_small_region.e.fits',\\\n",
    "                               'H119', Eu155, 500, 5, data_dir=save_dir, plot_dir=plot_dir, region = [[14,12],[19,17]])\n",
    "\n",
    "noise_exp = H119.add_experiment(noise_exp)\n",
    "Am241_flood = H119.add_experiment(Am241_flood)\n",
    "Eu155_flood = H119.add_experiment(Eu155_flood)\n",
    "H119.print_experiments()\n"
   ]
  },
  {
   "cell_type": "code",
   "execution_count": 3,
   "metadata": {
    "scrolled": true
   },
   "outputs": [
    {
     "name": "stdout",
     "output_type": "stream",
     "text": [
      "It looks like the capacitor offset has not been calculated. Checking for an available noise experiment...\n",
      "No noise experiment was passed. Checking for a stored noise experiment...\n",
      "There is a noise experiment stored for this detector. Generating offset now...\n"
     ]
    },
    {
     "name": "stderr",
     "output_type": "stream",
     "text": [
      " 12%|█▎        | 2/16 [00:29<03:25, 14.68s/it]WARNING: The fit may be unsuccessful; check fit_info['message'] for more information. [astropy.modeling.fitting]\n",
      "100%|██████████| 16/16 [04:49<00:00, 18.09s/it]\n"
     ]
    },
    {
     "name": "stdout",
     "output_type": "stream",
     "text": [
      "Computing PH_COM column for each gamma flood data set (if necessary)\n"
     ]
    },
    {
     "name": "stderr",
     "output_type": "stream",
     "text": [
      "  0%|          | 0/5 [00:00<?, ?it/s]/Users/sean/anaconda/lib/python3.6/site-packages/numpy/core/fromnumeric.py:3335: RuntimeWarning: Mean of empty slice.\n",
      "  out=out, **kwargs)\n",
      "/Users/sean/anaconda/lib/python3.6/site-packages/numpy/core/_methods.py:161: RuntimeWarning: invalid value encountered in double_scalars\n",
      "  ret = ret.dtype.type(ret / rcount)\n",
      "/Users/sean/nudetect/nudetect.py:4387: RuntimeWarning: divide by zero encountered in int_scalars\n",
      "  trphas = offphas * (1+((numrise/denrise)*tr_grid))\n",
      "/Users/sean/nudetect/nudetect.py:4387: RuntimeWarning: invalid value encountered in multiply\n",
      "  trphas = offphas * (1+((numrise/denrise)*tr_grid))\n",
      "/Users/sean/nudetect/nudetect.py:4390: RuntimeWarning: invalid value encountered in greater\n",
      "  plus_mask = (trphas > thresh_grid)\n",
      "/Users/sean/nudetect/nudetect.py:4393: RuntimeWarning: invalid value encountered in less\n",
      "  minus_mask = ((trphas < thresh_grid)*(~off_det_mask))\n",
      "/Users/sean/nudetect/nudetect.py:4395: RuntimeWarning: invalid value encountered in subtract\n",
      "  phas = trphas - minus_mean\n",
      "/Users/sean/anaconda/lib/python3.6/site-packages/pandas/core/indexing.py:671: SettingWithCopyWarning: \n",
      "A value is trying to be set on a copy of a slice from a DataFrame\n",
      "\n",
      "See the caveats in the documentation: https://pandas.pydata.org/pandas-docs/stable/user_guide/indexing.html#returning-a-view-versus-a-copy\n",
      "  self._setitem_with_indexer(indexer, value)\n",
      "/Users/sean/nudetect/nudetect.py:4387: RuntimeWarning: invalid value encountered in int_scalars\n",
      "  trphas = offphas * (1+((numrise/denrise)*tr_grid))\n",
      "100%|██████████| 5/5 [09:37<00:00, 115.41s/it]\n"
     ]
    },
    {
     "name": "stdout",
     "output_type": "stream",
     "text": [
      "Computing PH_COM column for each gamma flood data set (if necessary)\n"
     ]
    },
    {
     "name": "stderr",
     "output_type": "stream",
     "text": [
      "100%|██████████| 5/5 [12:27<00:00, 149.58s/it]\n"
     ]
    },
    {
     "name": "stdout",
     "output_type": "stream",
     "text": [
      "It looks like the gain has not been calculated. Generating the gain now...\n"
     ]
    },
    {
     "name": "stderr",
     "output_type": "stream",
     "text": [
      "/Users/sean/nudetect/nudetect.py:4112: UserWarning: Tight layout not applied. The left and right margins cannot be made large enough to accommodate all axes decorations. \n",
      "  plt.tight_layout()\n",
      "/Users/sean/nudetect/nudetect.py:4112: UserWarning: Tight layout not applied. The left and right margins cannot be made large enough to accommodate all axes decorations. \n",
      "  plt.tight_layout()\n",
      "/Users/sean/nudetect/nudetect.py:4112: UserWarning: Tight layout not applied. The left and right margins cannot be made large enough to accommodate all axes decorations. \n",
      "  plt.tight_layout()\n",
      "/Users/sean/nudetect/nudetect.py:4112: UserWarning: Tight layout not applied. The left and right margins cannot be made large enough to accommodate all axes decorations. \n",
      "  plt.tight_layout()\n",
      "/Users/sean/nudetect/nudetect.py:4112: UserWarning: Tight layout not applied. The left and right margins cannot be made large enough to accommodate all axes decorations. \n",
      "  plt.tight_layout()\n",
      "/Users/sean/nudetect/nudetect.py:4112: UserWarning: Tight layout not applied. The left and right margins cannot be made large enough to accommodate all axes decorations. \n",
      "  plt.tight_layout()\n",
      "/Users/sean/nudetect/nudetect.py:4112: UserWarning: Tight layout not applied. The left and right margins cannot be made large enough to accommodate all axes decorations. \n",
      "  plt.tight_layout()\n",
      "/Users/sean/nudetect/nudetect.py:4112: UserWarning: Tight layout not applied. The left and right margins cannot be made large enough to accommodate all axes decorations. \n",
      "  plt.tight_layout()\n",
      "/Users/sean/nudetect/nudetect.py:4112: UserWarning: Tight layout not applied. The left and right margins cannot be made large enough to accommodate all axes decorations. \n",
      "  plt.tight_layout()\n",
      "/Users/sean/nudetect/nudetect.py:4112: UserWarning: Tight layout not applied. The left and right margins cannot be made large enough to accommodate all axes decorations. \n",
      "  plt.tight_layout()\n",
      "/Users/sean/nudetect/nudetect.py:4112: UserWarning: Tight layout not applied. The left and right margins cannot be made large enough to accommodate all axes decorations. \n",
      "  plt.tight_layout()\n",
      "/Users/sean/nudetect/nudetect.py:4112: UserWarning: Tight layout not applied. The left and right margins cannot be made large enough to accommodate all axes decorations. \n",
      "  plt.tight_layout()\n",
      "/Users/sean/nudetect/nudetect.py:4112: UserWarning: Tight layout not applied. The left and right margins cannot be made large enough to accommodate all axes decorations. \n",
      "  plt.tight_layout()\n",
      "/Users/sean/nudetect/nudetect.py:4112: UserWarning: Tight layout not applied. The left and right margins cannot be made large enough to accommodate all axes decorations. \n",
      "  plt.tight_layout()\n",
      "/Users/sean/nudetect/nudetect.py:4112: UserWarning: Tight layout not applied. The left and right margins cannot be made large enough to accommodate all axes decorations. \n",
      "  plt.tight_layout()\n",
      "/Users/sean/nudetect/nudetect.py:4112: UserWarning: Tight layout not applied. The left and right margins cannot be made large enough to accommodate all axes decorations. \n",
      "  plt.tight_layout()\n",
      "/Users/sean/nudetect/nudetect.py:4112: UserWarning: Tight layout not applied. The left and right margins cannot be made large enough to accommodate all axes decorations. \n",
      "  plt.tight_layout()\n",
      "/Users/sean/nudetect/nudetect.py:4112: UserWarning: Tight layout not applied. The left and right margins cannot be made large enough to accommodate all axes decorations. \n",
      "  plt.tight_layout()\n",
      "/Users/sean/nudetect/nudetect.py:4112: UserWarning: Tight layout not applied. The left and right margins cannot be made large enough to accommodate all axes decorations. \n",
      "  plt.tight_layout()\n",
      "/Users/sean/nudetect/nudetect.py:4112: UserWarning: Tight layout not applied. The left and right margins cannot be made large enough to accommodate all axes decorations. \n",
      "  plt.tight_layout()\n",
      "/Users/sean/nudetect/nudetect.py:4112: UserWarning: Tight layout not applied. The left and right margins cannot be made large enough to accommodate all axes decorations. \n",
      "  plt.tight_layout()\n",
      "/Users/sean/nudetect/nudetect.py:4112: UserWarning: Tight layout not applied. The left and right margins cannot be made large enough to accommodate all axes decorations. \n",
      "  plt.tight_layout()\n",
      "/Users/sean/nudetect/nudetect.py:4112: UserWarning: Tight layout not applied. The left and right margins cannot be made large enough to accommodate all axes decorations. \n",
      "  plt.tight_layout()\n",
      "/Users/sean/nudetect/nudetect.py:4112: UserWarning: Tight layout not applied. The left and right margins cannot be made large enough to accommodate all axes decorations. \n",
      "  plt.tight_layout()\n",
      "/Users/sean/nudetect/nudetect.py:4112: UserWarning: Tight layout not applied. The left and right margins cannot be made large enough to accommodate all axes decorations. \n",
      "  plt.tight_layout()\n",
      "/Users/sean/nudetect/nudetect.py:4112: UserWarning: Tight layout not applied. The left and right margins cannot be made large enough to accommodate all axes decorations. \n",
      "  plt.tight_layout()\n",
      "/Users/sean/nudetect/nudetect.py:4112: UserWarning: Tight layout not applied. The left and right margins cannot be made large enough to accommodate all axes decorations. \n",
      "  plt.tight_layout()\n",
      "/Users/sean/nudetect/nudetect.py:4112: UserWarning: Tight layout not applied. The left and right margins cannot be made large enough to accommodate all axes decorations. \n",
      "  plt.tight_layout()\n",
      "/Users/sean/nudetect/nudetect.py:4112: UserWarning: Tight layout not applied. The left and right margins cannot be made large enough to accommodate all axes decorations. \n",
      "  plt.tight_layout()\n",
      "/Users/sean/nudetect/nudetect.py:4112: UserWarning: Tight layout not applied. The left and right margins cannot be made large enough to accommodate all axes decorations. \n",
      "  plt.tight_layout()\n",
      "/Users/sean/nudetect/nudetect.py:4112: UserWarning: Tight layout not applied. The left and right margins cannot be made large enough to accommodate all axes decorations. \n",
      "  plt.tight_layout()\n",
      "/Users/sean/nudetect/nudetect.py:4112: UserWarning: Tight layout not applied. The left and right margins cannot be made large enough to accommodate all axes decorations. \n",
      "  plt.tight_layout()\n",
      "/Users/sean/nudetect/nudetect.py:4112: UserWarning: Tight layout not applied. The left and right margins cannot be made large enough to accommodate all axes decorations. \n",
      "  plt.tight_layout()\n",
      "/Users/sean/nudetect/nudetect.py:4112: UserWarning: Tight layout not applied. The left and right margins cannot be made large enough to accommodate all axes decorations. \n",
      "  plt.tight_layout()\n",
      "/Users/sean/nudetect/nudetect.py:4112: UserWarning: Tight layout not applied. The left and right margins cannot be made large enough to accommodate all axes decorations. \n",
      "  plt.tight_layout()\n",
      "/Users/sean/nudetect/nudetect.py:4112: UserWarning: Tight layout not applied. The left and right margins cannot be made large enough to accommodate all axes decorations. \n",
      "  plt.tight_layout()\n",
      "/Users/sean/nudetect/nudetect.py:4112: UserWarning: Tight layout not applied. The left and right margins cannot be made large enough to accommodate all axes decorations. \n",
      "  plt.tight_layout()\n",
      "/Users/sean/nudetect/nudetect.py:4112: UserWarning: Tight layout not applied. The left and right margins cannot be made large enough to accommodate all axes decorations. \n",
      "  plt.tight_layout()\n",
      "/Users/sean/nudetect/nudetect.py:4112: UserWarning: Tight layout not applied. The left and right margins cannot be made large enough to accommodate all axes decorations. \n",
      "  plt.tight_layout()\n",
      "/Users/sean/nudetect/nudetect.py:4112: UserWarning: Tight layout not applied. The left and right margins cannot be made large enough to accommodate all axes decorations. \n",
      "  plt.tight_layout()\n",
      "/Users/sean/nudetect/nudetect.py:4112: UserWarning: Tight layout not applied. The left and right margins cannot be made large enough to accommodate all axes decorations. \n",
      "  plt.tight_layout()\n",
      "/Users/sean/nudetect/nudetect.py:4112: UserWarning: Tight layout not applied. The left and right margins cannot be made large enough to accommodate all axes decorations. \n",
      "  plt.tight_layout()\n",
      "/Users/sean/nudetect/nudetect.py:4112: UserWarning: Tight layout not applied. The left and right margins cannot be made large enough to accommodate all axes decorations. \n",
      "  plt.tight_layout()\n"
     ]
    },
    {
     "name": "stderr",
     "output_type": "stream",
     "text": [
      "/Users/sean/nudetect/nudetect.py:4112: UserWarning: Tight layout not applied. The left and right margins cannot be made large enough to accommodate all axes decorations. \n",
      "  plt.tight_layout()\n",
      "/Users/sean/nudetect/nudetect.py:4112: UserWarning: Tight layout not applied. The left and right margins cannot be made large enough to accommodate all axes decorations. \n",
      "  plt.tight_layout()\n",
      "/Users/sean/nudetect/nudetect.py:4112: UserWarning: Tight layout not applied. The left and right margins cannot be made large enough to accommodate all axes decorations. \n",
      "  plt.tight_layout()\n",
      "/Users/sean/nudetect/nudetect.py:4112: UserWarning: Tight layout not applied. The left and right margins cannot be made large enough to accommodate all axes decorations. \n",
      "  plt.tight_layout()\n",
      "/Users/sean/nudetect/nudetect.py:4112: UserWarning: Tight layout not applied. The left and right margins cannot be made large enough to accommodate all axes decorations. \n",
      "  plt.tight_layout()\n",
      "/Users/sean/nudetect/nudetect.py:4112: UserWarning: Tight layout not applied. The left and right margins cannot be made large enough to accommodate all axes decorations. \n",
      "  plt.tight_layout()\n",
      "/Users/sean/nudetect/nudetect.py:4112: UserWarning: Tight layout not applied. The left and right margins cannot be made large enough to accommodate all axes decorations. \n",
      "  plt.tight_layout()\n",
      "  0%|          | 0/5 [00:00<?, ?it/s]/Users/sean/nudetect/nudetect.py:4277: RuntimeWarning: invalid value encountered in multiply\n",
      "  np.multiply(mask, pulse_grid), gain_grid)))\n",
      "100%|██████████| 5/5 [00:06<00:00,  1.27s/it]\n",
      "/Users/sean/anaconda/lib/python3.6/site-packages/numpy/lib/histograms.py:839: RuntimeWarning: invalid value encountered in greater_equal\n",
      "  keep = (tmp_a >= first_edge)\n",
      "/Users/sean/anaconda/lib/python3.6/site-packages/numpy/lib/histograms.py:840: RuntimeWarning: invalid value encountered in less_equal\n",
      "  keep &= (tmp_a <= last_edge)\n",
      "100%|██████████| 5/5 [00:07<00:00,  1.54s/it]\n"
     ]
    }
   ],
   "source": [
    "cal_spectra = H119.gen_calibrated_spectrum((Am241_flood, Eu155_flood), exclude_edges=False, grade_cut=0)"
   ]
  },
  {
   "cell_type": "code",
   "execution_count": 4,
   "metadata": {},
   "outputs": [
    {
     "data": {
      "image/png": "[encoded data removed]",
      "text/plain": [
       "<Figure size 648x432 with 1 Axes>"
      ]
     },
     "metadata": {
      "needs_background": "light"
     },
     "output_type": "display_data"
    }
   ],
   "source": [
    "plt.ion()\n",
    "plt.figure(figsize = (9,6))\n",
    "for s in cal_spectra:\n",
    "#     plt.plot(s[1][100:], s[0][100:]/np.max(s[0][100:]))\n",
    "#     plt.plot(s[1][100:], s[0][100:])\n",
    "    plt.plot(s[1], s[0]/np.max(s[0]))\n",
    "plt.xlabel('Energy (keV)')\n",
    "plt.ylabel('Counts')\n",
    "\n",
    "plt.xlim(0.0,120.)\n",
    "plt.savefig(plot_dir + 'Eu155_Am241_calibrated_spec_offset_grade0.pdf')\n",
    "# plt.ylim(0,600) "
   ]
  },
  {
   "cell_type": "code",
   "execution_count": 5,
   "metadata": {},
   "outputs": [
    {
     "data": {
      "text/plain": [
       "798703.0"
      ]
     },
     "execution_count": 5,
     "metadata": {},
     "output_type": "execute_result"
    }
   ],
   "source": [
    "np.sum(cal_spectra[0])"
   ]
  },
  {
   "cell_type": "code",
   "execution_count": 9,
   "metadata": {},
   "outputs": [
    {
     "name": "stdout",
     "output_type": "stream",
     "text": [
      "start cap  pixel row  pixel col\n",
      "0          0          0           -117.310343\n",
      "                      1            -70.198274\n",
      "                      2            -42.909448\n",
      "                      3             -4.352492\n",
      "                      4             -0.979827\n",
      "                                      ...    \n",
      "15         31         27            -0.742949\n",
      "                      28            -6.130187\n",
      "                      29            -9.988964\n",
      "                      30           -24.716264\n",
      "                      31           -35.161165\n",
      "Name: mean, Length: 16384, dtype: float64\n"
     ]
    }
   ],
   "source": [
    "print(H119.offset)\n",
    "plt.plot()"
   ]
  },
  {
   "cell_type": "code",
   "execution_count": null,
   "metadata": {},
   "outputs": [],
   "source": []
  }
 ],
 "metadata": {
  "anaconda-cloud": {},
  "kernelspec": {
   "display_name": "Python 3",
   "language": "python",
   "name": "python3"
  },
  "language_info": {
   "codemirror_mode": {
    "name": "ipython",
    "version": 3
   },
   "file_extension": ".py",
   "mimetype": "text/x-python",
   "name": "python",
   "nbconvert_exporter": "python",
   "pygments_lexer": "ipython3",
   "version": "3.6.10"
  },
  "varInspector": {
   "cols": {
    "lenName": 16,
    "lenType": 16,
    "lenVar": 40
   },
   "kernels_config": {
    "python": {
     "delete_cmd_postfix": "",
     "delete_cmd_prefix": "del ",
     "library": "var_list.py",
     "varRefreshCmd": "print(var_dic_list())"
    },
    "r": {
     "delete_cmd_postfix": ") ",
     "delete_cmd_prefix": "rm(",
     "library": "var_list.r",
     "varRefreshCmd": "cat(var_dic_list()) "
    }
   },
   "types_to_exclude": [
    "module",
    "function",
    "builtin_function_or_method",
    "instance",
    "_Feature"
   ],
   "window_display": false
  }
 },
 "nbformat": 4,
 "nbformat_minor": 4
}
