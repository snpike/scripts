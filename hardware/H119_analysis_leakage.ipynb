{
 "cells": [
  {
   "cell_type": "code",
   "execution_count": 1,
   "metadata": {},
   "outputs": [],
   "source": [
    "import numpy as np\n",
    "import pandas as pd\n",
    "import matplotlib.pyplot as plt\n",
    "import seaborn as sns\n",
    "import scipy\n",
    "from scipy.interpolate import UnivariateSpline\n",
    "\n",
    "sns.set_context('paper', font_scale=2.0)\n",
    "sns.set_palette('colorblind')\n",
    "\n",
    "import nudetect\n",
    "H119_dir = '/Volumes/Samsung_1TB/detectorData/H119/'\n",
    "plot_dir = H119_dir + 'figures/'\n",
    "save_dir = H119_dir + 'data_products/'"
   ]
  },
  {
   "cell_type": "code",
   "execution_count": 2,
   "metadata": {},
   "outputs": [
    {
     "name": "stdout",
     "output_type": "stream",
     "text": [
      "Leakage{5}C{100, 200, 300, 400, 500, 600}V\n"
     ]
    }
   ],
   "source": [
    "H119 = nudetect.Detector('H119')\n",
    "\n",
    "leakage_exp = nudetect.Leakage(H119_dir + '2019_H119_leakage_redlen', \\\n",
    "                           'H119', 5, pos=0, data_dir=save_dir, plot_dir=plot_dir)\n",
    "\n",
    "leakage_exp = H119.add_experiment(leakage_exp)\n",
    "H119.print_experiments()\n"
   ]
  },
  {
   "cell_type": "code",
   "execution_count": 3,
   "metadata": {},
   "outputs": [
    {
     "name": "stdout",
     "output_type": "stream",
     "text": [
      "  mode  temp  voltage      mean      stddev  outliers\n",
      "0   CP   5.0    100.0  0.843359    3.079818      10.0\n",
      "1   CP   5.0    200.0  1.722135    3.397160      10.0\n",
      "2    N   5.0    300.0 -2.694716  256.443869       1.0\n",
      "3   CP   5.0    300.0  2.681004    3.875004      10.0\n",
      "4    N   5.0    400.0 -3.974460  336.684739       1.0\n",
      "5   CP   5.0    400.0  3.854113    4.285498      10.0\n",
      "6    N   5.0    500.0  1.611056  346.932484       1.0\n",
      "7   CP   5.0    500.0  5.854618    5.665969      10.0\n",
      "8    N   5.0    600.0  1.044917  341.089983       1.0\n",
      "9   CP   5.0    600.0  8.615411    7.983159       9.0\n"
     ]
    }
   ],
   "source": [
    "leakage_stats, leakage_maps = leakage_exp.gen_leak_maps()\n",
    "print(leakage_stats)"
   ]
  },
  {
   "cell_type": "code",
   "execution_count": 4,
   "metadata": {},
   "outputs": [
    {
     "name": "stdout",
     "output_type": "stream",
     "text": [
      "Plotting leakage map for CP5100\n",
      "Outliers +/- 22.666666666666664\n",
      "Number of outliers: 6\n",
      "Plotting leakage map for CP5200\n",
      "Outliers +/- 22.666666666666664\n",
      "Number of outliers: 7\n",
      "Plotting leakage map for CP5300\n",
      "Outliers +/- 22.666666666666664\n",
      "Number of outliers: 10\n",
      "Plotting leakage map for CP5400\n",
      "Outliers +/- 33.99999999999999\n",
      "Number of outliers: 11\n",
      "Plotting leakage map for CP5500\n",
      "Outliers +/- 34.0\n",
      "Number of outliers: 24\n",
      "Plotting leakage map for CP5600\n",
      "Outliers +/- 39.66666666666667\n",
      "Number of outliers: 55\n",
      "Plotting leakage map for N5300\n",
      "Outliers +/- 226.66666666666669\n",
      "Number of outliers: 3\n",
      "Plotting leakage map for N5400\n",
      "Outliers +/- 226.66666666666669\n",
      "Number of outliers: 6\n",
      "Plotting leakage map for N5500\n",
      "Outliers +/- 226.66666666666669\n",
      "Number of outliers: 11\n",
      "Plotting leakage map for N5600\n",
      "Outliers +/- 226.66666666666669\n",
      "Number of outliers: 30\n"
     ]
    }
   ],
   "source": [
    "outlier_threshold = 20\n",
    "leakage_exp.plot_leak_maps(mode='CP', temp=5, voltage=[100,200,300,400,500,600], outlier_threshold=outlier_threshold)\n",
    "leakage_exp.plot_leak_maps(mode='N', temp=5, voltage=[300,400,500,600], outlier_threshold=outlier_threshold)"
   ]
  },
  {
   "cell_type": "code",
   "execution_count": 5,
   "metadata": {},
   "outputs": [],
   "source": [
    "leakage_exp.plot_leak_hists(mode='CP', temp=5, voltage=[100,200,300,400,500,600], outlier_threshold=outlier_threshold)\n",
    "leakage_exp.plot_leak_hists(mode='N', temp=5, voltage=[300,400,500,600], outlier_threshold=outlier_threshold)"
   ]
  },
  {
   "cell_type": "code",
   "execution_count": null,
   "metadata": {},
   "outputs": [],
   "source": []
  }
 ],
 "metadata": {
  "anaconda-cloud": {},
  "kernelspec": {
   "display_name": "Python 3 (ipykernel)",
   "language": "python",
   "name": "python3"
  },
  "language_info": {
   "codemirror_mode": {
    "name": "ipython",
    "version": 3
   },
   "file_extension": ".py",
   "mimetype": "text/x-python",
   "name": "python",
   "nbconvert_exporter": "python",
   "pygments_lexer": "ipython3",
   "version": "3.8.8"
  },
  "varInspector": {
   "cols": {
    "lenName": 16,
    "lenType": 16,
    "lenVar": 40
   },
   "kernels_config": {
    "python": {
     "delete_cmd_postfix": "",
     "delete_cmd_prefix": "del ",
     "library": "var_list.py",
     "varRefreshCmd": "print(var_dic_list())"
    },
    "r": {
     "delete_cmd_postfix": ") ",
     "delete_cmd_prefix": "rm(",
     "library": "var_list.r",
     "varRefreshCmd": "cat(var_dic_list()) "
    }
   },
   "types_to_exclude": [
    "module",
    "function",
    "builtin_function_or_method",
    "instance",
    "_Feature"
   ],
   "window_display": false
  }
 },
 "nbformat": 4,
 "nbformat_minor": 4
}
