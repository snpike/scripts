{
 "cells": [
  {
   "cell_type": "code",
   "execution_count": 1,
   "metadata": {},
   "outputs": [],
   "source": [
    "from astropy.io import fits\n",
    "import numpy as np\n",
    "import matplotlib.pyplot as plt\n",
    "import scipy.special as scsp\n",
    "import scipy.integrate as scint\n",
    "import scipy.stats as scst\n",
    "import sys\n",
    "# sys.path.insert(0, '/users/milan/nudetect')\n",
    "import nudetect"
   ]
  },
  {
   "cell_type": "code",
   "execution_count": 5,
   "metadata": {},
   "outputs": [],
   "source": [
    "h119_noise_5 = nudetect.Noise(\"/Volumes/Samsung_1TB/detectorData/H119/20190624_H119_noise_5C/20190624_H119_noise_5C.fits\",\n",
    "                        detector=\"H119\",\n",
    "                        temp=5,\n",
    "                        data_dir='/Volumes/Samsung_1TB/detectorData/H119/20190624_H119_noise_5C',\n",
    "                        plot_dir='/Volumes/Samsung_1TB/detectorData/H119/figures')"
   ]
  },
  {
   "cell_type": "code",
   "execution_count": 6,
   "metadata": {},
   "outputs": [],
   "source": [
    "h119_noise_5.load_raw_data()"
   ]
  },
  {
   "cell_type": "code",
   "execution_count": 7,
   "metadata": {},
   "outputs": [
    {
     "name": "stdout",
     "output_type": "stream",
     "text": [
      "CPU times: user 43.2 s, sys: 1.76 s, total: 45 s\n",
      "Wall time: 46.5 s\n"
     ]
    },
    {
     "data": {
      "text/html": [
       "<div>\n",
       "<style scoped>\n",
       "    .dataframe tbody tr th:only-of-type {\n",
       "        vertical-align: middle;\n",
       "    }\n",
       "\n",
       "    .dataframe tbody tr th {\n",
       "        vertical-align: top;\n",
       "    }\n",
       "\n",
       "    .dataframe thead th {\n",
       "        text-align: right;\n",
       "    }\n",
       "</style>\n",
       "<table border=\"1\" class=\"dataframe\">\n",
       "  <thead>\n",
       "    <tr style=\"text-align: right;\">\n",
       "      <th></th>\n",
       "      <th></th>\n",
       "      <th>mean</th>\n",
       "      <th>mean error</th>\n",
       "      <th>fwhm</th>\n",
       "      <th>fwhm error</th>\n",
       "    </tr>\n",
       "    <tr>\n",
       "      <th>pixel row</th>\n",
       "      <th>pixel col</th>\n",
       "      <th></th>\n",
       "      <th></th>\n",
       "      <th></th>\n",
       "      <th></th>\n",
       "    </tr>\n",
       "  </thead>\n",
       "  <tbody>\n",
       "    <tr>\n",
       "      <th rowspan=\"5\" valign=\"top\">0</th>\n",
       "      <th>0</th>\n",
       "      <td>-81.818890</td>\n",
       "      <td>91.798195</td>\n",
       "      <td>834.023971</td>\n",
       "      <td>218.865993</td>\n",
       "    </tr>\n",
       "    <tr>\n",
       "      <th>1</th>\n",
       "      <td>-40.375986</td>\n",
       "      <td>29.962833</td>\n",
       "      <td>541.594014</td>\n",
       "      <td>70.557162</td>\n",
       "    </tr>\n",
       "    <tr>\n",
       "      <th>2</th>\n",
       "      <td>-20.357124</td>\n",
       "      <td>15.393533</td>\n",
       "      <td>423.820411</td>\n",
       "      <td>36.249000</td>\n",
       "    </tr>\n",
       "    <tr>\n",
       "      <th>3</th>\n",
       "      <td>-15.956442</td>\n",
       "      <td>9.821194</td>\n",
       "      <td>354.809067</td>\n",
       "      <td>23.127144</td>\n",
       "    </tr>\n",
       "    <tr>\n",
       "      <th>4</th>\n",
       "      <td>-12.013837</td>\n",
       "      <td>6.260581</td>\n",
       "      <td>317.923043</td>\n",
       "      <td>14.742543</td>\n",
       "    </tr>\n",
       "    <tr>\n",
       "      <th>...</th>\n",
       "      <th>...</th>\n",
       "      <td>...</td>\n",
       "      <td>...</td>\n",
       "      <td>...</td>\n",
       "      <td>...</td>\n",
       "    </tr>\n",
       "    <tr>\n",
       "      <th rowspan=\"5\" valign=\"top\">31</th>\n",
       "      <th>27</th>\n",
       "      <td>2.476605</td>\n",
       "      <td>0.150100</td>\n",
       "      <td>118.413458</td>\n",
       "      <td>0.353459</td>\n",
       "    </tr>\n",
       "    <tr>\n",
       "      <th>28</th>\n",
       "      <td>-11.835213</td>\n",
       "      <td>0.270335</td>\n",
       "      <td>124.359950</td>\n",
       "      <td>0.636589</td>\n",
       "    </tr>\n",
       "    <tr>\n",
       "      <th>29</th>\n",
       "      <td>-17.127981</td>\n",
       "      <td>0.423096</td>\n",
       "      <td>146.516683</td>\n",
       "      <td>0.996316</td>\n",
       "    </tr>\n",
       "    <tr>\n",
       "      <th>30</th>\n",
       "      <td>-31.833571</td>\n",
       "      <td>0.780628</td>\n",
       "      <td>177.920190</td>\n",
       "      <td>1.838239</td>\n",
       "    </tr>\n",
       "    <tr>\n",
       "      <th>31</th>\n",
       "      <td>-51.160489</td>\n",
       "      <td>1.505261</td>\n",
       "      <td>215.619716</td>\n",
       "      <td>3.544620</td>\n",
       "    </tr>\n",
       "  </tbody>\n",
       "</table>\n",
       "<p>1024 rows × 4 columns</p>\n",
       "</div>"
      ],
      "text/plain": [
       "                          mean  mean error        fwhm  fwhm error\n",
       "pixel row pixel col                                               \n",
       "0         0         -81.818890   91.798195  834.023971  218.865993\n",
       "          1         -40.375986   29.962833  541.594014   70.557162\n",
       "          2         -20.357124   15.393533  423.820411   36.249000\n",
       "          3         -15.956442    9.821194  354.809067   23.127144\n",
       "          4         -12.013837    6.260581  317.923043   14.742543\n",
       "...                        ...         ...         ...         ...\n",
       "31        27          2.476605    0.150100  118.413458    0.353459\n",
       "          28        -11.835213    0.270335  124.359950    0.636589\n",
       "          29        -17.127981    0.423096  146.516683    0.996316\n",
       "          30        -31.833571    0.780628  177.920190    1.838239\n",
       "          31        -51.160489    1.505261  215.619716    3.544620\n",
       "\n",
       "[1024 rows x 4 columns]"
      ]
     },
     "execution_count": 7,
     "metadata": {},
     "output_type": "execute_result"
    }
   ],
   "source": [
    "%%time\n",
    "h119_noise_5.gen_quick_noise(save_plot=False)"
   ]
  },
  {
   "cell_type": "code",
   "execution_count": 8,
   "metadata": {},
   "outputs": [
    {
     "name": "stderr",
     "output_type": "stream",
     "text": [
      " 12%|██████████▍                                                                        | 2/16 [00:29<03:22, 14.49s/it]WARNING: The fit may be unsuccessful; check fit_info['message'] for more information. [astropy.modeling.fitting]\n",
      "100%|██████████████████████████████████████████████████████████████████████████████████| 16/16 [04:02<00:00, 15.19s/it]"
     ]
    },
    {
     "name": "stdout",
     "output_type": "stream",
     "text": [
      "CPU times: user 3min 45s, sys: 9.26 s, total: 3min 55s\n",
      "Wall time: 4min 3s\n"
     ]
    },
    {
     "name": "stderr",
     "output_type": "stream",
     "text": [
      "\n"
     ]
    },
    {
     "data": {
      "text/html": [
       "<div>\n",
       "<style scoped>\n",
       "    .dataframe tbody tr th:only-of-type {\n",
       "        vertical-align: middle;\n",
       "    }\n",
       "\n",
       "    .dataframe tbody tr th {\n",
       "        vertical-align: top;\n",
       "    }\n",
       "\n",
       "    .dataframe thead th {\n",
       "        text-align: right;\n",
       "    }\n",
       "</style>\n",
       "<table border=\"1\" class=\"dataframe\">\n",
       "  <thead>\n",
       "    <tr style=\"text-align: right;\">\n",
       "      <th></th>\n",
       "      <th></th>\n",
       "      <th></th>\n",
       "      <th>mean</th>\n",
       "      <th>mean error</th>\n",
       "      <th>fwhm</th>\n",
       "      <th>fwhm error</th>\n",
       "    </tr>\n",
       "    <tr>\n",
       "      <th>start cap</th>\n",
       "      <th>pixel row</th>\n",
       "      <th>pixel col</th>\n",
       "      <th></th>\n",
       "      <th></th>\n",
       "      <th></th>\n",
       "      <th></th>\n",
       "    </tr>\n",
       "  </thead>\n",
       "  <tbody>\n",
       "    <tr>\n",
       "      <th rowspan=\"5\" valign=\"top\">0</th>\n",
       "      <th rowspan=\"5\" valign=\"top\">0</th>\n",
       "      <th>0</th>\n",
       "      <td>-117.310343</td>\n",
       "      <td>514.277537</td>\n",
       "      <td>794.203638</td>\n",
       "      <td>1223.576320</td>\n",
       "    </tr>\n",
       "    <tr>\n",
       "      <th>1</th>\n",
       "      <td>-70.198274</td>\n",
       "      <td>140.921823</td>\n",
       "      <td>503.328054</td>\n",
       "      <td>331.845624</td>\n",
       "    </tr>\n",
       "    <tr>\n",
       "      <th>2</th>\n",
       "      <td>-42.909448</td>\n",
       "      <td>68.728367</td>\n",
       "      <td>392.210205</td>\n",
       "      <td>161.842936</td>\n",
       "    </tr>\n",
       "    <tr>\n",
       "      <th>3</th>\n",
       "      <td>-4.352492</td>\n",
       "      <td>41.998823</td>\n",
       "      <td>360.079032</td>\n",
       "      <td>98.899671</td>\n",
       "    </tr>\n",
       "    <tr>\n",
       "      <th>4</th>\n",
       "      <td>-0.979827</td>\n",
       "      <td>35.135349</td>\n",
       "      <td>326.079137</td>\n",
       "      <td>82.737425</td>\n",
       "    </tr>\n",
       "    <tr>\n",
       "      <th>...</th>\n",
       "      <th>...</th>\n",
       "      <th>...</th>\n",
       "      <td>...</td>\n",
       "      <td>...</td>\n",
       "      <td>...</td>\n",
       "      <td>...</td>\n",
       "    </tr>\n",
       "    <tr>\n",
       "      <th rowspan=\"5\" valign=\"top\">15</th>\n",
       "      <th rowspan=\"5\" valign=\"top\">31</th>\n",
       "      <th>27</th>\n",
       "      <td>-0.742949</td>\n",
       "      <td>1.784467</td>\n",
       "      <td>126.633361</td>\n",
       "      <td>4.202100</td>\n",
       "    </tr>\n",
       "    <tr>\n",
       "      <th>28</th>\n",
       "      <td>-6.130187</td>\n",
       "      <td>3.207360</td>\n",
       "      <td>139.860017</td>\n",
       "      <td>7.552756</td>\n",
       "    </tr>\n",
       "    <tr>\n",
       "      <th>29</th>\n",
       "      <td>-9.988964</td>\n",
       "      <td>3.987632</td>\n",
       "      <td>163.000279</td>\n",
       "      <td>9.390156</td>\n",
       "    </tr>\n",
       "    <tr>\n",
       "      <th>30</th>\n",
       "      <td>-24.716264</td>\n",
       "      <td>5.885857</td>\n",
       "      <td>180.132897</td>\n",
       "      <td>13.860133</td>\n",
       "    </tr>\n",
       "    <tr>\n",
       "      <th>31</th>\n",
       "      <td>-35.161165</td>\n",
       "      <td>13.430455</td>\n",
       "      <td>236.277146</td>\n",
       "      <td>31.626305</td>\n",
       "    </tr>\n",
       "  </tbody>\n",
       "</table>\n",
       "<p>16384 rows × 4 columns</p>\n",
       "</div>"
      ],
      "text/plain": [
       "                                     mean  mean error        fwhm   fwhm error\n",
       "start cap pixel row pixel col                                                 \n",
       "0         0         0         -117.310343  514.277537  794.203638  1223.576320\n",
       "                    1          -70.198274  140.921823  503.328054   331.845624\n",
       "                    2          -42.909448   68.728367  392.210205   161.842936\n",
       "                    3           -4.352492   41.998823  360.079032    98.899671\n",
       "                    4           -0.979827   35.135349  326.079137    82.737425\n",
       "...                                   ...         ...         ...          ...\n",
       "15        31        27          -0.742949    1.784467  126.633361     4.202100\n",
       "                    28          -6.130187    3.207360  139.860017     7.552756\n",
       "                    29          -9.988964    3.987632  163.000279     9.390156\n",
       "                    30         -24.716264    5.885857  180.132897    13.860133\n",
       "                    31         -35.161165   13.430455  236.277146    31.626305\n",
       "\n",
       "[16384 rows x 4 columns]"
      ]
     },
     "execution_count": 8,
     "metadata": {},
     "output_type": "execute_result"
    }
   ],
   "source": [
    "%%time\n",
    "h119_noise_5.gen_full_noise(save_plot=False)"
   ]
  },
  {
   "cell_type": "code",
   "execution_count": 6,
   "metadata": {},
   "outputs": [],
   "source": [
    "import numpy.ma as ma"
   ]
  },
  {
   "cell_type": "code",
   "execution_count": 7,
   "metadata": {},
   "outputs": [],
   "source": [
    "mx = ma.array([1,2,3], mask=[0,0,0])"
   ]
  },
  {
   "cell_type": "code",
   "execution_count": 15,
   "metadata": {},
   "outputs": [
    {
     "data": {
      "text/plain": [
       "array([1, 2, 3])"
      ]
     },
     "execution_count": 15,
     "metadata": {},
     "output_type": "execute_result"
    }
   ],
   "source": [
    "mx.data"
   ]
  },
  {
   "cell_type": "code",
   "execution_count": 17,
   "metadata": {},
   "outputs": [
    {
     "data": {
      "text/plain": [
       "array([14.97353024,  1.10864824,  4.45263352, 27.18435779, 30.14307711,\n",
       "       18.16516495, 16.79561125, 38.55978503, 38.77582765, 16.58009483,\n",
       "       18.68070851, 31.34415723, 27.92363969,  5.35530357,  2.46939333,\n",
       "       14.76519781])"
      ]
     },
     "execution_count": 17,
     "metadata": {},
     "output_type": "execute_result"
    }
   ],
   "source": [
    "h119_noise_5._mean_maps[:,16,14]"
   ]
  },
  {
   "cell_type": "code",
   "execution_count": 38,
   "metadata": {},
   "outputs": [],
   "source": [
    "noisemap = fits.open('data/capoffsets_H119_noise_5C_0V_20190624_nogain.fits')\n",
    "zeromap = fits.open('/users/milan/crush2/nucorrect/nustaroffset_zeros.fits')"
   ]
  },
  {
   "cell_type": "code",
   "execution_count": 12,
   "metadata": {},
   "outputs": [
    {
     "data": {
      "text/plain": [
       "FITS_rec([( 0,  0, [-117.31034  , -114.79251  , -126.92836  ,  -51.658054 ,  -73.80912  ,  -75.39706  ,  -99.58666  ,  -61.891228 ,   25.961878 ,  -73.42053  ,  -90.236305 ,  -72.64975  ,  -20.26115  ,  -79.59587  , -114.0155   , -103.28701  ]),\n",
       "          ( 0,  1, [ -66.14016  ,  -65.497795 ,  -75.89641  ,  -22.175463 ,  -32.465958 ,  -42.559795 ,  -55.076828 ,  -22.895481 ,   33.141777 ,  -38.030476 ,  -49.86969  ,  -33.25028  ,    3.0077548,  -44.48303  ,  -61.843594 ,  -52.587696 ]),\n",
       "          ( 0,  2, [ -57.156574 ,  -57.123543 ,  -57.850056 ,  -15.359429 ,  -25.325916 ,  -30.597431 ,  -48.05713  ,  -17.928698 ,   27.218536 ,  -30.489231 ,  -36.26694  ,  -25.774273 ,    3.0698316,  -34.99853  ,  -55.48977  ,  -42.57544  ]),\n",
       "          ...,\n",
       "          (31, 29, [ -27.79169  ,  -31.11233  ,  -44.684288 ,  -17.159575 ,  -22.237078 ,  -37.816044 ,  -34.45156  ,  -18.67079  ,  -17.75051  ,  -29.777134 ,  -25.63506  ,  -14.56746  ,  -18.072393 ,  -37.959232 ,  -45.891705 ,  -17.691635 ]),\n",
       "          (31, 30, [ -31.249655 ,  -48.51142  ,  -52.687126 ,  -30.860044 ,  -26.034847 ,  -54.284874 ,  -54.223328 ,  -12.805104 ,  -19.775616 ,  -46.43523  ,  -50.052418 ,  -34.708233 ,  -36.72441  ,  -55.123184 ,  -53.771523 ,  -28.652649 ]),\n",
       "          (31, 31, [ -41.621975 ,  -56.464127 ,  -64.49825  ,  -42.938118 ,  -34.00711  ,  -68.01588  ,  -69.28187  ,  -26.29967  ,  -33.13501  ,  -63.999107 ,  -62.91649  ,  -46.09738  ,  -46.97701  ,  -65.880745 ,  -62.919144 ,  -35.161163 ])],\n",
       "         dtype=(numpy.record, [('RAWX', 'u1'), ('RAWY', 'u1'), ('OFFSET', '>f4', (16,))]))"
      ]
     },
     "execution_count": 12,
     "metadata": {},
     "output_type": "execute_result"
    }
   ],
   "source": [
    "noisemap[1].data"
   ]
  },
  {
   "cell_type": "code",
   "execution_count": 46,
   "metadata": {},
   "outputs": [
    {
     "data": {
      "text/plain": [
       "XTENSION= 'BINTABLE'           / binary table extension                         \n",
       "BITPIX  =                    8 / 8-bit bytes                                    \n",
       "NAXIS   =                    2 / 2-dimensional binary table                     \n",
       "NAXIS1  =                   66 / width of table in bytes                        \n",
       "NAXIS2  =                 1024 / number of rows in table                        \n",
       "PCOUNT  =                    0 / size of special data area                      \n",
       "GCOUNT  =                    1 / one data group (required keyword)              \n",
       "TFIELDS =                    3 / number of fields in each row                   \n",
       "TTYPE1  = 'RAWX    '           / label for field   1                            \n",
       "TFORM1  = '1B      '           / data format of field: BYTE                     \n",
       "TTYPE2  = 'RAWY    '           / label for field   2                            \n",
       "TFORM2  = '1B      '           / data format of field: BYTE                     \n",
       "TTYPE3  = 'OFFSET  '           / label for field   3                            \n",
       "TFORM3  = '16E     '           / data format of field: 4-byte REAL              \n",
       "EXTNAME = 'OFFSET  '           / Name of the binary table extension             \n",
       "EXTVER  =                    1 / There shall be one instance of this extension f\n",
       "DETNAM  = 'DET0    '           / CZT Detector ID (0,1,2 or 3)                   \n",
       "TELESCOP= 'NuSTAR  '           / Telescope (mission) name                       \n",
       "INSTRUME= 'FPMA    '           / Instrument name (FPMA or FPMB)                 \n",
       "ORIGIN  = 'Caltech   '         / Source of FITS file                            \n",
       "CREATOR = 'FTOOLS 6.10 '       / Creator                                        \n",
       "VERSION =                    1 / Extension version number                       \n",
       "FILENAME= 'nustaroffset_FPMA.fits' / File name                                  \n",
       "CONTENT = 'NuSTAR Offset'      / File content                                   \n",
       "CCLS0001= 'BCF     '           / Daset is a Basic Calibration File              \n",
       "CDTP0001= 'DATA    '           / Calibration file contains data                 \n",
       "CCNM0001= 'CAP_OFFSET'         / Type of calibration data                       \n",
       "CVSD0001= '2010-01-01'         / Date when this file should first be used       \n",
       "CVST0001= '00:00:00'           / Time of day when this file should first be used\n",
       "CDES0001= 'NuSTAR capacitor offset values' / Description                        \n",
       "COMMENT                                                                         \n",
       "COMMENT   This extension provides, for each pixel of the hybrid, the 16 OFFSET  \n",
       "COMMENT   values corresponding to the 16 pixel capacitors.                      \n",
       "COMMENT                                                                         \n",
       "DATE    = '2011-01-17T22:03:07' / file creation date (YYYY-MM-DDThh:mm:ss UT)   \n",
       "CHECKSUM= '3Tad4QSd3QYd3QYd'   / HDU checksum updated 2011-01-17T22:03:07       \n",
       "DATASUM = '505356319'          / data unit checksum updated 2011-01-17T22:03:07 "
      ]
     },
     "execution_count": 46,
     "metadata": {},
     "output_type": "execute_result"
    }
   ],
   "source": [
    "zeromap[1].header"
   ]
  },
  {
   "cell_type": "code",
   "execution_count": 19,
   "metadata": {},
   "outputs": [
    {
     "data": {
      "image/png": "[encoded data removed]",
      "text/plain": [
       "<Figure size 432x288 with 2 Axes>"
      ]
     },
     "metadata": {
      "needs_background": "light"
     },
     "output_type": "display_data"
    },
    {
     "data": {
      "image/png": "[encoded data removed]",
      "text/plain": [
       "<Figure size 432x288 with 2 Axes>"
      ]
     },
     "metadata": {
      "needs_background": "light"
     },
     "output_type": "display_data"
    },
    {
     "data": {
      "image/png": "[encoded data removed]",
      "text/plain": [
       "<Figure size 432x288 with 2 Axes>"
      ]
     },
     "metadata": {
      "needs_background": "light"
     },
     "output_type": "display_data"
    },
    {
     "data": {
      "image/png": "[encoded data removed]",
      "text/plain": [
       "<Figure size 432x288 with 2 Axes>"
      ]
     },
     "metadata": {
      "needs_background": "light"
     },
     "output_type": "display_data"
    },
    {
     "data": {
      "image/png": "[encoded data removed]",
      "text/plain": [
       "<Figure size 432x288 with 2 Axes>"
      ]
     },
     "metadata": {
      "needs_background": "light"
     },
     "output_type": "display_data"
    },
    {
     "data": {
      "image/png": "[encoded data removed]",
      "text/plain": [
       "<Figure size 432x288 with 2 Axes>"
      ]
     },
     "metadata": {
      "needs_background": "light"
     },
     "output_type": "display_data"
    },
    {
     "data": {
      "image/png": "[encoded data removed]",
      "text/plain": [
       "<Figure size 432x288 with 2 Axes>"
      ]
     },
     "metadata": {
      "needs_background": "light"
     },
     "output_type": "display_data"
    },
    {
     "data": {
      "image/png": "[encoded data removed]",
      "text/plain": [
       "<Figure size 432x288 with 2 Axes>"
      ]
     },
     "metadata": {
      "needs_background": "light"
     },
     "output_type": "display_data"
    },
    {
     "data": {
      "image/png": "[encoded data removed]",
      "text/plain": [
       "<Figure size 432x288 with 2 Axes>"
      ]
     },
     "metadata": {
      "needs_background": "light"
     },
     "output_type": "display_data"
    },
    {
     "data": {
      "image/png": "[encoded data removed]",
      "text/plain": [
       "<Figure size 432x288 with 2 Axes>"
      ]
     },
     "metadata": {
      "needs_background": "light"
     },
     "output_type": "display_data"
    },
    {
     "data": {
      "image/png": "[encoded data removed]",
      "text/plain": [
       "<Figure size 432x288 with 2 Axes>"
      ]
     },
     "metadata": {
      "needs_background": "light"
     },
     "output_type": "display_data"
    },
    {
     "data": {
      "image/png": "[encoded data removed]",
      "text/plain": [
       "<Figure size 432x288 with 2 Axes>"
      ]
     },
     "metadata": {
      "needs_background": "light"
     },
     "output_type": "display_data"
    },
    {
     "data": {
      "image/png": "[encoded data removed]",
      "text/plain": [
       "<Figure size 432x288 with 2 Axes>"
      ]
     },
     "metadata": {
      "needs_background": "light"
     },
     "output_type": "display_data"
    },
    {
     "data": {
      "image/png": "[encoded data removed]",
      "text/plain": [
       "<Figure size 432x288 with 2 Axes>"
      ]
     },
     "metadata": {
      "needs_background": "light"
     },
     "output_type": "display_data"
    },
    {
     "data": {
      "image/png": "[encoded data removed]",
      "text/plain": [
       "<Figure size 432x288 with 2 Axes>"
      ]
     },
     "metadata": {
      "needs_background": "light"
     },
     "output_type": "display_data"
    },
    {
     "data": {
      "image/png": "[encoded data removed]",
      "text/plain": [
       "<Figure size 432x288 with 2 Axes>"
      ]
     },
     "metadata": {
      "needs_background": "light"
     },
     "output_type": "display_data"
    }
   ],
   "source": [
    "for c in range(16):\n",
    "    plt.imshow(h119_noise_5._mean_maps[c,12:17,14:19])\n",
    "    plt.colorbar()\n",
    "    plt.show()"
   ]
  },
  {
   "cell_type": "code",
   "execution_count": 34,
   "metadata": {},
   "outputs": [
    {
     "data": {
      "text/plain": [
       "mean          54.120878\n",
       "mean error     0.043598\n",
       "fwhm          37.150684\n",
       "fwhm error     0.102665\n",
       "Name: (8, 14, 17), dtype: float64"
      ]
     },
     "execution_count": 34,
     "metadata": {},
     "output_type": "execute_result"
    }
   ],
   "source": [
    "h119_noise_5._full_fit_data.loc[(8,14,17)]"
   ]
  },
  {
   "cell_type": "code",
   "execution_count": 51,
   "metadata": {},
   "outputs": [
    {
     "data": {
      "text/plain": [
       "<matplotlib.collections.PathCollection at 0x7fc331c7bdd8>"
      ]
     },
     "execution_count": 51,
     "metadata": {},
     "output_type": "execute_result"
    },
    {
     "data": {
      "image/png": "[encoded data removed]",
      "text/plain": [
       "<Figure size 432x288 with 1 Axes>"
      ]
     },
     "metadata": {
      "needs_background": "light"
     },
     "output_type": "display_data"
    }
   ],
   "source": [
    "energies = np.array([14 , 26, 60, 86, 105])\n",
    "fwhms = np.array([500, 520, 609, 791, 921])\n",
    "\n",
    "plt.scatter(energies, fwhms)"
   ]
  },
  {
   "cell_type": "code",
   "execution_count": null,
   "metadata": {},
   "outputs": [],
   "source": []
  }
 ],
 "metadata": {
  "kernelspec": {
   "display_name": "Python 3 (ipykernel)",
   "language": "python",
   "name": "python3"
  },
  "language_info": {
   "codemirror_mode": {
    "name": "ipython",
    "version": 3
   },
   "file_extension": ".py",
   "mimetype": "text/x-python",
   "name": "python",
   "nbconvert_exporter": "python",
   "pygments_lexer": "ipython3",
   "version": "3.8.8"
  }
 },
 "nbformat": 4,
 "nbformat_minor": 4
}
