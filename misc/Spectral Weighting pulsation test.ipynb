{
 "cells": [
  {
   "cell_type": "code",
   "execution_count": 19,
   "metadata": {},
   "outputs": [],
   "source": [
    "import numpy as np\n",
    "from astropy.io.misc import hdf5\n",
    "import matplotlib.pyplot as plt\n",
    "from astropy.coordinates import SkyCoord\n",
    "import astropy.coordinates as coord\n",
    "from astropy import units as u\n",
    "import scipy.stats as st\n",
    "import seaborn as sbn\n",
    "\n",
    "sbn.set_context(context = 'talk', font_scale = 1.0)\n",
    "sbn.set_style(\"whitegrid\")\n",
    "\n",
    "def power_laws(x):\n",
    "    return (np.power(x, -3) + 0.01*np.power(x, -1))/((1/18) - (1/5000) + 0.01*np.log(50/3))\n",
    "\n",
    "class my_pdf(st.rv_continuous):\n",
    "    # A probability density function from which to pull photon energy\n",
    "    # For simplicity, I'm using two power laws\n",
    "    def _pdf(self,x):\n",
    "        return power_laws(x)  # Normalized for 3<x<50 \n",
    "\n",
    "\n",
    "    \n",
    "ct_rate = 1.0\n",
    "bkg_rate = 0.1\n",
    "pulse_frac = 70"
   ]
  },
  {
   "cell_type": "code",
   "execution_count": 20,
   "metadata": {},
   "outputs": [
    {
     "data": {
      "text/plain": [
       "[]"
      ]
     },
     "execution_count": 20,
     "metadata": {},
     "output_type": "execute_result"
    },
    {
     "data": {
      "image/png": "[encoded data removed]",
      "text/plain": [
       "<Figure size 432x288 with 1 Axes>"
      ]
     },
     "metadata": {},
     "output_type": "display_data"
    }
   ],
   "source": [
    "plt.plot(np.logspace(np.log10(3), np.log10(50), 100), power_laws(np.logspace(np.log10(3), np.log10(50), 100)))\n",
    "plt.loglog()"
   ]
  },
  {
   "cell_type": "code",
   "execution_count": null,
   "metadata": {},
   "outputs": [],
   "source": []
  }
 ],
 "metadata": {
  "anaconda-cloud": {},
  "kernelspec": {
   "display_name": "Python 3",
   "language": "python",
   "name": "python3"
  },
  "language_info": {
   "codemirror_mode": {
    "name": "ipython",
    "version": 3
   },
   "file_extension": ".py",
   "mimetype": "text/x-python",
   "name": "python",
   "nbconvert_exporter": "python",
   "pygments_lexer": "ipython3",
   "version": "3.6.7"
  },
  "varInspector": {
   "cols": {
    "lenName": 16,
    "lenType": 16,
    "lenVar": 40
   },
   "kernels_config": {
    "python": {
     "delete_cmd_postfix": "",
     "delete_cmd_prefix": "del ",
     "library": "var_list.py",
     "varRefreshCmd": "print(var_dic_list())"
    },
    "r": {
     "delete_cmd_postfix": ") ",
     "delete_cmd_prefix": "rm(",
     "library": "var_list.r",
     "varRefreshCmd": "cat(var_dic_list()) "
    }
   },
   "types_to_exclude": [
    "module",
    "function",
    "builtin_function_or_method",
    "instance",
    "_Feature"
   ],
   "window_display": false
  }
 },
 "nbformat": 4,
 "nbformat_minor": 2
}
