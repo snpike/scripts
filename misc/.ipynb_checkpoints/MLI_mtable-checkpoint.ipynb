{
 "cells": [
  {
   "cell_type": "code",
   "execution_count": 1,
   "metadata": {},
   "outputs": [],
   "source": [
    "import numpy as np\n",
    "import matplotlib.pyplot as plt\n",
    "import scipy.interpolate as interp\n",
    "\n",
    "from astropy.io import ascii,fits"
   ]
  },
  {
   "cell_type": "code",
   "execution_count": 7,
   "metadata": {},
   "outputs": [],
   "source": [
    "MLI_dat1 = '/Users/sean/Desktop/MLI_data/MLI_flight_1.dat'\n",
    "MLI_dat2 = '/Users/sean/Desktop/MLI_data/MLI_flight_2.dat'\n",
    "\n",
    "mtable_out = '/Users/sean/Desktop/MLI_data/nuMLI.mod'\n",
    "\n",
    "def make_atten_grid(t2_lowfrac = 0.0, t2_highfrac = 1.0, t2_step = 0.005, E_low=1.0, E_high=97.017, E_bins=1000, MLI_dat1=MLI_dat1, MLI_dat2=MLI_dat2):\n",
    "    # mass per cross section ie thickness\n",
    "    t2 = 1.32458e-3\n",
    "    \n",
    "    # Interpolate the cross-section of MLI2\n",
    "    mli2_tab = np.array(np.loadtxt(MLI_dat2)).T\n",
    "    interp_mli2 = interp.interp1d(mli2_tab[0]*1000, mli2_tab[1])\n",
    "    \n",
    "    # Make arrays of energy and fraction of thickness\n",
    "    E_grid = np.logspace(np.log10(E_low), np.log10(E_high), num = E_bins + 1)\n",
    "    energ_lo = E_grid[:-1]\n",
    "    energ_hi = E_grid[1:]\n",
    "    \n",
    "    frac_grid = np.arange(t2_lowfrac, t2_highfrac + t2_step, t2_step)\n",
    "    \n",
    "    # Produce the grid of transmission ratio. This is the (fractional transmission/full transmission)\n",
    "    atten_grid = np.array([[(((1-f)*np.exp(t2*interp_mli2(E))) + f) for E in (energ_lo + (energ_hi - energ_lo)/2)] for f in frac_grid])\n",
    "    \n",
    "    return (energ_lo, energ_hi), frac_grid, atten_grid\n",
    "    \n",
    "    "
   ]
  },
  {
   "cell_type": "code",
   "execution_count": 8,
   "metadata": {
    "scrolled": false
   },
   "outputs": [],
   "source": [
    "(energ_lo, energ_hi), frac_grid, atten_grid = make_atten_grid()    \n",
    "    \n",
    "primary_hdr = fits.Header()\n",
    "primary_hdr['HDUCLASS'] = 'OGIP'\n",
    "primary_hdr['HDUDOC'] = 'OGIP/92-009'\n",
    "primary_hdr['HDUCLAS1'] = 'XSPEC TABLE MODEL'\n",
    "primary_hdr['HDUVERS1'] = '1.0.0'\n",
    "primary_hdr['MODLNAME'] = 'nuMLI'\n",
    "primary_hdr['MODLUNIT'] = 'None'\n",
    "primary_hdr['REDSHIFT'] = False\n",
    "primary_hdr['ADDMODEL'] = False\n",
    "primary_hdu = fits.PrimaryHDU(header=primary_hdr)\n",
    "\n",
    "param_hdr = fits.Header()\n",
    "param_hdr['HDUCLASS'] = 'OGIP'\n",
    "param_hdr['EXTNAME'] = 'PARAMETERS'\n",
    "param_hdr['HDUCLAS1'] = 'XSPEC TABLE MODEL'\n",
    "param_hdr['HDUCLAS2'] = 'PARAMETERS'\n",
    "param_hdr['HDUVERS1'] = '1.0.0'\n",
    "param_hdr['NINTPARM'] = 1\n",
    "param_hdr['NADDPARM'] = 0\n",
    "c1 = fits.Column(name='NAME', array=['cov_frac'], format='12A')\n",
    "c2 = fits.Column(name='METHOD', array=[0], format='J')\n",
    "c3 = fits.Column(name='INITIAL', array=[0.8], format='E')\n",
    "c4 = fits.Column(name='DELTA', array=[frac_grid[1]-frac_grid[0]], format='E')\n",
    "c5 = fits.Column(name='MINIMUM', array=[np.min(frac_grid)], format='E')\n",
    "c6 = fits.Column(name='BOTTOM', array=[np.min(frac_grid)], format='E')\n",
    "c7 = fits.Column(name='TOP', array=[np.max(frac_grid)], format='E')\n",
    "c8 = fits.Column(name='MAXIMUM', array=[np.max(frac_grid)], format='E')\n",
    "c9 = fits.Column(name='NUMBVALS', array=[len(frac_grid)], format='J')\n",
    "c10 = fits.Column(name='VALUE', array=[frac_grid], format=str(len(frac_grid)) + 'E')\n",
    "param_hdu = fits.BinTableHDU.from_columns([c1, c2, c3, c4, c5, c6, c7, c8, c9, c10], header = param_hdr)\n",
    "\n",
    "energy_hdr = fits.Header()\n",
    "energy_hdr['HDUCLASS'] = 'OGIP'\n",
    "energy_hdr['EXTNAME'] = 'ENERGIES'\n",
    "energy_hdr['HDUCLAS1'] = 'XSPEC TABLE MODEL'\n",
    "energy_hdr['HDUCLAS2'] = 'ENERGIES'\n",
    "energy_hdr['HDUVERS1'] = '1.0.0'\n",
    "c1 = fits.Column(name='ENERG_LO', array=np.array(energ_lo), format='E')\n",
    "c2 = fits.Column(name='ENERG_HI', array=np.array(energ_hi), format='E')\n",
    "energy_hdu = fits.BinTableHDU.from_columns([c1,c2], header=energy_hdr)\n",
    "\n",
    "spec_hdr = fits.Header()\n",
    "spec_hdr['HDUCLASS'] = 'OGIP'\n",
    "spec_hdr['EXTNAME'] = 'SPECTRA'\n",
    "spec_hdr['HDUCLAS1'] = 'XSPEC TABLE MODEL'\n",
    "spec_hdr['HDUCLAS2'] = 'MODEL SPECTRA'\n",
    "spec_hdr['HDUVERS1'] = '1.0.0'\n",
    "c1 = fits.Column(name='PARAMVAL', array=frac_grid, format='E')\n",
    "c2 = fits.Column(name='INTPSPEC', array=atten_grid, format=str(len(energ_lo)) + 'E')\n",
    "spec_hdu = fits.BinTableHDU.from_columns([c1,c2], header=spec_hdr)\n",
    "\n",
    "hdul = fits.HDUList([primary_hdu, param_hdu, energy_hdu, spec_hdu])\n",
    "hdul.writeto(mtable_out, overwrite=True)\n",
    "\n"
   ]
  },
  {
   "cell_type": "code",
   "execution_count": null,
   "metadata": {},
   "outputs": [],
   "source": []
  }
 ],
 "metadata": {
  "anaconda-cloud": {},
  "kernelspec": {
   "display_name": "Python 3",
   "language": "python",
   "name": "python3"
  },
  "language_info": {
   "codemirror_mode": {
    "name": "ipython",
    "version": 3
   },
   "file_extension": ".py",
   "mimetype": "text/x-python",
   "name": "python",
   "nbconvert_exporter": "python",
   "pygments_lexer": "ipython3",
   "version": "3.6.10"
  },
  "varInspector": {
   "cols": {
    "lenName": 16,
    "lenType": 16,
    "lenVar": 40
   },
   "kernels_config": {
    "python": {
     "delete_cmd_postfix": "",
     "delete_cmd_prefix": "del ",
     "library": "var_list.py",
     "varRefreshCmd": "print(var_dic_list())"
    },
    "r": {
     "delete_cmd_postfix": ") ",
     "delete_cmd_prefix": "rm(",
     "library": "var_list.r",
     "varRefreshCmd": "cat(var_dic_list()) "
    }
   },
   "types_to_exclude": [
    "module",
    "function",
    "builtin_function_or_method",
    "instance",
    "_Feature"
   ],
   "window_display": false
  }
 },
 "nbformat": 4,
 "nbformat_minor": 2
}
