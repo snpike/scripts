{
 "cells": [
  {
   "cell_type": "code",
   "execution_count": 6,
   "metadata": {},
   "outputs": [],
   "source": [
    "import csv\n",
    "import numpy as np\n",
    "import matplotlib.pyplot as plt\n",
    "import matplotlib.cm as cm\n",
    "import matplotlib as mpl\n",
    "from scipy.optimize import curve_fit\n",
    "from scipy import odr\n",
    "import seaborn as sns\n",
    "import scipy.signal as sig\n",
    "from astropy.table import Table\n",
    "from astropy.io import ascii\n",
    "import os\n",
    "\n",
    "def get_ctrate(mean, covar, n=100, model='powerlaw', swift_obs = '00032699024', energy_min=0.3, energy_max = 10.0):\n",
    "    if model not in ['powerlaw', 'diskpbb', 'simpl(diskbb)']:\n",
    "        print('Try again with powerlaw, diskpbb, or simpl(diskbb)')\n",
    "        return None\n",
    "    cwd = os.getcwd()\n",
    "    filepath = '/Volumes/LaCie/AstroData/Circinus_ULX5/swift/' + swift_obs + '_pipe_out/'\n",
    "    os.chdir(filepath)\n",
    "    sample = np.random.multivariate_normal(mean, covar, n)\n",
    "    tmp = open('sample_XRT_in.txt', 'w')\n",
    "    tmp.close()\n",
    "    with open('sample_XRT_in.txt', 'a') as xspec_file:\n",
    "        xspec_file.write('data src_pc_' + swift_obs + '_5.grp\\n')\n",
    "        xspec_file.write('ignore bad\\n')\n",
    "        xspec_file.write('ignore **-' + str(energy_min) + ',' + str(energy_max) + '-**\\n')\n",
    "        xspec_file.write('abund wilm\\n')\n",
    "        for x in sample:\n",
    "            xspec_file.write('model tbabs*' + model + '\\n')\n",
    "            for y in x:\n",
    "                xspec_file.write(str(y) + ',-1\\n')\n",
    "            xspec_file.write('show all\\n')\n",
    "    os.system('xspec < sample_XRT_in.txt >& sample_XRT_out.txt')\n",
    "    ctrate = []\n",
    "    with open(filepath + 'sample_XRT_out.txt', 'r') as outfile:\n",
    "        for line in outfile:\n",
    "            if 'Model predicted rate' in line:\n",
    "                ctrate.append(float(line.split()[3]))\n",
    "    os.chdir(cwd)\n",
    "    return sample, ctrate\n",
    "\n",
    "def search_ctrate(Gamma=1.59438, FracSctr=0.514540, Tin=0.264969, swift_obs = '00032699024', energy_min=0.3, energy_max = 10.0, target_rates =np.logspace(np.log10(0.005),np.log10(0.01),50)):\n",
    "    cwd = os.getcwd()\n",
    "    filepath = '/Volumes/LaCie/AstroData/Circinus_ULX5/swift/' + swift_obs + '_pipe_out/'\n",
    "    os.chdir(filepath)\n",
    "    tmp = open('sample_XRT_in.txt', 'w')\n",
    "    tmp.close()\n",
    "    with open('sample_XRT_in.txt', 'a') as xspec_file:\n",
    "        xspec_file.write('data src_pc_' + swift_obs + '_5.grp\\n')\n",
    "        xspec_file.write('ignore bad\\n')\n",
    "        xspec_file.write('ignore **-' + str(energy_min) + ',' + str(energy_max) + '-**\\n')\n",
    "        xspec_file.write('abund wilm\\n')\n",
    "        xspec_file.write('energies 0.1,100,10000\\n')\n",
    "        xspec_file.write('model tbabs*simpl(cflux*diskbb) \\n')\n",
    "        xspec_file.write('0.75,-1\\n')\n",
    "        xspec_file.write(str(Gamma) + ',-1\\n')\n",
    "        xspec_file.write(str(FracSctr) + ',-1\\n')\n",
    "        xspec_file.write('1.0,-1\\n')\n",
    "        xspec_file.write('0.1,-1\\n')\n",
    "        xspec_file.write('50.0,-1\\n')\n",
    "        xspec_file.write('=1.1677*log(8) - 11.422\\n')\n",
    "        xspec_file.write(str(Tin) + ',-1\\n')\n",
    "        xspec_file.write('1.0,-1\\n')\n",
    "        xspec_file.write('show all\\n')\n",
    "    os.system('xspec < sample_XRT_in.txt >& sample_XRT_out.txt')\n",
    "    with open(filepath + 'sample_XRT_out.txt', 'r') as outfile:\n",
    "        for line in outfile:\n",
    "            if 'Model predicted rate' in line:\n",
    "                ctrate = float(line.split()[3])\n",
    "    rate_ratio = target_rates/ctrate\n",
    "    T_target = Tin*np.power(rate_ratio, 1/1.1677)\n",
    "    \n",
    "    tmp = open('sample_XRT_in.txt', 'w')\n",
    "    tmp.close()\n",
    "    with open('sample_XRT_in.txt', 'a') as xspec_file:\n",
    "        xspec_file.write('data src_pc_' + swift_obs + '_5.grp\\n')\n",
    "        xspec_file.write('ignore bad\\n')\n",
    "        xspec_file.write('ignore **-' + str(energy_min) + ',' + str(energy_max) + '-**\\n')\n",
    "        xspec_file.write('abund wilm\\n')\n",
    "        xspec_file.write('energies 0.1,100,10000\\n')\n",
    "        for T in T_target:\n",
    "            xspec_file.write('model tbabs*simpl(cflux*diskbb) \\n')\n",
    "            xspec_file.write('0.75,-1\\n')\n",
    "            xspec_file.write(str(Gamma) + ',-1\\n')\n",
    "            xspec_file.write(str(FracSctr) + ',-1\\n')\n",
    "            xspec_file.write('1.0,-1\\n')\n",
    "            xspec_file.write('0.1,-1\\n')\n",
    "            xspec_file.write('50.0,-1\\n')\n",
    "            xspec_file.write('=1.1677*log(8) - 11.422\\n')\n",
    "            xspec_file.write(str(T) + ',-1\\n')\n",
    "            xspec_file.write('1.0,-1\\n')\n",
    "            xspec_file.write('show all\\n')\n",
    "    os.system('xspec < sample_XRT_in.txt >& sample_XRT_out.txt')\n",
    "    rate_sample = []\n",
    "    with open(filepath + 'sample_XRT_out.txt', 'r') as outfile:\n",
    "        for line in outfile:\n",
    "            if 'Model predicted rate' in line:\n",
    "                rate_sample.append(float(line.split()[3]))\n",
    "    \n",
    "    os.chdir(cwd)\n",
    "    return T_target, rate_sample\n",
    "    \n"
   ]
  },
  {
   "cell_type": "code",
   "execution_count": 14,
   "metadata": {},
   "outputs": [],
   "source": [
    "# Parameters for 0780950201\n",
    "mean_07 = [0.724045, 1.59987, 0.490204, 1.0, 0.230002, 12.6295]\n",
    "covar_07 = [[1.424e-02,   4.983e-03,  -2.661e-02, 0.0, -5.835e-03,   1.924e+00],\n",
    "  [4.983e-03,   3.695e-03,  -8.798e-03, 0.0, -3.028e-03,   8.804e-01],\n",
    "  [-2.661e-02,  -8.798e-03,   5.131e-02, 0.0, 1.128e-02,  -3.704e+00],\n",
    "    [0.0, 0.0, 0.0, 0.0, 0.0, 0.0],\n",
    "  [-5.835e-03,  -3.028e-03,   1.128e-02, 0.0, 3.371e-03,  -1.006e+00],\n",
    "   [1.924e+00,   8.804e-01,  -3.704e+00, 0.0, -1.006e+00,   3.090e+02]]\n",
    "\n",
    "# Parameters for 0824450301\n",
    "mean_08 = [0.755114, 1.92349, 0.713459, 2.34170E-02]\n",
    "covar_08 = [[1.393e-04, 1.810e-04, -8.679e-05, -1.582e-05],\n",
    "            [1.810e-04, 4.873e-04, -1.631e-04, -3.663e-05],\n",
    "            [-8.679e-05, -1.631e-04, 6.754e-05, 1.344e-05],\n",
    "            [-1.582e-05, -3.663e-05, 1.344e-05, 2.877e-06]]\n",
    "\n",
    "# Parameters for 0111240101\n",
    "mean_01 = [0.718944, 2.10597, 0.606425, 1.0, 0.614294, 0.537729]\n",
    "covar_01 = [[1.048e-03, 3.438e-03, 3.724e-03, 0.0, -2.762e-03, 8.425e-03],\n",
    "   [3.438e-03, 4.484e-02, 4.196e-02, 0.0, -2.170e-02, 6.194e-02],\n",
    "   [3.724e-03, 4.196e-02, 4.135e-02, 0.0, -2.243e-02, 6.442e-02],\n",
    "   [0.0, 0.0, 0.0, 0.0, 0.0, 0.0],       \n",
    "   [-2.762e-03, -2.170e-02, -2.243e-02, 0.0, 1.335e-02, -3.899e-02],  \n",
    "   [8.425e-03, 6.194e-02, 6.442e-02, 0.0, -3.899e-02, 1.142e-01]]\n",
    "\n",
    "# Parameters for 0792382701\n",
    "mean_079 = [0.670608, 4.50000, 0.606425, 1.0, 0.894064, 0.165130]\n",
    "covar_079 = [[4.248e-04,   4.842e-03, 4.963e-03, 0.0, -1.433e-03,   8.903e-04],\n",
    "   [4.842e-03,   7.072e-01,   4.637e-01, 0.0, -9.918e-02,   5.698e-02],  \n",
    "   [4.963e-03,   4.637e-01,   3.390e-01, 0.0, -7.679e-02,   4.454e-02], \n",
    "    [0.0, 0.0, 0.0, 0.0, 0.0, 0.0],\n",
    "  [-1.433e-03,  -9.918e-02,  -7.679e-02, 0.0,  1.806e-02,  -1.055e-02], \n",
    "   [8.903e-04,   5.698e-02,   4.454e-02, 0.0, -1.055e-02,   6.191e-03]]"
   ]
  },
  {
   "cell_type": "code",
   "execution_count": 11,
   "metadata": {},
   "outputs": [
    {
     "name": "stdout",
     "output_type": "stream",
     "text": [
      "0.018414389133\n",
      "0.008288145203287347\n"
     ]
    }
   ],
   "source": [
    "sample, ctrate = get_ctrate(mean_07, covar_07, n=1000, model='simpl(diskbb)')\n",
    "print(np.mean(ctrate)*1.5)\n",
    "print(np.std(ctrate)*1.5)"
   ]
  },
  {
   "cell_type": "code",
   "execution_count": 4,
   "metadata": {},
   "outputs": [
    {
     "name": "stdout",
     "output_type": "stream",
     "text": [
      "0.13381608225000002\n",
      "0.0008036913008316298\n"
     ]
    }
   ],
   "source": [
    "sample, ctrate = get_ctrate(mean_08, covar_08, n=1000, model='diskpbb')\n",
    "print(np.mean(ctrate)*1.5)\n",
    "print(np.std(ctrate)*1.5)"
   ]
  },
  {
   "cell_type": "code",
   "execution_count": 8,
   "metadata": {},
   "outputs": [
    {
     "name": "stderr",
     "output_type": "stream",
     "text": [
      "/Users/sean/anaconda/lib/python3.6/site-packages/ipykernel_launcher.py:21: RuntimeWarning: covariance is not positive-semidefinite.\n"
     ]
    },
    {
     "name": "stdout",
     "output_type": "stream",
     "text": [
      "0.04409716039485213\n",
      "0.026209833287318587\n"
     ]
    }
   ],
   "source": [
    "sample, ctrate = get_ctrate(mean_01, covar_01, n=1000, model='simpl(diskbb)')\n",
    "print(np.mean(ctrate)*1.5)\n",
    "print(np.std(ctrate)*1.5)"
   ]
  },
  {
   "cell_type": "code",
   "execution_count": 15,
   "metadata": {},
   "outputs": [
    {
     "name": "stdout",
     "output_type": "stream",
     "text": [
      "0.0789155697893916\n",
      "0.16792449397871467\n"
     ]
    }
   ],
   "source": [
    "sample, ctrate = get_ctrate(mean_079, covar_079, n=1000, model='simpl(diskbb)')\n",
    "print(np.mean(ctrate)*1.5)\n",
    "print(np.std(ctrate)*1.5)"
   ]
  },
  {
   "cell_type": "code",
   "execution_count": 17,
   "metadata": {},
   "outputs": [],
   "source": [
    "sim_T, sim_rate = search_ctrate()"
   ]
  },
  {
   "cell_type": "code",
   "execution_count": 19,
   "metadata": {},
   "outputs": [
    {
     "data": {
      "text/plain": [
       "<matplotlib.collections.PathCollection at 0x12d233cc0>"
      ]
     },
     "execution_count": 19,
     "metadata": {},
     "output_type": "execute_result"
    },
    {
     "data": {
      "image/png": "[encoded data removed]",
      "text/plain": [
       "<Figure size 864x576 with 1 Axes>"
      ]
     },
     "metadata": {
      "needs_background": "light"
     },
     "output_type": "display_data"
    }
   ],
   "source": [
    "plt.figure(figsize=(12,8))\n",
    "plt.scatter(sim_T, sim_rate)"
   ]
  },
  {
   "cell_type": "code",
   "execution_count": 20,
   "metadata": {},
   "outputs": [
    {
     "data": {
      "text/plain": [
       "(array([0.09086265, 0.09197009, 0.09309101, 0.0942256 , 0.09537402,\n",
       "        0.09653644, 0.09771302, 0.09890395, 0.10010938, 0.10132951,\n",
       "        0.10256451, 0.10381457, 0.10507986, 0.10636057, 0.10765689,\n",
       "        0.108969  , 0.11029712, 0.11164141, 0.1130021 , 0.11437936,\n",
       "        0.11577341, 0.11718446, 0.1186127 , 0.12005834, 0.12152161,\n",
       "        0.12300271, 0.12450187, 0.12601929, 0.12755521, 0.12910985,\n",
       "        0.13068344, 0.1322762 , 0.13388838, 0.13552021, 0.13717192,\n",
       "        0.13884377, 0.140536  , 0.14224884, 0.14398257, 0.14573742,\n",
       "        0.14751367, 0.14931156, 0.15113136, 0.15297335, 0.15483778,\n",
       "        0.15672494, 0.1586351 , 0.16056854, 0.16252554, 0.1645064 ]),\n",
       " [0.00612394,\n",
       "  0.00619448,\n",
       "  0.00626577,\n",
       "  0.00633784,\n",
       "  0.00641068,\n",
       "  0.00648431,\n",
       "  0.00655874,\n",
       "  0.00663398,\n",
       "  0.00671005,\n",
       "  0.00678695,\n",
       "  0.0068647,\n",
       "  0.00694331,\n",
       "  0.00702279,\n",
       "  0.00710315,\n",
       "  0.00718442,\n",
       "  0.00726661,\n",
       "  0.00734972,\n",
       "  0.00743378,\n",
       "  0.0075188,\n",
       "  0.0076048,\n",
       "  0.00769179,\n",
       "  0.00777979,\n",
       "  0.00786882,\n",
       "  0.0079589,\n",
       "  0.00805005,\n",
       "  0.00814228,\n",
       "  0.00823562,\n",
       "  0.00833008,\n",
       "  0.0084257,\n",
       "  0.00852248,\n",
       "  0.00862045,\n",
       "  0.00871964,\n",
       "  0.00882006,\n",
       "  0.00892175,\n",
       "  0.00902472,\n",
       "  0.009129,\n",
       "  0.00923463,\n",
       "  0.00934161,\n",
       "  0.00944999,\n",
       "  0.00955979,\n",
       "  0.00967103,\n",
       "  0.00978375,\n",
       "  0.00989798,\n",
       "  0.0100137,\n",
       "  0.0101311,\n",
       "  0.01025,\n",
       "  0.0103705,\n",
       "  0.0104928,\n",
       "  0.0106167,\n",
       "  0.0107423])"
      ]
     },
     "execution_count": 20,
     "metadata": {},
     "output_type": "execute_result"
    }
   ],
   "source": [
    "sim_T, sim_rate"
   ]
  },
  {
   "cell_type": "code",
   "execution_count": null,
   "metadata": {},
   "outputs": [],
   "source": []
  }
 ],
 "metadata": {
  "anaconda-cloud": {},
  "kernelspec": {
   "display_name": "Python 3",
   "language": "python",
   "name": "python3"
  },
  "language_info": {
   "codemirror_mode": {
    "name": "ipython",
    "version": 3
   },
   "file_extension": ".py",
   "mimetype": "text/x-python",
   "name": "python",
   "nbconvert_exporter": "python",
   "pygments_lexer": "ipython3",
   "version": "3.6.7"
  },
  "varInspector": {
   "cols": {
    "lenName": 16,
    "lenType": 16,
    "lenVar": 40
   },
   "kernels_config": {
    "python": {
     "delete_cmd_postfix": "",
     "delete_cmd_prefix": "del ",
     "library": "var_list.py",
     "varRefreshCmd": "print(var_dic_list())"
    },
    "r": {
     "delete_cmd_postfix": ") ",
     "delete_cmd_prefix": "rm(",
     "library": "var_list.r",
     "varRefreshCmd": "cat(var_dic_list()) "
    }
   },
   "types_to_exclude": [
    "module",
    "function",
    "builtin_function_or_method",
    "instance",
    "_Feature"
   ],
   "window_display": false
  }
 },
 "nbformat": 4,
 "nbformat_minor": 2
}
