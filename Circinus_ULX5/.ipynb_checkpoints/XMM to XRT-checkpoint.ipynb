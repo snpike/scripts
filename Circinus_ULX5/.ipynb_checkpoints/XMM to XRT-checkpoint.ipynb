{
 "cells": [
  {
   "cell_type": "code",
   "execution_count": 61,
   "metadata": {},
   "outputs": [],
   "source": [
    "import csv\n",
    "import numpy as np\n",
    "import matplotlib.pyplot as plt\n",
    "import matplotlib.cm as cm\n",
    "import matplotlib as mpl\n",
    "from scipy.optimize import curve_fit\n",
    "from scipy import odr\n",
    "import seaborn as sns\n",
    "import scipy.signal as sig\n",
    "from astropy.table import Table\n",
    "from astropy.io import ascii\n",
    "import os\n",
    "\n",
    "def get_ctrate(mean, covar, n=100, model='powerlaw', swift_obs = '00032699024', energy_min=0.3, energy_max = 10.0):\n",
    "    if model not in ['powerlaw', 'diskpbb']:\n",
    "        print('Try again with powerlaw or diskpbb')\n",
    "        return None\n",
    "    cwd = os.getcwd()\n",
    "    filepath = '/Volumes/LaCie/AstroData/Circinus_ULX5/swift/' + swift_obs + '_pipe_out/'\n",
    "    os.chdir(filepath)\n",
    "    sample = np.random.multivariate_normal(mean, covar, n)\n",
    "    tmp = open('sample_XRT_in.txt', 'w')\n",
    "    tmp.close()\n",
    "    with open('sample_XRT_in.txt', 'a') as xspec_file:\n",
    "        xspec_file.write('data src_pc_' + swift_obs + '_5.grp\\n')\n",
    "        xspec_file.write('ignore bad\\n')\n",
    "        xspec_file.write('ignore **-' + str(energy_min) + ',' + str(energy_max) + '-**\\n')\n",
    "        xspec_file.write('abund wilm\\n')\n",
    "        for x in sample:\n",
    "            xspec_file.write('model tbabs*' + model + '\\n')\n",
    "            for y in x:\n",
    "                xspec_file.write(str(y) + ',-1\\n')\n",
    "            xspec_file.write('show all\\n')\n",
    "    os.system('xspec < sample_XRT_in.txt >& sample_XRT_out.txt')\n",
    "    ctrate = []\n",
    "    with open(filepath + 'sample_XRT_out.txt', 'r') as outfile:\n",
    "        for line in outfile:\n",
    "            if 'Model predicted rate' in line:\n",
    "                ctrate.append(float(line.split()[3]))\n",
    "    os.chdir(cwd)\n",
    "    return sample, ctrate\n"
   ]
  },
  {
   "cell_type": "code",
   "execution_count": 62,
   "metadata": {},
   "outputs": [],
   "source": [
    "# Parameters for 0780950201\n",
    "mean_07 = [0.634574, 1.66926, 2.34647E-4]\n",
    "covar_07 = [[5.362e-04, 5.746e-04, 1.652e-07],\n",
    "            [5.746e-04, 9.818e-04, 2.385e-07],\n",
    "            [1.652e-07, 2.385e-07, 8.376e-11]]\n",
    "\n",
    "# Parameters for 0824450301\n",
    "mean_08 = [0.755114, 1.92349, 0.713459, 2.34170E-02]\n",
    "covar_08 = [[1.393e-04, 1.810e-04, -8.679e-05, -1.582e-05],\n",
    "            [1.810e-04, 4.873e-04, -1.631e-04, -3.663e-05],\n",
    "            [-8.679e-05, -1.631e-04, 6.754e-05, 1.344e-05],\n",
    "            [-1.582e-05, -3.663e-05, 1.344e-05, 2.877e-06]]"
   ]
  },
  {
   "cell_type": "code",
   "execution_count": 65,
   "metadata": {},
   "outputs": [
    {
     "name": "stdout",
     "output_type": "stream",
     "text": [
      "0.0175450486\n",
      "0.0003528050024560876\n"
     ]
    }
   ],
   "source": [
    "sample, ctrate = get_ctrate(mean_07, covar_07, n=1000, model='powerlaw')\n",
    "print(np.mean(ctrate))\n",
    "print(np.std(ctrate))"
   ]
  },
  {
   "cell_type": "code",
   "execution_count": 66,
   "metadata": {},
   "outputs": [
    {
     "name": "stdout",
     "output_type": "stream",
     "text": [
      "0.0892008421\n",
      "0.0005587047241232083\n"
     ]
    }
   ],
   "source": [
    "sample, ctrate = get_ctrate(mean_08, covar_08, n=1000, model='diskpbb')\n",
    "print(np.mean(ctrate))\n",
    "print(np.std(ctrate))"
   ]
  },
  {
   "cell_type": "code",
   "execution_count": null,
   "metadata": {},
   "outputs": [],
   "source": []
  }
 ],
 "metadata": {
  "anaconda-cloud": {},
  "kernelspec": {
   "display_name": "Python 3",
   "language": "python",
   "name": "python3"
  },
  "language_info": {
   "codemirror_mode": {
    "name": "ipython",
    "version": 3
   },
   "file_extension": ".py",
   "mimetype": "text/x-python",
   "name": "python",
   "nbconvert_exporter": "python",
   "pygments_lexer": "ipython3",
   "version": "3.6.7"
  },
  "varInspector": {
   "cols": {
    "lenName": 16,
    "lenType": 16,
    "lenVar": 40
   },
   "kernels_config": {
    "python": {
     "delete_cmd_postfix": "",
     "delete_cmd_prefix": "del ",
     "library": "var_list.py",
     "varRefreshCmd": "print(var_dic_list())"
    },
    "r": {
     "delete_cmd_postfix": ") ",
     "delete_cmd_prefix": "rm(",
     "library": "var_list.r",
     "varRefreshCmd": "cat(var_dic_list()) "
    }
   },
   "types_to_exclude": [
    "module",
    "function",
    "builtin_function_or_method",
    "instance",
    "_Feature"
   ],
   "window_display": false
  }
 },
 "nbformat": 4,
 "nbformat_minor": 2
}
