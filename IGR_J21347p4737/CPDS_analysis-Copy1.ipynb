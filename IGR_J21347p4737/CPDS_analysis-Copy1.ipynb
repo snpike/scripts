{
 "cells": [
  {
   "cell_type": "code",
   "execution_count": 7,
   "metadata": {
    "tags": []
   },
   "outputs": [],
   "source": [
    "%matplotlib widget\n",
    "%matplotlib inline\n",
    "import sys\n",
    "from sys import platform\n",
    "import matplotlib.pyplot as plt\n",
    "from matplotlib.ticker import ScalarFormatter\n",
    "from matplotlib.gridspec import GridSpec\n",
    "\n",
    "import numpy as np\n",
    "import pickle\n",
    "import seaborn as sns\n",
    "import scipy\n",
    "from IPython.display import display, Math\n",
    "from tqdm import tqdm\n",
    "\n",
    "from astropy.io import fits, ascii\n",
    "from astropy.table import Table\n",
    "from astropy.modeling import functional_models, fitting\n",
    "from astropy.timeseries import LombScargle\n",
    "\n",
    "import stingray.events as ev\n",
    "import stingray.lightcurve as lc\n",
    "from stingray import io\n",
    "import stingray.powerspectrum as powspec \n",
    "import stingray.crossspectrum as crossspec\n",
    "from hendrics.efsearch import dyn_folding_search, z_n_search, folding_search\n",
    "from stingray.pulse.search import phaseogram, plot_phaseogram, plot_profile\n",
    "import stingray.gti as sting_gti\n",
    "import stingray.pulse.pulsar as plsr\n",
    "from stingray import stats\n",
    "\n",
    "\n",
    "sns.set_context('talk')\n",
    "# sns.set_style(\"whitegrid\")\n",
    "sns.set_palette(\"colorblind\")\n",
    "\n",
    "sys.path.insert(1, '/Users/sean/scripts/helpers')\n",
    "\n",
    "from stingray_plus import *\n",
    "\n",
    "def gauss(x, A, mu, sigma):\n",
    "    return A*np.exp(-np.square((x-mu)/sigma)/2)\n"
   ]
  },
  {
   "cell_type": "markdown",
   "metadata": {},
   "source": [
    "## Setup"
   ]
  },
  {
   "cell_type": "code",
   "execution_count": 2,
   "metadata": {},
   "outputs": [
    {
     "name": "stdout",
     "output_type": "stream",
     "text": [
      "Working on Macbook\n"
     ]
    }
   ],
   "source": [
    "# Set some directory paths for loading data and plotting\n",
    "if platform=='linux' or platform=='linux2':\n",
    "    print('Working on SRL server')\n",
    "    root_dir = '/disk/lif2/spike/IGR_J21347p4737/'\n",
    "elif platform=='darwin':\n",
    "    print('Working on Macbook')\n",
    "    root_dir = '/Volumes/Samsung_1TB/AstroData/IGR_J21347p4737/'\n",
    "    \n",
    "OBSID='90601339002'\n",
    "\n",
    "products_dir = root_dir + OBSID + '_products/'\n",
    "plot_dir = root_dir + 'figures/'\n"
   ]
  },
  {
   "cell_type": "code",
   "execution_count": 3,
   "metadata": {
    "scrolled": true
   },
   "outputs": [
    {
     "name": "stderr",
     "output_type": "stream",
     "text": [
      "WARNING:root:Computing the bin time ``dt``. This can take time. If you know the bin time, please specify it at light curve creation\n",
      "WARNING:root:Computing the bin time ``dt``. This can take time. If you know the bin time, please specify it at light curve creation\n"
     ]
    },
    {
     "name": "stdout",
     "output_type": "stream",
     "text": [
      "[484.54983388753425, 567.5711636801618]\n",
      "[489.71683961785527, 564.3503021422365]\n",
      "24.40903441975088\n"
     ]
    },
    {
     "name": "stderr",
     "output_type": "stream",
     "text": [
      "/Users/sean/anaconda/lib/python3.6/site-packages/stingray/utils.py:118: UserWarning: SIMON says: Errorbars on cross spectra are not thoroughly tested. Please report any inconsistencies.\n",
      "  warnings.warn(\"SIMON says: {0}\".format(message), **kwargs)\n",
      "48it [00:00, 309.13it/s]\n",
      "48it [00:00, 292.02it/s]\n",
      "48it [00:00, 286.43it/s]\n"
     ]
    }
   ],
   "source": [
    "plt.ion()\n",
    "# Set the size of the bins and segments to use when calculating the CPDS\n",
    "bin_time = 1/512\n",
    "split_time = 512\n",
    "buff = False\n",
    "lc_buff_size = 60\n",
    "bkg_bin = 32\n",
    "    \n",
    "### Setup\n",
    "plt.ion()\n",
    "PI_min = eV_to_PI(3000)     # 3.0 keV\n",
    "PI_max = eV_to_PI(78000)   # 78.0 keV\n",
    "\n",
    "# Extract events by providing the path to both FPMA and FPMB event files\n",
    "events = extract_events(products_dir + 'nu' + OBSID + 'A01_cl_barycorr.evt', \\\n",
    "            products_dir + 'nu' + OBSID + 'B01_cl_barycorr.evt')\n",
    "\n",
    "# Extract source and background lightcurves from the lightcurve files produced by nuproducts\n",
    "bkg_curve_A = nuproducts_to_stingray_lc(products_dir + 'nu' + OBSID + 'A01_bk.lc', buff = buff, buffersize = lc_buff_size)\n",
    "bkg_curve_B = nuproducts_to_stingray_lc(products_dir + 'nu' + OBSID + 'B01_bk.lc', buff = buff, buffersize = lc_buff_size)\n",
    "\n",
    "# Subtract the background from the source lightcurves\n",
    "curve_A = bkg_subtract(nuproducts_to_stingray_lc(products_dir + 'nu' + OBSID + 'A01_sr.lc', buff = buff, buffersize = lc_buff_size), \\\n",
    "                       bkg_curve_A, bkg_bin=bkg_bin)\n",
    "curve_B = bkg_subtract(nuproducts_to_stingray_lc(products_dir + 'nu' + OBSID + 'B01_sr.lc', buff = buff, buffersize = lc_buff_size),\\\n",
    "                       bkg_curve_B, bkg_bin=bkg_bin)\n",
    "\n",
    "# Sum the bkg-subtracted A and B light curves \n",
    "curve_total = sum_lc(curve_A, curve_B)\n",
    "curve_10s = curve_total.rebin(dt_new=10)\n",
    "\n",
    "# The lc files have the source region info. Assign it to the events so we can retrieve it later. Stingray-plus uses physical (not sky) units\n",
    "centroid_A = curve_A.centroid\n",
    "centroid_B = curve_B.centroid\n",
    "extraction_radius = curve_A.radius\n",
    "print(centroid_A)\n",
    "print(centroid_B)\n",
    "print(extraction_radius)\n",
    "\n",
    "events[0].centroid=centroid_A\n",
    "events[0].radius=extraction_radius\n",
    "events[1].centroid=centroid_B\n",
    "events[1].radius=extraction_radius\n",
    "\n",
    "t_start = np.min(curve_total.time)\n",
    "\n",
    "## Plot the lightcurve\n",
    "plt.figure(figsize = (9,6))\n",
    "plt.errorbar(curve_10s.time-t_start, curve_10s.countrate, xerr=curve_10s.dt/2., yerr=curve_10s.countrate_err, fmt='none', lw = 0.5)\n",
    "plt.xlabel('Time (s)')\n",
    "plt.ylabel('NuSTAR count rate')\n",
    "plt.tight_layout()\n",
    "plt.savefig(plot_dir + 'bkg_sub_lightcurve.pdf')\n",
    "plt.close()\n",
    "\n",
    "### Calculate the average CPDS. You may wish to alter the \n",
    "averaged_cross = crossspec.AveragedCrossspectrum(events[0], events[1], segment_size=split_time, norm = 'frac', dt=bin_time)\n",
    "\n",
    "### Plot averaged CPDS\n",
    "# first rebin so that it is actually legible.\n",
    "f_res = 0.01\n",
    "averaged_cross_log = averaged_cross.rebin_log(f=f_res)\n",
    "averaged_cross_log_err = averaged_cross.df*np.power(1.+f_res, range(len(averaged_cross_log.freq)))/2.\n",
    "\n",
    "# Plot nuPnu (power * frequency)\n",
    "plt.figure(figsize=(9,6))\n",
    "plt.errorbar(averaged_cross_log.freq, averaged_cross_log.power*averaged_cross_log.freq, xerr=averaged_cross_log_err, yerr=averaged_cross_log.power_err*averaged_cross_log.freq, fmt='none', color='black', lw=0.5)\n",
    "plt.step(np.concatenate([averaged_cross_log.freq-averaged_cross_log_err, [averaged_cross_log.freq[-1]+averaged_cross_log_err[-1]]]), \\\n",
    "         np.concatenate([averaged_cross_log.power*averaged_cross_log.freq, [(averaged_cross_log.power*averaged_cross_log.freq)[-1]]]), where='post', color='black', lw=0.5)\n",
    "plt.xscale('log')\n",
    "plt.ylim((1e-4,10))\n",
    "plt.yscale('log')\n",
    "plt.xlabel('Frequency (Hz)')\n",
    "plt.ylabel(r'$\\mathrm{\\nu P_{\\nu}\\ (rms/mean)^{2}}$')\n",
    "plt.tight_layout()\n",
    "plt.show()\n",
    "# plt.savefig(plot_dir + 'CPDS_nuPnu_' + str(int(split_time)) + 's.pdf')\n",
    "# plt.close()\n",
    "\n",
    "# Plot Pnu (just power). \n",
    "# There isn't a difference between this and nuPnu except that certain features may be slightly easier to see in one or the other.\n",
    "plt.figure(figsize=(9,6))\n",
    "plt.errorbar(averaged_cross_log.freq, averaged_cross_log.power, xerr=averaged_cross_log_err, yerr=averaged_cross_log.power_err, fmt='none', color='black', lw=0.5)\n",
    "plt.step(np.concatenate([averaged_cross_log.freq-averaged_cross_log_err, [averaged_cross_log.freq[-1]+averaged_cross_log_err[-1]]]), \\\n",
    "         np.concatenate([averaged_cross_log.power, [averaged_cross_log.power[-1]]]), where='post', color='black', lw=0.5)\n",
    "plt.xscale('log')\n",
    "plt.ylim((1e-4,10))\n",
    "plt.yscale('log')\n",
    "plt.xlabel('Frequency (Hz)')\n",
    "plt.ylabel(r'$\\mathrm{Power\\ (rms/mean)^{2}/Hz}$')\n",
    "plt.tight_layout()\n",
    "plt.show()\n",
    "# plt.savefig(plot_dir + 'CPDS_Pnu_' + str(int(split_time)) + 's.pdf')\n",
    "# plt.close()    \n",
    "\n"
   ]
  },
  {
   "cell_type": "code",
   "execution_count": 9,
   "metadata": {},
   "outputs": [
    {
     "name": "stderr",
     "output_type": "stream",
     "text": [
      " 92%|█████████▎| 925/1000 [00:02<00:00, 340.77it/s]/Users/sean/anaconda/lib/python3.6/site-packages/stingray/stats.py:86: RuntimeWarning: underflow encountered in _logp_multitrial_from_single_logp\n",
      "  np.log10(p1).astype(np.double), n)\n",
      "100%|██████████| 1000/1000 [00:03<00:00, 323.93it/s]\n"
     ]
    },
    {
     "name": "stdout",
     "output_type": "stream",
     "text": [
      "[102.29224855 322.69624929   0.61586748]\n",
      "[0.09150394 0.00063575 0.00063831]\n",
      "0.99999999999999999523\n",
      "0.00309898578022555\n",
      "0.0030990866832252334\n",
      "345908703.67454111576\n"
     ]
    },
    {
     "data": {
      "image/png": "[encoded data removed]",
      "text/plain": [
       "<Figure size 648x432 with 1 Axes>"
      ]
     },
     "metadata": {
      "needs_background": "light"
     },
     "output_type": "display_data"
    }
   ],
   "source": [
    "# We can search both A and B at the same time using stingray_plus. \n",
    "# This function essentially folds all events at different periods and checks to see how similar the pulse profile looks to a sinusoid.\n",
    "f_arr, z_prob, z_stat = efold_search_AandB(events[0], events[1], f_min=1/325, f_max=1/320, f_steps=1000, nbin = 32, pi_min = eV_to_PI(3000), pi_max = eV_to_PI(78000))\n",
    "\n",
    "# The Z statistic follows a gaussian distribution so we can fit to get the centroid and error bars\n",
    "popt, pcov = scipy.optimize.curve_fit(gauss, 1/f_arr, z_stat, p0 = [100,322.7,0.5])\n",
    "print(popt)\n",
    "print(np.sqrt(np.diag(pcov)))\n",
    "\n",
    "# Plot the results of the folding search and the gaussian fit\n",
    "plt.figure(figsize= (9,6))\n",
    "plt.plot(1/f_arr, z_stat)\n",
    "plt.axhline(stats.z2_n_detection_level(n=2, epsilon=1-0.9973, ntrial=1000), color='red')\n",
    "plt.plot(1/f_arr, gauss(1/f_arr, *popt))\n",
    "print(np.max(z_prob))\n",
    "print(f_arr[np.argmax(z_prob)])\n"
   ]
  },
  {
   "cell_type": "code",
   "execution_count": 12,
   "metadata": {},
   "outputs": [
    {
     "name": "stdout",
     "output_type": "stream",
     "text": [
      "0.2723735408560311\n",
      "0.02450300617150256\n"
     ]
    },
    {
     "data": {
      "image/png": "[encoded data removed]",
      "text/plain": [
       "<Figure size 648x432 with 1 Axes>"
      ]
     },
     "metadata": {
      "needs_background": "light"
     },
     "output_type": "display_data"
    }
   ],
   "source": [
    "# Plot the pulse profile resulting from the above pulse period\n",
    "A_mask = np.sqrt(np.square(events[0].x - events[0].centroid[0]) + np.square(events[0].y - events[0].centroid[1])) <= events[0].radius\n",
    "B_mask = np.sqrt(np.square(events[1].x - events[1].centroid[0]) + np.square(events[1].y - events[1].centroid[1])) <= events[1].radius\n",
    "\n",
    "temp_time = np.concatenate([events[0].time[A_mask], events[1].time[B_mask]])\n",
    "sorted_arg = np.argsort(temp_time)\n",
    "temp_time = temp_time[sorted_arg]\n",
    "temp_pi = np.concatenate([events[0].pi[A_mask], events[1].pi[B_mask]])[sorted_arg]\n",
    "\n",
    "joined_ev = EventList_ext(time=temp_time, gti=sting_gti.cross_two_gtis(events[0].gti, events[1].gti) , pi=temp_pi)\n",
    "\n",
    "phase_bins, profile, profile_err, z_stat = joined_ev.fold_events(1/popt[1], nbin = 32, ref_time = joined_ev.time[0], region_filter=False, pi_min=PI_min, pi_max=PI_max)\n",
    "\n",
    "plt.figure(figsize= (9,6))\n",
    "plt.step(np.concatenate([phase_bins, 1.0 + phase_bins]), np.concatenate([profile, profile]), where='mid')\n",
    "plt.errorbar(np.concatenate([phase_bins, 1.0 + phase_bins]), np.concatenate([profile, profile]), xerr=1/64, yerr=np.concatenate([profile_err, profile_err]), ls='')\n",
    "\n",
    "# Calculate the pulse fraction and the corresponding error\n",
    "PF = (np.max(profile)-np.min(profile))/(np.max(profile) + np.min(profile))\n",
    "\n",
    "max_err = profile_err[np.argmax(profile)]\n",
    "min_err = profile_err[np.argmin(profile)]\n",
    "PF_err = np.sqrt(np.square((1-PF)*max_err) + np.square((1+PF)*min_err))/(np.max(profile) + np.min(profile))\n",
    "\n",
    "print(PF)\n",
    "print(PF_err)"
   ]
  },
  {
   "cell_type": "code",
   "execution_count": null,
   "metadata": {},
   "outputs": [],
   "source": []
  }
 ],
 "metadata": {
  "anaconda-cloud": {},
  "kernelspec": {
   "display_name": "Python 3",
   "language": "python",
   "name": "python3"
  },
  "language_info": {
   "codemirror_mode": {
    "name": "ipython",
    "version": 3
   },
   "file_extension": ".py",
   "mimetype": "text/x-python",
   "name": "python",
   "nbconvert_exporter": "python",
   "pygments_lexer": "ipython3",
   "version": "3.8.8"
  },
  "varInspector": {
   "cols": {
    "lenName": 16,
    "lenType": 16,
    "lenVar": 40
   },
   "kernels_config": {
    "python": {
     "delete_cmd_postfix": "",
     "delete_cmd_prefix": "del ",
     "library": "var_list.py",
     "varRefreshCmd": "print(var_dic_list())"
    },
    "r": {
     "delete_cmd_postfix": ") ",
     "delete_cmd_prefix": "rm(",
     "library": "var_list.r",
     "varRefreshCmd": "cat(var_dic_list()) "
    }
   },
   "position": {
    "height": "593px",
    "left": "889px",
    "right": "20px",
    "top": "315px",
    "width": "315px"
   },
   "types_to_exclude": [
    "module",
    "function",
    "builtin_function_or_method",
    "instance",
    "_Feature"
   ],
   "window_display": false
  }
 },
 "nbformat": 4,
 "nbformat_minor": 4
}
