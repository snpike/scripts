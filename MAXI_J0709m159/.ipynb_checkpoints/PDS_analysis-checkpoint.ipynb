{
 "cells": [
  {
   "cell_type": "code",
   "execution_count": 1,
   "metadata": {
    "tags": []
   },
   "outputs": [
    {
     "name": "stderr",
     "output_type": "stream",
     "text": [
      "/Users/sean/opt/anaconda3/lib/python3.8/site-packages/stingray/utils.py:25: UserWarning: pyfftw not installed. Using standard scipy fft\n",
      "  warnings.warn(\"pyfftw not installed. Using standard scipy fft\")\n"
     ]
    }
   ],
   "source": [
    "%matplotlib widget\n",
    "%matplotlib inline\n",
    "import sys\n",
    "from sys import platform\n",
    "import matplotlib.pyplot as plt\n",
    "import matplotlib.animation as animation\n",
    "from matplotlib.ticker import ScalarFormatter\n",
    "import numpy as np\n",
    "import seaborn as sns\n",
    "import scipy\n",
    "from IPython.display import display, Math\n",
    "from tqdm import tqdm\n",
    "\n",
    "from astropy.io import fits, ascii\n",
    "from astropy.table import Table\n",
    "from astropy.modeling import functional_models, fitting\n",
    "from astropy.timeseries import LombScargle\n",
    "\n",
    "import stingray.events as ev\n",
    "import stingray.lightcurve as lc\n",
    "from stingray import io\n",
    "import stingray.powerspectrum as powspec \n",
    "import stingray.crossspectrum as crossspec\n",
    "import stingray.gti as sting_gti\n",
    "import stingray.pulse.pulsar as plsr\n",
    "import stingray.deadtime.fad as fad\n",
    "from stingray import stats\n",
    "\n",
    "\n",
    "sns.set_context('talk')\n",
    "# sns.set_style(\"whitegrid\")\n",
    "sns.set_palette(\"colorblind\")\n",
    "\n",
    "sys.path.insert(1, '/Users/sean/scripts/helpers')\n",
    "\n",
    "from stingray_plus import *\n",
    "\n",
    "n_pdot = 2000\n",
    "pdot_stop = 5e-6\n",
    "pdot_start = 1e-12\n",
    "pdot_grid = np.concatenate((np.logspace(np.log10(pdot_start), np.log10(pdot_stop), num=int(n_pdot/2)), \\\n",
    "                          -np.logspace(np.log10(pdot_start), np.log10(pdot_stop), num=int(n_pdot/2))))\n",
    "\n"
   ]
  },
  {
   "cell_type": "markdown",
   "metadata": {
    "tags": []
   },
   "source": [
    "# NuSTAR 90801304002"
   ]
  },
  {
   "cell_type": "markdown",
   "metadata": {
    "tags": []
   },
   "source": [
    "## Setup"
   ]
  },
  {
   "cell_type": "code",
   "execution_count": 2,
   "metadata": {
    "tags": []
   },
   "outputs": [
    {
     "name": "stdout",
     "output_type": "stream",
     "text": [
      "Working on Macbook\n"
     ]
    }
   ],
   "source": [
    "if platform=='linux' or platform=='linux2':\n",
    "    print('Working on SRL server')\n",
    "    root_dir = '/disk/lif2/spike/MAXI_J0709m159/'\n",
    "elif platform=='darwin':\n",
    "    print('Working on Macbook')\n",
    "    root_dir = '/Volumes/Samsung_1TB/AstroData/MAXI_J0709m159/'\n",
    "    \n",
    "OBSID='90801304002'\n",
    "\n",
    "products_dir = root_dir + OBSID + '_pipe_out/'\n",
    "plot_dir = root_dir + 'figures/'\n"
   ]
  },
  {
   "cell_type": "markdown",
   "metadata": {},
   "source": [
    "## PDS and LS analysis"
   ]
  },
  {
   "cell_type": "code",
   "execution_count": 3,
   "metadata": {
    "tags": []
   },
   "outputs": [
    {
     "name": "stderr",
     "output_type": "stream",
     "text": [
      "13it [00:00, 14.85it/s]\n"
     ]
    }
   ],
   "source": [
    "plt.ion()\n",
    "bin_time = 1/1024\n",
    "split_time = 1024\n",
    "buff = False\n",
    "lc_buff_size = 60\n",
    "bkg_bin = 32\n",
    "\n",
    "keV_min = 3\n",
    "keV_max = 20\n",
    "PI_min = int(eV_to_PI(keV_min * 1000))\n",
    "PI_max = int(eV_to_PI(keV_max * 1000))\n",
    "\n",
    "\n",
    "### Create PDS\n",
    "\n",
    "events = extract_events(products_dir + 'nu' + OBSID + 'A01_cl_bc_regfilt_3_20keV.evt', \\\n",
    "            products_dir + 'nu' + OBSID + 'B01_cl_bc_regfilt_3_20keV.evt')\n",
    "\n",
    "centroid_A = [482.62644, 518.51627]\n",
    "centroid_B = [482.45425, 515.61606]\n",
    "extraction_radius = 18\n",
    "# print(centroid_A)\n",
    "# print(centroid_B)\n",
    "# print(extraction_radius)\n",
    "\n",
    "events[0].centroid=centroid_A\n",
    "events[0].radius=extraction_radius\n",
    "events[1].centroid=centroid_B\n",
    "events[1].radius=extraction_radius\n",
    "\n",
    "curve_A = events[0].to_lc(dt = bin_time, pi_low=PI_min, pi_high=PI_max, centroid = centroid_A, radius = extraction_radius)\n",
    "curve_B = events[1].to_lc(dt = bin_time, pi_low=PI_min, pi_high=PI_max, centroid = centroid_B, radius = extraction_radius)\n",
    "\n",
    "\n",
    "curve_AandB = sum_lc(curve_A, curve_B)\n",
    "# bkg_curve = sum_lc(bkg_curve_A, bkg_curve_B)\n",
    "\n",
    "# area_ratio = curve_A.calc_area()/bkg_curve_A.calc_area()\n",
    "\n",
    "averaged_PDS = powspec.AveragedPowerspectrum(curve_AandB, segment_size=split_time, norm = 'leahy')\n",
    "# averaged_PDS.power = averaged_PDS.power * np.square((1/(1-0.0025*(curve_AandB.meanrate/2))) * (curve_AandB.meanrate/(curve_AandB.meanrate-(bkg_curve.meanrate*area_ratio))))\n",
    "# averaged_PDS.power_err = averaged_PDS.power_err * np.square((1/(1-0.0025*(curve_AandB.meanrate/2))) * (curve_AandB.meanrate/(curve_AandB.meanrate-(bkg_curve.meanrate*area_ratio))))\n",
    "\n",
    "averaged_PDS.power = averaged_PDS.power * np.square((1/(1-0.0025*(curve_AandB.meanrate/2))))\n",
    "averaged_PDS.power_err = averaged_PDS.power_err * np.square((1/(1-0.0025*(curve_AandB.meanrate/2))))\n",
    "\n",
    "\n",
    "\n",
    "# ### Plot PDS\n",
    "# f_res = 0.001\n",
    "# averaged_PDS_log = averaged_PDS.rebin_log(f=f_res)\n",
    "# averaged_PDS_log_err = averaged_PDS.df*np.power(1.+f_res, range(len(averaged_PDS_log.freq)))/2.\n",
    "\n",
    "# plt.figure(figsize=(9,6))\n",
    "# plt.errorbar(averaged_PDS_log.freq, averaged_PDS_log.power*averaged_PDS_log.freq, xerr=averaged_PDS_log_err, yerr=averaged_PDS_log.power_err*averaged_PDS_log.freq, fmt='none', color='black', lw=0.5)\n",
    "# plt.step(np.concatenate([averaged_PDS_log.freq-averaged_PDS_log_err, [averaged_PDS_log.freq[-1]+averaged_PDS_log_err[-1]]]), \\\n",
    "#          np.concatenate([averaged_PDS_log.power*averaged_PDS_log.freq, [(averaged_PDS_log.power*averaged_PDS_log.freq)[-1]]]), where='post', color='black', lw=0.5)\n",
    "# plt.xscale('log')\n",
    "# # plt.ylim(bottom=1e-3)\n",
    "# plt.yscale('log')\n",
    "# plt.xlabel('Frequency (Hz)')\n",
    "# # plt.ylabel(r'$\\mathrm{\\nu P_{\\nu}\\ (rms/mean)^{2}}$')\n",
    "# plt.ylabel('Leahy Power')\n",
    "# plt.tight_layout()\n",
    "# # plt.show()\n",
    "# plt.savefig(plot_dir + 'PDS_nuPnu_' + str(int(split_time)) + 's_' + str(keV_min)+'_'+str(keV_max) + 'keV.pdf')\n",
    "# plt.close()\n",
    "\n",
    "plt.figure(figsize=(9,6))\n",
    "plt.errorbar(averaged_PDS.freq, averaged_PDS.power, xerr=averaged_PDS.df/2, yerr=averaged_PDS.power_err, fmt='none', color='black', lw=0.5, rasterized=True)\n",
    "plt.step(np.concatenate([averaged_PDS.freq-averaged_PDS.df/2, [averaged_PDS.freq[-1]+averaged_PDS.df/2]]), \\\n",
    "         np.concatenate([averaged_PDS.power, [averaged_PDS.power[-1]]]), where='post', color='black', lw=0.5, rasterized=True)\n",
    "plt.xscale('log')\n",
    "# plt.ylim(bottom=1e-3)\n",
    "# plt.yscale('log')\n",
    "plt.xlabel('Frequency (Hz)')\n",
    "# plt.ylabel(r'$\\mathrm{Power\\ (rms/mean)^{2}/Hz}$')\n",
    "det_level = stats.pds_detection_level(epsilon=0.0027, ntrial=len(averaged_PDS.freq), n_summed_spectra=averaged_PDS.m)\n",
    "plt.axhline(det_level, color='red')\n",
    "plt.ylabel('Leahy Power')\n",
    "plt.tight_layout()\n",
    "# plt.show()\n",
    "plt.savefig(plot_dir + 'PDS_Pnu_' + str(int(split_time)) + 's_' + str(keV_min)+'_'+str(keV_max) + 'keV_Leahy.pdf')\n",
    "plt.close()\n",
    "\n",
    "# plt.figure()\n",
    "# plt.plot(averaged_PDS_log.m)"
   ]
  },
  {
   "cell_type": "code",
   "execution_count": 11,
   "metadata": {},
   "outputs": [
    {
     "name": "stderr",
     "output_type": "stream",
     "text": [
      "100%|█████████████████████████████████████████████████████████████| 10000/10000 [00:01<00:00, 6514.76it/s]\n"
     ]
    },
    {
     "name": "stdout",
     "output_type": "stream",
     "text": [
      "0.0\n",
      "0.01\n",
      "0.01\n",
      "381112671.6195362\n"
     ]
    },
    {
     "data": {
      "image/png": "[encoded data removed]",
      "text/plain": [
       "<Figure size 648x432 with 1 Axes>"
      ]
     },
     "metadata": {
      "needs_background": "light"
     },
     "output_type": "display_data"
    }
   ],
   "source": [
    "f_arr, z_prob, z_stat = efold_search_AandB(events[0], events[1], f_min=0.01, f_max=0.02, f_steps=10000, nbin = 32, pi_min = PI_min, pi_max = PI_max)\n",
    "\n",
    "# popt, pcov = scipy.optimize.curve_fit(gauss, 1/f_arr, z_stat, p0 = [100,322.7,0.5])\n",
    "# print(popt)\n",
    "# print(np.sqrt(np.diag(pcov)))\n",
    "\n",
    "plt.figure(figsize= (9,6))\n",
    "plt.plot(1/f_arr, z_stat)\n",
    "# plt.plot(1/f_arr, gauss(1/f_arr, *popt))\n",
    "print(np.max(z_prob))\n",
    "print(f_arr[np.argmax(z_prob)])\n",
    "\n",
    "sorted_prob = np.argsort((1-z_prob))\n",
    "summed = np.cumsum((1-z_prob)[sorted_prob])\n",
    "print(f_arr[sorted_prob[np.argmin(summed-0.32)]])\n",
    "print(np.min([np.min(events[0].time), np.min(events[1].time)]))\n",
    "\n"
   ]
  },
  {
   "cell_type": "code",
   "execution_count": 7,
   "metadata": {},
   "outputs": [],
   "source": [
    "bin_time = 1/64\n",
    "\n",
    "# curve_A = events[0].to_lc(dt = bin_time, pi_low=PI_min, pi_high=PI_max, centroid = centroid_A, radius = extraction_radius)\n",
    "# curve_B = events[1].to_lc(dt = bin_time, pi_low=PI_min, pi_high=PI_max, centroid = centroid_B, radius = extraction_radius)\n",
    "\n",
    "# curve_AandB = sum_lc(curve_A, curve_B)\n",
    "\n",
    "# ls = LombScargle(curve_AandB.time, curve_AandB.countrate)\n",
    "# frequency, power = ls.autopower()\n",
    "plt.figure(figsize=(9,6))\n",
    "plt.plot(frequency, power)\n",
    "plt.xlabel('Frequency (Hz)')\n",
    "# plt.ylabel(r'$\\mathrm{Power\\ (rms/mean)^{2}/Hz}$')\n",
    "# det_level = ls.false_alarm_level(0.0027, method='bootstrap')\n",
    "# plt.axhline(det_level, color='red')\n",
    "plt.xscale('log')\n",
    "plt.ylabel('Leahy Power')\n",
    "plt.tight_layout()\n",
    "plt.savefig(plot_dir + 'lombscargle_'+ str(keV_min)+'_'+str(keV_max) + 'keV.pdf')\n",
    "plt.close()"
   ]
  },
  {
   "cell_type": "markdown",
   "metadata": {},
   "source": [
    "# FAD analysis"
   ]
  },
  {
   "cell_type": "code",
   "execution_count": 4,
   "metadata": {},
   "outputs": [
    {
     "name": "stderr",
     "output_type": "stream",
     "text": [
      "13it [01:59,  9.17s/it]\n"
     ]
    }
   ],
   "source": [
    "bin_time = 1/1024\n",
    "split_time = 1024\n",
    "f_res = 0.1\n",
    "\n",
    "fad_results = fad.FAD(events[0], events[1], segment_size=split_time, norm='leahy', dt = bin_time, return_objects=True)\n",
    "fad_pds = fad_results['ptot'].rebin_log(f=f_res)\n",
    "\n",
    "fad_pds_log_err = fad_pds.df*np.power(1.+f_res, range(len(fad_pds.freq)))/2.\n",
    "\n",
    "\n",
    "\n",
    "# plt.figure(figsize=(9,6))\n",
    "# plt.errorbar(fad_results['freq'], fad_results['ptot'], xerr=fad_results.meta['df']/2, \\\n",
    "#              yerr=fad_results['ptot']/np.sqrt(fad_results.meta['M']), fmt='none', color='black', lw=0.5, rasterized=True)\n",
    "# plt.step(np.concatenate([fad_results['freq']-fad_results.meta['df']/2, [fad_results['freq'][-1]+fad_results.meta['df']/2]]), \\\n",
    "#          np.concatenate([fad_results['ptot'], [fad_results['ptot'][-1]]]), where='post', color='black', lw=0.5, rasterized=True)\n",
    "# plt.xscale('log')\n",
    "# # plt.ylim(bottom=1e-3)\n",
    "# # plt.yscale('log')\n",
    "# plt.xlabel('Frequency (Hz)')\n",
    "# # plt.ylabel(r'$\\mathrm{Power\\ (rms/mean)^{2}/Hz}$')\n",
    "# plt.ylabel('Leahy Power')\n",
    "# det_level_1sigma = stats.pds_detection_level(epsilon=1-0.6827, ntrial=len(fad_results['freq']), n_summed_spectra=fad_results.meta['M'])\n",
    "# det_level_2sigma = stats.pds_detection_level(epsilon=1-0.9545, ntrial=len(fad_results['freq']), n_summed_spectra=fad_results.meta['M'])\n",
    "# det_level_3sigma = stats.pds_detection_level(epsilon=1-0.9973, ntrial=len(fad_results['freq']), n_summed_spectra=fad_results.meta['M'])\n",
    "# plt.axhline(det_level_1sigma, color='red', ls='dashed')\n",
    "# plt.axhline(det_level_2sigma, color='purple', ls='dashed')\n",
    "# plt.axhline(det_level_3sigma, color='blue', ls='dashed')\n",
    "# plt.tight_layout()\n",
    "# # plt.show()\n",
    "# plt.savefig(plot_dir + 'FAD_PDS_Pnu_' + str(int(split_time)) + 's_' + str(keV_min)+'_'+str(keV_max) + 'keV_leahy.pdf')\n",
    "# plt.close()\n",
    "\n",
    "\n",
    "plt.figure(figsize=(9,6))\n",
    "plt.errorbar(fad_pds.freq, fad_pds.power, yerr=fad_pds.power/np.sqrt(fad_pds.m), \\\n",
    "             fmt='none', color='black', lw=0.5)\n",
    "plt.step(fad_pds.freq-fad_pds_log_err, fad_pds.power, where='post', color='black', lw=0.5)\n",
    "plt.xscale('log')\n",
    "# plt.ylim(bottom=1e-3)\n",
    "# plt.yscale('log')\n",
    "plt.xlabel('Frequency (Hz)')\n",
    "# plt.ylabel(r'$\\mathrm{Power\\ (rms/mean)^{2}/Hz}$')\n",
    "plt.ylabel('Leahy Power')\n",
    "det_level_1sigma = stats.pds_detection_level(epsilon=1-0.6827, ntrial=len(fad_results['ptot'].freq), n_summed_spectra=fad_pds.m)\n",
    "det_level_2sigma = stats.pds_detection_level(epsilon=1-0.9545, ntrial=len(fad_results['ptot'].freq), n_summed_spectra=fad_pds.m)\n",
    "det_level_3sigma = stats.pds_detection_level(epsilon=1-0.9973, ntrial=len(fad_results['ptot'].freq), n_summed_spectra=fad_pds.m)\n",
    "# plt.axhline(det_level_1sigma, color='red', ls='dashed')\n",
    "# plt.axhline(det_level_2sigma, color='purple', ls='dashed')\n",
    "# plt.axhline(det_level_3sigma, color='blue', ls='dashed')\n",
    "# plt.plot(fad_pds.freq-fad_pds.df/2, det_level_1sigma, color='red', ls='dashed')\n",
    "# plt.plot(fad_pds.freq-fad_pds.df/2, det_level_2sigma, color='purple', ls='dashed')\n",
    "plt.step(np.concatenate([[fad_pds.freq[0]-fad_pds_log_err[0]], fad_pds.freq]), np.concatenate([[det_level_3sigma[0]], det_level_3sigma]), where='mid',color='blue', ls='dashed', lw=0.6)\n",
    "plt.tight_layout()\n",
    "# plt.show()\n",
    "plt.savefig(plot_dir + 'FAD_PDS_Pnu_' + str(int(split_time)) + 's_' + str(keV_min)+'_'+str(keV_max) + 'keV_leahy.eps')\n",
    "plt.close()\n",
    "\n"
   ]
  },
  {
   "cell_type": "code",
   "execution_count": 5,
   "metadata": {},
   "outputs": [
    {
     "name": "stdout",
     "output_type": "stream",
     "text": [
      "13\n",
      "       ptot       \n",
      "------------------\n",
      " 6.876617131992895\n",
      " 6.581071758041617\n",
      " 2.616297483164932\n",
      "5.2458685043362925\n",
      "3.2311987676860454\n",
      "3.9164411601502325\n",
      "3.3142591226670217\n",
      "               ...\n",
      " 2.553222565667059\n",
      " 2.245285981419334\n",
      "  1.43943403386814\n",
      " 2.677986171185498\n",
      " 2.497938746224432\n",
      "2.2759929847204905\n",
      "1.3203311222430894\n",
      "Length = 524287 rows\n"
     ]
    }
   ],
   "source": [
    "print(fad_results.meta['M'])\n",
    "print(fad_pds)"
   ]
  },
  {
   "cell_type": "code",
   "execution_count": null,
   "metadata": {},
   "outputs": [],
   "source": []
  }
 ],
 "metadata": {
  "anaconda-cloud": {},
  "kernelspec": {
   "display_name": "Python 3 (ipykernel)",
   "language": "python",
   "name": "python3"
  },
  "language_info": {
   "codemirror_mode": {
    "name": "ipython",
    "version": 3
   },
   "file_extension": ".py",
   "mimetype": "text/x-python",
   "name": "python",
   "nbconvert_exporter": "python",
   "pygments_lexer": "ipython3",
   "version": "3.8.13"
  },
  "toc-autonumbering": true,
  "toc-showmarkdowntxt": false,
  "toc-showtags": false,
  "varInspector": {
   "cols": {
    "lenName": 16,
    "lenType": 16,
    "lenVar": 40
   },
   "kernels_config": {
    "python": {
     "delete_cmd_postfix": "",
     "delete_cmd_prefix": "del ",
     "library": "var_list.py",
     "varRefreshCmd": "print(var_dic_list())"
    },
    "r": {
     "delete_cmd_postfix": ") ",
     "delete_cmd_prefix": "rm(",
     "library": "var_list.r",
     "varRefreshCmd": "cat(var_dic_list()) "
    }
   },
   "position": {
    "height": "593px",
    "left": "889px",
    "right": "20px",
    "top": "315px",
    "width": "315px"
   },
   "types_to_exclude": [
    "module",
    "function",
    "builtin_function_or_method",
    "instance",
    "_Feature"
   ],
   "window_display": false
  }
 },
 "nbformat": 4,
 "nbformat_minor": 4
}
