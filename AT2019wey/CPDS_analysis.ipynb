{
 "cells": [
  {
   "cell_type": "code",
   "execution_count": 1,
   "metadata": {},
   "outputs": [
    {
     "name": "stderr",
     "output_type": "stream",
     "text": [
      "WARNING: DistributionNotFound error occurred in entry point sherpafitter. [astropy.modeling.fitting]\n",
      "WARNING:root:Warning! NetCDF is not available. Using pickle format.\n"
     ]
    }
   ],
   "source": [
    "%matplotlib widget\n",
    "%matplotlib inline\n",
    "import sys\n",
    "from sys import platform\n",
    "import matplotlib.pyplot as plt\n",
    "import matplotlib.animation as animation\n",
    "from matplotlib.ticker import ScalarFormatter\n",
    "import numpy as np\n",
    "import pickle\n",
    "import seaborn as sns\n",
    "import scipy\n",
    "import emcee\n",
    "import corner\n",
    "from IPython.display import display, Math\n",
    "from tqdm import tqdm\n",
    "from multiprocessing import Pool\n",
    "\n",
    "from astropy.io import fits, ascii\n",
    "from astropy.table import Table\n",
    "from astropy.modeling import functional_models, fitting\n",
    "\n",
    "import stingray.events as ev\n",
    "import stingray.lightcurve as lc\n",
    "from stingray import io\n",
    "import stingray.powerspectrum as powspec \n",
    "import stingray.crossspectrum as crossspec\n",
    "from hendrics.efsearch import dyn_folding_search, z_n_search, folding_search\n",
    "import stingray.gti as sting_gti\n",
    "import stingray.pulse.pulsar as plsr\n",
    "from stingray import stats\n",
    "\n",
    "\n",
    "sns.set_context('talk')\n",
    "# sns.set_style(\"whitegrid\")\n",
    "sns.set_palette(\"colorblind\")\n",
    "\n",
    "sys.path.insert(1, '/Users/sean/scripts/helpers')\n",
    "\n",
    "from stingray_plus import *\n",
    "\n",
    "def minimize_remainder(arr, min_div, max_div):\n",
    "    divisors = np.linspace(min_div, max_div, num=100)\n",
    "    remainders = []\n",
    "    for div in divisors:\n",
    "        remainders.append(np.sum(np.mod(arr, div)))\n",
    "        \n",
    "    return divisors[np.argmin(remainders)]\n",
    "\n",
    "def power_law(f, B, gamma):\n",
    "    return B*np.power(f,gamma)\n",
    "\n",
    "def Lorentzian(f, peakf, Q, A):\n",
    "    # gamma = HWHM\n",
    "    # peakf = centroid frequency\n",
    "    gamma = peakf/(2.0 * Q)\n",
    "    return (A * np.square(gamma)/(np.pi*gamma*(np.square(f-peakf) + np.square(gamma))))\n",
    "\n",
    "def Lorentzian_C(f, peakf, Q, A, C):\n",
    "    return Lorentzian(f, peakf, Q, A) + C\n",
    "\n",
    "def Lorentzian_power(f, peakf, Q, A, B, gamma):\n",
    "    return Lorentzian(f, peakf, Q, A) + power_law(f, B, gamma)\n",
    "\n",
    "def N_Lorentzian(f, *args):\n",
    "    N = int(len(args)/3)\n",
    "    peak_nu = args[:N]\n",
    "    Qs = args[N:N+N]\n",
    "    As = args[N+N:N+N+N]\n",
    "    model = np.zeros(np.shape(f))\n",
    "    for i in range(N):\n",
    "        model = model + Lorentzian(f, peak_nu[i], Qs[i], As[i])\n",
    "        \n",
    "    return model\n",
    "\n",
    "def N_Lorentzian_C(f, *args):\n",
    "    N = int((len(args)-1)/3)\n",
    "    peak_nu = args[:N]\n",
    "    Qs = args[N:N+N]\n",
    "    As = args[N+N:N+N+N]\n",
    "    C = args[-1]\n",
    "    model = C * np.ones(np.shape(f))\n",
    "    for i in range(N):\n",
    "        model = model + Lorentzian(f, peak_nu[i], Qs[i], As[i])\n",
    "        \n",
    "    return model\n",
    "\n",
    "def N_Lorentzian_power(f, *args):\n",
    "    N = int((len(args)-2)/3)\n",
    "    peak_nu = args[:N]\n",
    "    Qs = args[N:N+N]\n",
    "    As = args[N+N:N+N+N]\n",
    "    B, alpha = args[-2:]\n",
    "    model = power_law(f, B, alpha)\n",
    "    for i in range(N):\n",
    "        gamma = peak_nu[i]/(2.0 * Qs[i])\n",
    "        model = model + (As[i] * np.square(gamma)/(np.pi*gamma*(np.square(f-peak_nu[i]) + np.square(gamma))))\n",
    "        \n",
    "    return model\n",
    "\n",
    "def QPO_scan(cross_spec, f_min=1e-4, f_max=2000., f_bin=1000, n_lorentz = 1):\n",
    "    f_mask = (cross_spec.freq > f_min) * (cross_spec.freq < f_max)\n",
    "    freq_steps = np.logspace(np.log10(cross_spec.freq[f_mask][0]), np.log10(cross_spec.freq[f_mask][-1]), f_bin + 2)\n",
    "    xdata = cross_spec.freq[f_mask]\n",
    "    ydata = cross_spec.power[f_mask]\n",
    "    sigma = cross_spec.power_err[f_mask]\n",
    "    \n",
    "    pl_popt, pl_pcov = scipy.optimize.curve_fit(power_law, xdata, ydata, sigma = sigma, p0 = [10., -1.0], \\\n",
    "                                                bounds=np.array([(0.0, np.inf), (-np.inf, 0.0)]).T)\n",
    "    print(pl_popt)\n",
    "    chisq0 = np.sum(((ydata - power_law(xdata, *pl_popt)) / sigma) ** 2)\n",
    "    chisq = []\n",
    "    for i in tqdm(range(len(freq_steps[1:-1]))):\n",
    "        f = freq_steps[i+1]\n",
    "        popt, pcov = scipy.optimize.curve_fit(Lorentzian_power, xdata, ydata, sigma = sigma, p0 = [f, 2.0, 0.1, pl_popt[0], pl_popt[1]], \\\n",
    "                                              bounds=np.array([(f - (f-freq_steps[i])/2., f + (freq_steps[i+2] - f)/2.0), (1.0,np.inf), (0.0,np.inf), (0.0, np.inf), (-np.inf, 0.0)]).T)\n",
    "        chisq.append(np.sum(((ydata - Lorentzian_power(xdata, *popt)) / sigma) ** 2))\n",
    "    dof = len(xdata)-len(popt)\n",
    "    return freq_steps[1:-1], chisq0, np.array(chisq), dof\n",
    "\n",
    "\n",
    "\n",
    "def fit_peaks(xdata, ydata, sigma, nu_peak):\n",
    "    \n",
    "    popt_arr = []\n",
    "    pcov_arr = []\n",
    "\n",
    "    for i, p in enumerate(nu_peak):\n",
    "        f_bound = None\n",
    "        if len(nu_peak)==1:\n",
    "            f_bound = (np.min(xdata), np.max(xdata))\n",
    "        else:\n",
    "            if i == 0:\n",
    "                f_bound = (np.min(xdata), p + (nu_peak[i+1] - p)/2)\n",
    "            elif i==len(nu_peak)-1:\n",
    "                f_bound = (p + (nu_peak[i-1] - p)/2, np.max(xdata))\n",
    "            else:\n",
    "                f_bound = (p + (nu_peak[i-1] - p)/2, p + (nu_peak[i+1] - p)/2)\n",
    "\n",
    "        par_bounds = np.array([f_bound, (1.0,np.inf), (0, np.inf), (0, np.inf), (-np.inf, 0.0)]).T\n",
    "        p0 = [p, 5.0, 0.1, 0.02, -0.5]\n",
    "        popt, pcov = scipy.optimize.curve_fit(Lorentzian_power, xdata, ydata, sigma = sigma, p0 = p0, bounds = par_bounds)\n",
    "        popt_arr.append(popt)\n",
    "        pcov_arr.append(pcov)\n",
    "\n",
    "    popt_arr = np.array(popt_arr)\n",
    "    pcov_arr = np.array(pcov_arr)\n",
    "\n",
    "    return popt_arr, pcov_arr\n",
    "\n",
    "def get_rms(events, centroids, radius, PI_min=35, PI_max=1210, nu_min=1e-4, nu_max=100., split_time=512, bin_time = 1/1024, plot = False):\n",
    "    \n",
    "    curve_A = events[0].to_lc(dt = bin_time, pi_low=PI_min, pi_high=PI_max, centroid = centroids[0], radius = radius)\n",
    "    curve_B = events[1].to_lc(dt = bin_time, pi_low=PI_min, pi_high=PI_max, centroid = centroids[1], radius = radius)\n",
    "    \n",
    "    average_CPDS = crossspec.AveragedCrossspectrum(curve_A, curve_B, segment_size=split_time, norm = 'frac')\n",
    "    \n",
    "    if plot:\n",
    "        f_res = 0.1\n",
    "        plt.figure(figsize=(9,6))\n",
    "        averaged_cross_log = average_CPDS.rebin_log(f=f_res)\n",
    "        averaged_cross_log_err = average_CPDS.df*np.power(1.+f_res, range(len(averaged_cross_log.freq)))/2.\n",
    "        plt.errorbar(averaged_cross_log.freq, averaged_cross_log.power*averaged_cross_log.freq, xerr=averaged_cross_log_err, yerr=averaged_cross_log.power_err*averaged_cross_log.freq, fmt='none', lw=0.5)\n",
    "        plt.xscale('log')\n",
    "        plt.ylim((1e-4,5*np.max(averaged_cross_log.power.real)))\n",
    "        plt.yscale('log')\n",
    "        plt.xlabel('Frequency (Hz)')\n",
    "        plt.ylabel('Leahy Power')\n",
    "        plt.ylabel(r'$\\mathrm{\\nu P_{\\nu}\\ (rms/mean)^{2}}$')\n",
    "        plt.tight_layout()\n",
    "        plt.show()\n",
    "#         plt.savefig(plot_dir + 'averaged_cross_spectrum_' + str(int(split_time)) + 's.pdf')\n",
    "        plt.close()\n",
    "    \n",
    "    rms_square = np.sum(average_CPDS.power[(average_CPDS.freq > nu_min) * (average_CPDS.freq < nu_max)])*average_CPDS.df\n",
    "    rms_square_err = np.sqrt(np.sum(np.square(average_CPDS.power_err[(average_CPDS.freq > nu_min) * (average_CPDS.freq < nu_max)])))*average_CPDS.df\n",
    "    \n",
    "    if rms_square < 0.0:\n",
    "        uplim = True\n",
    "        rms = np.sqrt(rms_square + 2.6*rms_square_err)\n",
    "    else:\n",
    "        uplim = False\n",
    "        rms = np.sqrt(rms_square)\n",
    "        \n",
    "    rms_err = np.sqrt(np.sum(np.square(average_CPDS.power_err[(average_CPDS.freq > nu_min) * (average_CPDS.freq < nu_max)])))*average_CPDS.df/(2*rms)\n",
    "\n",
    "    return rms, rms_err, uplim\n",
    "\n",
    "def model_continuum_noise(cpds, plot=True, plot_dir='/Users/sean/Desktop/', f_res = 0.5, text=''):\n",
    "    n_L = 0\n",
    "    L_args = []\n",
    "    L_bounds = []\n",
    "    chisq0 = np.sum(((cpds.power-np.mean(cpds.power))/ cpds.power_err) ** 2)\n",
    "    chisq = []\n",
    "    popt_list = []\n",
    "    pcov_list = []\n",
    "    del_chisq = -100000\n",
    "    while del_chisq < 0.0:\n",
    "        n_L += 1\n",
    "        if n_L ==1:\n",
    "            L_args = np.array([1.0, 0.1, 10.])\n",
    "            L_bounds = np.array([[[0.0, np.max(cpds.freq)], [0.0, 2.0], [0,np.inf]]])\n",
    "        else:\n",
    "            L_args = np.vstack((L_args, [1.0, 0.1, 10.]))\n",
    "            L_bounds = np.concatenate((L_bounds, [[(0.0, np.max(cpds.freq)), (0.0, 10.0), (0,np.inf)]]))\n",
    "        \n",
    "#         temp_p0 = np.concatenate((L_args.T.flatten(), [0.0]))\n",
    "#         temp_bounds = [np.concatenate((L_bounds.T.flatten()[:3*n_L], )), np.concatenate((L_bounds.T.flatten()[3*n_L:], [np.inf]))]\n",
    "        \n",
    "        temp_p0 = L_args.T.flatten()\n",
    "        temp_bounds = [L_bounds.T.flatten()[:3*n_L], L_bounds.T.flatten()[3*n_L:]]\n",
    "        \n",
    "        popt, pcov = scipy.optimize.curve_fit(N_Lorentzian, cpds.freq, cpds.power, sigma = cpds.power_err, \\\n",
    "                                              p0 = temp_p0, bounds= temp_bounds)\n",
    "        temp_chisq = np.sum(((cpds.power - N_Lorentzian(cpds.freq, *popt)) / cpds.power_err) ** 2)\n",
    "        \n",
    "        if n_L==1:\n",
    "            del_chisq = temp_chisq-chisq0\n",
    "        else:\n",
    "            del_chisq = temp_chisq-chisq[-1]\n",
    "        chisq.append(temp_chisq)\n",
    "        popt_list.append(popt)\n",
    "        pcov_list.append(pcov)\n",
    "        \n",
    "        L_args = np.array([popt[:n_L], popt[n_L:n_L + n_L], popt[n_L+n_L:n_L+n_L+n_L]]).T\n",
    "\n",
    "        if plot:\n",
    "            cpds_log = cpds.rebin_log(f=f_res)\n",
    "            temp_err = cpds.df*np.power(1.+f_res, range(len(cpds_log.freq)))/2.\n",
    "\n",
    "            plt.figure(figsize=(9,6))\n",
    "            plt.errorbar(cpds_log.freq, cpds_log.power*cpds_log.freq, xerr=temp_err, \\\n",
    "                         yerr=cpds_log.power_err*cpds_log.freq, fmt='none', lw=0.5, color='black')\n",
    "            plt.step(np.concatenate([cpds_log.freq-temp_err, [cpds_log.freq[-1]+temp_err[-1]]]), \\\n",
    "                     np.concatenate([cpds_log.power*cpds_log.freq, [(cpds_log.power*cpds_log.freq)[-1]]]), where='post', color='black', lw=0.5)\n",
    "            \n",
    "            for i in range(n_L):\n",
    "                plt.plot(cpds.freq, Lorentzian(cpds.freq, *((L_args[i])))*cpds.freq, color='red', ls='dotted', lw=1.0)\n",
    "            plt.plot(cpds.freq,N_Lorentzian(cpds.freq, *popt)*cpds.freq, color='red', lw=1.0)\n",
    "            plt.xscale('log')\n",
    "            plt.ylim((1e-4,1))\n",
    "            plt.yscale('log')\n",
    "            plt.xlabel('Frequency (Hz)')\n",
    "            plt.ylabel(r'$\\mathrm{\\nu P_{\\nu}\\ (rms/mean)^{2}}$')\n",
    "            plt.text(2e-3, 0.3, text, fontsize=20)\n",
    "            plt.tight_layout()\n",
    "            plt.savefig(plot_dir + 'CPDS_nuPnu_continuum_' + str(int(n_L)) + '_comps.pdf')\n",
    "            plt.close()\n",
    "            \n",
    "            plt.figure(figsize=(9,6))\n",
    "            plt.errorbar(cpds_log.freq, cpds_log.power, xerr=temp_err, \\\n",
    "                         yerr=cpds_log.power_err, fmt='none', lw=0.5, color='black')\n",
    "            plt.step(np.concatenate([cpds_log.freq-temp_err, [cpds_log.freq[-1]+temp_err[-1]]]), \\\n",
    "                     np.concatenate([cpds_log.power, [cpds_log.power[-1]]]), where='post', color='black', lw=0.5)\n",
    "\n",
    "            for i in range(n_L):\n",
    "                plt.plot(cpds.freq, Lorentzian(cpds.freq, *((L_args[i]))), color='red', ls='dotted', lw=1.0)\n",
    "            plt.plot(cpds.freq,N_Lorentzian(cpds.freq, *popt), color='red', lw=1.0)\n",
    "            plt.xscale('log')\n",
    "            plt.ylim((1e-4,1))\n",
    "            plt.yscale('log')\n",
    "            plt.xlabel('Frequency (Hz)')\n",
    "            plt.ylabel(r'$\\mathrm{Power\\ (rms/mean)^{2}/Hz}$')\n",
    "            plt.text(2e-3, 0.3, text, fontsize=20)\n",
    "            plt.tight_layout()\n",
    "            plt.savefig(plot_dir + 'CPDS_Pnu_continuum_' + str(int(n_L)) + '_comps.pdf')\n",
    "            plt.close()\n",
    "    \n",
    "    return n_L, popt_list, pcov_list, chisq0, chisq\n",
    "\n",
    "\n",
    "\n"
   ]
  },
  {
   "cell_type": "markdown",
   "metadata": {},
   "source": [
    "## Epoch 1 (OBS 002)"
   ]
  },
  {
   "cell_type": "code",
   "execution_count": 2,
   "metadata": {},
   "outputs": [
    {
     "name": "stdout",
     "output_type": "stream",
     "text": [
      "Working on Macbook\n"
     ]
    }
   ],
   "source": [
    "OBSID = '90601315002'\n",
    "\n",
    "if platform=='linux' or platform=='linux2':\n",
    "    print('Working on SRL server')\n",
    "    root_dir = '/disk/lif2/spike/AT2019wey/'\n",
    "elif platform=='darwin':\n",
    "    print('Working on Macbook')\n",
    "    root_dir = '/Volumes/Samsung_1TB/AstroData/AT2019wey/'\n",
    "\n",
    "products_dir = root_dir + OBSID + '_products/'\n",
    "timing_dir = root_dir + OBSID + '_timing_products/'\n",
    "plot_dir = root_dir + 'figures/' + OBSID + '/'\n"
   ]
  },
  {
   "cell_type": "code",
   "execution_count": 3,
   "metadata": {
    "scrolled": true
   },
   "outputs": [
    {
     "name": "stderr",
     "output_type": "stream",
     "text": [
      "WARNING:root:Computing the bin time ``dt``. This can take time. If you know the bin time, please specify it at light curve creation\n",
      "WARNING:root:Computing the bin time ``dt``. This can take time. If you know the bin time, please specify it at light curve creation\n"
     ]
    }
   ],
   "source": [
    "plt.ion()\n",
    "PI_min = 35     # 3.0 keV\n",
    "# PI_min = 260     # 12.0 keV\n",
    "# PI_max = 960   # 40.0 keV\n",
    "PI_max = 1909   # 78.0 keV\n",
    "events = extract_events(timing_dir + 'nu' + OBSID + 'A01_cl_barycorr.evt', \\\n",
    "            timing_dir + 'nu' + OBSID + 'B01_cl_barycorr.evt')\n",
    "\n",
    "centroid_A = [491.47526,554.84267]\n",
    "centroid_B = [496.30398,552.47484]\n",
    "extraction_radius = 24.409024 # 60 arcsec\n",
    "\n",
    "plt.ion()\n",
    "\n",
    "curve_A = bkg_subtract(nuproducts_to_stingray_lc(products_dir + 'nu' + OBSID + 'A01_sr.lc'), nuproducts_to_stingray_lc(products_dir + 'nu' + OBSID + 'A01_bk.lc'))\n",
    "curve_B = bkg_subtract(nuproducts_to_stingray_lc(products_dir + 'nu' + OBSID + 'B01_sr.lc'), nuproducts_to_stingray_lc(products_dir + 'nu' + OBSID + 'B01_bk.lc'))\n",
    "curve_total = sum_lc(curve_A, curve_B)\n",
    "curve_10s = curve_total.rebin(dt_new=10)\n",
    "\n",
    "t_start = np.min(curve_total.time)\n",
    "\n",
    "# plt.figure(figsize = (9,6))\n",
    "# plt.errorbar(curve_10s.time-t_start, curve_10s.countrate, xerr=curve_10s.dt/2., yerr=curve_10s.countrate_err, fmt='none', lw = 0.5)\n",
    "# plt.xlabel('Time (s)')\n",
    "# plt.ylabel('NuSTAR count rate')\n",
    "# plt.tight_layout()\n",
    "# plt.show()\n",
    "# plt.close()\n",
    "\n"
   ]
  },
  {
   "cell_type": "code",
   "execution_count": 4,
   "metadata": {
    "scrolled": true
   },
   "outputs": [
    {
     "name": "stderr",
     "output_type": "stream",
     "text": [
      "/Users/sean/anaconda/lib/python3.6/site-packages/stingray/utils.py:118: UserWarning: SIMON says: Errorbars on cross spectra are not thoroughly tested. Please report any inconsistencies.\n",
      "  warnings.warn(\"SIMON says: {0}\".format(message), **kwargs)\n",
      "150it [00:09, 16.21it/s]\n",
      "150it [00:08, 17.73it/s]\n",
      "150it [00:08, 17.62it/s]\n"
     ]
    }
   ],
   "source": [
    "bin_time = 1/512\n",
    "split_time = 256\n",
    "\n",
    "curve_A = events[0].to_lc(dt = bin_time, pi_low=PI_min, pi_high=PI_max, centroid = centroid_A, radius = extraction_radius)\n",
    "curve_B = events[1].to_lc(dt = bin_time, pi_low=PI_min, pi_high=PI_max, centroid = centroid_B, radius = extraction_radius)\n",
    "\n",
    "averaged_cross = crossspec.AveragedCrossspectrum(curve_A, curve_B, segment_size=split_time, norm = 'frac')\n"
   ]
  },
  {
   "cell_type": "code",
   "execution_count": 5,
   "metadata": {},
   "outputs": [],
   "source": [
    "f_res = 0.5\n",
    "averaged_cross_log = averaged_cross.rebin_log(f=f_res)\n",
    "averaged_cross_log_err = averaged_cross.df*np.power(1.+f_res, range(len(averaged_cross_log.freq)))/2.\n",
    "\n",
    "plt.figure(figsize=(9,6))\n",
    "plt.errorbar(averaged_cross_log.freq, averaged_cross_log.power*averaged_cross_log.freq, xerr=averaged_cross_log_err, yerr=averaged_cross_log.power_err*averaged_cross_log.freq, fmt='none', color='black', lw=0.5)\n",
    "plt.step(np.concatenate([averaged_cross_log.freq-averaged_cross_log_err, [averaged_cross_log.freq[-1]+averaged_cross_log_err[-1]]]), \\\n",
    "         np.concatenate([averaged_cross_log.power*averaged_cross_log.freq, [(averaged_cross_log.power*averaged_cross_log.freq)[-1]]]), where='post', color='black', lw=0.5)\n",
    "plt.xscale('log')\n",
    "plt.ylim((1e-4,1))\n",
    "plt.yscale('log')\n",
    "plt.xlabel('Frequency (Hz)')\n",
    "plt.ylabel(r'$\\mathrm{\\nu P_{\\nu}\\ (rms/mean)^{2}}$')\n",
    "plt.text(2e-3, 0.3, 'Obs 002', fontsize=20)\n",
    "plt.tight_layout()\n",
    "# plt.show()\n",
    "plt.savefig(plot_dir + 'CPDS_nuPnu_' + str(int(split_time)) + 's.pdf')\n",
    "plt.close()\n",
    "\n",
    "plt.figure(figsize=(9,6))\n",
    "plt.errorbar(averaged_cross_log.freq, averaged_cross_log.power, xerr=averaged_cross_log_err, yerr=averaged_cross_log.power_err, fmt='none', color='black', lw=0.5)\n",
    "plt.step(np.concatenate([averaged_cross_log.freq-averaged_cross_log_err, [averaged_cross_log.freq[-1]+averaged_cross_log_err[-1]]]), \\\n",
    "         np.concatenate([averaged_cross_log.power, [averaged_cross_log.power[-1]]]), where='post', color='black', lw=0.5)\n",
    "plt.xscale('log')\n",
    "plt.ylim((1e-4,1))\n",
    "plt.yscale('log')\n",
    "plt.xlabel('Frequency (Hz)')\n",
    "plt.ylabel(r'$\\mathrm{Power\\ (rms/mean)^{2}/Hz}$')\n",
    "plt.text(2e-3, 0.3, 'Obs 002', fontsize=20)\n",
    "plt.tight_layout()\n",
    "# plt.show()\n",
    "plt.savefig(plot_dir + 'CPDS_Pnu_' + str(int(split_time)) + 's.pdf')\n",
    "plt.close()"
   ]
  },
  {
   "cell_type": "markdown",
   "metadata": {},
   "source": [
    "# Model continuum"
   ]
  },
  {
   "cell_type": "code",
   "execution_count": 6,
   "metadata": {},
   "outputs": [
    {
     "data": {
      "image/png": "[encoded data removed]",
      "text/plain": [
       "<Figure size 648x432 with 1 Axes>"
      ]
     },
     "metadata": {
      "needs_background": "light"
     },
     "output_type": "display_data"
    }
   ],
   "source": [
    "n_L, popt_list, pcov_list, chisq0, chisq = model_continuum_noise(averaged_cross, plot=True, plot_dir=plot_dir, f_res=f_res, text='Obs 002')\n",
    "\n",
    "del_chisq = np.array(chisq) - chisq0\n",
    "\n",
    "plt.figure(figsize=(9,6))\n",
    "plt.plot(np.array(range(n_L)) + 1, -del_chisq)\n",
    "plt.xlabel('N_Lorentzians')\n",
    "plt.ylabel(r'$\\Delta\\chi^{2}$')\n",
    "# plt.yscale('log')\n",
    "plt.tight_layout()\n",
    "plt.show()\n",
    "plt.close()\n"
   ]
  },
  {
   "cell_type": "code",
   "execution_count": 7,
   "metadata": {},
   "outputs": [
    {
     "name": "stdout",
     "output_type": "stream",
     "text": [
      "0.048084795706075746\n",
      "37.24445491291661\n",
      "0.0002783886148534383\n",
      "0.15244711076699086\n",
      "0.5426991343385261\n",
      "0.04863476511733314\n"
     ]
    }
   ],
   "source": [
    "best_popt_i = 0\n",
    "# print(popt_list[best_popt_i])\n",
    "# print(np.sqrt(np.diag(pcov_list[best_popt_i])))\n",
    "\n",
    "nu_0 = popt_list[best_popt_i][0]\n",
    "Q = popt_list[best_popt_i][1]\n",
    "A = popt_list[best_popt_i][2]\n",
    "\n",
    "nu_0_err = np.sqrt(np.diag(pcov_list[best_popt_i]))[0]\n",
    "Q_err = np.sqrt(np.diag(pcov_list[best_popt_i]))[1]\n",
    "A_err = np.sqrt(np.diag(pcov_list[best_popt_i]))[2]\n",
    "\n",
    "nu_max = nu_0*np.sqrt(1+(1/(4*np.square(Q))))\n",
    "nu_max_err = np.sqrt(np.square(nu_max*nu_0_err/nu_0) + np.square(np.square(nu_0)*Q_err/(4*nu_max*np.power(Q, 3))))\n",
    "\n",
    "rms = np.sqrt(A)\n",
    "rms_err = A_err/(2*np.sqrt(A))\n",
    "\n",
    "print(nu_max)\n",
    "print(nu_max_err)\n",
    "print(Q)\n",
    "print(Q_err)\n",
    "print(rms)\n",
    "print(rms_err)"
   ]
  },
  {
   "cell_type": "markdown",
   "metadata": {},
   "source": [
    "# RMS-Energy relation"
   ]
  },
  {
   "cell_type": "code",
   "execution_count": 8,
   "metadata": {
    "scrolled": true
   },
   "outputs": [
    {
     "name": "stdout",
     "output_type": "stream",
     "text": [
      "[35. 85.]\n"
     ]
    },
    {
     "name": "stderr",
     "output_type": "stream",
     "text": [
      "/Users/sean/anaconda/lib/python3.6/site-packages/stingray/utils.py:118: UserWarning: SIMON says: Errorbars on cross spectra are not thoroughly tested. Please report any inconsistencies.\n",
      "  warnings.warn(\"SIMON says: {0}\".format(message), **kwargs)\n",
      "150it [00:09, 15.41it/s]\n",
      "150it [00:08, 18.32it/s]\n",
      "150it [00:08, 18.31it/s]\n"
     ]
    },
    {
     "name": "stdout",
     "output_type": "stream",
     "text": [
      "[ 85. 160.]\n"
     ]
    },
    {
     "name": "stderr",
     "output_type": "stream",
     "text": [
      "150it [00:08, 17.20it/s]\n",
      "150it [00:07, 19.59it/s]\n",
      "150it [00:08, 17.35it/s]\n"
     ]
    },
    {
     "name": "stdout",
     "output_type": "stream",
     "text": [
      "[160. 335.]\n"
     ]
    },
    {
     "name": "stderr",
     "output_type": "stream",
     "text": [
      "150it [00:08, 16.81it/s]\n",
      "150it [00:07, 20.64it/s]\n",
      "150it [00:07, 19.48it/s]\n"
     ]
    },
    {
     "name": "stdout",
     "output_type": "stream",
     "text": [
      "[ 335. 1210.]\n"
     ]
    },
    {
     "name": "stderr",
     "output_type": "stream",
     "text": [
      "150it [00:08, 17.13it/s]\n",
      "150it [00:07, 20.13it/s]\n",
      "150it [00:07, 19.86it/s]\n"
     ]
    }
   ],
   "source": [
    "keV_list = np.array([[3.0, 5.0], [5.0, 8.0], [8.0, 15.0], [15.0, 50.0]])\n",
    "PI_list = eV_to_PI(keV_list*1000)\n",
    "rms_list = []\n",
    "rms_err_list = []\n",
    "uplim_list = []\n",
    "\n",
    "for x in PI_list:\n",
    "    print(x)\n",
    "    rms, rms_err, uplim = get_rms(events, [centroid_A, centroid_B], extraction_radius, PI_min=x[0], PI_max=x[1], nu_min=1e-4, nu_max=1., split_time=split_time, bin_time = bin_time, plot = False)\n",
    "    rms_list.append(rms*100)\n",
    "    rms_err_list.append(rms_err*100)\n",
    "    uplim_list.append(uplim)\n",
    "    \n",
    "\n",
    "\n",
    "\n"
   ]
  },
  {
   "cell_type": "code",
   "execution_count": 9,
   "metadata": {},
   "outputs": [
    {
     "name": "stdout",
     "output_type": "stream",
     "text": [
      "[False, False, False, False]\n"
     ]
    }
   ],
   "source": [
    "print(uplim_list)\n",
    "fig, ax = plt.subplots(figsize=(9,6))\n",
    "ax.errorbar((keV_list.T[0]+keV_list.T[1])/2, rms_list, xerr = (keV_list.T[0]-keV_list.T[1])/2, yerr = rms_err_list, fmt='none', lw=1.0, uplims=uplim_list)\n",
    "ax.set_xscale('log')\n",
    "# plt.yscale('log')\n",
    "ax.set_ylabel(r'$\\mathrm{rms\\ (\\%)}$')\n",
    "ax.set_xlabel('Energy (keV)')\n",
    "ax.set_xticks([3, 4, 5, 6, 7, 8,9, 20, 30, 40, 50], minor=True)\n",
    "ax.set_xticks([10], minor=False)\n",
    "ax.set_xticklabels(['3','','','','','','','','','','50'], minor=True)\n",
    "ax.set_xticklabels(['10'], minor=False)\n",
    "ax.text(3, 22, 'Obs 002', fontsize=20)\n",
    "plt.tight_layout()\n",
    "plt.savefig(plot_dir + 'rms_E.pdf')\n",
    "plt.close()"
   ]
  },
  {
   "cell_type": "markdown",
   "metadata": {},
   "source": [
    "## Epoch 2 (OBS 004)"
   ]
  },
  {
   "cell_type": "code",
   "execution_count": 10,
   "metadata": {},
   "outputs": [
    {
     "name": "stdout",
     "output_type": "stream",
     "text": [
      "Working on Macbook\n"
     ]
    }
   ],
   "source": [
    "OBSID = '90601315004'\n",
    "\n",
    "if platform=='linux' or platform=='linux2':\n",
    "    print('Working on SRL server')\n",
    "    root_dir = '/disk/lif2/spike/AT2019wey/'\n",
    "elif platform=='darwin':\n",
    "    print('Working on Macbook')\n",
    "    root_dir = '/Volumes/Samsung_1TB/AstroData/AT2019wey/'\n",
    "\n",
    "products_dir = root_dir + OBSID + '_products/'\n",
    "timing_dir = root_dir + OBSID + '_timing_products/'\n",
    "plot_dir = root_dir + 'figures/' + OBSID + '/'\n"
   ]
  },
  {
   "cell_type": "code",
   "execution_count": 11,
   "metadata": {
    "scrolled": true
   },
   "outputs": [
    {
     "name": "stderr",
     "output_type": "stream",
     "text": [
      "WARNING:root:Computing the bin time ``dt``. This can take time. If you know the bin time, please specify it at light curve creation\n",
      "WARNING:root:Computing the bin time ``dt``. This can take time. If you know the bin time, please specify it at light curve creation\n"
     ]
    }
   ],
   "source": [
    "plt.ion()\n",
    "PI_min = 35     # 3.0 keV\n",
    "# PI_min = 260     # 12.0 keV\n",
    "# PI_max = 960   # 40.0 keV\n",
    "PI_max = 1909   # 78.0 keV\n",
    "events = extract_events(timing_dir + 'nu' + OBSID + 'A01_cl_barycorr.evt', \\\n",
    "            timing_dir + 'nu' + OBSID + 'B01_cl_barycorr.evt')\n",
    "\n",
    "centroid_A = [560.96935,443.25762]\n",
    "centroid_B = [554.85014,441.98391]\n",
    "extraction_radius = 36.613536 # 90 arsec\n",
    "\n",
    "plt.ion()\n",
    "\n",
    "curveA = bkg_subtract(nuproducts_to_stingray_lc(products_dir + 'nu' + OBSID + 'A01_sr.lc'), nuproducts_to_stingray_lc(products_dir + 'nu' + OBSID + 'A01_bk.lc'))\n",
    "curveB = bkg_subtract(nuproducts_to_stingray_lc(products_dir + 'nu' + OBSID + 'B01_sr.lc'), nuproducts_to_stingray_lc(products_dir + 'nu' + OBSID + 'B01_bk.lc'))\n",
    "curve_total = sum_lc(curveA, curveB)\n",
    "curve_10s = curve_total.rebin(dt_new=10)\n",
    "\n",
    "t_start = np.min(curve_total.time)\n",
    "\n",
    "# plt.figure(figsize = (9,6))\n",
    "# plt.errorbar(curve_10s.time-t_start, curve_10s.countrate, xerr=curve_10s.dt/2., yerr=curve_10s.countrate_err, fmt='none', lw = 0.5)\n",
    "# plt.xlabel('Time (s)')\n",
    "# plt.ylabel('NuSTAR count rate')\n",
    "# plt.tight_layout()\n",
    "# plt.show()\n",
    "# plt.close()\n",
    "\n"
   ]
  },
  {
   "cell_type": "code",
   "execution_count": 12,
   "metadata": {
    "scrolled": true
   },
   "outputs": [
    {
     "name": "stderr",
     "output_type": "stream",
     "text": [
      "/Users/sean/anaconda/lib/python3.6/site-packages/stingray/utils.py:118: UserWarning: SIMON says: Errorbars on cross spectra are not thoroughly tested. Please report any inconsistencies.\n",
      "  warnings.warn(\"SIMON says: {0}\".format(message), **kwargs)\n",
      "173it [00:10, 16.90it/s]\n",
      "173it [00:08, 20.34it/s]\n",
      "173it [00:09, 17.30it/s]\n"
     ]
    }
   ],
   "source": [
    "bin_time = 1/512\n",
    "split_time = 256\n",
    "\n",
    "curve_A = events[0].to_lc(dt = bin_time, pi_low=PI_min, pi_high=PI_max, centroid = centroid_A, radius = extraction_radius)\n",
    "curve_B = events[1].to_lc(dt = bin_time, pi_low=PI_min, pi_high=PI_max, centroid = centroid_B, radius = extraction_radius)\n",
    "\n",
    "averaged_cross = crossspec.AveragedCrossspectrum(curve_A, curve_B, segment_size=split_time, norm = 'frac')\n",
    "\n"
   ]
  },
  {
   "cell_type": "code",
   "execution_count": 14,
   "metadata": {},
   "outputs": [],
   "source": [
    "f_res = 0.25\n",
    "averaged_cross_log = averaged_cross.rebin_log(f=f_res)\n",
    "averaged_cross_log_err = averaged_cross.df*np.power(1.+f_res, range(len(averaged_cross_log.freq)))/2.\n",
    "\n",
    "plt.figure(figsize=(9,6))\n",
    "plt.errorbar(averaged_cross_log.freq, averaged_cross_log.power*averaged_cross_log.freq, xerr=averaged_cross_log_err, yerr=averaged_cross_log.power_err*averaged_cross_log.freq, fmt='none', color='black', lw=0.5)\n",
    "plt.step(np.concatenate([averaged_cross_log.freq-averaged_cross_log_err, [averaged_cross_log.freq[-1]+averaged_cross_log_err[-1]]]), \\\n",
    "         np.concatenate([averaged_cross_log.power*averaged_cross_log.freq, [(averaged_cross_log.power*averaged_cross_log.freq)[-1]]]), where='post', color='black', lw=0.5)\n",
    "plt.xscale('log')\n",
    "plt.ylim((1e-4,1))\n",
    "plt.yscale('log')\n",
    "plt.xlabel('Frequency (Hz)')\n",
    "plt.ylabel(r'$\\mathrm{\\nu P_{\\nu}\\ (rms/mean)^{2}}$')\n",
    "plt.text(2e-3, 0.3, 'Obs 004', fontsize=20)\n",
    "plt.tight_layout()\n",
    "# plt.show()\n",
    "plt.savefig(plot_dir + 'CPDS_nuPnu_' + str(int(split_time)) + 's.pdf')\n",
    "plt.close()\n",
    "\n",
    "plt.figure(figsize=(9,6))\n",
    "plt.errorbar(averaged_cross_log.freq, averaged_cross_log.power, xerr=averaged_cross_log_err, yerr=averaged_cross_log.power_err, fmt='none', color='black', lw=0.5)\n",
    "plt.step(np.concatenate([averaged_cross_log.freq-averaged_cross_log_err, [averaged_cross_log.freq[-1]+averaged_cross_log_err[-1]]]), \\\n",
    "         np.concatenate([averaged_cross_log.power, [averaged_cross_log.power[-1]]]), where='post', color='black', lw=0.5)\n",
    "plt.xscale('log')\n",
    "plt.ylim((1e-4,1))\n",
    "plt.yscale('log')\n",
    "plt.xlabel('Frequency (Hz)')\n",
    "plt.ylabel(r'$\\mathrm{Power\\ (rms/mean)^{2}/Hz}$')\n",
    "plt.text(2e-3, 0.3, 'Obs 004', fontsize=20)\n",
    "plt.tight_layout()\n",
    "# plt.show()\n",
    "plt.savefig(plot_dir + 'CPDS_Pnu_' + str(int(split_time)) + 's.pdf')\n",
    "plt.close()"
   ]
  },
  {
   "cell_type": "markdown",
   "metadata": {},
   "source": [
    "# Model continuum"
   ]
  },
  {
   "cell_type": "code",
   "execution_count": 15,
   "metadata": {},
   "outputs": [
    {
     "data": {
      "image/png": "[encoded data removed]",
      "text/plain": [
       "<Figure size 648x432 with 1 Axes>"
      ]
     },
     "metadata": {
      "needs_background": "light"
     },
     "output_type": "display_data"
    }
   ],
   "source": [
    "n_L, popt_list, pcov_list, chisq0, chisq = model_continuum_noise(averaged_cross, plot=True, plot_dir=plot_dir, f_res = f_res, text='Obs 004')\n",
    "\n",
    "del_chisq = np.array(chisq) - chisq0\n",
    "\n",
    "plt.figure(figsize=(9,6))\n",
    "plt.plot(np.array(range(n_L)) + 1, -del_chisq)\n",
    "plt.xlabel('N_Lorentzians')\n",
    "plt.ylabel(r'$\\Delta\\chi^{2}$')\n",
    "# plt.yscale('log')\n",
    "plt.tight_layout()\n",
    "plt.show()\n",
    "plt.close()\n"
   ]
  },
  {
   "cell_type": "code",
   "execution_count": 16,
   "metadata": {},
   "outputs": [
    {
     "name": "stdout",
     "output_type": "stream",
     "text": [
      "1.011885668822235\n",
      "0.9619575752971571\n",
      "[5.32227312e-05 2.62398943e+00 5.03989356e-05 4.54241636e-01\n",
      " 9.76368534e-02 3.13199295e-02]\n",
      "[[ 1.82315891e-04  1.05092535e-02  1.72561554e-04  2.51069983e-03\n",
      "   1.07296230e-04 -1.40603689e-04]\n",
      " [ 1.05092535e-02  1.36000705e+00  9.94517516e-03  3.53923597e-01\n",
      "   1.06050046e-02 -1.56238260e-02]\n",
      " [ 1.72561554e-04  9.94517516e-03  1.63329106e-04  2.37588722e-03\n",
      "   1.01539282e-04 -1.33059087e-04]\n",
      " [ 2.51069983e-03  3.53923597e-01  2.37588722e-03  1.04802091e-01\n",
      "   2.72817459e-03 -4.54066460e-03]\n",
      " [ 1.07296230e-04  1.06050046e-02  1.01539282e-04  2.72817459e-03\n",
      "   1.00032010e-04 -1.36399641e-04]\n",
      " [-1.40603689e-04 -1.56238260e-02 -1.33059087e-04 -4.54066460e-03\n",
      "  -1.36399641e-04  2.22225317e-04]]\n"
     ]
    }
   ],
   "source": [
    "best_fit_i = 1\n",
    "best_popt = popt_list[best_fit_i]\n",
    "best_pcov = pcov_list[best_fit_i]\n",
    "best_chisq = chisq[best_fit_i]\n",
    "\n",
    "dof = len(averaged_cross.power)-len(best_popt)\n",
    "\n",
    "print(chisq0/(len(averaged_cross.power)-1))\n",
    "print(best_chisq/dof)\n",
    "\n",
    "print(best_popt)\n",
    "print(best_pcov)"
   ]
  },
  {
   "cell_type": "markdown",
   "metadata": {},
   "source": [
    "## Add 2Hz feature"
   ]
  },
  {
   "cell_type": "code",
   "execution_count": 17,
   "metadata": {},
   "outputs": [
    {
     "name": "stdout",
     "output_type": "stream",
     "text": [
      "[0.13317115 5.03227411 2.29033481 0.14852152 0.9293639  2.59074951\n",
      " 0.07955088 0.01852792 0.0089863 ]\n",
      "[0.02436549 1.03209328 0.08577301 0.03479797 0.57565236 1.00727879\n",
      " 0.00526361 0.00826144 0.00353709]\n",
      "-30.149140789959347\n",
      "0.9615415073536833\n",
      "\n",
      "\n",
      "0.4676834868762762\n",
      "0.13213974791752983\n",
      "0.14852152078782793\n",
      "0.03479797459845486\n",
      "0.28204765493706335\n",
      "0.009331073811457117\n",
      "\n",
      "\n",
      "5.714338517807207\n",
      "1.4159109490588222\n",
      "0.9293639041086372\n",
      "0.5756523588927467\n",
      "0.1361173106851399\n",
      "0.030346763274859336\n",
      "\n",
      "\n",
      "2.332598701955284\n",
      "0.09322881466199759\n",
      "2.5907495050890224\n",
      "1.0072787888306034\n",
      "0.09479608844984662\n",
      "0.018656318548678212\n",
      "\n",
      "\n"
     ]
    }
   ],
   "source": [
    "temp_p0 = np.concatenate([best_popt[:(best_fit_i+1)], [2.0], best_popt[(best_fit_i+1):(best_fit_i+1)*2], [10.], \\\n",
    "                          best_popt[(best_fit_i+1)*2:(best_fit_i+1)*3], [1e-2]])\n",
    "# print(temp_p0)\n",
    "\n",
    "popt, pcov = scipy.optimize.curve_fit(N_Lorentzian, averaged_cross.freq, averaged_cross.power, sigma = averaged_cross.power_err, p0 = temp_p0)\n",
    "\n",
    "print(popt)\n",
    "print(np.sqrt(np.diag(pcov)))\n",
    "print(np.sum(((averaged_cross.power - N_Lorentzian(averaged_cross.freq, *popt)) / averaged_cross.power_err) ** 2) - best_chisq)\n",
    "print(np.sum(((averaged_cross.power - N_Lorentzian(averaged_cross.freq, *popt)) / averaged_cross.power_err) ** 2)/(len(averaged_cross.power) - len(popt)))\n",
    "print('\\n')\n",
    "\n",
    "for i in range(int(len(popt)/3)):\n",
    "    nu_0 = popt[i]\n",
    "    Q = popt[3 + i]\n",
    "    A = popt[6 + i]\n",
    "\n",
    "    nu_0_err = np.sqrt(np.diag(pcov))[i]\n",
    "    Q_err = np.sqrt(np.diag(pcov))[3 + i]\n",
    "    A_err = np.sqrt(np.diag(pcov))[6 + i]\n",
    "\n",
    "    nu_max = nu_0*np.sqrt(1+(1/(4*np.square(Q))))\n",
    "    nu_max_err = np.sqrt(np.square(nu_max*nu_0_err/nu_0) + np.square(np.square(nu_0)*Q_err/(4*nu_max*np.power(Q, 3))))\n",
    "\n",
    "    rms = np.sqrt(A)\n",
    "    rms_err = A_err/(2*np.sqrt(A))\n",
    "\n",
    "    print(nu_max)\n",
    "    print(nu_max_err)\n",
    "    print(Q)\n",
    "    print(Q_err)\n",
    "    print(rms)\n",
    "    print(rms_err)\n",
    "    print('\\n')"
   ]
  },
  {
   "cell_type": "code",
   "execution_count": 18,
   "metadata": {},
   "outputs": [],
   "source": [
    "plt.figure(figsize=(9,6))\n",
    "plt.errorbar(averaged_cross_log.freq, (averaged_cross_log.power)*averaged_cross_log.freq, xerr=averaged_cross_log_err, \\\n",
    "             yerr=averaged_cross_log.power_err*averaged_cross_log.freq, fmt='none', lw=0.5, color='black')\n",
    "plt.step(np.concatenate([averaged_cross_log.freq-averaged_cross_log_err, [averaged_cross_log.freq[-1]+averaged_cross_log_err[-1]]]), \\\n",
    "         np.concatenate([averaged_cross_log.power*averaged_cross_log.freq, [(averaged_cross_log.power*averaged_cross_log.freq)[-1]]]), where='post', color='black', lw=0.5)\n",
    "\n",
    "styles = ['dashed', 'dotted', 'dashdot']\n",
    "for i in range(best_fit_i+2):\n",
    "    L_args = [popt[i], popt[i+best_fit_i+2], popt[i+2*(best_fit_i+2)]]\n",
    "    plt.plot(averaged_cross.freq, Lorentzian(averaged_cross.freq, *L_args)*averaged_cross.freq, color='red', ls=styles[i], lw=1.0)\n",
    "\n",
    "plt.plot(averaged_cross.freq,(N_Lorentzian(averaged_cross.freq, *popt))*averaged_cross.freq, color='red', lw=1.0)\n",
    "plt.xscale('log')\n",
    "plt.ylim((1e-4,1))\n",
    "plt.yscale('log')\n",
    "plt.xlabel('Frequency (Hz)')\n",
    "plt.ylabel(r'$\\mathrm{\\nu P_{\\nu}\\ (rms/mean)^{2}}$')\n",
    "plt.text(2e-3, 0.3, 'Obs 004', fontsize=20)\n",
    "plt.tight_layout()\n",
    "plt.savefig(plot_dir + 'CPDS_nuPnu_continuum_' + str(int(best_fit_i+1)) + '_comps_QPO.pdf')\n",
    "plt.close()\n",
    "\n",
    "plt.figure(figsize=(9,6))\n",
    "plt.errorbar(averaged_cross_log.freq, (averaged_cross_log.power), xerr=averaged_cross_log_err, \\\n",
    "             yerr=averaged_cross_log.power_err, fmt='none', lw=0.5, color='black')\n",
    "plt.step(np.concatenate([averaged_cross_log.freq-averaged_cross_log_err, [averaged_cross_log.freq[-1]+averaged_cross_log_err[-1]]]), \\\n",
    "         np.concatenate([averaged_cross_log.power, [averaged_cross_log.power[-1]]]), where='post', color='black', lw=0.5)\n",
    "\n",
    "for i in range(best_fit_i+2):\n",
    "    L_args = [popt[i], popt[i+best_fit_i+2], popt[i+2*(best_fit_i+2)]]\n",
    "    plt.plot(averaged_cross.freq, Lorentzian(averaged_cross.freq, *L_args), color='red', ls=styles[i], lw=1.0)\n",
    "\n",
    "plt.plot(averaged_cross.freq,(N_Lorentzian(averaged_cross.freq, *popt)), color='red', lw=1.0)\n",
    "plt.xscale('log')\n",
    "plt.ylim((1e-4,1))\n",
    "plt.yscale('log')\n",
    "plt.xlabel('Frequency (Hz)')\n",
    "plt.ylabel(r'$\\mathrm{Power\\ (rms/mean)^{2}/Hz}$')\n",
    "plt.text(2e-3, 0.3, 'Obs 004', fontsize=20)\n",
    "plt.tight_layout()\n",
    "plt.savefig(plot_dir + 'CPDS_Pnu_continuum_' + str(int(best_fit_i+1)) + '_comps_QPO.pdf')\n",
    "plt.close()"
   ]
  },
  {
   "cell_type": "markdown",
   "metadata": {},
   "source": [
    "# Scan for QPOs"
   ]
  },
  {
   "cell_type": "code",
   "execution_count": null,
   "metadata": {
    "jupyter": {
     "source_hidden": true
    },
    "scrolled": true
   },
   "outputs": [],
   "source": [
    "f_min = np.min(averaged_cross.freq)\n",
    "f_max = np.min([2000., (np.max(averaged_cross.freq))])\n",
    "freqs, chisq0, chisq, dof = QPO_scan(averaged_cross, f_min=f_min, f_max=f_max, f_bin = 500)"
   ]
  },
  {
   "cell_type": "code",
   "execution_count": 56,
   "metadata": {
    "collapsed": true,
    "jupyter": {
     "outputs_hidden": true,
     "source_hidden": true
    }
   },
   "outputs": [
    {
     "name": "stdout",
     "output_type": "stream",
     "text": [
      "1.0028494714561906\n",
      "2053827.6947465069\n"
     ]
    }
   ],
   "source": [
    "print(chisq0/dof)\n",
    "print(chisq0)\n",
    "plt.figure(figsize=(9,6))\n",
    "plt.plot(freqs, (chisq - chisq0))\n",
    "plt.xscale('log')\n",
    "plt.ylabel(r'$\\Delta\\chi^{2}$')\n",
    "plt.xlabel('Frequency (Hz)')\n",
    "plt.tight_layout()\n",
    "plt.savefig(plot_dir + 'QPO_scan.pdf')\n",
    "plt.close()"
   ]
  },
  {
   "cell_type": "code",
   "execution_count": 39,
   "metadata": {
    "collapsed": true,
    "jupyter": {
     "outputs_hidden": true,
     "source_hidden": true
    }
   },
   "outputs": [
    {
     "name": "stdout",
     "output_type": "stream",
     "text": [
      "[ 0.30843404  1.          0.26336862  0.0374417  -0.57530608]\n",
      "18.858554789352702\n"
     ]
    }
   ],
   "source": [
    "peaks, _ = scipy.signal.find_peaks(-(chisq - chisq0), height = 8.0)\n",
    "QPO_candidates = []\n",
    "f_mask = (averaged_cross.freq > f_min) * (averaged_cross.freq < f_max) \n",
    "xdata = averaged_cross.freq[f_mask]\n",
    "ydata = averaged_cross.power[f_mask]\n",
    "sigma = averaged_cross.power_err[f_mask]\n",
    "\n",
    "popt_arr, pcov_arr = fit_peaks(xdata, ydata, sigma, freqs[peaks])\n",
    "\n",
    "sigma_arr = []\n",
    "\n",
    "for i in range(len(popt_arr)):\n",
    "    print(popt_arr[i])\n",
    "#     print(np.sqrt(np.diag(pcov_arr[i])))\n",
    "    sigma_arr.append(np.sqrt(np.diag(pcov_arr[i])))\n",
    "sigma_arr = np.array(sigma_arr)\n",
    "\n",
    "for i in range(len(popt_arr)):\n",
    "    print(popt_arr[i][2]/sigma_arr[i][2])\n",
    "    "
   ]
  },
  {
   "cell_type": "code",
   "execution_count": 41,
   "metadata": {
    "jupyter": {
     "source_hidden": true
    }
   },
   "outputs": [],
   "source": [
    "plt.ion()\n",
    "\n",
    "f_res = 0.1\n",
    "plt.figure(figsize=(9,6))\n",
    "averaged_cross_log = averaged_cross.rebin_log(f=f_res)\n",
    "temp_err = averaged_cross.df*np.power(1.+f_res, range(len(averaged_cross_log.freq)))/2.\n",
    "plt.errorbar(averaged_cross_log.freq, averaged_cross_log.power.real*averaged_cross_log.freq, xerr=temp_err, yerr=averaged_cross_log.power_err*averaged_cross_log.freq, fmt='none', lw=0.5)\n",
    "plt.plot(averaged_cross_log.freq, Lorentzian_power(averaged_cross_log.freq, *(popt_arr[0]))*averaged_cross_log.freq, color='red')\n",
    "plt.xscale('log')\n",
    "plt.ylim((1e-4,5*np.max(averaged_cross_log.power.real)))\n",
    "plt.yscale('log')\n",
    "plt.xlabel('Frequency (Hz)')\n",
    "plt.ylabel('Leahy Power')\n",
    "plt.tight_layout()\n",
    "# plt.show()\n",
    "plt.savefig(plot_dir + 'averaged_cross_spectrum_' + str(int(split_time)) + 's_QPO_fit.pdf')\n",
    "plt.close()\n",
    "\n"
   ]
  },
  {
   "cell_type": "markdown",
   "metadata": {},
   "source": [
    "# RMS-Energy relation"
   ]
  },
  {
   "cell_type": "code",
   "execution_count": 19,
   "metadata": {
    "scrolled": true
   },
   "outputs": [
    {
     "name": "stdout",
     "output_type": "stream",
     "text": [
      "[35. 85.]\n"
     ]
    },
    {
     "name": "stderr",
     "output_type": "stream",
     "text": [
      "/Users/sean/anaconda/lib/python3.6/site-packages/stingray/utils.py:118: UserWarning: SIMON says: Errorbars on cross spectra are not thoroughly tested. Please report any inconsistencies.\n",
      "  warnings.warn(\"SIMON says: {0}\".format(message), **kwargs)\n",
      "173it [00:12, 14.05it/s]\n",
      "173it [00:09, 17.81it/s]\n",
      "173it [00:09, 18.81it/s]\n"
     ]
    },
    {
     "name": "stdout",
     "output_type": "stream",
     "text": [
      "[ 85. 160.]\n"
     ]
    },
    {
     "name": "stderr",
     "output_type": "stream",
     "text": [
      "173it [00:09, 18.47it/s]\n",
      "173it [00:08, 21.50it/s]\n",
      "173it [00:09, 17.37it/s]\n"
     ]
    },
    {
     "name": "stdout",
     "output_type": "stream",
     "text": [
      "[160. 335.]\n"
     ]
    },
    {
     "name": "stderr",
     "output_type": "stream",
     "text": [
      "173it [00:11, 15.46it/s]\n",
      "173it [00:08, 19.48it/s]\n",
      "173it [00:10, 16.84it/s]\n"
     ]
    },
    {
     "name": "stdout",
     "output_type": "stream",
     "text": [
      "[ 335. 1210.]\n"
     ]
    },
    {
     "name": "stderr",
     "output_type": "stream",
     "text": [
      "173it [00:10, 16.02it/s]\n",
      "173it [00:08, 19.45it/s]\n",
      "173it [00:09, 18.10it/s]\n"
     ]
    }
   ],
   "source": [
    "keV_list = np.array([[3.0, 5.0], [5.0, 8.0], [8.0, 15.0], [15.0, 50.0]])\n",
    "PI_list = eV_to_PI(keV_list*1000)\n",
    "rms_list = []\n",
    "rms_err_list = []\n",
    "uplim_list = []\n",
    "\n",
    "for x in PI_list:\n",
    "    print(x)\n",
    "    rms, rms_err, uplim = get_rms(events, [centroid_A, centroid_B], extraction_radius, PI_min=x[0], PI_max=x[1], nu_min=1e-4, nu_max=10., split_time=split_time, bin_time = bin_time, plot = False)\n",
    "    rms_list.append(rms*100)\n",
    "    rms_err_list.append(rms_err*100)\n",
    "    uplim_list.append(uplim)\n",
    "\n",
    "\n",
    "\n"
   ]
  },
  {
   "cell_type": "code",
   "execution_count": 22,
   "metadata": {},
   "outputs": [
    {
     "name": "stdout",
     "output_type": "stream",
     "text": [
      "[False, False, False, False]\n"
     ]
    }
   ],
   "source": [
    "print(uplim_list)\n",
    "fig, ax = plt.subplots(figsize=(9,6))\n",
    "ax.errorbar((keV_list.T[0]+keV_list.T[1])/2, rms_list, xerr = (keV_list.T[0]-keV_list.T[1])/2, yerr = rms_err_list, fmt='none', lw=1.0, uplims=uplim_list)\n",
    "ax.set_xscale('log')\n",
    "# plt.yscale('log')\n",
    "ax.set_ylabel(r'$\\mathrm{rms\\ (\\%)}$')\n",
    "ax.set_xlabel('Energy (keV)')\n",
    "ax.set_xticks([3, 4, 5, 6, 7, 8,9, 20, 30, 40, 50], minor=True)\n",
    "ax.set_xticks([10], minor=False)\n",
    "ax.set_xticklabels(['3','','','','','','','','','','50'], minor=True)\n",
    "ax.set_xticklabels(['10'], minor=False)\n",
    "ax.text(3, 20.8, 'Obs 004', fontsize=20)\n",
    "plt.tight_layout()\n",
    "plt.savefig(plot_dir + 'rms_E.pdf')\n",
    "plt.close()"
   ]
  },
  {
   "cell_type": "code",
   "execution_count": 32,
   "metadata": {},
   "outputs": [
    {
     "name": "stdout",
     "output_type": "stream",
     "text": [
      "0.00390625\n",
      "255.99609375\n"
     ]
    }
   ],
   "source": [
    "print(averaged_cross.freq[0])\n",
    "print(averaged_cross.freq[-1])"
   ]
  },
  {
   "cell_type": "markdown",
   "metadata": {},
   "source": [
    "## Epoch 3 (OBS 006)"
   ]
  },
  {
   "cell_type": "code",
   "execution_count": 2,
   "metadata": {},
   "outputs": [
    {
     "name": "stdout",
     "output_type": "stream",
     "text": [
      "Working on Macbook\n"
     ]
    }
   ],
   "source": [
    "OBSID = '90601315006'\n",
    "\n",
    "if platform=='linux' or platform=='linux2':\n",
    "    print('Working on SRL server')\n",
    "    root_dir = '/disk/lif2/spike/AT2019wey/'\n",
    "elif platform=='darwin':\n",
    "    print('Working on Macbook')\n",
    "    root_dir = '/Volumes/Samsung_1TB/AstroData/AT2019wey/'\n",
    "\n",
    "products_dir = root_dir + OBSID + '_products/'\n",
    "timing_dir = root_dir + OBSID + '_timing_products/'\n",
    "plot_dir = root_dir + 'figures/' + OBSID + '/'\n"
   ]
  },
  {
   "cell_type": "code",
   "execution_count": 3,
   "metadata": {
    "scrolled": true
   },
   "outputs": [
    {
     "name": "stderr",
     "output_type": "stream",
     "text": [
      "WARNING:root:Computing the bin time ``dt``. This can take time. If you know the bin time, please specify it at light curve creation\n",
      "WARNING:root:Computing the bin time ``dt``. This can take time. If you know the bin time, please specify it at light curve creation\n"
     ]
    },
    {
     "data": {
      "image/png": "[encoded data removed]",
      "text/plain": [
       "<Figure size 648x432 with 1 Axes>"
      ]
     },
     "metadata": {
      "needs_background": "light"
     },
     "output_type": "display_data"
    }
   ],
   "source": [
    "plt.ion()\n",
    "PI_min = 35     # 3.0 keV\n",
    "# PI_min = 260     # 12.0 keV\n",
    "# PI_max = 960   # 40.0 keV\n",
    "PI_max = 1909   # 78.0 keV\n",
    "events = extract_events(timing_dir + 'nu' + OBSID + 'A01_cl_barycorr.evt', \\\n",
    "            timing_dir + 'nu' + OBSID + 'B01_cl_barycorr.evt')\n",
    "\n",
    "centroid_A = [543.75912,438.48496]\n",
    "centroid_B = [537.75391,438.20212]\n",
    "extraction_radius = 36.613536 # 90 arsec\n",
    "\n",
    "plt.ion()\n",
    "\n",
    "curveA = bkg_subtract(nuproducts_to_stingray_lc(products_dir + 'nu' + OBSID + 'A01_sr.lc'), nuproducts_to_stingray_lc(products_dir + 'nu' + OBSID + 'A01_bk.lc'))\n",
    "curveB = bkg_subtract(nuproducts_to_stingray_lc(products_dir + 'nu' + OBSID + 'B01_sr.lc'), nuproducts_to_stingray_lc(products_dir + 'nu' + OBSID + 'B01_bk.lc'))\n",
    "curve_total = sum_lc(curveA, curveB)\n",
    "curve_10s = curve_total.rebin(dt_new=10)\n",
    "\n",
    "t_start = np.min(curve_total.time)\n",
    "\n",
    "plt.figure(figsize = (9,6))\n",
    "plt.errorbar(curve_10s.time-t_start, curve_10s.countrate, xerr=curve_10s.dt/2., yerr=curve_10s.countrate_err, fmt='none', lw = 0.5)\n",
    "plt.xlabel('Time (s)')\n",
    "plt.ylabel('NuSTAR count rate')\n",
    "plt.tight_layout()\n",
    "plt.show()\n",
    "plt.close()\n",
    "\n"
   ]
  },
  {
   "cell_type": "code",
   "execution_count": 4,
   "metadata": {
    "scrolled": true
   },
   "outputs": [
    {
     "name": "stderr",
     "output_type": "stream",
     "text": [
      "/Users/sean/anaconda/lib/python3.6/site-packages/stingray/utils.py:118: UserWarning: SIMON says: Errorbars on cross spectra are not thoroughly tested. Please report any inconsistencies.\n",
      "  warnings.warn(\"SIMON says: {0}\".format(message), **kwargs)\n",
      "144it [00:08, 17.16it/s]\n",
      "144it [00:06, 21.19it/s]\n",
      "144it [00:07, 19.07it/s]\n"
     ]
    }
   ],
   "source": [
    "bin_time = 1/512\n",
    "split_time = 256\n",
    "\n",
    "curve_A = events[0].to_lc(dt = bin_time, pi_low=PI_min, pi_high=PI_max, centroid = centroid_A, radius = extraction_radius)\n",
    "curve_B = events[1].to_lc(dt = bin_time, pi_low=PI_min, pi_high=PI_max, centroid = centroid_B, radius = extraction_radius)\n",
    "\n",
    "averaged_cross = crossspec.AveragedCrossspectrum(curve_A, curve_B, segment_size=split_time, norm = 'frac')\n",
    "\n"
   ]
  },
  {
   "cell_type": "code",
   "execution_count": 5,
   "metadata": {},
   "outputs": [],
   "source": [
    "f_res = 0.2\n",
    "averaged_cross_log = averaged_cross.rebin_log(f=f_res)\n",
    "averaged_cross_log_err = averaged_cross.df*np.power(1.+f_res, range(len(averaged_cross_log.freq)))/2.\n",
    "\n",
    "plt.figure(figsize=(9,6))\n",
    "plt.errorbar(averaged_cross_log.freq, averaged_cross_log.power*averaged_cross_log.freq, xerr=averaged_cross_log_err, yerr=averaged_cross_log.power_err*averaged_cross_log.freq, fmt='none', color='black', lw=0.5)\n",
    "plt.xscale('log')\n",
    "plt.ylim((1e-4,5*np.max(averaged_cross_log.power*averaged_cross_log.freq)))\n",
    "plt.yscale('log')\n",
    "plt.xlabel('Frequency (Hz)')\n",
    "plt.ylabel(r'$\\mathrm{\\nu P_{\\nu}\\ (rms/mean)^{2}}$')\n",
    "plt.tight_layout()\n",
    "# plt.show()\n",
    "plt.savefig(plot_dir + 'CPDS_nuPnu_' + str(int(split_time)) + 's.pdf')\n",
    "plt.close()\n",
    "\n",
    "plt.figure(figsize=(9,6))\n",
    "plt.errorbar(averaged_cross_log.freq, averaged_cross_log.power, xerr=averaged_cross_log_err, yerr=averaged_cross_log.power_err, fmt='none', color='black', lw=0.5)\n",
    "plt.xscale('log')\n",
    "plt.ylim((1e-4,5*np.max(averaged_cross_log.power)))\n",
    "plt.yscale('log')\n",
    "plt.xlabel('Frequency (Hz)')\n",
    "plt.ylabel(r'$\\mathrm{Power\\ (rms/mean)^{2}/Hz}$')\n",
    "plt.tight_layout()\n",
    "# plt.show()\n",
    "plt.savefig(plot_dir + 'CPDS_Pnu_' + str(int(split_time)) + 's.pdf')\n",
    "plt.close()"
   ]
  },
  {
   "cell_type": "markdown",
   "metadata": {},
   "source": [
    "# Model continuum"
   ]
  },
  {
   "cell_type": "code",
   "execution_count": 6,
   "metadata": {},
   "outputs": [
    {
     "data": {
      "image/png": "[encoded data removed]",
      "text/plain": [
       "<Figure size 648x432 with 1 Axes>"
      ]
     },
     "metadata": {
      "needs_background": "light"
     },
     "output_type": "display_data"
    }
   ],
   "source": [
    "n_L, popt_list, pcov_list, chisq0, chisq = model_continuum_noise(averaged_cross, plot=True, plot_dir=plot_dir, f_res = f_res)\n",
    "\n",
    "del_chisq = np.array(chisq) - chisq0\n",
    "\n",
    "plt.figure(figsize=(9,6))\n",
    "plt.plot(np.array(range(n_L+1)), np.concatenate(([chisq0], chisq)))\n",
    "plt.xlabel('N_Lorentzians')\n",
    "plt.ylabel(r'$\\chi^{2}$')\n",
    "# plt.yscale('log')\n",
    "plt.tight_layout()\n",
    "plt.show()\n",
    "plt.close()\n"
   ]
  },
  {
   "cell_type": "code",
   "execution_count": 7,
   "metadata": {},
   "outputs": [
    {
     "name": "stdout",
     "output_type": "stream",
     "text": [
      "0.9963616834423288\n",
      "0.9614034503470825\n",
      "[0.04533844 0.02645446 0.10531067]\n",
      "[[ 5.15587815e-03  3.08455344e-03 -5.37778934e-04]\n",
      " [ 3.08455344e-03  1.84652511e-03 -3.24182568e-04]\n",
      " [-5.37778934e-04 -3.24182568e-04  6.58483398e-05]]\n"
     ]
    }
   ],
   "source": [
    "best_fit_i = 0\n",
    "best_popt = popt_list[best_fit_i]\n",
    "best_pcov = pcov_list[best_fit_i]\n",
    "best_chisq = chisq[best_fit_i]\n",
    "\n",
    "dof = len(averaged_cross.power)-len(best_popt)\n",
    "\n",
    "print(chisq0/(len(averaged_cross.power)-1))\n",
    "print(best_chisq/dof)\n",
    "\n",
    "print(best_popt)\n",
    "print(best_pcov)"
   ]
  },
  {
   "cell_type": "markdown",
   "metadata": {},
   "source": [
    "## Add 2Hz feature"
   ]
  },
  {
   "cell_type": "code",
   "execution_count": 10,
   "metadata": {},
   "outputs": [
    {
     "name": "stdout",
     "output_type": "stream",
     "text": [
      "[0.26939047 3.70069303 0.23841105 1.29987707 0.06771432 0.02100593]\n",
      "[0.02739941 0.21553098 0.03795827 0.33594075 0.00466147 0.00400654]\n",
      "-71.88344426475669\n",
      "0.9603504931233539\n",
      "\n",
      "\n",
      "0.6259097414417802\n",
      "0.10317468727304002\n",
      "0.23841104973552357\n",
      "0.03795826662376219\n",
      "0.26021975221983135\n",
      "0.008956787143216509\n",
      "\n",
      "\n",
      "3.965024434787971\n",
      "0.26602665587488816\n",
      "1.2998770652047427\n",
      "0.33594074602288415\n",
      "0.14493421379566382\n",
      "0.01382193779968186\n",
      "\n",
      "\n"
     ]
    }
   ],
   "source": [
    "temp_p0 = np.concatenate([best_popt[:(best_fit_i+1)], [2.0], best_popt[(best_fit_i+1):(best_fit_i+1)*2], [10.], \\\n",
    "                          best_popt[(best_fit_i+1)*2:(best_fit_i+1)*3], [1e-2]])\n",
    "# print(temp_p0)\n",
    "\n",
    "n_L = int(len(temp_p0)/3)\n",
    "\n",
    "popt, pcov = scipy.optimize.curve_fit(N_Lorentzian, averaged_cross.freq, averaged_cross.power, sigma = averaged_cross.power_err, p0 = temp_p0, \\\n",
    "                                      bounds=([0.0 for i in range(3*n_L)], [np.inf for i in range(3*n_L)]))\n",
    "\n",
    "print(popt)\n",
    "print(np.sqrt(np.diag(pcov)))\n",
    "print(np.sum(((averaged_cross.power - N_Lorentzian(averaged_cross.freq, *popt)) / averaged_cross.power_err) ** 2) - best_chisq)\n",
    "print(np.sum(((averaged_cross.power - N_Lorentzian(averaged_cross.freq, *popt)) / averaged_cross.power_err) ** 2)/(len(averaged_cross.power) - len(popt)))\n",
    "print('\\n')\n",
    "\n",
    "for i in range(int(len(popt)/3)):\n",
    "    nu_0 = popt[i]\n",
    "    Q = popt[2 + i]\n",
    "    A = popt[4 + i]\n",
    "\n",
    "    nu_0_err = np.sqrt(np.diag(pcov))[i]\n",
    "    Q_err = np.sqrt(np.diag(pcov))[2 + i]\n",
    "    A_err = np.sqrt(np.diag(pcov))[4 + i]\n",
    "\n",
    "    nu_max = nu_0*np.sqrt(1+(1/(4*np.square(Q))))\n",
    "    nu_max_err = np.sqrt(np.square(nu_max*nu_0_err/nu_0) + np.square(np.square(nu_0)*Q_err/(4*nu_max*np.power(Q, 3))))\n",
    "\n",
    "    rms = np.sqrt(A)\n",
    "    rms_err = A_err/(2*np.sqrt(A))\n",
    "\n",
    "    print(nu_max)\n",
    "    print(nu_max_err)\n",
    "    print(Q)\n",
    "    print(Q_err)\n",
    "    print(rms)\n",
    "    print(rms_err)\n",
    "    print('\\n')"
   ]
  },
  {
   "cell_type": "code",
   "execution_count": 15,
   "metadata": {},
   "outputs": [],
   "source": [
    "plt.figure(figsize=(9,6))\n",
    "plt.errorbar(averaged_cross_log.freq, (averaged_cross_log.power)*averaged_cross_log.freq, xerr=averaged_cross_log_err, \\\n",
    "             yerr=averaged_cross_log.power_err*averaged_cross_log.freq, fmt='none', lw=0.5, color='black')\n",
    "plt.step(np.concatenate([averaged_cross_log.freq-averaged_cross_log_err, [averaged_cross_log.freq[-1]+averaged_cross_log_err[-1]]]), \\\n",
    "         np.concatenate([averaged_cross_log.power*averaged_cross_log.freq, [(averaged_cross_log.power*averaged_cross_log.freq)[-1]]]), where='post', color='black', lw=0.5)\n",
    "\n",
    "for i in range(best_fit_i+2):\n",
    "    L_args = [popt[i], popt[i+best_fit_i+2], popt[i+2*(best_fit_i+2)]]\n",
    "    plt.plot(averaged_cross.freq, Lorentzian(averaged_cross.freq, *L_args)*averaged_cross.freq, color='red', ls='dotted', lw=0.5)\n",
    "\n",
    "plt.plot(averaged_cross.freq,(N_Lorentzian(averaged_cross.freq, *popt))*averaged_cross.freq, color='red', lw=0.5)\n",
    "plt.xscale('log')\n",
    "plt.ylim((1e-4,3*np.max(averaged_cross_log.power.real*averaged_cross_log.freq)))\n",
    "plt.yscale('log')\n",
    "plt.xlabel('Frequency (Hz)')\n",
    "plt.ylabel(r'$\\mathrm{\\nu P_{\\nu}\\ (rms/mean)^{2}}$')\n",
    "plt.tight_layout()\n",
    "plt.savefig(plot_dir + 'CPDS_nuPnu_continuum_' + str(n_L) + '_comps.pdf')\n",
    "plt.close()\n",
    "\n",
    "plt.figure(figsize=(9,6))\n",
    "plt.errorbar(averaged_cross_log.freq, (averaged_cross_log.power), xerr=averaged_cross_log_err, \\\n",
    "             yerr=averaged_cross_log.power_err, fmt='none', lw=0.5, color='black')\n",
    "plt.step(np.concatenate([averaged_cross_log.freq-averaged_cross_log_err, [averaged_cross_log.freq[-1]+averaged_cross_log_err[-1]]]), \\\n",
    "         np.concatenate([averaged_cross_log.power, [averaged_cross_log.power[-1]]]), where='post', color='black', lw=0.5)\n",
    "\n",
    "\n",
    "for i in range(best_fit_i+2):\n",
    "    L_args = [popt[i], popt[i+best_fit_i+2], popt[i+2*(best_fit_i+2)]]\n",
    "    plt.plot(averaged_cross.freq, Lorentzian(averaged_cross.freq, *L_args), color='red', ls='dotted', lw=0.5)\n",
    "\n",
    "plt.plot(averaged_cross.freq,(N_Lorentzian(averaged_cross.freq, *popt)), color='red', lw=0.5)\n",
    "plt.xscale('log')\n",
    "plt.ylim((1e-4,3*np.max(averaged_cross_log.power.real)))\n",
    "plt.yscale('log')\n",
    "plt.xlabel('Frequency (Hz)')\n",
    "plt.ylabel(r'$\\mathrm{Power\\ (rms/mean)^{2}/Hz}$')\n",
    "plt.tight_layout()\n",
    "plt.savefig(plot_dir + 'CPDS_Pnu_continuum_' + str(n_L) + '_comps.pdf')\n",
    "plt.close()"
   ]
  },
  {
   "cell_type": "markdown",
   "metadata": {},
   "source": [
    "## Another one"
   ]
  },
  {
   "cell_type": "code",
   "execution_count": 20,
   "metadata": {},
   "outputs": [
    {
     "name": "stdout",
     "output_type": "stream",
     "text": [
      "[2.72502171e-01 3.80971054e+00 2.16753186e+00 2.42098068e-01\n",
      " 1.51202083e+00 2.36346674e+01 6.77885701e-02 1.88635063e-02\n",
      " 9.93670057e-04]\n",
      "[2.68295301e-02 1.99363154e-01 2.35709210e-02 3.70642162e-02\n",
      " 4.04492197e-01 1.81961979e+01 4.36041100e-03 3.69577512e-03\n",
      " 5.73120120e-04]\n",
      "-78.36270704736671\n",
      "0.9602955803970584\n",
      "\n",
      "\n",
      "0.6252945993769472\n",
      "0.09901508752303478\n",
      "0.2420980682445422\n",
      "0.03706421616531534\n",
      "0.260362382362826\n",
      "0.008373734632027665\n",
      "\n",
      "\n",
      "4.0126063191761645\n",
      "0.2351341248958461\n",
      "1.5120208286326215\n",
      "0.40449219721489715\n",
      "0.1373444805545108\n",
      "0.01345439986389484\n",
      "\n",
      "\n",
      "2.168016844547297\n",
      "0.023588016375789476\n",
      "23.634667358546693\n",
      "18.196197873053972\n",
      "0.031522532529613824\n",
      "0.009090642066226218\n",
      "\n",
      "\n"
     ]
    }
   ],
   "source": [
    "temp_p0 = np.concatenate([popt[:2], [0.9], popt[2:4], [10.], popt[4:6], [1e-2]])\n",
    "# print(temp_p0)\n",
    "\n",
    "n_L = int(len(temp_p0)/3)\n",
    "new_popt, new_pcov = scipy.optimize.curve_fit(N_Lorentzian, averaged_cross.freq, averaged_cross.power, sigma = averaged_cross.power_err, p0 = temp_p0, \\\n",
    "                                      bounds=([0.0 for i in range(3*n_L)], [np.inf for i in range(3*n_L)]))\n",
    "\n",
    "print(new_popt)\n",
    "print(np.sqrt(np.diag(new_pcov)))\n",
    "print(np.sum(((averaged_cross.power - N_Lorentzian(averaged_cross.freq, *new_popt)) / averaged_cross.power_err) ** 2) - best_chisq)\n",
    "print(np.sum(((averaged_cross.power - N_Lorentzian(averaged_cross.freq, *new_popt)) / averaged_cross.power_err) ** 2)/(len(averaged_cross.power) - len(new_popt)))\n",
    "print('\\n')\n",
    "\n",
    "for i in range(int(len(new_popt)/3)):\n",
    "    nu_0 = new_popt[i]\n",
    "    Q = new_popt[3 + i]\n",
    "    A = new_popt[6 + i]\n",
    "\n",
    "    nu_0_err = np.sqrt(np.diag(new_pcov))[i]\n",
    "    Q_err = np.sqrt(np.diag(new_pcov))[3 + i]\n",
    "    A_err = np.sqrt(np.diag(new_pcov))[6 + i]\n",
    "\n",
    "    nu_max = nu_0*np.sqrt(1+(1/(4*np.square(Q))))\n",
    "    nu_max_err = np.sqrt(np.square(nu_max*nu_0_err/nu_0) + np.square(np.square(nu_0)*Q_err/(4*nu_max*np.power(Q, 3))))\n",
    "\n",
    "    rms = np.sqrt(A)\n",
    "    rms_err = A_err/(2*np.sqrt(A))\n",
    "\n",
    "    print(nu_max)\n",
    "    print(nu_max_err)\n",
    "    print(Q)\n",
    "    print(Q_err)\n",
    "    print(rms)\n",
    "    print(rms_err)\n",
    "    print('\\n')"
   ]
  },
  {
   "cell_type": "code",
   "execution_count": 21,
   "metadata": {},
   "outputs": [],
   "source": [
    "plt.figure(figsize=(9,6))\n",
    "plt.errorbar(averaged_cross_log.freq, (averaged_cross_log.power)*averaged_cross_log.freq, xerr=averaged_cross_log_err, \\\n",
    "             yerr=averaged_cross_log.power_err*averaged_cross_log.freq, fmt='none', lw=0.5, color='black')\n",
    "plt.step(np.concatenate([averaged_cross_log.freq-averaged_cross_log_err, [averaged_cross_log.freq[-1]+averaged_cross_log_err[-1]]]), \\\n",
    "         np.concatenate([averaged_cross_log.power*averaged_cross_log.freq, [(averaged_cross_log.power*averaged_cross_log.freq)[-1]]]), where='post', color='black', lw=0.5)\n",
    "\n",
    "n_L = int(len(new_popt)/3)\n",
    "for i in range(n_L):\n",
    "    L_args = [new_popt[i], new_popt[i+n_L], new_popt[i+2*n_L]]\n",
    "    plt.plot(averaged_cross.freq, Lorentzian(averaged_cross.freq, *L_args)*averaged_cross.freq, color='red', ls='dotted', lw=0.5)\n",
    "\n",
    "plt.plot(averaged_cross.freq,(N_Lorentzian(averaged_cross.freq, *new_popt))*averaged_cross.freq, color='red', lw=0.5)\n",
    "plt.xscale('log')\n",
    "plt.ylim((1e-4,1)\n",
    "plt.yscale('log')\n",
    "plt.xlabel('Frequency (Hz)')\n",
    "plt.ylabel(r'$\\mathrm{\\nu P_{\\nu}\\ (rms/mean)^{2}}$')\n",
    "plt.tight_layout()\n",
    "plt.savefig(plot_dir + 'CPDS_nuPnu_continuum_' + str(n_L-1) + '_comps_QPO.pdf')\n",
    "plt.close()\n",
    "\n",
    "plt.figure(figsize=(9,6))\n",
    "plt.errorbar(averaged_cross_log.freq, (averaged_cross_log.power), xerr=averaged_cross_log_err, \\\n",
    "             yerr=averaged_cross_log.power_err, fmt='none', lw=0.5, color='black')\n",
    "plt.step(np.concatenate([averaged_cross_log.freq-averaged_cross_log_err, [averaged_cross_log.freq[-1]+averaged_cross_log_err[-1]]]), \\\n",
    "         np.concatenate([averaged_cross_log.power, [averaged_cross_log.power[-1]]]), where='post', color='black', lw=0.5)\n",
    "\n",
    "\n",
    "for i in range(n_L):\n",
    "    L_args = [new_popt[i], new_popt[i+n_L], new_popt[i+2*n_L]]\n",
    "    plt.plot(averaged_cross.freq, Lorentzian(averaged_cross.freq, *L_args), color='red', ls='dotted', lw=0.5)\n",
    "\n",
    "plt.plot(averaged_cross.freq,(N_Lorentzian(averaged_cross.freq, *new_popt)), color='red', lw=0.5)\n",
    "plt.xscale('log')\n",
    "plt.ylim((1e-4,1)\n",
    "plt.yscale('log')\n",
    "plt.xlabel('Frequency (Hz)')\n",
    "plt.ylabel(r'$\\mathrm{Power\\ (rms/mean)^{2}/Hz}$')\n",
    "plt.tight_layout()\n",
    "plt.savefig(plot_dir + 'CPDS_Pnu_continuum_' + str(n_L-1) + '_comps_QPO.pdf')\n",
    "plt.close()"
   ]
  },
  {
   "cell_type": "code",
   "execution_count": null,
   "metadata": {},
   "outputs": [],
   "source": []
  }
 ],
 "metadata": {
  "anaconda-cloud": {},
  "kernelspec": {
   "display_name": "Python 3",
   "language": "python",
   "name": "python3"
  },
  "language_info": {
   "codemirror_mode": {
    "name": "ipython",
    "version": 3
   },
   "file_extension": ".py",
   "mimetype": "text/x-python",
   "name": "python",
   "nbconvert_exporter": "python",
   "pygments_lexer": "ipython3",
   "version": "3.6.11"
  },
  "varInspector": {
   "cols": {
    "lenName": 16,
    "lenType": 16,
    "lenVar": 40
   },
   "kernels_config": {
    "python": {
     "delete_cmd_postfix": "",
     "delete_cmd_prefix": "del ",
     "library": "var_list.py",
     "varRefreshCmd": "print(var_dic_list())"
    },
    "r": {
     "delete_cmd_postfix": ") ",
     "delete_cmd_prefix": "rm(",
     "library": "var_list.r",
     "varRefreshCmd": "cat(var_dic_list()) "
    }
   },
   "position": {
    "height": "593px",
    "left": "889px",
    "right": "20px",
    "top": "315px",
    "width": "315px"
   },
   "types_to_exclude": [
    "module",
    "function",
    "builtin_function_or_method",
    "instance",
    "_Feature"
   ],
   "window_display": false
  }
 },
 "nbformat": 4,
 "nbformat_minor": 4
}
